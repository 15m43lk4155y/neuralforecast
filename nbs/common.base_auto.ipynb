{
 "cells": [
  {
   "cell_type": "code",
   "execution_count": 2,
   "id": "524620c1",
   "metadata": {},
   "outputs": [],
   "source": [
    "#| default_exp common._base_auto"
   ]
  },
  {
   "cell_type": "code",
   "execution_count": 3,
   "id": "15392f6f",
   "metadata": {},
   "outputs": [],
   "source": [
    "#| hide\n",
    "%load_ext autoreload\n",
    "%autoreload 2"
   ]
  },
  {
   "cell_type": "markdown",
   "id": "12fa25a4",
   "metadata": {},
   "source": [
    "# Hyperparameter Optimization\n",
    "\n",
    "> Machine Learning forecasting methods are defined by many hyperparameters that control their behavior, with effects ranging from their speed and memory requirements to their predictive performance. For a long time, manual hyperparameter tuning prevailed. This approach is time-consuming, **automated hyperparameter optimization** methods have been introduced, proving more efficient than manual tuning, grid search, and random search.<br><br> The `BaseAuto` class offers shared API connections to hyperparameter optimization algorithms like [Optuna](https://docs.ray.io/en/latest/tune/examples/bayesopt_example.html), [HyperOpt](https://docs.ray.io/en/latest/tune/examples/hyperopt_example.html), [Dragonfly](https://docs.ray.io/en/latest/tune/examples/dragonfly_example.html) among others through `ray`, which gives you access to grid search, bayesian optimization and other state-of-the-art tools like hyperband.<br><br>Comprehending the impacts of hyperparameters is still a precious skill, as it can help guide the design of informed hyperparameter spaces that are faster to explore automatically."
   ]
  },
  {
   "cell_type": "markdown",
   "id": "e37fd67c",
   "metadata": {},
   "source": [
    "![Figure 1. Example of dataset split (left), validation (yellow) and test (orange). The hyperparameter optimization guiding signal is obtained from the validation set.](imgs_models/data_splits.png)"
   ]
  },
  {
   "cell_type": "code",
   "execution_count": 4,
   "id": "2508f7a9-1433-4ad8-8f2f-0078c6ed6c3c",
   "metadata": {},
   "outputs": [],
   "source": [
    "#| hide\n",
    "from fastcore.test import test_eq\n",
    "from nbdev.showdoc import show_doc"
   ]
  },
  {
   "cell_type": "code",
   "execution_count": 5,
   "id": "44065066-e72a-431f-938f-1528adef9fe8",
   "metadata": {},
   "outputs": [],
   "source": [
    "#| export\n",
    "from copy import deepcopy\n",
    "from os import cpu_count\n",
    "\n",
    "import torch\n",
    "from pytorch_lightning.callbacks import TQDMProgressBar\n",
    "from ray import air, tune\n",
    "from ray.tune.integration.pytorch_lightning import TuneReportCallback\n",
    "from ray.tune.search.basic_variant import BasicVariantGenerator\n",
    "\n",
    "from neuralforecast.losses.pytorch import MAE"
   ]
  },
  {
   "cell_type": "code",
   "execution_count": 6,
   "id": "693faaae-5429-4046-99ba-ec771b1ce29e",
   "metadata": {},
   "outputs": [],
   "source": [
    "#| exporti\n",
    "def train_tune(config_step, cls_model, dataset, val_size, test_size):\n",
    "    metrics = {\"loss\": \"ptl/val_loss\"}\n",
    "    callbacks = [TQDMProgressBar(), TuneReportCallback(metrics, on=\"validation_end\")]\n",
    "    if 'callbacks' in config_step.keys():\n",
    "        callbacks += config_step['callbacks']\n",
    "    config_step = {**config_step, **{'callbacks': callbacks}}\n",
    "    model = cls_model(**config_step)\n",
    "    model.fit(\n",
    "        dataset,\n",
    "        val_size=val_size, \n",
    "        test_size=test_size\n",
    "    )"
   ]
  },
  {
   "cell_type": "code",
   "execution_count": 7,
   "id": "bdbb29ee-882c-46cc-b919-e3a7661f9744",
   "metadata": {},
   "outputs": [],
   "source": [
    "#| exporti\n",
    "def tune_model(\n",
    "        cls_model, \n",
    "        dataset, \n",
    "        val_size, \n",
    "        test_size,\n",
    "        cpus,\n",
    "        gpus,\n",
    "        verbose,\n",
    "        num_samples, \n",
    "        search_alg, \n",
    "        config\n",
    "    ):\n",
    "    train_fn_with_parameters = tune.with_parameters(\n",
    "        train_tune,\n",
    "        cls_model=cls_model,\n",
    "        dataset=dataset,\n",
    "        val_size=val_size,\n",
    "        test_size=test_size,\n",
    "    )\n",
    "\n",
    "    # Device\n",
    "    if gpus > 0:\n",
    "        device_dict = {'gpu':gpus}\n",
    "    else:\n",
    "        device_dict = {'cpu':cpus}\n",
    "\n",
    "    tuner = tune.Tuner(\n",
    "        tune.with_resources(train_fn_with_parameters, device_dict),\n",
    "        run_config=air.RunConfig(\n",
    "            verbose=verbose,\n",
    "            #checkpoint_config=air.CheckpointConfig(\n",
    "                #num_to_keep=0,\n",
    "                #keep_checkpoints_num=None\n",
    "            #)\n",
    "        ),\n",
    "        tune_config=tune.TuneConfig(\n",
    "            metric=\"loss\",\n",
    "            mode=\"min\",\n",
    "            num_samples=num_samples, \n",
    "            search_alg=search_alg\n",
    "        ),\n",
    "        param_space=config,\n",
    "    )\n",
    "    results = tuner.fit()\n",
    "    return results"
   ]
  },
  {
   "cell_type": "code",
   "execution_count": 21,
   "id": "4c253583-8239-4abe-8a04-0c0ba635d8a5",
   "metadata": {},
   "outputs": [],
   "source": [
    "#| export\n",
    "class BaseAuto:\n",
    "    \"\"\" BaseAuto \n",
    "    \n",
    "    Class for Automatic Hyperparameter Optimization, it builds on top of `ray` to \n",
    "    give access to a wide variety of hyperparameter optimization tools ranging \n",
    "    from classic grid search, to Bayesian optimization and HyperBand algorithm.\n",
    "\n",
    "    The validation loss to be optimized is defined by the `config['loss']` dictionary\n",
    "    value, the config also contains the rest of the hyperparameter search space.\n",
    "\n",
    "    It is important to note that the success of this hyperparameter optimization\n",
    "    heavily relies on a strong correlation between the validation and test periods.\n",
    "\n",
    "    **Parameters:**<br>\n",
    "    `cls_model`: PyTorch/PyTorchLightning model, see `neuralforecast.models` [collection here](https://nixtla.github.io/neuralforecast/models.html).<br>\n",
    "    `h`: int, forecast horizon.<br>\n",
    "    `config`: dict, dictionary with ray.tune defined search space.<br>\n",
    "    `search_alg`: ray.tune.search variant, BasicVariantGenerator, HyperOptSearch, DragonflySearch, TuneBOHB for details\n",
    "        see [tune.search](https://docs.ray.io/en/latest/tune/api_docs/suggestion.html#).<br>\n",
    "    `num_samples`: int, number of hyperparameter optimization steps/samples.<br>\n",
    "    `cpus`: int, number of cpus to use during optimization, default all available.<br>\n",
    "    `gpus`: int, number of gpus to use during optimization, default all available.<br>\n",
    "    `refit_wo_val`: bool, number of gpus to use during optimization, default all available.<br>\n",
    "    `verbose`: bool, wether print partial outputs.<br>\n",
    "    \"\"\"\n",
    "    def __init__(self, \n",
    "                 cls_model,\n",
    "                 h,\n",
    "                 config, \n",
    "                 search_alg=BasicVariantGenerator(random_state=1),\n",
    "                 num_samples=10,\n",
    "                 cpus=cpu_count(),\n",
    "                 gpus=torch.cuda.device_count(),\n",
    "                 refit_wo_val=False,\n",
    "                 verbose=False):\n",
    "        \n",
    "        config['h'] = h\n",
    "        self.cls_model = cls_model\n",
    "        self.h = h\n",
    "        self.config = config\n",
    "        self.num_samples = num_samples\n",
    "        self.search_alg = search_alg\n",
    "        self.cpus = cpus\n",
    "        self.gpus = gpus\n",
    "        self.refit_wo_val = refit_wo_val\n",
    "        self.verbose = verbose\n",
    "        self.loss = self.config.get('loss', MAE())\n",
    "        \n",
    "    def fit(self, dataset, val_size=0, test_size=0):\n",
    "        \"\"\" BaseAuto.fit\n",
    "\n",
    "        Perform the hyperparameter optimization as specified by the BaseAuto configuration \n",
    "        dictionary `config`.\n",
    "        \n",
    "        The optimization is performed on the `TimeSeriesDataset` using temporal cross validation with \n",
    "        the validation set that sequentially precedes the test set.\n",
    "\n",
    "        **Parameters:**<br>\n",
    "        `dataset`: NeuralForecast's `TimeSeriesDataset` see details [here](https://nixtla.github.io/neuralforecast/tsdataset.html)<br>\n",
    "        `val_size`: int, size of temporal validation set (needs to be bigger than 0).<br>\n",
    "        `test_size`: int, size of temporal test set (default 0).<br>\n",
    "\n",
    "        **Returns:**<br>\n",
    "        `self`: fitted instance of `BaseAuto` with best hyperparameters and results<br>.\n",
    "        \"\"\"\n",
    "        #we need val_size > 0 to perform\n",
    "        #hyperparameter selection.\n",
    "        search_alg = deepcopy(self.search_alg)\n",
    "        val_size = val_size if val_size > 0 else self.h\n",
    "        results = tune_model(\n",
    "            cls_model=self.cls_model,\n",
    "            dataset=dataset,\n",
    "            val_size=val_size, \n",
    "            test_size=test_size, \n",
    "            cpus=self.cpus,\n",
    "            gpus=self.gpus,\n",
    "            verbose=self.verbose,\n",
    "            num_samples=self.num_samples, \n",
    "            search_alg=search_alg, \n",
    "            config=self.config\n",
    "        )\n",
    "        best_config = results.get_best_result().config\n",
    "        self.model = self.cls_model(**best_config)\n",
    "        self.model.fit(\n",
    "            dataset=dataset, \n",
    "            val_size=val_size * (1 - self.refit_wo_val), \n",
    "            test_size=test_size,\n",
    "        )\n",
    "        self.results = results\n",
    "        \n",
    "    def predict(self, dataset, step_size=1, **data_kwargs):\n",
    "        \"\"\" BaseAuto.predict\n",
    "\n",
    "        Predictions of the best performing model on validation.\n",
    "\n",
    "        **Parameters:**<br>\n",
    "        `dataset`: NeuralForecast's `TimeSeriesDataset` see details [here](https://nixtla.github.io/neuralforecast/tsdataset.html)<br>\n",
    "        `step_size`: int, steps between sequential predictions, (default 1).<br>\n",
    "        `**data_kwarg`: additional parameters for the dataset module.<br>\n",
    "\n",
    "        **Returns:**<br>\n",
    "        `y_hat`: numpy predictions of the `NeuralForecast` model.<br>\n",
    "        \"\"\"\n",
    "        return self.model.predict(dataset=dataset, \n",
    "                                  step_size=step_size, **data_kwargs)\n",
    "\n",
    "    def set_test_size(self, test_size):\n",
    "        self.model.set_test_size(test_size)"
   ]
  },
  {
   "cell_type": "code",
   "execution_count": 9,
   "id": "2376ed06",
   "metadata": {},
   "outputs": [
    {
     "data": {
      "text/markdown": [
       "---\n",
       "\n",
       "### BaseAuto\n",
       "\n",
       ">      BaseAuto (cls_model, h, config,\n",
       ">                search_alg=<ray.tune.search.basic_variant.BasicVariantGenerator\n",
       ">                object at 0x11aca3af0>, num_samples=10, cpus=4, gpus=0,\n",
       ">                refit_wo_val=False, verbose=False)\n",
       "\n",
       "BaseAuto \n",
       "\n",
       "Class for Automatic Hyperparameter Optimization, it builds on top of `ray` to \n",
       "give access to a wide variety of hyperparameter optimization tools ranging \n",
       "from classic grid search, to Bayesian optimization and HyperBand algorithm.\n",
       "\n",
       "The validation loss to be optimized is defined by the `config['loss']` dictionary\n",
       "value, the config also contains the rest of the hyperparameter search space.\n",
       "\n",
       "It is important to note that the success of this hyperparameter optimization\n",
       "heavily relies on a strong correlation between the validation and test periods.\n",
       "\n",
       "**Parameters:**<br>\n",
       "`cls_model`: PyTorch/PyTorchLightning model, see `neuralforecast.models` [collection here](https://nixtla.github.io/neuralforecast/models.html).<br>\n",
       "`h`: int, forecast horizon.<br>\n",
       "`config`: dict, dictionary with ray.tune defined search space.<br>\n",
       "`search_alg`: ray.tune.search variant, `BasicVariantGenerator`, `HyperOptSearch`, `DragonflySearch`, `TuneBOHB` for details\n",
       "    see [tune.search](https://docs.ray.io/en/latest/tune/api_docs/suggestion.html#).<br>\n",
       "`num_samples`: int, number of hyperparameter optimization steps/samples.<br>\n",
       "`cpus`: int=-1, number of cpus to use during optimization, default all available.<br>\n",
       "`gpus`: int=-1, number of gpus to use during optimization, default all available.<br>\n",
       "`refit_wo_val`: bool, number of gpus to use during optimization, default all available.<br>\n",
       "`verbose`: bool, wether print partial outputs.<br>"
      ],
      "text/plain": [
       "---\n",
       "\n",
       "### BaseAuto\n",
       "\n",
       ">      BaseAuto (cls_model, h, config,\n",
       ">                search_alg=<ray.tune.search.basic_variant.BasicVariantGenerator\n",
       ">                object at 0x11aca3af0>, num_samples=10, cpus=4, gpus=0,\n",
       ">                refit_wo_val=False, verbose=False)\n",
       "\n",
       "BaseAuto \n",
       "\n",
       "Class for Automatic Hyperparameter Optimization, it builds on top of `ray` to \n",
       "give access to a wide variety of hyperparameter optimization tools ranging \n",
       "from classic grid search, to Bayesian optimization and HyperBand algorithm.\n",
       "\n",
       "The validation loss to be optimized is defined by the `config['loss']` dictionary\n",
       "value, the config also contains the rest of the hyperparameter search space.\n",
       "\n",
       "It is important to note that the success of this hyperparameter optimization\n",
       "heavily relies on a strong correlation between the validation and test periods.\n",
       "\n",
       "**Parameters:**<br>\n",
       "`cls_model`: PyTorch/PyTorchLightning model, see `neuralforecast.models` [collection here](https://nixtla.github.io/neuralforecast/models.html).<br>\n",
       "`h`: int, forecast horizon.<br>\n",
       "`config`: dict, dictionary with ray.tune defined search space.<br>\n",
       "`search_alg`: ray.tune.search variant, `BasicVariantGenerator`, `HyperOptSearch`, `DragonflySearch`, `TuneBOHB` for details\n",
       "    see [tune.search](https://docs.ray.io/en/latest/tune/api_docs/suggestion.html#).<br>\n",
       "`num_samples`: int, number of hyperparameter optimization steps/samples.<br>\n",
       "`cpus`: int=-1, number of cpus to use during optimization, default all available.<br>\n",
       "`gpus`: int=-1, number of gpus to use during optimization, default all available.<br>\n",
       "`refit_wo_val`: bool, number of gpus to use during optimization, default all available.<br>\n",
       "`verbose`: bool, wether print partial outputs.<br>"
      ]
     },
     "execution_count": 9,
     "metadata": {},
     "output_type": "execute_result"
    }
   ],
   "source": [
    "show_doc(BaseAuto, title_level=3)"
   ]
  },
  {
   "cell_type": "code",
   "execution_count": 22,
   "id": "623ebb06",
   "metadata": {},
   "outputs": [
    {
     "data": {
      "text/markdown": [
       "---\n",
       "\n",
       "### BaseAuto.fit\n",
       "\n",
       ">      BaseAuto.fit (dataset, val_size=0, test_size=0)\n",
       "\n",
       "BaseAuto.fit\n",
       "\n",
       "Perform the hyperparameter optimization as specified by the BaseAuto configuration \n",
       "dictionary `config`.\n",
       "\n",
       "The optimization is performed on the `TimeSeriesDataset` using temporal cross validation with \n",
       "the validation set that sequentially precedes the test set.\n",
       "\n",
       "**Parameters:**<br>\n",
       "`dataset`: NeuralForecast's `TimeSeriesDataset` see details [here](https://nixtla.github.io/neuralforecast/tsdataset.html)<br>\n",
       "`val_size`: int, size of temporal validation set (needs to be bigger than 0).<br>\n",
       "`test_size`: int, size of temporal test set (default 0).<br>\n",
       "\n",
       "**Returns:**<br>\n",
       "`self`: fitted instance of `BaseAuto` with best hyperparameters and results<br>."
      ],
      "text/plain": [
       "---\n",
       "\n",
       "### BaseAuto.fit\n",
       "\n",
       ">      BaseAuto.fit (dataset, val_size=0, test_size=0)\n",
       "\n",
       "BaseAuto.fit\n",
       "\n",
       "Perform the hyperparameter optimization as specified by the BaseAuto configuration \n",
       "dictionary `config`.\n",
       "\n",
       "The optimization is performed on the `TimeSeriesDataset` using temporal cross validation with \n",
       "the validation set that sequentially precedes the test set.\n",
       "\n",
       "**Parameters:**<br>\n",
       "`dataset`: NeuralForecast's `TimeSeriesDataset` see details [here](https://nixtla.github.io/neuralforecast/tsdataset.html)<br>\n",
       "`val_size`: int, size of temporal validation set (needs to be bigger than 0).<br>\n",
       "`test_size`: int, size of temporal test set (default 0).<br>\n",
       "\n",
       "**Returns:**<br>\n",
       "`self`: fitted instance of `BaseAuto` with best hyperparameters and results<br>."
      ]
     },
     "execution_count": 22,
     "metadata": {},
     "output_type": "execute_result"
    }
   ],
   "source": [
    "show_doc(BaseAuto.fit, title_level=3)"
   ]
  },
  {
   "cell_type": "code",
   "execution_count": 23,
   "id": "69d3c1ae",
   "metadata": {},
   "outputs": [
    {
     "data": {
      "text/markdown": [
       "---\n",
       "\n",
       "### BaseAuto.predict\n",
       "\n",
       ">      BaseAuto.predict (dataset, step_size=1, **data_kwargs)\n",
       "\n",
       "BaseAuto.predict\n",
       "\n",
       "Predictions of the best performing model on validation.\n",
       "\n",
       "**Parameters:**<br>\n",
       "`dataset`: NeuralForecast's `TimeSeriesDataset` see details [here](https://nixtla.github.io/neuralforecast/tsdataset.html)<br>\n",
       "`step_size`: int, steps between sequential predictions, (default 1).<br>\n",
       "`**data_kwarg`: additional parameters for the dataset module.<br>\n",
       "\n",
       "**Returns:**<br>\n",
       "`y_hat`: numpy predictions of the `NeuralForecast` model.<br>"
      ],
      "text/plain": [
       "---\n",
       "\n",
       "### BaseAuto.predict\n",
       "\n",
       ">      BaseAuto.predict (dataset, step_size=1, **data_kwargs)\n",
       "\n",
       "BaseAuto.predict\n",
       "\n",
       "Predictions of the best performing model on validation.\n",
       "\n",
       "**Parameters:**<br>\n",
       "`dataset`: NeuralForecast's `TimeSeriesDataset` see details [here](https://nixtla.github.io/neuralforecast/tsdataset.html)<br>\n",
       "`step_size`: int, steps between sequential predictions, (default 1).<br>\n",
       "`**data_kwarg`: additional parameters for the dataset module.<br>\n",
       "\n",
       "**Returns:**<br>\n",
       "`y_hat`: numpy predictions of the `NeuralForecast` model.<br>"
      ]
     },
     "execution_count": 23,
     "metadata": {},
     "output_type": "execute_result"
    }
   ],
   "source": [
    "show_doc(BaseAuto.predict, title_level=3)"
   ]
  },
  {
   "cell_type": "code",
   "execution_count": 12,
   "id": "bbfd4e8f-2565-4f85-b615-7329a1ae3f43",
   "metadata": {},
   "outputs": [],
   "source": [
    "#| hide\n",
    "import logging\n",
    "import warnings\n",
    "warnings.filterwarnings(\"ignore\")\n",
    "\n",
    "import pytorch_lightning as pl\n",
    "logging.getLogger(\"pytorch_lightning\").setLevel(logging.ERROR)\n",
    "warnings.filterwarnings(\"ignore\")"
   ]
  },
  {
   "cell_type": "code",
   "execution_count": 13,
   "id": "349627f9-d2c7-40dc-8ebd-99ee1d9e9d81",
   "metadata": {},
   "outputs": [
    {
     "data": {
      "text/html": [],
      "text/plain": [
       "<IPython.core.display.HTML object>"
      ]
     },
     "metadata": {},
     "output_type": "display_data"
    },
    {
     "name": "stdout",
     "output_type": "stream",
     "text": [
      "Sanity Checking DataLoader 0:   0%|          | 0/1 [00:00<?, ?it/s]\n",
      "Sanity Checking DataLoader 0:   0%|          | 0/1 [00:00<?, ?it/s]\n",
      "                                                                           \n",
      "                                                                           \n",
      "Epoch 0:   0%|          | 0/2 [00:00<?, ?it/s] \n",
      "Epoch 0:   0%|          | 0/2 [00:00<?, ?it/s] \n",
      "Epoch 0:  50%|█████     | 1/2 [00:00<00:00,  3.95it/s, loss=252, v_num=0, train_loss_step=252.0]\n",
      "Validation: 0it [00:00, ?it/s]\u001b[A0m \n",
      "Validation:   0%|          | 0/1 [00:00<?, ?it/s]\u001b[A\n",
      "Validation DataLoader 0:   0%|          | 0/1 [00:00<?, ?it/s]\u001b[A\n",
      "Epoch 0: 100%|██████████| 2/2 [00:00<00:00,  7.00it/s, loss=252, v_num=0, train_loss_step=252.0, val_loss=397.0]\n",
      "                                                                       \u001b[A\n",
      "Epoch 0:  50%|█████     | 1/2 [00:00<00:00,  3.85it/s, loss=251, v_num=0, train_loss_step=251.0]\n",
      "Validation: 0it [00:00, ?it/s]\u001b[A0m \n",
      "Validation:   0%|          | 0/1 [00:00<?, ?it/s]\u001b[A\n",
      "Validation DataLoader 0:   0%|          | 0/1 [00:00<?, ?it/s]\u001b[A\n",
      "Epoch 0: 100%|██████████| 2/2 [00:00<00:00,  6.97it/s, loss=251, v_num=0, train_loss_step=251.0, val_loss=362.0]\n",
      "Epoch 0: 100%|██████████| 2/2 [00:00<00:00,  6.23it/s, loss=251, v_num=0, train_loss_step=251.0, val_loss=362.0, train_loss_epoch=251.0]\n",
      "Epoch 0: 100%|██████████| 2/2 [00:00<00:00,  6.17it/s, loss=252, v_num=0, train_loss_step=252.0, val_loss=397.0, train_loss_epoch=252.0]\n",
      "Epoch 1:   0%|          | 0/2 [00:00<?, ?it/s, loss=251, v_num=0, train_loss_step=251.0, val_loss=362.0, train_loss_epoch=251.0]        \n",
      "Epoch 1:   0%|          | 0/2 [00:00<?, ?it/s, loss=252, v_num=0, train_loss_step=252.0, val_loss=397.0, train_loss_epoch=252.0]        \n",
      "Epoch 1:  50%|█████     | 1/2 [00:00<00:00,  6.89it/s, loss=232, v_num=0, train_loss_step=212.0, val_loss=362.0, train_loss_epoch=251.0]\n",
      "Validation: 0it [00:00, ?it/s]\u001b[A0m \n",
      "Validation:   0%|          | 0/1 [00:00<?, ?it/s]\u001b[A\n",
      "Validation DataLoader 0:   0%|          | 0/1 [00:00<?, ?it/s]\u001b[A\n",
      "Epoch 1: 100%|██████████| 2/2 [00:00<00:00, 11.76it/s, loss=232, v_num=0, train_loss_step=212.0, val_loss=284.0, train_loss_epoch=251.0]\n",
      "                                                                       \u001b[A\n",
      "Epoch 1:  50%|█████     | 1/2 [00:00<00:00, 11.98it/s, loss=243, v_num=0, train_loss_step=234.0, val_loss=397.0, train_loss_epoch=252.0]\n",
      "Validation: 0it [00:00, ?it/s]\u001b[A0m \n",
      "Validation:   0%|          | 0/1 [00:00<?, ?it/s]\u001b[A\n",
      "Validation DataLoader 0:   0%|          | 0/1 [00:00<?, ?it/s]\u001b[A\n",
      "Epoch 1: 100%|██████████| 2/2 [00:00<00:00, 12.05it/s, loss=243, v_num=0, train_loss_step=234.0, val_loss=340.0, train_loss_epoch=252.0]\n",
      "                                                                       \u001b[A\n",
      "Epoch 2:   0%|          | 0/2 [00:00<?, ?it/s, loss=232, v_num=0, train_loss_step=212.0, val_loss=284.0, train_loss_epoch=212.0]        \n",
      "Epoch 2:   0%|          | 0/2 [00:00<?, ?it/s, loss=243, v_num=0, train_loss_step=234.0, val_loss=340.0, train_loss_epoch=234.0]        \n",
      "Epoch 2:  50%|█████     | 1/2 [00:00<00:00, 14.35it/s, loss=210, v_num=0, train_loss_step=167.0, val_loss=284.0, train_loss_epoch=212.0]\n",
      "Validation: 0it [00:00, ?it/s]\u001b[A0m \n",
      "Validation:   0%|          | 0/1 [00:00<?, ?it/s]\u001b[A\n",
      "Validation DataLoader 0:   0%|          | 0/1 [00:00<?, ?it/s]\u001b[A\n",
      "Epoch 2: 100%|██████████| 2/2 [00:00<00:00, 18.41it/s, loss=210, v_num=0, train_loss_step=167.0, val_loss=170.0, train_loss_epoch=212.0]\n",
      "Epoch 2: 100%|██████████| 2/2 [00:00<00:00, 17.22it/s, loss=210, v_num=0, train_loss_step=167.0, val_loss=170.0, train_loss_epoch=167.0]\n",
      "Epoch 2:  50%|█████     | 1/2 [00:00<00:00, 20.67it/s, loss=229, v_num=0, train_loss_step=201.0, val_loss=340.0, train_loss_epoch=234.0]\n",
      "Validation: 0it [00:00, ?it/s]\u001b[A0m \n",
      "Validation:   0%|          | 0/1 [00:00<?, ?it/s]\u001b[A\n",
      "Validation DataLoader 0:   0%|          | 0/1 [00:00<?, ?it/s]\u001b[A\n",
      "Epoch 2: 100%|██████████| 2/2 [00:00<00:00, 28.10it/s, loss=229, v_num=0, train_loss_step=201.0, val_loss=234.0, train_loss_epoch=234.0]\n",
      "Epoch 2: 100%|██████████| 2/2 [00:00<00:00, 17.43it/s, loss=229, v_num=0, train_loss_step=201.0, val_loss=234.0, train_loss_epoch=201.0]\n",
      "Epoch 3:   0%|          | 0/2 [00:00<?, ?it/s, loss=210, v_num=0, train_loss_step=167.0, val_loss=170.0, train_loss_epoch=167.0]        \n",
      "Epoch 3:   0%|          | 0/2 [00:00<?, ?it/s, loss=229, v_num=0, train_loss_step=201.0, val_loss=234.0, train_loss_epoch=201.0]        \n",
      "Epoch 3:  50%|█████     | 1/2 [00:00<00:00,  6.86it/s, loss=182, v_num=0, train_loss_step=99.80, val_loss=170.0, train_loss_epoch=167.0]\n",
      "Validation: 0it [00:00, ?it/s]\u001b[A0m \n",
      "Validation:   0%|          | 0/1 [00:00<?, ?it/s]\u001b[A\n",
      "Validation DataLoader 0:   0%|          | 0/1 [00:00<?, ?it/s]\u001b[A\n",
      "Epoch 3: 100%|██████████| 2/2 [00:00<00:00, 12.03it/s, loss=182, v_num=0, train_loss_step=99.80, val_loss=65.00, train_loss_epoch=167.0]\n",
      "Epoch 3: 100%|██████████| 2/2 [00:00<00:00, 11.55it/s, loss=182, v_num=0, train_loss_step=99.80, val_loss=65.00, train_loss_epoch=99.80]\n",
      "Epoch 3:  50%|█████     | 1/2 [00:00<00:00, 12.16it/s, loss=206, v_num=0, train_loss_step=138.0, val_loss=234.0, train_loss_epoch=201.0]\n",
      "Validation: 0it [00:00, ?it/s]\u001b[A0m \n",
      "Validation:   0%|          | 0/1 [00:00<?, ?it/s]\u001b[A\n",
      "Validation DataLoader 0:   0%|          | 0/1 [00:00<?, ?it/s]\u001b[A\n",
      "Epoch 3: 100%|██████████| 2/2 [00:00<00:00, 18.84it/s, loss=206, v_num=0, train_loss_step=138.0, val_loss=76.50, train_loss_epoch=201.0]\n",
      "Epoch 3: 100%|██████████| 2/2 [00:00<00:00, 17.41it/s, loss=206, v_num=0, train_loss_step=138.0, val_loss=76.50, train_loss_epoch=138.0]\n",
      "Epoch 4:  50%|█████     | 1/2 [00:00<00:00, 23.50it/s, loss=154, v_num=0, train_loss_step=39.00, val_loss=65.00, train_loss_epoch=99.80]\n",
      "Validation: 0it [00:00, ?it/s]\u001b[A0m \n",
      "Validation:   0%|          | 0/1 [00:00<?, ?it/s]\u001b[A\n",
      "Validation DataLoader 0:   0%|          | 0/1 [00:00<?, ?it/s]\u001b[A\n",
      "Epoch 4: 100%|██████████| 2/2 [00:00<00:00, 28.41it/s, loss=154, v_num=0, train_loss_step=39.00, val_loss=164.0, train_loss_epoch=99.80]\n",
      "                                                                       \u001b[A\n",
      "Epoch 4: 100%|██████████| 2/2 [00:00<00:00, 20.23it/s, loss=154, v_num=0, train_loss_step=39.00, val_loss=164.0, train_loss_epoch=39.00]\n",
      "Epoch 4:   0%|          | 0/2 [00:00<?, ?it/s, loss=206, v_num=0, train_loss_step=138.0, val_loss=76.50, train_loss_epoch=138.0]        \n",
      "Epoch 5:   0%|          | 0/2 [00:00<?, ?it/s, loss=154, v_num=0, train_loss_step=39.00, val_loss=164.0, train_loss_epoch=39.00]        \n",
      "Epoch 4:  50%|█████     | 1/2 [00:00<00:00,  7.16it/s, loss=175, v_num=0, train_loss_step=48.80, val_loss=76.50, train_loss_epoch=138.0]\n",
      "Validation: 0it [00:00, ?it/s]\u001b[A0m \n",
      "Validation:   0%|          | 0/1 [00:00<?, ?it/s]\u001b[A\n",
      "Validation DataLoader 0:   0%|          | 0/1 [00:00<?, ?it/s]\u001b[A\n",
      "Epoch 4: 100%|██████████| 2/2 [00:00<00:00, 12.81it/s, loss=175, v_num=0, train_loss_step=48.80, val_loss=236.0, train_loss_epoch=138.0]\n",
      "Epoch 5:   0%|          | 0/2 [00:00<?, ?it/s, loss=175, v_num=0, train_loss_step=48.80, val_loss=236.0, train_loss_epoch=48.80]        \n",
      "Epoch 5:  50%|█████     | 1/2 [00:00<00:00,  8.21it/s, loss=144, v_num=0, train_loss_step=95.40, val_loss=164.0, train_loss_epoch=39.00]\n",
      "Validation: 0it [00:00, ?it/s]\u001b[A0m \n",
      "Validation:   0%|          | 0/1 [00:00<?, ?it/s]\u001b[A\n",
      "Validation DataLoader 0:   0%|          | 0/1 [00:00<?, ?it/s]\u001b[A\n",
      "Epoch 5: 100%|██████████| 2/2 [00:00<00:00, 14.94it/s, loss=144, v_num=0, train_loss_step=95.40, val_loss=160.0, train_loss_epoch=39.00]\n",
      "Epoch 5: 100%|██████████| 2/2 [00:00<00:00, 14.39it/s, loss=144, v_num=0, train_loss_step=95.40, val_loss=160.0, train_loss_epoch=95.40]\n",
      "Epoch 5:  50%|█████     | 1/2 [00:00<00:00, 17.24it/s, loss=168, v_num=0, train_loss_step=136.0, val_loss=236.0, train_loss_epoch=48.80]\n",
      "Validation: 0it [00:00, ?it/s]\u001b[A0m \n",
      "Validation:   0%|          | 0/1 [00:00<?, ?it/s]\u001b[A\n",
      "Validation DataLoader 0:   0%|          | 0/1 [00:00<?, ?it/s]\u001b[A\n",
      "Epoch 5: 100%|██████████| 2/2 [00:00<00:00, 21.96it/s, loss=168, v_num=0, train_loss_step=136.0, val_loss=184.0, train_loss_epoch=48.80]\n",
      "Epoch 5: 100%|██████████| 2/2 [00:00<00:00, 20.35it/s, loss=168, v_num=0, train_loss_step=136.0, val_loss=184.0, train_loss_epoch=136.0]\n",
      "Epoch 6:  50%|█████     | 1/2 [00:00<00:00, 39.62it/s, loss=137, v_num=0, train_loss_step=92.90, val_loss=160.0, train_loss_epoch=95.40]\n",
      "Validation: 0it [00:00, ?it/s]\u001b[A0m \n",
      "Validation:   0%|          | 0/1 [00:00<?, ?it/s]\u001b[A\n",
      "Validation DataLoader 0:   0%|          | 0/1 [00:00<?, ?it/s]\u001b[A\n",
      "Epoch 6: 100%|██████████| 2/2 [00:00<00:00, 20.89it/s, loss=137, v_num=0, train_loss_step=92.90, val_loss=93.50, train_loss_epoch=95.40]\n",
      "                                                                       \u001b[A\n",
      "Epoch 6: 100%|██████████| 2/2 [00:00<00:00, 17.17it/s, loss=137, v_num=0, train_loss_step=92.90, val_loss=93.50, train_loss_epoch=92.90]\n",
      "Epoch 6:   0%|          | 0/2 [00:00<?, ?it/s, loss=168, v_num=0, train_loss_step=136.0, val_loss=184.0, train_loss_epoch=136.0]        \n",
      "Epoch 7:  50%|█████     | 1/2 [00:00<00:00, 16.93it/s, loss=126, v_num=0, train_loss_step=51.10, val_loss=93.50, train_loss_epoch=92.90]\n",
      "Validation: 0it [00:00, ?it/s]\u001b[A0m \n",
      "Validation:   0%|          | 0/1 [00:00<?, ?it/s]\u001b[A\n",
      "Validation DataLoader 0:   0%|          | 0/1 [00:00<?, ?it/s]\u001b[A\n",
      "Epoch 7: 100%|██████████| 2/2 [00:00<00:00, 27.83it/s, loss=126, v_num=0, train_loss_step=51.10, val_loss=93.50, train_loss_epoch=92.90]\n",
      "Epoch 6:  50%|█████     | 1/2 [00:00<00:00,  9.90it/s, loss=159, v_num=0, train_loss_step=106.0, val_loss=184.0, train_loss_epoch=136.0]\n",
      "Validation: 0it [00:00, ?it/s]\u001b[A0m \n",
      "Validation:   0%|          | 0/1 [00:00<?, ?it/s]\u001b[A\n",
      "Validation DataLoader 0:   0%|          | 0/1 [00:00<?, ?it/s]\u001b[A\n",
      "Epoch 6: 100%|██████████| 2/2 [00:00<00:00, 17.28it/s, loss=159, v_num=0, train_loss_step=106.0, val_loss=63.70, train_loss_epoch=136.0]\n",
      "Epoch 6: 100%|██████████| 2/2 [00:00<00:00, 16.34it/s, loss=159, v_num=0, train_loss_step=106.0, val_loss=63.70, train_loss_epoch=106.0]\n",
      "Epoch 7: 100%|██████████| 2/2 [00:00<00:00, 25.47it/s, loss=126, v_num=0, train_loss_step=51.10, val_loss=52.00, train_loss_epoch=92.90]\n",
      "Epoch 8:  50%|█████     | 1/2 [00:00<00:00, 31.62it/s, loss=115, v_num=0, train_loss_step=30.40, val_loss=52.00, train_loss_epoch=51.10]\n",
      "Validation: 0it [00:00, ?it/s]\u001b[A0m \n",
      "Epoch 7:  50%|█████     | 1/2 [00:00<00:00, 31.84it/s, loss=144, v_num=0, train_loss_step=38.30, val_loss=63.70, train_loss_epoch=106.0]\n",
      "Validation: 0it [00:00, ?it/s]\u001b[A0m \n",
      "Validation:   0%|          | 0/1 [00:00<?, ?it/s]\u001b[A\n",
      "Validation DataLoader 0:   0%|          | 0/1 [00:00<?, ?it/s]\u001b[A\n",
      "Epoch 7: 100%|██████████| 2/2 [00:00<00:00, 25.08it/s, loss=144, v_num=0, train_loss_step=38.30, val_loss=63.70, train_loss_epoch=106.0]\n",
      "\u001b[2m\u001b[36m(train_tune pid=10706)\u001b[0m \n",
      "Validation:   0%|          | 0/1 [00:00<?, ?it/s]\u001b[A\n",
      "Validation DataLoader 0:   0%|          | 0/1 [00:00<?, ?it/s]\u001b[A\n",
      "Epoch 8: 100%|██████████| 2/2 [00:00<00:00, 33.21it/s, loss=115, v_num=0, train_loss_step=30.40, val_loss=82.80, train_loss_epoch=51.10]\n",
      "Epoch 9:   0%|          | 0/2 [00:00<?, ?it/s, loss=115, v_num=0, train_loss_step=30.40, val_loss=82.80, train_loss_epoch=30.40]        \n",
      "Epoch 7: 100%|██████████| 2/2 [00:00<00:00, 10.38it/s, loss=144, v_num=0, train_loss_step=38.30, val_loss=86.30, train_loss_epoch=106.0]\n",
      "                                                                      \u001b[A\n",
      "Epoch 7: 100%|██████████| 2/2 [00:00<00:00,  7.72it/s, loss=144, v_num=0, train_loss_step=38.30, val_loss=86.30, train_loss_epoch=38.30]\n",
      "Epoch 9:  50%|█████     | 1/2 [00:00<00:00,  4.59it/s, loss=109, v_num=0, train_loss_step=50.80, val_loss=82.80, train_loss_epoch=30.40]\n",
      "Validation: 0it [00:00, ?it/s]\u001b[A0m \n",
      "Validation:   0%|          | 0/1 [00:00<?, ?it/s]\u001b[A\n",
      "Validation DataLoader 0:   0%|          | 0/1 [00:00<?, ?it/s]\u001b[A\n",
      "Epoch 9: 100%|██████████| 2/2 [00:00<00:00,  8.12it/s, loss=109, v_num=0, train_loss_step=50.80, val_loss=109.0, train_loss_epoch=30.40]\n",
      "Epoch 9: 100%|██████████| 2/2 [00:00<00:00,  7.91it/s, loss=109, v_num=0, train_loss_step=50.80, val_loss=109.0, train_loss_epoch=50.80]\n",
      "Epoch 8:   0%|          | 0/2 [00:00<?, ?it/s, loss=144, v_num=0, train_loss_step=38.30, val_loss=86.30, train_loss_epoch=38.30]        \n",
      "Epoch 9: 100%|██████████| 2/2 [00:00<00:00,  6.11it/s, loss=109, v_num=0, train_loss_step=50.80, val_loss=109.0, train_loss_epoch=50.80]\n",
      "Epoch 8:  50%|█████     | 1/2 [00:00<00:00,  8.96it/s, loss=134, v_num=0, train_loss_step=53.50, val_loss=86.30, train_loss_epoch=38.30]\n",
      "Validation: 0it [00:00, ?it/s]\u001b[A0m \n",
      "Validation:   0%|          | 0/1 [00:00<?, ?it/s]\u001b[A\n",
      "Validation DataLoader 0:   0%|          | 0/1 [00:00<?, ?it/s]\u001b[A\n",
      "Epoch 8: 100%|██████████| 2/2 [00:00<00:00, 12.77it/s, loss=134, v_num=0, train_loss_step=53.50, val_loss=135.0, train_loss_epoch=38.30]\n",
      "Epoch 8: 100%|██████████| 2/2 [00:00<00:00, 11.82it/s, loss=134, v_num=0, train_loss_step=53.50, val_loss=135.0, train_loss_epoch=53.50]\n"
     ]
    },
    {
     "name": "stderr",
     "output_type": "stream",
     "text": [
      "\u001b[2m\u001b[36m(train_tune pid=10706)\u001b[0m /opt/anaconda3/envs/neuralforecast/lib/python3.10/multiprocessing/resource_tracker.py:224: UserWarning: resource_tracker: There appear to be 1 leaked semaphore objects to clean up at shutdown\n",
      "\u001b[2m\u001b[36m(train_tune pid=10706)\u001b[0m   warnings.warn('resource_tracker: There appear to be %d '\n"
     ]
    },
    {
     "name": "stdout",
     "output_type": "stream",
     "text": [
      "Epoch 9:   0%|          | 0/2 [00:00<?, ?it/s, loss=134, v_num=0, train_loss_step=53.50, val_loss=135.0, train_loss_epoch=53.50]        \n",
      "Epoch 9:  50%|█████     | 1/2 [00:00<00:00,  6.46it/s, loss=129, v_num=0, train_loss_step=80.60, val_loss=135.0, train_loss_epoch=53.50]\n",
      "Validation: 0it [00:00, ?it/s]\u001b[A0m \n",
      "Validation:   0%|          | 0/1 [00:00<?, ?it/s]\u001b[A\n",
      "Validation DataLoader 0:   0%|          | 0/1 [00:00<?, ?it/s]\u001b[A\n",
      "Epoch 9: 100%|██████████| 2/2 [00:00<00:00, 11.41it/s, loss=129, v_num=0, train_loss_step=80.60, val_loss=139.0, train_loss_epoch=53.50]\n",
      "Epoch 9: 100%|██████████| 2/2 [00:00<00:00, 10.63it/s, loss=129, v_num=0, train_loss_step=80.60, val_loss=139.0, train_loss_epoch=80.60]\n",
      "Epoch 9: 100%|██████████| 2/2 [00:00<00:00,  6.48it/s, loss=129, v_num=0, train_loss_step=80.60, val_loss=139.0, train_loss_epoch=80.60]\n"
     ]
    },
    {
     "name": "stderr",
     "output_type": "stream",
     "text": [
      "\u001b[2m\u001b[36m(train_tune pid=10707)\u001b[0m /opt/anaconda3/envs/neuralforecast/lib/python3.10/multiprocessing/resource_tracker.py:224: UserWarning: resource_tracker: There appear to be 1 leaked semaphore objects to clean up at shutdown\n",
      "\u001b[2m\u001b[36m(train_tune pid=10707)\u001b[0m   warnings.warn('resource_tracker: There appear to be %d '\n"
     ]
    },
    {
     "data": {
      "application/vnd.jupyter.widget-view+json": {
       "model_id": "2d9e00ddedda4ca19285e55afe615cc9",
       "version_major": 2,
       "version_minor": 0
      },
      "text/plain": [
       "Sanity Checking: 0it [00:00, ?it/s]"
      ]
     },
     "metadata": {},
     "output_type": "display_data"
    },
    {
     "data": {
      "application/vnd.jupyter.widget-view+json": {
       "model_id": "0aea4dda2878434d8204a9e4632d868c",
       "version_major": 2,
       "version_minor": 0
      },
      "text/plain": [
       "Training: 0it [00:00, ?it/s]"
      ]
     },
     "metadata": {},
     "output_type": "display_data"
    },
    {
     "data": {
      "application/vnd.jupyter.widget-view+json": {
       "model_id": "0a2710b0de2a4a46b9c5770108d6b470",
       "version_major": 2,
       "version_minor": 0
      },
      "text/plain": [
       "Validation: 0it [00:00, ?it/s]"
      ]
     },
     "metadata": {},
     "output_type": "display_data"
    },
    {
     "data": {
      "application/vnd.jupyter.widget-view+json": {
       "model_id": "0a1b3434bfc440ca82b7a8b383bbb996",
       "version_major": 2,
       "version_minor": 0
      },
      "text/plain": [
       "Validation: 0it [00:00, ?it/s]"
      ]
     },
     "metadata": {},
     "output_type": "display_data"
    },
    {
     "data": {
      "application/vnd.jupyter.widget-view+json": {
       "model_id": "a1cc8ed9029c49269ec0683277ff5bff",
       "version_major": 2,
       "version_minor": 0
      },
      "text/plain": [
       "Validation: 0it [00:00, ?it/s]"
      ]
     },
     "metadata": {},
     "output_type": "display_data"
    },
    {
     "data": {
      "application/vnd.jupyter.widget-view+json": {
       "model_id": "3a2d8a6d989e477ca0bc05a73105d824",
       "version_major": 2,
       "version_minor": 0
      },
      "text/plain": [
       "Validation: 0it [00:00, ?it/s]"
      ]
     },
     "metadata": {},
     "output_type": "display_data"
    },
    {
     "data": {
      "application/vnd.jupyter.widget-view+json": {
       "model_id": "f14e94c42b2b4567acabb6ec93cd5356",
       "version_major": 2,
       "version_minor": 0
      },
      "text/plain": [
       "Validation: 0it [00:00, ?it/s]"
      ]
     },
     "metadata": {},
     "output_type": "display_data"
    },
    {
     "data": {
      "application/vnd.jupyter.widget-view+json": {
       "model_id": "8eedf09bf0d5454e8801e5f7497e539c",
       "version_major": 2,
       "version_minor": 0
      },
      "text/plain": [
       "Validation: 0it [00:00, ?it/s]"
      ]
     },
     "metadata": {},
     "output_type": "display_data"
    },
    {
     "data": {
      "application/vnd.jupyter.widget-view+json": {
       "model_id": "ded2406ed21f49a1871ff788d766f012",
       "version_major": 2,
       "version_minor": 0
      },
      "text/plain": [
       "Validation: 0it [00:00, ?it/s]"
      ]
     },
     "metadata": {},
     "output_type": "display_data"
    },
    {
     "data": {
      "application/vnd.jupyter.widget-view+json": {
       "model_id": "62dcc3bd87e848f1a06f87bc2aed5068",
       "version_major": 2,
       "version_minor": 0
      },
      "text/plain": [
       "Validation: 0it [00:00, ?it/s]"
      ]
     },
     "metadata": {},
     "output_type": "display_data"
    },
    {
     "data": {
      "application/vnd.jupyter.widget-view+json": {
       "model_id": "6aaa0db9b45843fe81342949f8cedf81",
       "version_major": 2,
       "version_minor": 0
      },
      "text/plain": [
       "Validation: 0it [00:00, ?it/s]"
      ]
     },
     "metadata": {},
     "output_type": "display_data"
    },
    {
     "data": {
      "application/vnd.jupyter.widget-view+json": {
       "model_id": "a4721e3f20994a76932c42c3086e6c17",
       "version_major": 2,
       "version_minor": 0
      },
      "text/plain": [
       "Validation: 0it [00:00, ?it/s]"
      ]
     },
     "metadata": {},
     "output_type": "display_data"
    },
    {
     "data": {
      "application/vnd.jupyter.widget-view+json": {
       "model_id": "4d3f37dd4ddd4e6e86a7ebcafa79e3d6",
       "version_major": 2,
       "version_minor": 0
      },
      "text/plain": [
       "Predicting: 0it [00:00, ?it/s]"
      ]
     },
     "metadata": {},
     "output_type": "display_data"
    }
   ],
   "source": [
    "#| hide\n",
    "import pandas as pd\n",
    "from neuralforecast.models.mlp import MLP\n",
    "from neuralforecast.utils import AirPassengersDF as Y_df\n",
    "from neuralforecast.tsdataset import TimeSeriesDataset\n",
    "\n",
    "Y_train_df = Y_df[Y_df.ds<='1959-12-31'] # 132 train\n",
    "Y_test_df = Y_df[Y_df.ds>'1959-12-31']   # 12 test\n",
    "\n",
    "dataset, *_ = TimeSeriesDataset.from_df(Y_train_df)\n",
    "config = {\n",
    "    \"hidden_size\": tune.choice([512]),\n",
    "    \"num_layers\": tune.choice([3, 4]),\n",
    "    \"input_size\": 12,\n",
    "    \"h\": 12,\n",
    "    \"max_epochs\": 10\n",
    "}\n",
    "auto = BaseAuto(h=12, cls_model=MLP, config=config, num_samples=2, cpus=1, gpus=0)\n",
    "auto.fit(dataset=dataset)\n",
    "y_hat = auto.predict(dataset=dataset)"
   ]
  },
  {
   "cell_type": "code",
   "execution_count": 14,
   "id": "66ad2eec-dd93-4bc4-ae19-5df4199577be",
   "metadata": {},
   "outputs": [
    {
     "data": {
      "text/plain": [
       "<AxesSubplot: xlabel='ds'>"
      ]
     },
     "execution_count": 14,
     "metadata": {},
     "output_type": "execute_result"
    },
    {
     "data": {
      "image/png": "[encoded data removed]",
      "text/plain": [
       "<Figure size 640x480 with 1 Axes>"
      ]
     },
     "metadata": {},
     "output_type": "display_data"
    }
   ],
   "source": [
    "#| hide\n",
    "Y_test_df['AutoMLP'] = y_hat\n",
    "\n",
    "pd.concat([Y_train_df, Y_test_df]).drop('unique_id', axis=1).set_index('ds').plot()"
   ]
  },
  {
   "cell_type": "markdown",
   "id": "3c8e2d46",
   "metadata": {},
   "source": [
    "### References\n",
    "- [James Bergstra, Remi Bardenet, Yoshua Bengio, and Balazs Kegl (2011). \"Algorithms for Hyper-Parameter Optimization\". In: Advances in Neural Information Processing Systems. url: https://proceedings.neurips.cc/paper/2011/file/86e8f7ab32cfd12577bc2619bc635690-Paper.pdf](https://proceedings.neurips.cc/paper/2011/file/86e8f7ab32cfd12577bc2619bc635690-Paper.pdf)\n",
    "- [Kirthevasan Kandasamy, Karun Raju Vysyaraju, Willie Neiswanger, Biswajit Paria, Christopher R. Collins, Jeff Schneider, Barnabas Poczos, Eric P. Xing (2019). \"Tuning Hyperparameters without Grad Students: Scalable and Robust Bayesian Optimisation with Dragonfly\". Journal of Machine Learning Research. url: https://arxiv.org/abs/1903.06694](https://arxiv.org/abs/1903.06694)\n",
    "- [Lisha Li, Kevin Jamieson, Giulia DeSalvo, Afshin Rostamizadeh, Ameet Talwalkar (2016). \"Hyperband: A Novel Bandit-Based Approach to Hyperparameter Optimization\". Journal of Machine Learning Research. url: https://arxiv.org/abs/1603.06560](https://arxiv.org/abs/1603.06560)"
   ]
  },
  {
   "cell_type": "markdown",
   "id": "267cbf1e",
   "metadata": {},
   "source": []
  }
 ],
 "metadata": {
  "kernelspec": {
   "display_name": "neuralforecast",
   "language": "python",
   "name": "neuralforecast"
  },
  "language_info": {
   "codemirror_mode": {
    "name": "ipython",
    "version": 3
   },
   "file_extension": ".py",
   "mimetype": "text/x-python",
   "name": "python",
   "nbconvert_exporter": "python",
   "pygments_lexer": "ipython3",
   "version": "3.10.6"
  }
 },
 "nbformat": 4,
 "nbformat_minor": 5
}
