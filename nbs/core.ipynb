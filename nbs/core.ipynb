{
 "cells": [
  {
   "cell_type": "code",
   "execution_count": 2,
   "id": "524620c1",
   "metadata": {},
   "outputs": [],
   "source": [
    "#| default_exp core"
   ]
  },
  {
   "cell_type": "code",
   "execution_count": 3,
   "id": "15392f6f",
   "metadata": {},
   "outputs": [],
   "source": [
    "#| hide\n",
    "%load_ext autoreload\n",
    "%autoreload 2"
   ]
  },
  {
   "cell_type": "markdown",
   "id": "12fa25a4",
   "metadata": {},
   "source": [
    "# <span style=\"color:DarkOrange\"> Core </span>\n",
    "> NeuralForecast contains two main components, PyTorch implementations deep learning predictive models, as well as parallelization and distributed computation utilities. The first component comprises low-level PyTorch model estimator classes like `models.NBEATS` and `models.RNN`. The second component is a high-level `core.NeuralForecast` wrapper class that operates with sets of time series data stored in pandas DataFrames."
   ]
  },
  {
   "cell_type": "code",
   "execution_count": 4,
   "id": "2508f7a9-1433-4ad8-8f2f-0078c6ed6c3c",
   "metadata": {},
   "outputs": [],
   "source": [
    "#| hide\n",
    "from fastcore.test import test_eq\n",
    "from nbdev.showdoc import show_doc\n",
    "from neuralforecast.utils import generate_series"
   ]
  },
  {
   "cell_type": "code",
   "execution_count": 5,
   "id": "44065066-e72a-431f-938f-1528adef9fe8",
   "metadata": {},
   "outputs": [],
   "source": [
    "#| export\n",
    "from typing import Any, List, Optional\n",
    "\n",
    "import numpy as np\n",
    "import pandas as pd\n",
    "\n",
    "from neuralforecast.tsdataset import TimeSeriesDataset"
   ]
  },
  {
   "cell_type": "code",
   "execution_count": 6,
   "id": "45471e9f-4050-4a6c-bb05-4de144754da5",
   "metadata": {},
   "outputs": [],
   "source": [
    "#| exporti\n",
    "def _cv_dates(last_dates, freq, h, test_size, step_size=1):\n",
    "    #assuming step_size = 1\n",
    "    if (test_size - h) % step_size:\n",
    "        raise Exception('`test_size - h` should be module `step_size`')\n",
    "    n_windows = int((test_size - h) / step_size) + 1\n",
    "    if len(np.unique(last_dates)) == 1:\n",
    "        if issubclass(last_dates.dtype.type, np.integer):\n",
    "            total_dates = np.arange(last_dates[0] - test_size + 1, last_dates[0] + 1)\n",
    "            out = np.empty((h * n_windows, 2), dtype=last_dates.dtype)\n",
    "            freq = 1\n",
    "        else:\n",
    "            total_dates = pd.date_range(end=last_dates[0], periods=test_size, freq=freq)\n",
    "            out = np.empty((h * n_windows, 2), dtype='datetime64[s]')\n",
    "        for i_window, cutoff in enumerate(range(-test_size, -h + 1, step_size), start=0):\n",
    "            end_cutoff = cutoff + h\n",
    "            out[h * i_window : h * (i_window + 1), 0] = total_dates[cutoff:] if end_cutoff == 0 else total_dates[cutoff:end_cutoff]\n",
    "            out[h * i_window : h * (i_window + 1), 1] = np.tile(total_dates[cutoff] - freq, h)\n",
    "        dates = pd.DataFrame(np.tile(out, (len(last_dates), 1)), columns=['ds', 'cutoff'])\n",
    "    else:\n",
    "        dates = pd.concat([_cv_dates(np.array([ld]), freq, h, test_size, step_size) for ld in last_dates])\n",
    "        dates = dates.reset_index(drop=True)\n",
    "    return dates"
   ]
  },
  {
   "cell_type": "code",
   "execution_count": 7,
   "id": "50ff82c9-3cb5-407f-be34-141d265e8930",
   "metadata": {},
   "outputs": [],
   "source": [
    "#| hide\n",
    "ds_int_cv_test = pd.DataFrame({\n",
    "    'ds': np.hstack([\n",
    "        [46, 47, 48],\n",
    "        [47, 48, 49],\n",
    "        [48, 49, 50]\n",
    "    ]),\n",
    "    'cutoff': [45] * 3 + [46] * 3 + [47] * 3\n",
    "}, dtype=np.int64)\n",
    "test_eq(ds_int_cv_test, _cv_dates(np.array([50], dtype=np.int64), 'D', 3, 5))"
   ]
  },
  {
   "cell_type": "code",
   "execution_count": 8,
   "id": "ac141f22-ee59-408a-a5e8-4a5f72cb77e1",
   "metadata": {},
   "outputs": [],
   "source": [
    "#| hide\n",
    "ds_int_cv_test = pd.DataFrame({\n",
    "    'ds': np.hstack([\n",
    "        [46, 47, 48],\n",
    "        [48, 49, 50]\n",
    "    ]),\n",
    "    'cutoff': [45] * 3 + [47] * 3\n",
    "}, dtype=np.int64)\n",
    "test_eq(ds_int_cv_test, _cv_dates(np.array([50], dtype=np.int64), 'D', 3, 5, step_size=2))"
   ]
  },
  {
   "cell_type": "code",
   "execution_count": 9,
   "id": "c2874985-3d14-40d2-a607-a774ed4abd58",
   "metadata": {},
   "outputs": [],
   "source": [
    "#| hide\n",
    "for e_e in [True, False]:\n",
    "    n_series = 2\n",
    "    ga, indices, dates, ds = TimeSeriesDataset.from_df(generate_series(n_series, equal_ends=e_e), sort_df=True)\n",
    "    freq = pd.tseries.frequencies.to_offset('D')\n",
    "    horizon = 3\n",
    "    test_size = 5\n",
    "    df_dates = _cv_dates(last_dates=dates, freq=freq, h=horizon, test_size=test_size)\n",
    "    test_eq(len(df_dates), n_series * horizon * (test_size - horizon + 1)) "
   ]
  },
  {
   "cell_type": "code",
   "execution_count": 10,
   "id": "c4dae43c-4d11-4bbc-a431-ac33b004859a",
   "metadata": {},
   "outputs": [],
   "source": [
    "#| export\n",
    "class NeuralForecast:\n",
    "    \n",
    "    def __init__(self, \n",
    "                 models: List[Any],\n",
    "                 freq: str):\n",
    "        \"\"\"\n",
    "        The `core.StatsForecast` class allows you to efficiently fit multiple `NeuralForecast` models \n",
    "        for large sets of time series. It operates with pandas DataFrame `df` that identifies series \n",
    "        and datestamps with the `unique_id` and `ds` columns. The `y` column denotes the target \n",
    "        time series variable.\n",
    "\n",
    "        **Parameters:**<br>\n",
    "        `h`: int, forecast horizon.<br>\n",
    "        `models`: List[typing.Any], instantiated `neuralforecast.models` see [collection here](https://nixtla.github.io/neuralforecast/models.html).<br>\n",
    "        `freq`: str, frequency of the data, [panda's available frequencies](https://pandas.pydata.org/pandas-docs/stable/user_guide/timeseries.html#offset-aliases).<br>\n",
    "        `trainers`: List[typing.Any], optional list of instantiated pytorch lightning trainers.<br>\n",
    "        \"\"\"\n",
    "        assert all(model.h == models[0].h for model in models), 'All models should have the same horizon'\n",
    "\n",
    "        self.h = models[0].h\n",
    "        self.models = models\n",
    "        self.freq = pd.tseries.frequencies.to_offset(freq)\n",
    "\n",
    "    def _prepare_fit(self, df, sort_df):\n",
    "        #TODO: uids, last_dates and ds should be properties of the dataset class. See github issue.\n",
    "        self.dataset, self.uids, self.last_dates, self.ds = TimeSeriesDataset.from_df(df=df, sort_df=sort_df)\n",
    "        self.sort_df = sort_df\n",
    "\n",
    "    def fit(self,\n",
    "            df: Optional[pd.DataFrame],\n",
    "            val_size: Optional[int] = 0,\n",
    "            sort_df: bool = True):\n",
    "        \"\"\"Fit the core.NeuralForecast.\n",
    "\n",
    "        Fit `models` to a large set of time series from DataFrame `df`.\n",
    "        and store fitted models for later inspection.\n",
    "\n",
    "        **Parameters:**<br>\n",
    "        `df`: pandas.DataFrame, with columns [`unique_id`, `ds`, `y`] and exogenous.<br>\n",
    "        `val_size`: int, size of validation set.<br>\n",
    "        `sort_df`: bool, sort df before fitting.\n",
    "\n",
    "        **Returns:**<br>\n",
    "        `self`: Returns with stored `NeuralForecast` fitted `models`.\n",
    "        \"\"\"\n",
    "        self._prepare_fit(df, sort_df)\n",
    "        #train + validation\n",
    "        for model in self.models:\n",
    "            model.fit(self.dataset, val_size=val_size)\n",
    "        #train with the full dataset\n",
    "\n",
    "    def _make_future_df(self, h: int):\n",
    "        if issubclass(self.last_dates.dtype.type, np.integer):\n",
    "            last_date_f = lambda x: np.arange(x + 1, x + 1 + h, dtype=self.last_dates.dtype)\n",
    "        else:\n",
    "            last_date_f = lambda x: pd.date_range(x + self.freq, periods=h, freq=self.freq)\n",
    "        if len(np.unique(self.last_dates)) == 1:\n",
    "            dates = np.tile(last_date_f(self.last_dates[0]), len(self.dataset))\n",
    "        else:\n",
    "            dates = np.hstack([last_date_f(last_date)\n",
    "                               for last_date in self.last_dates])\n",
    "        idx = pd.Index(np.repeat(self.uids, h), name='unique_id')\n",
    "        df = pd.DataFrame({'ds': dates}, index=idx)\n",
    "        return df\n",
    "\n",
    "    def predict(self, futr_df: Optional[pd.DataFrame] = None, **data_kwargs):\n",
    "        \"\"\"Predict with core.NeuralForecast.\n",
    "\n",
    "        Use stored fitted `models` to predict large set of time series from DataFrame `df`.        \n",
    "\n",
    "        **Parameters:**<br>\n",
    "        `futr_df`: pandas.DataFrame, with [`unique_id`, `ds`] columns and `df`'s future exogenous.<br>\n",
    "\n",
    "        **Returns:**<br>\n",
    "        `fcsts_df`: pandas.DataFrame, with `models` columns for point predictions.<br>\n",
    "        \"\"\"\n",
    "        cols = []\n",
    "        for model in self.models:\n",
    "            cols += [type(model).__name__ + n for n in model.loss.output_names]\n",
    "\n",
    "        # Placeholder dataframe for predictions with unique_id and ds\n",
    "        fcsts_df = self._make_future_df(h=self.h)\n",
    "\n",
    "        # Update dataset\n",
    "        if futr_df is not None:\n",
    "            #TODO: uids, last_dates and ds should be properties of the dataset class. See github issue.\n",
    "            self.dataset, _, _, _ = self.dataset._update_futr_exog(futr_df)\n",
    "            #self.ds = self.ds.union(futr_ds, sort=True)\n",
    "        else:\n",
    "            self.dataset, _, _, _ = self.dataset._update_futr_exog(fcsts_df.reset_index())\n",
    "\n",
    "        col_idx = 0\n",
    "        fcsts = np.full((self.h * len(self.uids), len(cols)), fill_value=np.nan)\n",
    "        for model in self.models:\n",
    "            model.set_test_size(self.h) # To predict h steps ahead\n",
    "            model_fcsts = model.predict(dataset=self.dataset, **data_kwargs)\n",
    "            # Append predictions in memory placeholder\n",
    "            output_length = len(model.loss.output_names)\n",
    "            fcsts[:,col_idx:col_idx+output_length] = model_fcsts\n",
    "            col_idx += output_length\n",
    "\n",
    "        # Declare predictions pd.DataFrame\n",
    "        fcsts = pd.DataFrame.from_records(fcsts, columns=cols, \n",
    "                                          index=fcsts_df.index)\n",
    "        fcsts_df = pd.concat([fcsts_df, fcsts], axis=1)\n",
    "\n",
    "        return fcsts_df\n",
    "    \n",
    "    def cross_validation(self,\n",
    "                         df: pd.DataFrame = None,\n",
    "                         n_windows: int = 1,\n",
    "                         step_size: int = 1,\n",
    "                         val_size: Optional[int] = 0, \n",
    "                         test_size: Optional[int] = None,\n",
    "                         sort_df: bool = True,\n",
    "                         **data_kwargs):\n",
    "        \"\"\"Temporal Cross-Validation with core.NeuralForecast.\n",
    "\n",
    "        `core.NeuralForecast`'s cross-validation efficiently fits a list of NeuralForecast \n",
    "        models through multiple windows, in either chained or rolled manner.\n",
    "\n",
    "        *Parameters:*<br>\n",
    "        `df`: pandas.DataFrame, with columns [`unique_id`, `ds`, `y`] and exogenous.<br>\n",
    "        `n_windows`: int, number of windows used for cross validation.<br>\n",
    "        `step_size`: int = 1, step size between each window.<br>\n",
    "        `val_size`: Optional[int] = None, length of validation size. If passed, set `n_windows=None`.<br>\n",
    "        `test_size`: Optional[int] = None, length of test size. If passed, set `n_windows=None`.<br>\n",
    "\n",
    "        *Returns:*<br>\n",
    "        `fcsts_df`: pandas.DataFrame, with insample `models` columns for point predictions and probabilistic\n",
    "        predictions for all fitted `models`.<br>        \n",
    "        \"\"\"\n",
    "        cols = []\n",
    "        for model in self.models:\n",
    "            cols += [type(model).__name__ + n for n in model.loss.output_names]            \n",
    "\n",
    "        h = self.models[0].h\n",
    "        if test_size is None:\n",
    "            test_size = h + step_size * (n_windows - 1)\n",
    "        elif n_windows is None:\n",
    "            if (test_size - h) % step_size:\n",
    "                raise Exception('`test_size - h` should be module `step_size`')\n",
    "            n_windows = int((test_size - h) / step_size) + 1\n",
    "        elif (n_windows is None) and (test_size is None):\n",
    "            raise Exception('you must define `n_windows` or `test_size`')\n",
    "        else:\n",
    "            raise Exception('you must define `n_windows` or `test_size` but not both')\n",
    "\n",
    "        # Declare predictions pd.DataFrame\n",
    "        self._prepare_fit(df=df, sort_df=sort_df)\n",
    "        fcsts_df = _cv_dates(last_dates=self.last_dates, freq=self.freq, \n",
    "                             h=h, test_size=test_size, step_size=step_size)\n",
    "        idx = pd.Index(np.repeat(self.uids, h * n_windows), name='unique_id')\n",
    "        fcsts_df.index = idx\n",
    "\n",
    "        col_idx = 0\n",
    "        fcsts = np.full((self.dataset.n_groups * h * n_windows, len(cols)),\n",
    "                         np.nan, dtype=np.float32)\n",
    "        for model in self.models:\n",
    "            model.fit(dataset=self.dataset,\n",
    "                      val_size=val_size, \n",
    "                      test_size=test_size)            \n",
    "            model_fcsts = model.predict(self.dataset, step_size=step_size, **data_kwargs)\n",
    "\n",
    "            # Append predictions in memory placeholder\n",
    "            output_length = len(model.loss.output_names)\n",
    "            fcsts[:,col_idx:(col_idx + output_length)] = model_fcsts\n",
    "            col_idx += output_length                \n",
    "\n",
    "        # Add predictions to forecasts DataFrame\n",
    "        fcsts = pd.DataFrame.from_records(fcsts, columns=cols, \n",
    "                                          index=fcsts_df.index)\n",
    "        fcsts_df = pd.concat([fcsts_df, fcsts], axis=1)\n",
    "\n",
    "        # Add original input df's y to forecasts DataFrame\n",
    "        fcsts_df = fcsts_df.merge(df, how='left', on=['unique_id', 'ds'])\n",
    "        return fcsts_df\n",
    "        "
   ]
  },
  {
   "cell_type": "code",
   "execution_count": 11,
   "id": "8898e349-8000-4668-a1c5-52c03c69e85a",
   "metadata": {},
   "outputs": [],
   "source": [
    "#| hide\n",
    "import logging\n",
    "import warnings\n",
    "logging.getLogger(\"pytorch_lightning\").setLevel(logging.ERROR)\n",
    "warnings.filterwarnings(\"ignore\")"
   ]
  },
  {
   "cell_type": "code",
   "execution_count": 12,
   "id": "4bede563-78c0-40ee-ba76-f06f329cd772",
   "metadata": {},
   "outputs": [
    {
     "data": {
      "text/markdown": [
       "---\n",
       "\n",
       "[source](https://github.com/Nixtla/neuralforecast/tree/main/blob/main/neuralforecast/core.py#L66){target=\"_blank\" style=\"float:right; font-size:smaller\"}\n",
       "\n",
       "### NeuralForecast.fit\n",
       "\n",
       ">      NeuralForecast.fit (df:Optional[pandas.core.frame.DataFrame],\n",
       ">                          val_size:Optional[int]=0, sort_df:bool=True)\n",
       "\n",
       "Fit the core.NeuralForecast.\n",
       "\n",
       "Fit `models` to a large set of time series from DataFrame `df`.\n",
       "and store fitted models for later inspection.\n",
       "\n",
       "**Parameters:**<br>\n",
       "`df`: pandas.DataFrame, with columns [`unique_id`, `ds`, `y`] and exogenous.<br>\n",
       "`val_size`: int, size of validation set.<br>\n",
       "`sort_df`: bool, sort df before fitting.\n",
       "\n",
       "**Returns:**<br>\n",
       "`self`: Returns with stored `NeuralForecast` fitted `models`."
      ],
      "text/plain": [
       "---\n",
       "\n",
       "[source](https://github.com/Nixtla/neuralforecast/tree/main/blob/main/neuralforecast/core.py#L66){target=\"_blank\" style=\"float:right; font-size:smaller\"}\n",
       "\n",
       "### NeuralForecast.fit\n",
       "\n",
       ">      NeuralForecast.fit (df:Optional[pandas.core.frame.DataFrame],\n",
       ">                          val_size:Optional[int]=0, sort_df:bool=True)\n",
       "\n",
       "Fit the core.NeuralForecast.\n",
       "\n",
       "Fit `models` to a large set of time series from DataFrame `df`.\n",
       "and store fitted models for later inspection.\n",
       "\n",
       "**Parameters:**<br>\n",
       "`df`: pandas.DataFrame, with columns [`unique_id`, `ds`, `y`] and exogenous.<br>\n",
       "`val_size`: int, size of validation set.<br>\n",
       "`sort_df`: bool, sort df before fitting.\n",
       "\n",
       "**Returns:**<br>\n",
       "`self`: Returns with stored `NeuralForecast` fitted `models`."
      ]
     },
     "execution_count": 12,
     "metadata": {},
     "output_type": "execute_result"
    }
   ],
   "source": [
    "show_doc(NeuralForecast.fit, title_level=3)"
   ]
  },
  {
   "cell_type": "code",
   "execution_count": 13,
   "id": "f90209f6-16da-40a6-8302-1c5c2f66c619",
   "metadata": {},
   "outputs": [
    {
     "data": {
      "text/markdown": [
       "---\n",
       "\n",
       "[source](https://github.com/Nixtla/neuralforecast/tree/main/blob/main/neuralforecast/core.py#L103){target=\"_blank\" style=\"float:right; font-size:smaller\"}\n",
       "\n",
       "### NeuralForecast.predict\n",
       "\n",
       ">      NeuralForecast.predict\n",
       ">                              (futr_df:Optional[pandas.core.frame.DataFrame]=No\n",
       ">                              ne, **data_kwargs)\n",
       "\n",
       "Predict with core.NeuralForecast.\n",
       "\n",
       "Use stored fitted `models` to predict large set of time series from DataFrame `df`.        \n",
       "\n",
       "**Parameters:**<br>\n",
       "`futr_df`: pandas.DataFrame, with [`unique_id`, `ds`] columns and `df`'s future exogenous.<br>\n",
       "\n",
       "**Returns:**<br>\n",
       "`fcsts_df`: pandas.DataFrame, with `models` columns for point predictions.<br>"
      ],
      "text/plain": [
       "---\n",
       "\n",
       "[source](https://github.com/Nixtla/neuralforecast/tree/main/blob/main/neuralforecast/core.py#L103){target=\"_blank\" style=\"float:right; font-size:smaller\"}\n",
       "\n",
       "### NeuralForecast.predict\n",
       "\n",
       ">      NeuralForecast.predict\n",
       ">                              (futr_df:Optional[pandas.core.frame.DataFrame]=No\n",
       ">                              ne, **data_kwargs)\n",
       "\n",
       "Predict with core.NeuralForecast.\n",
       "\n",
       "Use stored fitted `models` to predict large set of time series from DataFrame `df`.        \n",
       "\n",
       "**Parameters:**<br>\n",
       "`futr_df`: pandas.DataFrame, with [`unique_id`, `ds`] columns and `df`'s future exogenous.<br>\n",
       "\n",
       "**Returns:**<br>\n",
       "`fcsts_df`: pandas.DataFrame, with `models` columns for point predictions.<br>"
      ]
     },
     "execution_count": 13,
     "metadata": {},
     "output_type": "execute_result"
    }
   ],
   "source": [
    "show_doc(NeuralForecast.predict, title_level=3)"
   ]
  },
  {
   "cell_type": "code",
   "execution_count": 14,
   "id": "19a8923a-f4f3-4e60-b9b9-a7088fc9bff5",
   "metadata": {},
   "outputs": [
    {
     "data": {
      "text/markdown": [
       "---\n",
       "\n",
       "[source](https://github.com/Nixtla/neuralforecast/tree/main/blob/main/neuralforecast/core.py#L146){target=\"_blank\" style=\"float:right; font-size:smaller\"}\n",
       "\n",
       "### NeuralForecast.cross_validation\n",
       "\n",
       ">      NeuralForecast.cross_validation (df:pandas.core.frame.DataFrame=None,\n",
       ">                                       n_windows:int=1, step_size:int=1,\n",
       ">                                       val_size:Optional[int]=0,\n",
       ">                                       test_size:Optional[int]=None,\n",
       ">                                       sort_df:bool=True, **data_kwargs)\n",
       "\n",
       "Temporal Cross-Validation with core.NeuralForecast.\n",
       "\n",
       "`core.NeuralForecast`'s cross-validation efficiently fits a list of NeuralForecast \n",
       "models through multiple windows, in either chained or rolled manner.\n",
       "\n",
       "*Parameters:*<br>\n",
       "`df`: pandas.DataFrame, with columns [`unique_id`, `ds`, `y`] and exogenous.<br>\n",
       "`n_windows`: int, number of windows used for cross validation.<br>\n",
       "`step_size`: int = 1, step size between each window.<br>\n",
       "`val_size`: Optional[int] = None, length of validation size. If passed, set `n_windows=None`.<br>\n",
       "`test_size`: Optional[int] = None, length of test size. If passed, set `n_windows=None`.<br>\n",
       "\n",
       "*Returns:*<br>\n",
       "`fcsts_df`: pandas.DataFrame, with insample `models` columns for point predictions and probabilistic\n",
       "predictions for all fitted `models`.<br>"
      ],
      "text/plain": [
       "---\n",
       "\n",
       "[source](https://github.com/Nixtla/neuralforecast/tree/main/blob/main/neuralforecast/core.py#L146){target=\"_blank\" style=\"float:right; font-size:smaller\"}\n",
       "\n",
       "### NeuralForecast.cross_validation\n",
       "\n",
       ">      NeuralForecast.cross_validation (df:pandas.core.frame.DataFrame=None,\n",
       ">                                       n_windows:int=1, step_size:int=1,\n",
       ">                                       val_size:Optional[int]=0,\n",
       ">                                       test_size:Optional[int]=None,\n",
       ">                                       sort_df:bool=True, **data_kwargs)\n",
       "\n",
       "Temporal Cross-Validation with core.NeuralForecast.\n",
       "\n",
       "`core.NeuralForecast`'s cross-validation efficiently fits a list of NeuralForecast \n",
       "models through multiple windows, in either chained or rolled manner.\n",
       "\n",
       "*Parameters:*<br>\n",
       "`df`: pandas.DataFrame, with columns [`unique_id`, `ds`, `y`] and exogenous.<br>\n",
       "`n_windows`: int, number of windows used for cross validation.<br>\n",
       "`step_size`: int = 1, step size between each window.<br>\n",
       "`val_size`: Optional[int] = None, length of validation size. If passed, set `n_windows=None`.<br>\n",
       "`test_size`: Optional[int] = None, length of test size. If passed, set `n_windows=None`.<br>\n",
       "\n",
       "*Returns:*<br>\n",
       "`fcsts_df`: pandas.DataFrame, with insample `models` columns for point predictions and probabilistic\n",
       "predictions for all fitted `models`.<br>"
      ]
     },
     "execution_count": 14,
     "metadata": {},
     "output_type": "execute_result"
    }
   ],
   "source": [
    "show_doc(NeuralForecast.cross_validation, title_level=3)"
   ]
  },
  {
   "cell_type": "code",
   "execution_count": 15,
   "id": "b534d29d-eecc-43ba-8468-c23305fa24a2",
   "metadata": {},
   "outputs": [],
   "source": [
    "#| hide\n",
    "import matplotlib.pyplot as plt\n",
    "import pytorch_lightning as pl\n",
    "\n",
    "from ray import tune\n",
    "\n",
    "from neuralforecast.auto import (\n",
    "    AutoMLP, AutoNBEATS, AutoDilatedRNN\n",
    ")\n",
    "\n",
    "from neuralforecast.models.mlp import MLP\n",
    "from neuralforecast.models.tft import TFT\n",
    "from neuralforecast.models.nhits import NHITS\n",
    "from neuralforecast.models.nbeats import NBEATS\n",
    "from neuralforecast.models.nbeatsx import NBEATSx\n",
    "from neuralforecast.models.dilated_rnn import DilatedRNN\n",
    "from neuralforecast.models.rnn import RNN\n",
    "\n",
    "from neuralforecast.losses.pytorch import MQLoss\n",
    "from neuralforecast.utils import AirPassengersDF, AirPassengersPanel"
   ]
  },
  {
   "cell_type": "code",
   "execution_count": 16,
   "id": "6fd1507c",
   "metadata": {},
   "outputs": [],
   "source": [
    "#| hide\n",
    "\n",
    "AirPassengersPanel_train = AirPassengersPanel[AirPassengersPanel['ds'] < AirPassengersPanel['ds'].values[-12]].reset_index(drop=True)\n",
    "AirPassengersPanel_test = AirPassengersPanel[AirPassengersPanel['ds'] >= AirPassengersPanel['ds'].values[-12]].reset_index(drop=True)\n",
    "AirPassengersPanel_test['y'] = np.nan\n",
    "AirPassengersPanel_test['y_[lag12]'] = np.nan"
   ]
  },
  {
   "cell_type": "code",
   "execution_count": 17,
   "id": "0d3779a6-2d03-4ac3-9f01-8bd5cb306845",
   "metadata": {},
   "outputs": [
    {
     "data": {
      "text/html": [],
      "text/plain": [
       "<IPython.core.display.HTML object>"
      ]
     },
     "metadata": {},
     "output_type": "display_data"
    },
    {
     "name": "stdout",
     "output_type": "stream",
     "text": [
      "Sanity Checking DataLoader 0:   0%|          | 0/1 [00:00<?, ?it/s]\n",
      "Sanity Checking DataLoader 0:   0%|          | 0/1 [00:00<?, ?it/s]\n",
      "Epoch 0:   0%|          | 0/2 [00:00<?, ?it/s]                             \n",
      "Epoch 0:   0%|          | 0/2 [00:00<?, ?it/s]                             \n",
      "Epoch 0:  50%|█████     | 1/2 [00:00<00:00,  7.06it/s, loss=431, v_num=0, train_loss_step=431.0]\n",
      "Validation: 0it [00:00, ?it/s]\u001b[A0m \n",
      "Validation:   0%|          | 0/1 [00:00<?, ?it/s]\u001b[A\n",
      "Validation DataLoader 0:   0%|          | 0/1 [00:00<?, ?it/s]\u001b[A\n",
      "Epoch 0: 100%|██████████| 2/2 [00:00<00:00, 11.76it/s, loss=431, v_num=0, train_loss_step=431.0, val_loss=540.0]\n",
      "Epoch 0: 100%|██████████| 2/2 [00:00<00:00, 11.20it/s, loss=431, v_num=0, train_loss_step=431.0, val_loss=540.0, train_loss_epoch=431.0]\n",
      "Epoch 0:  50%|█████     | 1/2 [00:00<00:00, 19.71it/s, loss=431, v_num=0, train_loss_step=431.0]\n",
      "Validation: 0it [00:00, ?it/s]\u001b[A0m \n",
      "Validation:   0%|          | 0/1 [00:00<?, ?it/s]\u001b[A\n",
      "Validation DataLoader 0:   0%|          | 0/1 [00:00<?, ?it/s]\u001b[A\n",
      "Epoch 0: 100%|██████████| 2/2 [00:00<00:00, 29.02it/s, loss=431, v_num=0, train_loss_step=431.0, val_loss=540.0]\n",
      "Epoch 0: 100%|██████████| 2/2 [00:00<00:00, 20.34it/s, loss=431, v_num=0, train_loss_step=431.0, val_loss=540.0, train_loss_epoch=431.0]\n",
      "Epoch 0: 100%|██████████| 2/2 [00:00<00:00,  7.09it/s, loss=431, v_num=0, train_loss_step=431.0, val_loss=540.0, train_loss_epoch=431.0]\n"
     ]
    },
    {
     "name": "stderr",
     "output_type": "stream",
     "text": [
      "\u001b[2m\u001b[36m(train_tune pid=10814)\u001b[0m /opt/anaconda3/envs/neuralforecast/lib/python3.10/multiprocessing/resource_tracker.py:224: UserWarning: resource_tracker: There appear to be 1 leaked semaphore objects to clean up at shutdown\n",
      "\u001b[2m\u001b[36m(train_tune pid=10814)\u001b[0m   warnings.warn('resource_tracker: There appear to be %d '\n",
      "\u001b[2m\u001b[36m(train_tune pid=10813)\u001b[0m /opt/anaconda3/envs/neuralforecast/lib/python3.10/multiprocessing/resource_tracker.py:224: UserWarning: resource_tracker: There appear to be 1 leaked semaphore objects to clean up at shutdown\n",
      "\u001b[2m\u001b[36m(train_tune pid=10813)\u001b[0m   warnings.warn('resource_tracker: There appear to be %d '\n"
     ]
    },
    {
     "data": {
      "application/vnd.jupyter.widget-view+json": {
       "model_id": "c6f896a249814847a86af0eb106e89cb",
       "version_major": 2,
       "version_minor": 0
      },
      "text/plain": [
       "Sanity Checking: 0it [00:00, ?it/s]"
      ]
     },
     "metadata": {},
     "output_type": "display_data"
    },
    {
     "data": {
      "application/vnd.jupyter.widget-view+json": {
       "model_id": "896b231a741d462cbfef2abbeed1c24b",
       "version_major": 2,
       "version_minor": 0
      },
      "text/plain": [
       "Training: 0it [00:00, ?it/s]"
      ]
     },
     "metadata": {},
     "output_type": "display_data"
    },
    {
     "data": {
      "application/vnd.jupyter.widget-view+json": {
       "model_id": "1e3f0ac969144ea89e6cc8d702cb12d8",
       "version_major": 2,
       "version_minor": 0
      },
      "text/plain": [
       "Validation: 0it [00:00, ?it/s]"
      ]
     },
     "metadata": {},
     "output_type": "display_data"
    },
    {
     "data": {
      "application/vnd.jupyter.widget-view+json": {
       "model_id": "6c03efdf3af74b659d034db72cf4da48",
       "version_major": 2,
       "version_minor": 0
      },
      "text/plain": [
       "Sanity Checking: 0it [00:00, ?it/s]"
      ]
     },
     "metadata": {},
     "output_type": "display_data"
    },
    {
     "data": {
      "application/vnd.jupyter.widget-view+json": {
       "model_id": "f530862c5192458198c70040cc0368c7",
       "version_major": 2,
       "version_minor": 0
      },
      "text/plain": [
       "Training: 0it [00:00, ?it/s]"
      ]
     },
     "metadata": {},
     "output_type": "display_data"
    },
    {
     "data": {
      "application/vnd.jupyter.widget-view+json": {
       "model_id": "675a7ff5394748adb0afe8762fbfa927",
       "version_major": 2,
       "version_minor": 0
      },
      "text/plain": [
       "Validation: 0it [00:00, ?it/s]"
      ]
     },
     "metadata": {},
     "output_type": "display_data"
    },
    {
     "data": {
      "application/vnd.jupyter.widget-view+json": {
       "model_id": "f0c2520efa594677ac09a511a4a4c3b9",
       "version_major": 2,
       "version_minor": 0
      },
      "text/plain": [
       "Sanity Checking: 0it [00:00, ?it/s]"
      ]
     },
     "metadata": {},
     "output_type": "display_data"
    },
    {
     "data": {
      "application/vnd.jupyter.widget-view+json": {
       "model_id": "50022ad614744881bb944ba7b9378c5a",
       "version_major": 2,
       "version_minor": 0
      },
      "text/plain": [
       "Training: 0it [00:00, ?it/s]"
      ]
     },
     "metadata": {},
     "output_type": "display_data"
    },
    {
     "data": {
      "application/vnd.jupyter.widget-view+json": {
       "model_id": "a2c9b9dcf5bd475f83b9301d1c8e8e79",
       "version_major": 2,
       "version_minor": 0
      },
      "text/plain": [
       "Validation: 0it [00:00, ?it/s]"
      ]
     },
     "metadata": {},
     "output_type": "display_data"
    },
    {
     "data": {
      "application/vnd.jupyter.widget-view+json": {
       "model_id": "1609c16b02e748e7be2672d1ed3513c2",
       "version_major": 2,
       "version_minor": 0
      },
      "text/plain": [
       "Sanity Checking: 0it [00:00, ?it/s]"
      ]
     },
     "metadata": {},
     "output_type": "display_data"
    },
    {
     "data": {
      "application/vnd.jupyter.widget-view+json": {
       "model_id": "e5d1bbcf5f9e456b9e331cc1becea98d",
       "version_major": 2,
       "version_minor": 0
      },
      "text/plain": [
       "Training: 0it [00:00, ?it/s]"
      ]
     },
     "metadata": {},
     "output_type": "display_data"
    },
    {
     "data": {
      "application/vnd.jupyter.widget-view+json": {
       "model_id": "f93ab5e95d6d4d049521caed0a63be25",
       "version_major": 2,
       "version_minor": 0
      },
      "text/plain": [
       "Validation: 0it [00:00, ?it/s]"
      ]
     },
     "metadata": {},
     "output_type": "display_data"
    },
    {
     "data": {
      "application/vnd.jupyter.widget-view+json": {
       "model_id": "355e826220844c408b204fcb190e764c",
       "version_major": 2,
       "version_minor": 0
      },
      "text/plain": [
       "Sanity Checking: 0it [00:00, ?it/s]"
      ]
     },
     "metadata": {},
     "output_type": "display_data"
    },
    {
     "data": {
      "application/vnd.jupyter.widget-view+json": {
       "model_id": "a2ceee7ed63341d7baa9ce70da6da6b2",
       "version_major": 2,
       "version_minor": 0
      },
      "text/plain": [
       "Training: 0it [00:00, ?it/s]"
      ]
     },
     "metadata": {},
     "output_type": "display_data"
    },
    {
     "data": {
      "application/vnd.jupyter.widget-view+json": {
       "model_id": "906391dc77e24a47900df84ee03fa94c",
       "version_major": 2,
       "version_minor": 0
      },
      "text/plain": [
       "Validation: 0it [00:00, ?it/s]"
      ]
     },
     "metadata": {},
     "output_type": "display_data"
    },
    {
     "data": {
      "application/vnd.jupyter.widget-view+json": {
       "model_id": "10bbc9ca8e4048f1b036b6d6026ee2db",
       "version_major": 2,
       "version_minor": 0
      },
      "text/plain": [
       "Sanity Checking: 0it [00:00, ?it/s]"
      ]
     },
     "metadata": {},
     "output_type": "display_data"
    },
    {
     "data": {
      "application/vnd.jupyter.widget-view+json": {
       "model_id": "0b70aa393a82487f8d967a530ae4f1dc",
       "version_major": 2,
       "version_minor": 0
      },
      "text/plain": [
       "Training: 0it [00:00, ?it/s]"
      ]
     },
     "metadata": {},
     "output_type": "display_data"
    },
    {
     "data": {
      "application/vnd.jupyter.widget-view+json": {
       "model_id": "b77e89250d1c45709d1e838fa41d7f36",
       "version_major": 2,
       "version_minor": 0
      },
      "text/plain": [
       "Validation: 0it [00:00, ?it/s]"
      ]
     },
     "metadata": {},
     "output_type": "display_data"
    },
    {
     "data": {
      "application/vnd.jupyter.widget-view+json": {
       "model_id": "d79b8ef4a57c4c8ca32b7d93c2b15c11",
       "version_major": 2,
       "version_minor": 0
      },
      "text/plain": [
       "Predicting: 0it [00:00, ?it/s]"
      ]
     },
     "metadata": {},
     "output_type": "display_data"
    },
    {
     "data": {
      "application/vnd.jupyter.widget-view+json": {
       "model_id": "78d79817667b428a8fda16d768e11d09",
       "version_major": 2,
       "version_minor": 0
      },
      "text/plain": [
       "Predicting: 0it [00:00, ?it/s]"
      ]
     },
     "metadata": {},
     "output_type": "display_data"
    },
    {
     "data": {
      "application/vnd.jupyter.widget-view+json": {
       "model_id": "9b831815ebd84b0ab1b340eab696896a",
       "version_major": 2,
       "version_minor": 0
      },
      "text/plain": [
       "Predicting: 0it [00:00, ?it/s]"
      ]
     },
     "metadata": {},
     "output_type": "display_data"
    },
    {
     "data": {
      "application/vnd.jupyter.widget-view+json": {
       "model_id": "94672edd3c444aa383c91e5809997fa6",
       "version_major": 2,
       "version_minor": 0
      },
      "text/plain": [
       "Predicting: 0it [00:00, ?it/s]"
      ]
     },
     "metadata": {},
     "output_type": "display_data"
    },
    {
     "data": {
      "application/vnd.jupyter.widget-view+json": {
       "model_id": "3ff577c844ed4085948aa721e74c5a7d",
       "version_major": 2,
       "version_minor": 0
      },
      "text/plain": [
       "Predicting: 0it [00:00, ?it/s]"
      ]
     },
     "metadata": {},
     "output_type": "display_data"
    },
    {
     "data": {
      "application/vnd.jupyter.widget-view+json": {
       "model_id": "09d065725035437780780170bf20aff5",
       "version_major": 2,
       "version_minor": 0
      },
      "text/plain": [
       "Predicting: 0it [00:00, ?it/s]"
      ]
     },
     "metadata": {},
     "output_type": "display_data"
    },
    {
     "data": {
      "application/vnd.jupyter.widget-view+json": {
       "model_id": "c393ab1106b740ad98ec857e0597c7fa",
       "version_major": 2,
       "version_minor": 0
      },
      "text/plain": [
       "Predicting: 0it [00:00, ?it/s]"
      ]
     },
     "metadata": {},
     "output_type": "display_data"
    },
    {
     "data": {
      "application/vnd.jupyter.widget-view+json": {
       "model_id": "dd59ec72fd024d968fa81e7f045e7774",
       "version_major": 2,
       "version_minor": 0
      },
      "text/plain": [
       "Predicting: 0it [00:00, ?it/s]"
      ]
     },
     "metadata": {},
     "output_type": "display_data"
    },
    {
     "data": {
      "application/vnd.jupyter.widget-view+json": {
       "model_id": "9180493fe33a4ef3a0cf9a7e4cba4949",
       "version_major": 2,
       "version_minor": 0
      },
      "text/plain": [
       "Predicting: 0it [00:00, ?it/s]"
      ]
     },
     "metadata": {},
     "output_type": "display_data"
    },
    {
     "data": {
      "text/html": [
       "<div>\n",
       "<style scoped>\n",
       "    .dataframe tbody tr th:only-of-type {\n",
       "        vertical-align: middle;\n",
       "    }\n",
       "\n",
       "    .dataframe tbody tr th {\n",
       "        vertical-align: top;\n",
       "    }\n",
       "\n",
       "    .dataframe thead th {\n",
       "        text-align: right;\n",
       "    }\n",
       "</style>\n",
       "<table border=\"1\" class=\"dataframe\">\n",
       "  <thead>\n",
       "    <tr style=\"text-align: right;\">\n",
       "      <th></th>\n",
       "      <th>ds</th>\n",
       "      <th>AutoDilatedRNN</th>\n",
       "      <th>DilatedRNN</th>\n",
       "      <th>RNN</th>\n",
       "      <th>AutoMLP</th>\n",
       "      <th>NBEATSx</th>\n",
       "      <th>NHITS-median</th>\n",
       "      <th>NHITS-lo-80</th>\n",
       "      <th>NHITS-hi-80</th>\n",
       "      <th>NHITS</th>\n",
       "      <th>MLP</th>\n",
       "      <th>TFT</th>\n",
       "    </tr>\n",
       "    <tr>\n",
       "      <th>unique_id</th>\n",
       "      <th></th>\n",
       "      <th></th>\n",
       "      <th></th>\n",
       "      <th></th>\n",
       "      <th></th>\n",
       "      <th></th>\n",
       "      <th></th>\n",
       "      <th></th>\n",
       "      <th></th>\n",
       "      <th></th>\n",
       "      <th></th>\n",
       "      <th></th>\n",
       "    </tr>\n",
       "  </thead>\n",
       "  <tbody>\n",
       "    <tr>\n",
       "      <th>Airline1</th>\n",
       "      <td>1960-01-31</td>\n",
       "      <td>255.110672</td>\n",
       "      <td>252.738022</td>\n",
       "      <td>235.898911</td>\n",
       "      <td>-45.241364</td>\n",
       "      <td>627.982971</td>\n",
       "      <td>427.003387</td>\n",
       "      <td>233.164917</td>\n",
       "      <td>-98.675880</td>\n",
       "      <td>399.831299</td>\n",
       "      <td>293.948151</td>\n",
       "      <td>430.739044</td>\n",
       "    </tr>\n",
       "    <tr>\n",
       "      <th>Airline1</th>\n",
       "      <td>1960-02-29</td>\n",
       "      <td>257.496582</td>\n",
       "      <td>269.554382</td>\n",
       "      <td>253.026978</td>\n",
       "      <td>31.320892</td>\n",
       "      <td>627.057739</td>\n",
       "      <td>194.816422</td>\n",
       "      <td>48.459770</td>\n",
       "      <td>164.716858</td>\n",
       "      <td>433.393555</td>\n",
       "      <td>245.796783</td>\n",
       "      <td>431.699280</td>\n",
       "    </tr>\n",
       "    <tr>\n",
       "      <th>Airline1</th>\n",
       "      <td>1960-03-31</td>\n",
       "      <td>245.665863</td>\n",
       "      <td>266.996307</td>\n",
       "      <td>291.338470</td>\n",
       "      <td>17.796314</td>\n",
       "      <td>628.574341</td>\n",
       "      <td>143.495972</td>\n",
       "      <td>262.518402</td>\n",
       "      <td>143.701538</td>\n",
       "      <td>462.302277</td>\n",
       "      <td>223.128235</td>\n",
       "      <td>432.085449</td>\n",
       "    </tr>\n",
       "    <tr>\n",
       "      <th>Airline1</th>\n",
       "      <td>1960-04-30</td>\n",
       "      <td>248.969574</td>\n",
       "      <td>268.196869</td>\n",
       "      <td>288.471954</td>\n",
       "      <td>77.660263</td>\n",
       "      <td>601.168579</td>\n",
       "      <td>427.103882</td>\n",
       "      <td>249.160889</td>\n",
       "      <td>235.647919</td>\n",
       "      <td>492.462341</td>\n",
       "      <td>165.706375</td>\n",
       "      <td>432.229675</td>\n",
       "    </tr>\n",
       "    <tr>\n",
       "      <th>Airline1</th>\n",
       "      <td>1960-05-31</td>\n",
       "      <td>245.811783</td>\n",
       "      <td>269.104004</td>\n",
       "      <td>271.472687</td>\n",
       "      <td>92.796295</td>\n",
       "      <td>639.429321</td>\n",
       "      <td>310.784882</td>\n",
       "      <td>218.890381</td>\n",
       "      <td>416.861450</td>\n",
       "      <td>454.517487</td>\n",
       "      <td>97.316986</td>\n",
       "      <td>432.270752</td>\n",
       "    </tr>\n",
       "    <tr>\n",
       "      <th>Airline1</th>\n",
       "      <td>1960-06-30</td>\n",
       "      <td>255.194122</td>\n",
       "      <td>268.720642</td>\n",
       "      <td>274.829712</td>\n",
       "      <td>74.431808</td>\n",
       "      <td>504.133881</td>\n",
       "      <td>473.184662</td>\n",
       "      <td>444.231018</td>\n",
       "      <td>131.348114</td>\n",
       "      <td>470.093781</td>\n",
       "      <td>178.133652</td>\n",
       "      <td>432.269348</td>\n",
       "    </tr>\n",
       "    <tr>\n",
       "      <th>Airline1</th>\n",
       "      <td>1960-07-31</td>\n",
       "      <td>255.156128</td>\n",
       "      <td>241.802887</td>\n",
       "      <td>260.381744</td>\n",
       "      <td>49.677010</td>\n",
       "      <td>576.289246</td>\n",
       "      <td>266.801331</td>\n",
       "      <td>361.290710</td>\n",
       "      <td>90.067871</td>\n",
       "      <td>455.453186</td>\n",
       "      <td>103.574844</td>\n",
       "      <td>432.252106</td>\n",
       "    </tr>\n",
       "    <tr>\n",
       "      <th>Airline1</th>\n",
       "      <td>1960-08-31</td>\n",
       "      <td>260.005646</td>\n",
       "      <td>259.414032</td>\n",
       "      <td>283.559418</td>\n",
       "      <td>15.551684</td>\n",
       "      <td>627.535645</td>\n",
       "      <td>124.141708</td>\n",
       "      <td>269.112579</td>\n",
       "      <td>192.155243</td>\n",
       "      <td>497.735352</td>\n",
       "      <td>107.905609</td>\n",
       "      <td>432.230530</td>\n",
       "    </tr>\n",
       "    <tr>\n",
       "      <th>Airline1</th>\n",
       "      <td>1960-09-30</td>\n",
       "      <td>262.683289</td>\n",
       "      <td>264.511627</td>\n",
       "      <td>247.321060</td>\n",
       "      <td>26.789341</td>\n",
       "      <td>753.177124</td>\n",
       "      <td>239.394012</td>\n",
       "      <td>171.466568</td>\n",
       "      <td>217.280441</td>\n",
       "      <td>571.961060</td>\n",
       "      <td>183.561829</td>\n",
       "      <td>432.209290</td>\n",
       "    </tr>\n",
       "    <tr>\n",
       "      <th>Airline1</th>\n",
       "      <td>1960-10-31</td>\n",
       "      <td>258.628204</td>\n",
       "      <td>255.932312</td>\n",
       "      <td>267.109894</td>\n",
       "      <td>-10.821588</td>\n",
       "      <td>734.044067</td>\n",
       "      <td>180.662170</td>\n",
       "      <td>112.496689</td>\n",
       "      <td>312.326782</td>\n",
       "      <td>628.605286</td>\n",
       "      <td>116.260262</td>\n",
       "      <td>432.190155</td>\n",
       "    </tr>\n",
       "    <tr>\n",
       "      <th>Airline1</th>\n",
       "      <td>1960-11-30</td>\n",
       "      <td>254.697144</td>\n",
       "      <td>250.809158</td>\n",
       "      <td>243.816467</td>\n",
       "      <td>25.112381</td>\n",
       "      <td>703.310730</td>\n",
       "      <td>289.109894</td>\n",
       "      <td>-34.027496</td>\n",
       "      <td>152.951996</td>\n",
       "      <td>657.773499</td>\n",
       "      <td>224.671997</td>\n",
       "      <td>432.173553</td>\n",
       "    </tr>\n",
       "    <tr>\n",
       "      <th>Airline1</th>\n",
       "      <td>1960-12-31</td>\n",
       "      <td>252.145523</td>\n",
       "      <td>263.396820</td>\n",
       "      <td>256.927338</td>\n",
       "      <td>12.873819</td>\n",
       "      <td>844.524048</td>\n",
       "      <td>27.699814</td>\n",
       "      <td>251.619568</td>\n",
       "      <td>202.102493</td>\n",
       "      <td>708.333740</td>\n",
       "      <td>218.559113</td>\n",
       "      <td>432.159302</td>\n",
       "    </tr>\n",
       "    <tr>\n",
       "      <th>Airline2</th>\n",
       "      <td>1960-01-31</td>\n",
       "      <td>555.352966</td>\n",
       "      <td>551.995117</td>\n",
       "      <td>546.304260</td>\n",
       "      <td>-73.031921</td>\n",
       "      <td>1096.848267</td>\n",
       "      <td>750.652100</td>\n",
       "      <td>414.923492</td>\n",
       "      <td>-168.567474</td>\n",
       "      <td>694.683472</td>\n",
       "      <td>524.597046</td>\n",
       "      <td>730.739075</td>\n",
       "    </tr>\n",
       "    <tr>\n",
       "      <th>Airline2</th>\n",
       "      <td>1960-02-29</td>\n",
       "      <td>556.410156</td>\n",
       "      <td>567.943848</td>\n",
       "      <td>550.760437</td>\n",
       "      <td>46.771767</td>\n",
       "      <td>1096.983643</td>\n",
       "      <td>346.411102</td>\n",
       "      <td>85.357162</td>\n",
       "      <td>289.474731</td>\n",
       "      <td>753.343933</td>\n",
       "      <td>439.779480</td>\n",
       "      <td>731.699280</td>\n",
       "    </tr>\n",
       "    <tr>\n",
       "      <th>Airline2</th>\n",
       "      <td>1960-03-31</td>\n",
       "      <td>544.485840</td>\n",
       "      <td>567.834534</td>\n",
       "      <td>590.840393</td>\n",
       "      <td>23.618877</td>\n",
       "      <td>1102.135132</td>\n",
       "      <td>254.015137</td>\n",
       "      <td>461.263000</td>\n",
       "      <td>251.217560</td>\n",
       "      <td>801.179626</td>\n",
       "      <td>404.069397</td>\n",
       "      <td>732.085449</td>\n",
       "    </tr>\n",
       "    <tr>\n",
       "      <th>Airline2</th>\n",
       "      <td>1960-04-30</td>\n",
       "      <td>548.588196</td>\n",
       "      <td>571.850952</td>\n",
       "      <td>585.655945</td>\n",
       "      <td>127.941605</td>\n",
       "      <td>1048.144287</td>\n",
       "      <td>749.964478</td>\n",
       "      <td>436.863678</td>\n",
       "      <td>412.368713</td>\n",
       "      <td>854.323730</td>\n",
       "      <td>297.526794</td>\n",
       "      <td>732.229675</td>\n",
       "    </tr>\n",
       "    <tr>\n",
       "      <th>Airline2</th>\n",
       "      <td>1960-05-31</td>\n",
       "      <td>547.972900</td>\n",
       "      <td>572.950317</td>\n",
       "      <td>574.479431</td>\n",
       "      <td>161.394455</td>\n",
       "      <td>1122.169434</td>\n",
       "      <td>539.022400</td>\n",
       "      <td>380.530548</td>\n",
       "      <td>724.287109</td>\n",
       "      <td>787.262085</td>\n",
       "      <td>172.458710</td>\n",
       "      <td>732.270752</td>\n",
       "    </tr>\n",
       "    <tr>\n",
       "      <th>Airline2</th>\n",
       "      <td>1960-06-30</td>\n",
       "      <td>555.352295</td>\n",
       "      <td>569.490723</td>\n",
       "      <td>573.991516</td>\n",
       "      <td>128.485794</td>\n",
       "      <td>878.003845</td>\n",
       "      <td>821.278259</td>\n",
       "      <td>768.676086</td>\n",
       "      <td>223.014435</td>\n",
       "      <td>814.085632</td>\n",
       "      <td>314.350311</td>\n",
       "      <td>732.269348</td>\n",
       "    </tr>\n",
       "    <tr>\n",
       "      <th>Airline2</th>\n",
       "      <td>1960-07-31</td>\n",
       "      <td>552.620605</td>\n",
       "      <td>544.345764</td>\n",
       "      <td>560.719727</td>\n",
       "      <td>92.615433</td>\n",
       "      <td>1005.714294</td>\n",
       "      <td>463.733765</td>\n",
       "      <td>626.425415</td>\n",
       "      <td>155.203644</td>\n",
       "      <td>784.705200</td>\n",
       "      <td>192.953903</td>\n",
       "      <td>732.252136</td>\n",
       "    </tr>\n",
       "    <tr>\n",
       "      <th>Airline2</th>\n",
       "      <td>1960-08-31</td>\n",
       "      <td>560.201599</td>\n",
       "      <td>563.999268</td>\n",
       "      <td>582.309692</td>\n",
       "      <td>20.351896</td>\n",
       "      <td>1096.216919</td>\n",
       "      <td>214.276855</td>\n",
       "      <td>470.341827</td>\n",
       "      <td>336.306335</td>\n",
       "      <td>861.259033</td>\n",
       "      <td>193.948990</td>\n",
       "      <td>732.230530</td>\n",
       "    </tr>\n",
       "    <tr>\n",
       "      <th>Airline2</th>\n",
       "      <td>1960-09-30</td>\n",
       "      <td>564.141541</td>\n",
       "      <td>562.235657</td>\n",
       "      <td>550.233093</td>\n",
       "      <td>36.089355</td>\n",
       "      <td>1321.483032</td>\n",
       "      <td>418.586182</td>\n",
       "      <td>300.306274</td>\n",
       "      <td>383.417847</td>\n",
       "      <td>995.447144</td>\n",
       "      <td>326.614990</td>\n",
       "      <td>732.209290</td>\n",
       "    </tr>\n",
       "    <tr>\n",
       "      <th>Airline2</th>\n",
       "      <td>1960-10-31</td>\n",
       "      <td>556.475586</td>\n",
       "      <td>553.104370</td>\n",
       "      <td>555.608032</td>\n",
       "      <td>-12.445511</td>\n",
       "      <td>1289.410400</td>\n",
       "      <td>318.329315</td>\n",
       "      <td>202.126129</td>\n",
       "      <td>549.405762</td>\n",
       "      <td>1094.843994</td>\n",
       "      <td>202.561829</td>\n",
       "      <td>732.190186</td>\n",
       "    </tr>\n",
       "    <tr>\n",
       "      <th>Airline2</th>\n",
       "      <td>1960-11-30</td>\n",
       "      <td>556.736755</td>\n",
       "      <td>546.291199</td>\n",
       "      <td>540.121399</td>\n",
       "      <td>49.698586</td>\n",
       "      <td>1234.872070</td>\n",
       "      <td>509.471222</td>\n",
       "      <td>-54.321869</td>\n",
       "      <td>271.562531</td>\n",
       "      <td>1147.466553</td>\n",
       "      <td>407.218842</td>\n",
       "      <td>732.173523</td>\n",
       "    </tr>\n",
       "    <tr>\n",
       "      <th>Airline2</th>\n",
       "      <td>1960-12-31</td>\n",
       "      <td>553.654480</td>\n",
       "      <td>564.096863</td>\n",
       "      <td>564.429504</td>\n",
       "      <td>18.456013</td>\n",
       "      <td>1481.536011</td>\n",
       "      <td>51.887146</td>\n",
       "      <td>440.894531</td>\n",
       "      <td>357.844177</td>\n",
       "      <td>1238.053223</td>\n",
       "      <td>389.091797</td>\n",
       "      <td>732.159302</td>\n",
       "    </tr>\n",
       "  </tbody>\n",
       "</table>\n",
       "</div>"
      ],
      "text/plain": [
       "                  ds  AutoDilatedRNN  DilatedRNN         RNN     AutoMLP  \\\n",
       "unique_id                                                                  \n",
       "Airline1  1960-01-31      255.110672  252.738022  235.898911  -45.241364   \n",
       "Airline1  1960-02-29      257.496582  269.554382  253.026978   31.320892   \n",
       "Airline1  1960-03-31      245.665863  266.996307  291.338470   17.796314   \n",
       "Airline1  1960-04-30      248.969574  268.196869  288.471954   77.660263   \n",
       "Airline1  1960-05-31      245.811783  269.104004  271.472687   92.796295   \n",
       "Airline1  1960-06-30      255.194122  268.720642  274.829712   74.431808   \n",
       "Airline1  1960-07-31      255.156128  241.802887  260.381744   49.677010   \n",
       "Airline1  1960-08-31      260.005646  259.414032  283.559418   15.551684   \n",
       "Airline1  1960-09-30      262.683289  264.511627  247.321060   26.789341   \n",
       "Airline1  1960-10-31      258.628204  255.932312  267.109894  -10.821588   \n",
       "Airline1  1960-11-30      254.697144  250.809158  243.816467   25.112381   \n",
       "Airline1  1960-12-31      252.145523  263.396820  256.927338   12.873819   \n",
       "Airline2  1960-01-31      555.352966  551.995117  546.304260  -73.031921   \n",
       "Airline2  1960-02-29      556.410156  567.943848  550.760437   46.771767   \n",
       "Airline2  1960-03-31      544.485840  567.834534  590.840393   23.618877   \n",
       "Airline2  1960-04-30      548.588196  571.850952  585.655945  127.941605   \n",
       "Airline2  1960-05-31      547.972900  572.950317  574.479431  161.394455   \n",
       "Airline2  1960-06-30      555.352295  569.490723  573.991516  128.485794   \n",
       "Airline2  1960-07-31      552.620605  544.345764  560.719727   92.615433   \n",
       "Airline2  1960-08-31      560.201599  563.999268  582.309692   20.351896   \n",
       "Airline2  1960-09-30      564.141541  562.235657  550.233093   36.089355   \n",
       "Airline2  1960-10-31      556.475586  553.104370  555.608032  -12.445511   \n",
       "Airline2  1960-11-30      556.736755  546.291199  540.121399   49.698586   \n",
       "Airline2  1960-12-31      553.654480  564.096863  564.429504   18.456013   \n",
       "\n",
       "               NBEATSx  NHITS-median  NHITS-lo-80  NHITS-hi-80        NHITS  \\\n",
       "unique_id                                                                     \n",
       "Airline1    627.982971    427.003387   233.164917   -98.675880   399.831299   \n",
       "Airline1    627.057739    194.816422    48.459770   164.716858   433.393555   \n",
       "Airline1    628.574341    143.495972   262.518402   143.701538   462.302277   \n",
       "Airline1    601.168579    427.103882   249.160889   235.647919   492.462341   \n",
       "Airline1    639.429321    310.784882   218.890381   416.861450   454.517487   \n",
       "Airline1    504.133881    473.184662   444.231018   131.348114   470.093781   \n",
       "Airline1    576.289246    266.801331   361.290710    90.067871   455.453186   \n",
       "Airline1    627.535645    124.141708   269.112579   192.155243   497.735352   \n",
       "Airline1    753.177124    239.394012   171.466568   217.280441   571.961060   \n",
       "Airline1    734.044067    180.662170   112.496689   312.326782   628.605286   \n",
       "Airline1    703.310730    289.109894   -34.027496   152.951996   657.773499   \n",
       "Airline1    844.524048     27.699814   251.619568   202.102493   708.333740   \n",
       "Airline2   1096.848267    750.652100   414.923492  -168.567474   694.683472   \n",
       "Airline2   1096.983643    346.411102    85.357162   289.474731   753.343933   \n",
       "Airline2   1102.135132    254.015137   461.263000   251.217560   801.179626   \n",
       "Airline2   1048.144287    749.964478   436.863678   412.368713   854.323730   \n",
       "Airline2   1122.169434    539.022400   380.530548   724.287109   787.262085   \n",
       "Airline2    878.003845    821.278259   768.676086   223.014435   814.085632   \n",
       "Airline2   1005.714294    463.733765   626.425415   155.203644   784.705200   \n",
       "Airline2   1096.216919    214.276855   470.341827   336.306335   861.259033   \n",
       "Airline2   1321.483032    418.586182   300.306274   383.417847   995.447144   \n",
       "Airline2   1289.410400    318.329315   202.126129   549.405762  1094.843994   \n",
       "Airline2   1234.872070    509.471222   -54.321869   271.562531  1147.466553   \n",
       "Airline2   1481.536011     51.887146   440.894531   357.844177  1238.053223   \n",
       "\n",
       "                  MLP         TFT  \n",
       "unique_id                          \n",
       "Airline1   293.948151  430.739044  \n",
       "Airline1   245.796783  431.699280  \n",
       "Airline1   223.128235  432.085449  \n",
       "Airline1   165.706375  432.229675  \n",
       "Airline1    97.316986  432.270752  \n",
       "Airline1   178.133652  432.269348  \n",
       "Airline1   103.574844  432.252106  \n",
       "Airline1   107.905609  432.230530  \n",
       "Airline1   183.561829  432.209290  \n",
       "Airline1   116.260262  432.190155  \n",
       "Airline1   224.671997  432.173553  \n",
       "Airline1   218.559113  432.159302  \n",
       "Airline2   524.597046  730.739075  \n",
       "Airline2   439.779480  731.699280  \n",
       "Airline2   404.069397  732.085449  \n",
       "Airline2   297.526794  732.229675  \n",
       "Airline2   172.458710  732.270752  \n",
       "Airline2   314.350311  732.269348  \n",
       "Airline2   192.953903  732.252136  \n",
       "Airline2   193.948990  732.230530  \n",
       "Airline2   326.614990  732.209290  \n",
       "Airline2   202.561829  732.190186  \n",
       "Airline2   407.218842  732.173523  \n",
       "Airline2   389.091797  732.159302  "
      ]
     },
     "execution_count": 17,
     "metadata": {},
     "output_type": "execute_result"
    }
   ],
   "source": [
    "#| hide\n",
    "config = {'input_size': tune.choice([12, 24]), \n",
    "          'hidden_size': 256,\n",
    "          'max_epochs': 1,\n",
    "          'step_size': 12}\n",
    "\n",
    "config_drnn = {'input_size': tune.choice([12, 24]), \n",
    "               'state_hsize': tune.choice([50, 100]),\n",
    "               'max_epochs': 1,\n",
    "               'step_size': 1}\n",
    "\n",
    "fcst = NeuralForecast(\n",
    "    models=[\n",
    "        AutoDilatedRNN(h=12, config=config_drnn, cpus=1, num_samples=2),\n",
    "        DilatedRNN(h=12, input_size=12, state_hsize=50, max_epochs=1,\n",
    "                   futr_exog_list=['trend'], hist_exog_list=['y_[lag12]']),\n",
    "        RNN(h=12, input_size=12, state_hsize=50, max_epochs=1,\n",
    "            futr_exog_list=['trend'], hist_exog_list=['y_[lag12]']),\n",
    "        AutoMLP(h=12, config=config, cpus=1, num_samples=2),\n",
    "        NBEATSx(h=12, input_size=12, max_epochs=1,\n",
    "                futr_exog_list=['trend'], hist_exog_list=['y_[lag12]']),\n",
    "        NHITS(h=12, input_size=24, loss=MQLoss(level=[80]), max_epochs=1),\n",
    "        NHITS(h=12, input_size=12, max_epochs=1,\n",
    "              futr_exog_list=['trend'], hist_exog_list=['y_[lag12]']),\n",
    "        MLP(h=12, input_size=12, max_epochs=1,\n",
    "            futr_exog_list=['trend'], hist_exog_list=['y_[lag12]']),\n",
    "        TFT(h=12, input_size=24, max_epochs=1),\n",
    "    ],\n",
    "    freq='M'\n",
    ")\n",
    "fcst.fit(AirPassengersPanel_train)\n",
    "forecasts = fcst.predict(futr_df=AirPassengersPanel_test)\n",
    "forecasts"
   ]
  },
  {
   "cell_type": "code",
   "execution_count": 18,
   "id": "40038532-fd68-4375-b7da-ba5bc2491c5e",
   "metadata": {},
   "outputs": [
    {
     "data": {
      "image/png": "[encoded data removed]",
      "text/plain": [
       "<Figure size 2000x700 with 1 Axes>"
      ]
     },
     "metadata": {},
     "output_type": "display_data"
    }
   ],
   "source": [
    "#| hide\n",
    "fig, ax = plt.subplots(1, 1, figsize = (20, 7))\n",
    "plot_df = pd.concat([AirPassengersPanel_train, forecasts.reset_index()]).set_index('ds')\n",
    "\n",
    "plot_df[plot_df['unique_id']=='Airline1'].drop(['unique_id','trend','y_[lag12]'], axis=1).plot(ax=ax, linewidth=2)\n",
    "\n",
    "ax.set_title('AirPassengers Forecast', fontsize=22)\n",
    "ax.set_ylabel('Monthly Passengers', fontsize=20)\n",
    "ax.set_xlabel('Timestamp [t]', fontsize=20)\n",
    "ax.legend(prop={'size': 15})\n",
    "ax.grid()"
   ]
  },
  {
   "cell_type": "code",
   "execution_count": 19,
   "id": "7d61909b",
   "metadata": {},
   "outputs": [
    {
     "data": {
      "image/png": "[encoded data removed]",
      "text/plain": [
       "<Figure size 2000x700 with 1 Axes>"
      ]
     },
     "metadata": {},
     "output_type": "display_data"
    }
   ],
   "source": [
    "#| hide\n",
    "fig, ax = plt.subplots(1, 1, figsize = (20, 7))\n",
    "plot_df = pd.concat([AirPassengersPanel_train, forecasts.reset_index()]).set_index('ds')\n",
    "\n",
    "plot_df[plot_df['unique_id']=='Airline2'].drop(['unique_id','trend','y_[lag12]'], axis=1).plot(ax=ax, linewidth=2)\n",
    "\n",
    "ax.set_title('AirPassengers Forecast', fontsize=22)\n",
    "ax.set_ylabel('Monthly Passengers', fontsize=20)\n",
    "ax.set_xlabel('Timestamp [t]', fontsize=20)\n",
    "ax.legend(prop={'size': 15})\n",
    "ax.grid()"
   ]
  },
  {
   "cell_type": "code",
   "execution_count": 20,
   "id": "c4a8162a-3d9d-48df-a314-3a2ce0377e36",
   "metadata": {},
   "outputs": [
    {
     "data": {
      "text/html": [],
      "text/plain": [
       "<IPython.core.display.HTML object>"
      ]
     },
     "metadata": {},
     "output_type": "display_data"
    },
    {
     "name": "stdout",
     "output_type": "stream",
     "text": [
      "Sanity Checking DataLoader 0:   0%|          | 0/1 [00:00<?, ?it/s]\n",
      "Epoch 0:   0%|          | 0/2 [00:00<?, ?it/s]                             \n",
      "Epoch 0:  50%|█████     | 1/2 [00:00<00:00, 17.98it/s, loss=420, v_num=0, train_loss_step=420.0]\n",
      "Validation: 0it [00:00, ?it/s]\u001b[A0m \n",
      "Validation:   0%|          | 0/1 [00:00<?, ?it/s]\u001b[A\n",
      "Validation DataLoader 0:   0%|          | 0/1 [00:00<?, ?it/s]\u001b[A\n",
      "Epoch 0: 100%|██████████| 2/2 [00:00<00:00, 24.58it/s, loss=420, v_num=0, train_loss_step=420.0, val_loss=533.0]\n",
      "Epoch 0: 100%|██████████| 2/2 [00:00<00:00, 17.05it/s, loss=420, v_num=0, train_loss_step=420.0, val_loss=533.0, train_loss_epoch=420.0]\n",
      "Epoch 0: 100%|██████████| 2/2 [00:00<00:00, 13.44it/s, loss=420, v_num=0, train_loss_step=420.0, val_loss=533.0, train_loss_epoch=420.0]\n"
     ]
    },
    {
     "name": "stderr",
     "output_type": "stream",
     "text": [
      "\u001b[2m\u001b[36m(train_tune pid=10877)\u001b[0m /opt/anaconda3/envs/neuralforecast/lib/python3.10/multiprocessing/resource_tracker.py:224: UserWarning: resource_tracker: There appear to be 1 leaked semaphore objects to clean up at shutdown\n",
      "\u001b[2m\u001b[36m(train_tune pid=10877)\u001b[0m   warnings.warn('resource_tracker: There appear to be %d '\n"
     ]
    },
    {
     "data": {
      "application/vnd.jupyter.widget-view+json": {
       "model_id": "232724eefde6475f80fa7085c0bbeaf7",
       "version_major": 2,
       "version_minor": 0
      },
      "text/plain": [
       "Sanity Checking: 0it [00:00, ?it/s]"
      ]
     },
     "metadata": {},
     "output_type": "display_data"
    },
    {
     "data": {
      "application/vnd.jupyter.widget-view+json": {
       "model_id": "3f734b8b24b04da6ab83615a2a577bad",
       "version_major": 2,
       "version_minor": 0
      },
      "text/plain": [
       "Training: 0it [00:00, ?it/s]"
      ]
     },
     "metadata": {},
     "output_type": "display_data"
    },
    {
     "data": {
      "application/vnd.jupyter.widget-view+json": {
       "model_id": "b6079e4a9aa54aeabc395633ab43ef77",
       "version_major": 2,
       "version_minor": 0
      },
      "text/plain": [
       "Validation: 0it [00:00, ?it/s]"
      ]
     },
     "metadata": {},
     "output_type": "display_data"
    },
    {
     "data": {
      "application/vnd.jupyter.widget-view+json": {
       "model_id": "61584f435d1440bc89a3d74bf2f93bbc",
       "version_major": 2,
       "version_minor": 0
      },
      "text/plain": [
       "Predicting: 0it [00:00, ?it/s]"
      ]
     },
     "metadata": {},
     "output_type": "display_data"
    },
    {
     "data": {
      "application/vnd.jupyter.widget-view+json": {
       "model_id": "37cea942f3d5483792aef7846bde0430",
       "version_major": 2,
       "version_minor": 0
      },
      "text/plain": [
       "Sanity Checking: 0it [00:00, ?it/s]"
      ]
     },
     "metadata": {},
     "output_type": "display_data"
    },
    {
     "data": {
      "application/vnd.jupyter.widget-view+json": {
       "model_id": "d26678a45ee049ad83c05d4fae333c00",
       "version_major": 2,
       "version_minor": 0
      },
      "text/plain": [
       "Training: 0it [00:00, ?it/s]"
      ]
     },
     "metadata": {},
     "output_type": "display_data"
    },
    {
     "data": {
      "application/vnd.jupyter.widget-view+json": {
       "model_id": "f71e4be617ce4571b759b901bf6000b1",
       "version_major": 2,
       "version_minor": 0
      },
      "text/plain": [
       "Validation: 0it [00:00, ?it/s]"
      ]
     },
     "metadata": {},
     "output_type": "display_data"
    },
    {
     "data": {
      "application/vnd.jupyter.widget-view+json": {
       "model_id": "aa2f8214dee548f29c3c9c606e2ef7fa",
       "version_major": 2,
       "version_minor": 0
      },
      "text/plain": [
       "Validation: 0it [00:00, ?it/s]"
      ]
     },
     "metadata": {},
     "output_type": "display_data"
    },
    {
     "data": {
      "application/vnd.jupyter.widget-view+json": {
       "model_id": "36cbcfed6f7e46a99c4e644181a7d205",
       "version_major": 2,
       "version_minor": 0
      },
      "text/plain": [
       "Validation: 0it [00:00, ?it/s]"
      ]
     },
     "metadata": {},
     "output_type": "display_data"
    },
    {
     "data": {
      "application/vnd.jupyter.widget-view+json": {
       "model_id": "63243e7c09ff4c1dbf6ea6018b7a209d",
       "version_major": 2,
       "version_minor": 0
      },
      "text/plain": [
       "Validation: 0it [00:00, ?it/s]"
      ]
     },
     "metadata": {},
     "output_type": "display_data"
    },
    {
     "data": {
      "application/vnd.jupyter.widget-view+json": {
       "model_id": "37fab42620544fec964d5b52ae37ba46",
       "version_major": 2,
       "version_minor": 0
      },
      "text/plain": [
       "Validation: 0it [00:00, ?it/s]"
      ]
     },
     "metadata": {},
     "output_type": "display_data"
    },
    {
     "data": {
      "application/vnd.jupyter.widget-view+json": {
       "model_id": "256c8b05b6e14a019053f1cf26ec4f63",
       "version_major": 2,
       "version_minor": 0
      },
      "text/plain": [
       "Validation: 0it [00:00, ?it/s]"
      ]
     },
     "metadata": {},
     "output_type": "display_data"
    },
    {
     "data": {
      "application/vnd.jupyter.widget-view+json": {
       "model_id": "7f6b28cf3b054eda8d34e28e04632657",
       "version_major": 2,
       "version_minor": 0
      },
      "text/plain": [
       "Validation: 0it [00:00, ?it/s]"
      ]
     },
     "metadata": {},
     "output_type": "display_data"
    },
    {
     "data": {
      "application/vnd.jupyter.widget-view+json": {
       "model_id": "a232ed39ff764804bf18c2036aaf1572",
       "version_major": 2,
       "version_minor": 0
      },
      "text/plain": [
       "Validation: 0it [00:00, ?it/s]"
      ]
     },
     "metadata": {},
     "output_type": "display_data"
    },
    {
     "data": {
      "application/vnd.jupyter.widget-view+json": {
       "model_id": "d8f2bc1798a441938e044d91236731b8",
       "version_major": 2,
       "version_minor": 0
      },
      "text/plain": [
       "Validation: 0it [00:00, ?it/s]"
      ]
     },
     "metadata": {},
     "output_type": "display_data"
    },
    {
     "data": {
      "application/vnd.jupyter.widget-view+json": {
       "model_id": "c95e1d7706ed45bbb0552e848359477f",
       "version_major": 2,
       "version_minor": 0
      },
      "text/plain": [
       "Validation: 0it [00:00, ?it/s]"
      ]
     },
     "metadata": {},
     "output_type": "display_data"
    },
    {
     "data": {
      "application/vnd.jupyter.widget-view+json": {
       "model_id": "2a71c6bab6b3441bbffc672bc28cf16b",
       "version_major": 2,
       "version_minor": 0
      },
      "text/plain": [
       "Predicting: 0it [00:00, ?it/s]"
      ]
     },
     "metadata": {},
     "output_type": "display_data"
    }
   ],
   "source": [
    "#| hide\n",
    "fcst = NeuralForecast(\n",
    "    models=[\n",
    "        DilatedRNN(h=12, input_size=12,  state_hsize=50, max_epochs=10),\n",
    "        AutoMLP(h=12, config=config, cpus=1, num_samples=1),\n",
    "        NHITS(h=12, input_size=12, max_epochs=10)\n",
    "    ],\n",
    "    freq='M'\n",
    ")\n",
    "cv_df = fcst.cross_validation(AirPassengersPanel, n_windows=3, step_size=1)"
   ]
  },
  {
   "cell_type": "code",
   "execution_count": 21,
   "id": "17c5ea12-ed87-4e46-ad04-3088e7167dfd",
   "metadata": {},
   "outputs": [],
   "source": [
    "#| hide\n",
    "#test cross validation no leakage\n",
    "def test_cross_validation(df, h, test_size):\n",
    "    if (test_size - h) % 1:\n",
    "        raise Exception(\"`test_size - h` should be module `step_size`\")\n",
    "    \n",
    "    n_windows = int((test_size - h) / 1) + 1\n",
    "    Y_test_df = df.groupby('unique_id').tail(test_size)\n",
    "    Y_train_df = df.drop(Y_test_df.index)\n",
    "    config = {'input_size': tune.choice([12, 24]), 'h': h, \n",
    "              'step_size': 12, 'hidden_size': 256, 'max_epochs': 1}\n",
    "    config_drnn = {'input_size': tune.choice([12, 24]), 'state_hsize': tune.choice([50, 100]),\n",
    "                   'h': 12, 'max_epochs': 1, 'step_size': 1}\n",
    "    fcst = NeuralForecast(\n",
    "        models=[\n",
    "            AutoDilatedRNN(h=12, config=config_drnn, cpus=1, num_samples=1),\n",
    "            DilatedRNN(h=12, input_size=12, state_hsize=50, max_epochs=1),\n",
    "            RNN(h=12, input_size=12, state_hsize=50, max_epochs=1,\n",
    "            futr_exog_list=['trend'], hist_exog_list=['y_[lag12]']),\n",
    "            AutoMLP(h=12, config=config, cpus=1, num_samples=1),\n",
    "            MLP(h=12, input_size=12, max_epochs=1, scaler_type='robust'),\n",
    "            NBEATSx(h=12, input_size=12, max_epochs=1,\n",
    "                futr_exog_list=['trend'], hist_exog_list=['y_[lag12]']),\n",
    "            NHITS(h=12, input_size=12, max_epochs=1, scaler_type='robust'),\n",
    "            NHITS(h=12, input_size=12, loss=MQLoss(level=[80]), max_epochs=1),\n",
    "            TFT(h=12, input_size=24, max_epochs=1, scaler_type='robust')\n",
    "        ],\n",
    "        freq='M'\n",
    "    )\n",
    "    fcst.fit(Y_train_df)\n",
    "    Y_hat_df = fcst.predict(futr_df=Y_test_df)\n",
    "    Y_hat_df = Y_hat_df.merge(Y_test_df, how='left', on=['unique_id', 'ds'])\n",
    "    last_dates = Y_train_df.groupby('unique_id').tail(1)\n",
    "    last_dates = last_dates[['unique_id', 'ds']].rename(columns={'ds': 'cutoff'})\n",
    "    Y_hat_df = Y_hat_df.merge(last_dates, how='left', on='unique_id')\n",
    "    \n",
    "    #cross validation\n",
    "    fcst = NeuralForecast(\n",
    "        models=[\n",
    "            AutoDilatedRNN(h=12, config=config_drnn, cpus=1, num_samples=1),\n",
    "            DilatedRNN(h=12, input_size=12, state_hsize=50, max_epochs=1),\n",
    "            RNN(h=12, input_size=12, state_hsize=50, max_epochs=1,\n",
    "            futr_exog_list=['trend'], hist_exog_list=['y_[lag12]']),\n",
    "            AutoMLP(h=12, config=config, cpus=1, num_samples=1),\n",
    "            MLP(h=12, input_size=12, max_epochs=1, scaler_type='robust'),\n",
    "            NBEATSx(h=12, input_size=12, max_epochs=1,\n",
    "                futr_exog_list=['trend'], hist_exog_list=['y_[lag12]']),\n",
    "            NHITS(h=12, input_size=12, max_epochs=1, scaler_type='robust'),\n",
    "            NHITS(h=12, input_size=12, loss=MQLoss(level=[80]), max_epochs=1),\n",
    "            TFT(h=12, input_size=24, max_epochs=1, scaler_type='robust')\n",
    "        ],\n",
    "        freq='M'\n",
    "    )\n",
    "    Y_hat_df_cv = fcst.cross_validation(df, test_size=test_size, \n",
    "                                        n_windows=None)\n",
    "    pd.testing.assert_frame_equal(\n",
    "        Y_hat_df[Y_hat_df_cv.columns],\n",
    "        Y_hat_df_cv,\n",
    "        check_dtype=False\n",
    "    )"
   ]
  },
  {
   "cell_type": "code",
   "execution_count": 22,
   "id": "b0467904-748e-42ec-99cc-bac514626304",
   "metadata": {},
   "outputs": [
    {
     "data": {
      "text/html": [],
      "text/plain": [
       "<IPython.core.display.HTML object>"
      ]
     },
     "metadata": {},
     "output_type": "display_data"
    },
    {
     "name": "stdout",
     "output_type": "stream",
     "text": [
      "Sanity Checking DataLoader 0:   0%|          | 0/1 [00:00<?, ?it/s]\n",
      "Epoch 0:   0%|          | 0/2 [00:00<?, ?it/s]                             \n",
      "Epoch 0:  50%|█████     | 1/2 [00:00<00:00,  6.11it/s, loss=431, v_num=0, train_loss_step=431.0]\n",
      "\u001b[2m\u001b[36m(train_tune pid=11026)\u001b[0m \n",
      "Validation: 0it [00:00, ?it/s]\u001b[A0m \n",
      "\u001b[2m\u001b[36m(train_tune pid=11026)\u001b[0m \n",
      "Validation:   0%|          | 0/1 [00:00<?, ?it/s]\u001b[A\n",
      "Validation DataLoader 0:   0%|          | 0/1 [00:00<?, ?it/s]\u001b[A\n",
      "Epoch 0: 100%|██████████| 2/2 [00:00<00:00, 11.37it/s, loss=431, v_num=0, train_loss_step=431.0]\n",
      "Epoch 0: 100%|██████████| 2/2 [00:00<00:00, 10.76it/s, loss=431, v_num=0, train_loss_step=431.0, val_loss=540.0]\n",
      "Epoch 0: 100%|██████████| 2/2 [00:00<00:00,  9.51it/s, loss=431, v_num=0, train_loss_step=431.0, val_loss=540.0, train_loss_epoch=431.0]\n"
     ]
    },
    {
     "name": "stderr",
     "output_type": "stream",
     "text": [
      "\u001b[2m\u001b[36m(train_tune pid=11026)\u001b[0m /opt/anaconda3/envs/neuralforecast/lib/python3.10/multiprocessing/resource_tracker.py:224: UserWarning: resource_tracker: There appear to be 1 leaked semaphore objects to clean up at shutdown\n",
      "\u001b[2m\u001b[36m(train_tune pid=11026)\u001b[0m   warnings.warn('resource_tracker: There appear to be %d '\n"
     ]
    },
    {
     "data": {
      "application/vnd.jupyter.widget-view+json": {
       "model_id": "c8bf28421b414a1fb94dea815b45a7a1",
       "version_major": 2,
       "version_minor": 0
      },
      "text/plain": [
       "Sanity Checking: 0it [00:00, ?it/s]"
      ]
     },
     "metadata": {},
     "output_type": "display_data"
    },
    {
     "data": {
      "application/vnd.jupyter.widget-view+json": {
       "model_id": "46aa8decf0454277886cb2bc9d4e5b09",
       "version_major": 2,
       "version_minor": 0
      },
      "text/plain": [
       "Training: 0it [00:00, ?it/s]"
      ]
     },
     "metadata": {},
     "output_type": "display_data"
    },
    {
     "data": {
      "application/vnd.jupyter.widget-view+json": {
       "model_id": "7d9f9f968cf34be5b141c3058a5e48eb",
       "version_major": 2,
       "version_minor": 0
      },
      "text/plain": [
       "Validation: 0it [00:00, ?it/s]"
      ]
     },
     "metadata": {},
     "output_type": "display_data"
    },
    {
     "data": {
      "application/vnd.jupyter.widget-view+json": {
       "model_id": "32cb057542a048d9b4d351b48552de58",
       "version_major": 2,
       "version_minor": 0
      },
      "text/plain": [
       "Predicting: 0it [00:00, ?it/s]"
      ]
     },
     "metadata": {},
     "output_type": "display_data"
    },
    {
     "data": {
      "application/vnd.jupyter.widget-view+json": {
       "model_id": "b89fcea9afad4ac988b14bfabcd66aa4",
       "version_major": 2,
       "version_minor": 0
      },
      "text/plain": [
       "Sanity Checking: 0it [00:00, ?it/s]"
      ]
     },
     "metadata": {},
     "output_type": "display_data"
    },
    {
     "data": {
      "application/vnd.jupyter.widget-view+json": {
       "model_id": "ce42500ba86f44a4bbaf2765147244c9",
       "version_major": 2,
       "version_minor": 0
      },
      "text/plain": [
       "Training: 0it [00:00, ?it/s]"
      ]
     },
     "metadata": {},
     "output_type": "display_data"
    },
    {
     "data": {
      "application/vnd.jupyter.widget-view+json": {
       "model_id": "d1c9ac1bbcc74293954d84d1927f51f3",
       "version_major": 2,
       "version_minor": 0
      },
      "text/plain": [
       "Validation: 0it [00:00, ?it/s]"
      ]
     },
     "metadata": {},
     "output_type": "display_data"
    },
    {
     "data": {
      "application/vnd.jupyter.widget-view+json": {
       "model_id": "78d8b224bfcf446e9a1fe395047fb0b3",
       "version_major": 2,
       "version_minor": 0
      },
      "text/plain": [
       "Predicting: 0it [00:00, ?it/s]"
      ]
     },
     "metadata": {},
     "output_type": "display_data"
    },
    {
     "data": {
      "application/vnd.jupyter.widget-view+json": {
       "model_id": "5e3e0e53174d4cc4822d360365951524",
       "version_major": 2,
       "version_minor": 0
      },
      "text/plain": [
       "Sanity Checking: 0it [00:00, ?it/s]"
      ]
     },
     "metadata": {},
     "output_type": "display_data"
    },
    {
     "data": {
      "application/vnd.jupyter.widget-view+json": {
       "model_id": "cc5d3f1f1168448492d319406a9f3b0c",
       "version_major": 2,
       "version_minor": 0
      },
      "text/plain": [
       "Training: 0it [00:00, ?it/s]"
      ]
     },
     "metadata": {},
     "output_type": "display_data"
    },
    {
     "data": {
      "application/vnd.jupyter.widget-view+json": {
       "model_id": "0abb27c92e224057bb1b9b7ce63ef16e",
       "version_major": 2,
       "version_minor": 0
      },
      "text/plain": [
       "Validation: 0it [00:00, ?it/s]"
      ]
     },
     "metadata": {},
     "output_type": "display_data"
    },
    {
     "data": {
      "application/vnd.jupyter.widget-view+json": {
       "model_id": "402fb12389c54c29840123655bcfe2f5",
       "version_major": 2,
       "version_minor": 0
      },
      "text/plain": [
       "Predicting: 0it [00:00, ?it/s]"
      ]
     },
     "metadata": {},
     "output_type": "display_data"
    },
    {
     "data": {
      "application/vnd.jupyter.widget-view+json": {
       "model_id": "39dc9aa908364788889d3a087daefd6d",
       "version_major": 2,
       "version_minor": 0
      },
      "text/plain": [
       "Sanity Checking: 0it [00:00, ?it/s]"
      ]
     },
     "metadata": {},
     "output_type": "display_data"
    },
    {
     "data": {
      "application/vnd.jupyter.widget-view+json": {
       "model_id": "087e48f83594468daa5da1c5440e8513",
       "version_major": 2,
       "version_minor": 0
      },
      "text/plain": [
       "Training: 0it [00:00, ?it/s]"
      ]
     },
     "metadata": {},
     "output_type": "display_data"
    },
    {
     "data": {
      "application/vnd.jupyter.widget-view+json": {
       "model_id": "8b0d63c52f6f410182a7589a0975163d",
       "version_major": 2,
       "version_minor": 0
      },
      "text/plain": [
       "Validation: 0it [00:00, ?it/s]"
      ]
     },
     "metadata": {},
     "output_type": "display_data"
    },
    {
     "data": {
      "application/vnd.jupyter.widget-view+json": {
       "model_id": "533b0b1042a942089c9a55ac3481745f",
       "version_major": 2,
       "version_minor": 0
      },
      "text/plain": [
       "Predicting: 0it [00:00, ?it/s]"
      ]
     },
     "metadata": {},
     "output_type": "display_data"
    },
    {
     "data": {
      "application/vnd.jupyter.widget-view+json": {
       "model_id": "74486884b9ce417aadd954ed695651b8",
       "version_major": 2,
       "version_minor": 0
      },
      "text/plain": [
       "Sanity Checking: 0it [00:00, ?it/s]"
      ]
     },
     "metadata": {},
     "output_type": "display_data"
    },
    {
     "data": {
      "application/vnd.jupyter.widget-view+json": {
       "model_id": "3074a0a0d35443bcaff7e2351d3003ef",
       "version_major": 2,
       "version_minor": 0
      },
      "text/plain": [
       "Training: 0it [00:00, ?it/s]"
      ]
     },
     "metadata": {},
     "output_type": "display_data"
    },
    {
     "data": {
      "application/vnd.jupyter.widget-view+json": {
       "model_id": "295883dd89c34f79906a4ffe66377992",
       "version_major": 2,
       "version_minor": 0
      },
      "text/plain": [
       "Validation: 0it [00:00, ?it/s]"
      ]
     },
     "metadata": {},
     "output_type": "display_data"
    },
    {
     "data": {
      "application/vnd.jupyter.widget-view+json": {
       "model_id": "eb73ff637f5349dbb920b31e2399065c",
       "version_major": 2,
       "version_minor": 0
      },
      "text/plain": [
       "Predicting: 0it [00:00, ?it/s]"
      ]
     },
     "metadata": {},
     "output_type": "display_data"
    },
    {
     "data": {
      "application/vnd.jupyter.widget-view+json": {
       "model_id": "44a265ea28014bd6a7cc8ec3abb2abea",
       "version_major": 2,
       "version_minor": 0
      },
      "text/plain": [
       "Sanity Checking: 0it [00:00, ?it/s]"
      ]
     },
     "metadata": {},
     "output_type": "display_data"
    },
    {
     "data": {
      "application/vnd.jupyter.widget-view+json": {
       "model_id": "d307c099c6694b9c9e9396d54f1faf1d",
       "version_major": 2,
       "version_minor": 0
      },
      "text/plain": [
       "Training: 0it [00:00, ?it/s]"
      ]
     },
     "metadata": {},
     "output_type": "display_data"
    },
    {
     "data": {
      "application/vnd.jupyter.widget-view+json": {
       "model_id": "62ea11e9fa3e466389475a8832ce1f3a",
       "version_major": 2,
       "version_minor": 0
      },
      "text/plain": [
       "Validation: 0it [00:00, ?it/s]"
      ]
     },
     "metadata": {},
     "output_type": "display_data"
    },
    {
     "data": {
      "application/vnd.jupyter.widget-view+json": {
       "model_id": "534883e1347c4ba994ab91b172c037c5",
       "version_major": 2,
       "version_minor": 0
      },
      "text/plain": [
       "Predicting: 0it [00:00, ?it/s]"
      ]
     },
     "metadata": {},
     "output_type": "display_data"
    }
   ],
   "source": [
    "#| hide\n",
    "test_cross_validation(AirPassengersPanel, h=12, test_size=12)"
   ]
  },
  {
   "cell_type": "code",
   "execution_count": null,
   "metadata": {},
   "outputs": [],
   "source": []
  },
  {
   "cell_type": "code",
   "execution_count": null,
   "metadata": {},
   "outputs": [],
   "source": []
  },
  {
   "cell_type": "code",
   "execution_count": null,
   "id": "fa45798d",
   "metadata": {},
   "outputs": [],
   "source": []
  }
 ],
 "metadata": {
  "kernelspec": {
   "display_name": "neuralforecast",
   "language": "python",
   "name": "neuralforecast"
  },
  "language_info": {
   "codemirror_mode": {
    "name": "ipython",
    "version": 3
   },
   "file_extension": ".py",
   "mimetype": "text/x-python",
   "name": "python",
   "nbconvert_exporter": "python",
   "pygments_lexer": "ipython3",
   "version": "3.10.6"
  }
 },
 "nbformat": 4,
 "nbformat_minor": 5
}
