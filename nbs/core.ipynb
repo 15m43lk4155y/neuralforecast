{
 "cells": [
  {
   "cell_type": "code",
   "execution_count": null,
   "id": "524620c1",
   "metadata": {},
   "outputs": [],
   "source": [
    "#| default_exp core"
   ]
  },
  {
   "cell_type": "code",
   "execution_count": null,
   "id": "15392f6f",
   "metadata": {},
   "outputs": [],
   "source": [
    "#| hide\n",
    "%load_ext autoreload\n",
    "%autoreload 2"
   ]
  },
  {
   "cell_type": "markdown",
   "id": "12fa25a4",
   "metadata": {},
   "source": [
    "# <span style=\"color:DarkOrange\"> Core </span>\n",
    "> NeuralForecast contains two main components, PyTorch implementations deep learning predictive models, as well as parallelization and distributed computation utilities. The first component comprises low-level PyTorch model estimator classes like `models.NBEATS` and `models.RNN`. The second component is a high-level `core.NeuralForecast` wrapper class that operates with sets of time series data stored in pandas DataFrames."
   ]
  },
  {
   "cell_type": "code",
   "execution_count": null,
   "id": "2508f7a9-1433-4ad8-8f2f-0078c6ed6c3c",
   "metadata": {},
   "outputs": [],
   "source": [
    "#| hide\n",
    "import shutil\n",
    "from fastcore.test import test_eq\n",
    "from nbdev.showdoc import show_doc\n",
    "from neuralforecast.utils import generate_series"
   ]
  },
  {
   "cell_type": "code",
   "execution_count": null,
   "id": "44065066-e72a-431f-938f-1528adef9fe8",
   "metadata": {},
   "outputs": [],
   "source": [
    "#| export\n",
    "import os\n",
    "import pickle\n",
    "from os.path import isfile, join\n",
    "from typing import Any, List, Optional\n",
    "\n",
    "import numpy as np\n",
    "import pandas as pd\n",
    "\n",
    "from neuralforecast.tsdataset import TimeSeriesDataset\n",
    "from neuralforecast.models import (\n",
    "    GRU, LSTM, RNN, TCN, DilatedRNN,\n",
    "    MLP, NHITS, NBEATS, NBEATSx, \n",
    "    TFT, GMM_TFT, \n",
    ")"
   ]
  },
  {
   "cell_type": "code",
   "execution_count": null,
   "id": "45471e9f-4050-4a6c-bb05-4de144754da5",
   "metadata": {},
   "outputs": [],
   "source": [
    "#| exporti\n",
    "def _cv_dates(last_dates, freq, h, test_size, step_size=1):\n",
    "    #assuming step_size = 1\n",
    "    if (test_size - h) % step_size:\n",
    "        raise Exception('`test_size - h` should be module `step_size`')\n",
    "    n_windows = int((test_size - h) / step_size) + 1\n",
    "    if len(np.unique(last_dates)) == 1:\n",
    "        if issubclass(last_dates.dtype.type, np.integer):\n",
    "            total_dates = np.arange(last_dates[0] - test_size + 1, last_dates[0] + 1)\n",
    "            out = np.empty((h * n_windows, 2), dtype=last_dates.dtype)\n",
    "            freq = 1\n",
    "        else:\n",
    "            total_dates = pd.date_range(end=last_dates[0], periods=test_size, freq=freq)\n",
    "            out = np.empty((h * n_windows, 2), dtype='datetime64[s]')\n",
    "        for i_window, cutoff in enumerate(range(-test_size, -h + 1, step_size), start=0):\n",
    "            end_cutoff = cutoff + h\n",
    "            out[h * i_window : h * (i_window + 1), 0] = total_dates[cutoff:] if end_cutoff == 0 else total_dates[cutoff:end_cutoff]\n",
    "            out[h * i_window : h * (i_window + 1), 1] = np.tile(total_dates[cutoff] - freq, h)\n",
    "        dates = pd.DataFrame(np.tile(out, (len(last_dates), 1)), columns=['ds', 'cutoff'])\n",
    "    else:\n",
    "        dates = pd.concat([_cv_dates(np.array([ld]), freq, h, test_size, step_size) for ld in last_dates])\n",
    "        dates = dates.reset_index(drop=True)\n",
    "    return dates"
   ]
  },
  {
   "cell_type": "code",
   "execution_count": null,
   "id": "50ff82c9-3cb5-407f-be34-141d265e8930",
   "metadata": {},
   "outputs": [],
   "source": [
    "#| hide\n",
    "ds_int_cv_test = pd.DataFrame({\n",
    "    'ds': np.hstack([\n",
    "        [46, 47, 48],\n",
    "        [47, 48, 49],\n",
    "        [48, 49, 50]\n",
    "    ]),\n",
    "    'cutoff': [45] * 3 + [46] * 3 + [47] * 3\n",
    "}, dtype=np.int64)\n",
    "test_eq(ds_int_cv_test, _cv_dates(np.array([50], dtype=np.int64), 'D', 3, 5))"
   ]
  },
  {
   "cell_type": "code",
   "execution_count": null,
   "id": "ac141f22-ee59-408a-a5e8-4a5f72cb77e1",
   "metadata": {},
   "outputs": [],
   "source": [
    "#| hide\n",
    "ds_int_cv_test = pd.DataFrame({\n",
    "    'ds': np.hstack([\n",
    "        [46, 47, 48],\n",
    "        [48, 49, 50]\n",
    "    ]),\n",
    "    'cutoff': [45] * 3 + [47] * 3\n",
    "}, dtype=np.int64)\n",
    "test_eq(ds_int_cv_test, _cv_dates(np.array([50], dtype=np.int64), 'D', 3, 5, step_size=2))"
   ]
  },
  {
   "cell_type": "code",
   "execution_count": null,
   "id": "c2874985-3d14-40d2-a607-a774ed4abd58",
   "metadata": {},
   "outputs": [],
   "source": [
    "#| hide\n",
    "for e_e in [True, False]:\n",
    "    n_series = 2\n",
    "    ga, indices, dates, ds = TimeSeriesDataset.from_df(generate_series(n_series, equal_ends=e_e), sort_df=True)\n",
    "    freq = pd.tseries.frequencies.to_offset('D')\n",
    "    horizon = 3\n",
    "    test_size = 5\n",
    "    df_dates = _cv_dates(last_dates=dates, freq=freq, h=horizon, test_size=test_size)\n",
    "    test_eq(len(df_dates), n_series * horizon * (test_size - horizon + 1))"
   ]
  },
  {
   "cell_type": "code",
   "execution_count": null,
   "id": "1c58a8a5",
   "metadata": {},
   "outputs": [],
   "source": [
    "#| exporti\n",
    "MODEL_FILENAME_DICT = {'gru': GRU, 'lstm': LSTM, 'rnn': RNN, \n",
    "                       'tcn': TCN, 'dilatedrnn': DilatedRNN,\n",
    "                       'mlp': MLP, 'nbeats': NBEATS, 'nbeatsx': NBEATSx, 'nhits': NHITS,  'tft': TFT,\n",
    "                       'gmm_tft': GMM_TFT, \n",
    "                       'autogru': GRU, 'autolstm': LSTM, 'autornn': RNN,\n",
    "                       'autotcn': TCN, 'autodilatedrnn': DilatedRNN,\n",
    "                       'automlp': MLP, 'autonbeats': NBEATS, 'autonhits': NHITS}"
   ]
  },
  {
   "cell_type": "code",
   "execution_count": null,
   "id": "c4dae43c-4d11-4bbc-a431-ac33b004859a",
   "metadata": {},
   "outputs": [],
   "source": [
    "#| export\n",
    "class NeuralForecast:\n",
    "    \n",
    "    def __init__(self, \n",
    "                 models: List[Any],\n",
    "                 freq: str):\n",
    "        \"\"\"\n",
    "        The `core.StatsForecast` class allows you to efficiently fit multiple `NeuralForecast` models \n",
    "        for large sets of time series. It operates with pandas DataFrame `df` that identifies series \n",
    "        and datestamps with the `unique_id` and `ds` columns. The `y` column denotes the target \n",
    "        time series variable.\n",
    "\n",
    "        **Parameters:**<br>\n",
    "        `h`: int, forecast horizon.<br>\n",
    "        `models`: List[typing.Any], instantiated `neuralforecast.models` see [collection here](https://nixtla.github.io/neuralforecast/models.html).<br>\n",
    "        `freq`: str, frequency of the data, [panda's available frequencies](https://pandas.pydata.org/pandas-docs/stable/user_guide/timeseries.html#offset-aliases).<br>\n",
    "        `trainers`: List[typing.Any], optional list of instantiated pytorch lightning trainers.<br>\n",
    "        \"\"\"\n",
    "        assert all(model.h == models[0].h for model in models), 'All models should have the same horizon'\n",
    "\n",
    "        self.h = models[0].h\n",
    "        self.models = models\n",
    "        self.freq = pd.tseries.frequencies.to_offset(freq)\n",
    "\n",
    "        # Flags and attributes\n",
    "        self._fitted = False\n",
    "\n",
    "    def _prepare_fit(self, df, static_df, sort_df):\n",
    "        #TODO: uids, last_dates and ds should be properties of the dataset class. See github issue.\n",
    "        self.dataset, self.uids, self.last_dates, self.ds = TimeSeriesDataset.from_df(df=df,\n",
    "                                                                                      static_df=static_df,\n",
    "                                                                                      sort_df=sort_df)\n",
    "        self.sort_df = sort_df\n",
    "\n",
    "    def fit(self,\n",
    "            df: Optional[pd.DataFrame] = None,\n",
    "            static_df: Optional[pd.DataFrame] = None,\n",
    "            val_size: Optional[int] = 0,\n",
    "            sort_df: bool = True,\n",
    "            verbose: bool = False):\n",
    "        \"\"\"Fit the core.NeuralForecast.\n",
    "\n",
    "        Fit `models` to a large set of time series from DataFrame `df`.\n",
    "        and store fitted models for later inspection.\n",
    "\n",
    "        **Parameters:**<br>\n",
    "        `df`: pandas.DataFrame, with columns [`unique_id`, `ds`, `y`] and exogenous.<br>\n",
    "        `static_df`: pandas.DataFrame, with columns [`unique_id`, `ds`] and static exogenous.<br>\n",
    "        `val_size`: int, size of validation set.<br>\n",
    "        `sort_df`: bool, sort df before fitting.\n",
    "\n",
    "        **Returns:**<br>\n",
    "        `self`: Returns with stored `NeuralForecast` fitted `models`.\n",
    "        \"\"\"\n",
    "        if (df is None) and not (hasattr(self, 'dataset')):\n",
    "            raise Exception('You must pass a DataFrame or have one stored.')\n",
    "\n",
    "        # Process and save new dataset (in self)\n",
    "        if df is not None:\n",
    "            self._prepare_fit(df=df, static_df=static_df, sort_df=sort_df)\n",
    "        else:\n",
    "            if verbose: print('Using stored dataset.')\n",
    "\n",
    "        #train + validation\n",
    "        for model in self.models:\n",
    "            model.fit(self.dataset, val_size=val_size)\n",
    "        #train with the full dataset\n",
    "\n",
    "        self._fitted = True\n",
    "\n",
    "    def _make_future_df(self, h: int):\n",
    "        if issubclass(self.last_dates.dtype.type, np.integer):\n",
    "            last_date_f = lambda x: np.arange(x + 1, x + 1 + h, dtype=self.last_dates.dtype)\n",
    "        else:\n",
    "            last_date_f = lambda x: pd.date_range(x + self.freq, periods=h, freq=self.freq)\n",
    "        if len(np.unique(self.last_dates)) == 1:\n",
    "            dates = np.tile(last_date_f(self.last_dates[0]), len(self.dataset))\n",
    "        else:\n",
    "            dates = np.hstack([last_date_f(last_date)\n",
    "                               for last_date in self.last_dates])\n",
    "        idx = pd.Index(np.repeat(self.uids, h), name='unique_id')\n",
    "        df = pd.DataFrame({'ds': dates}, index=idx)\n",
    "        return df\n",
    "\n",
    "    def predict(self,\n",
    "                df: Optional[pd.DataFrame] = None,\n",
    "                static_df: Optional[pd.DataFrame] = None,\n",
    "                futr_df: Optional[pd.DataFrame] = None,\n",
    "                sort_df: bool = True,\n",
    "                verbose: bool = False,\n",
    "                **data_kwargs):\n",
    "        \"\"\"Predict with core.NeuralForecast.\n",
    "\n",
    "        Use stored fitted `models` to predict large set of time series from DataFrame `df`.        \n",
    "\n",
    "        **Parameters:**<br>\n",
    "        `df`: pandas.DataFrame, with columns [`unique_id`, `ds`, `y`] and exogenous.<br>\n",
    "        `static_df`: pandas.DataFrame, with columns [`unique_id`, `ds`] and static exogenous.<br>\n",
    "        `futr_df`: pandas.DataFrame, with [`unique_id`, `ds`] columns and `df`'s future exogenous.<br>\n",
    "\n",
    "        **Returns:**<br>\n",
    "        `fcsts_df`: pandas.DataFrame, with `models` columns for point predictions.<br>\n",
    "        \"\"\"\n",
    "        if (df is None) and not (hasattr(self, 'dataset')):\n",
    "            raise Exception('You must pass a DataFrame or have one stored.')\n",
    "\n",
    "        # Process and save new dataset (in self)\n",
    "        if df is not None:\n",
    "            self._prepare_fit(df=df, static_df=static_df, sort_df=sort_df)\n",
    "        else:\n",
    "            if verbose: print('Using stored dataset.')\n",
    "\n",
    "        cols = []\n",
    "        count_names = {'model': 0}\n",
    "        for model in self.models:\n",
    "            model_name = type(model).__name__\n",
    "            count_names[model_name] = count_names.get(model_name, -1) + 1\n",
    "            if count_names[model_name] > 0:\n",
    "                model_name += str(count_names[model_name])\n",
    "            cols += [model_name + n for n in model.loss.output_names]\n",
    "\n",
    "        # Placeholder dataframe for predictions with unique_id and ds\n",
    "        fcsts_df = self._make_future_df(h=self.h)\n",
    "\n",
    "        # Update and define new forecasting dataset\n",
    "        if futr_df is not None:\n",
    "            dataset = TimeSeriesDataset.update_dataset(dataset=self.dataset, future_df=futr_df)\n",
    "        else:\n",
    "            dataset = TimeSeriesDataset.update_dataset(dataset=self.dataset, future_df=fcsts_df.reset_index())\n",
    "\n",
    "        col_idx = 0\n",
    "        fcsts = np.full((self.h * len(self.uids), len(cols)), fill_value=np.nan)\n",
    "        for model in self.models:\n",
    "            model.set_test_size(self.h) # To predict h steps ahead\n",
    "            model_fcsts = model.predict(dataset=dataset, **data_kwargs)\n",
    "            # Append predictions in memory placeholder\n",
    "            output_length = len(model.loss.output_names)\n",
    "            fcsts[:,col_idx:col_idx+output_length] = model_fcsts\n",
    "            col_idx += output_length\n",
    "\n",
    "        # Declare predictions pd.DataFrame\n",
    "        fcsts = pd.DataFrame.from_records(fcsts, columns=cols, \n",
    "                                          index=fcsts_df.index)\n",
    "        fcsts_df = pd.concat([fcsts_df, fcsts], axis=1)\n",
    "\n",
    "        return fcsts_df\n",
    "    \n",
    "    def cross_validation(self,\n",
    "                         df: pd.DataFrame = None,\n",
    "                         static_df: Optional[pd.DataFrame] = None,\n",
    "                         n_windows: int = 1,\n",
    "                         step_size: int = 1,\n",
    "                         val_size: Optional[int] = 0, \n",
    "                         test_size: Optional[int] = None,\n",
    "                         sort_df: bool = True,\n",
    "                         verbose: bool = False,\n",
    "                         **data_kwargs):\n",
    "        \"\"\"Temporal Cross-Validation with core.NeuralForecast.\n",
    "\n",
    "        `core.NeuralForecast`'s cross-validation efficiently fits a list of NeuralForecast \n",
    "        models through multiple windows, in either chained or rolled manner.\n",
    "\n",
    "        *Parameters:*<br>\n",
    "        `df`: pandas.DataFrame, with columns [`unique_id`, `ds`, `y`] and exogenous.<br>\n",
    "        `static_df`: pandas.DataFrame, with columns [`unique_id`, `ds`] and static exogenous.<br>\n",
    "        `n_windows`: int, number of windows used for cross validation.<br>\n",
    "        `step_size`: int = 1, step size between each window.<br>\n",
    "        `val_size`: Optional[int] = None, length of validation size. If passed, set `n_windows=None`.<br>\n",
    "        `test_size`: Optional[int] = None, length of test size. If passed, set `n_windows=None`.<br>\n",
    "\n",
    "        *Returns:*<br>\n",
    "        `fcsts_df`: pandas.DataFrame, with insample `models` columns for point predictions and probabilistic\n",
    "        predictions for all fitted `models`.<br>        \n",
    "        \"\"\"\n",
    "        if (df is None) and not (hasattr(self, 'dataset')):\n",
    "            raise Exception('You must pass a DataFrame or have one stored.')\n",
    "\n",
    "        # Declare predictions pd.DataFrame\n",
    "        if df is not None:\n",
    "            self._prepare_fit(df=df, static_df=static_df, sort_df=sort_df)\n",
    "        else:\n",
    "            if verbose: print('Using stored dataset.')\n",
    "\n",
    "        cols = []\n",
    "        count_names = {'model': 0}\n",
    "        for model in self.models:\n",
    "            model_name = type(model).__name__\n",
    "            count_names[model_name] = count_names.get(model_name, -1) + 1\n",
    "            if count_names[model_name] > 0:\n",
    "                model_name += str(count_names[model_name])\n",
    "            cols += [model_name + n for n in model.loss.output_names]            \n",
    "\n",
    "        h = self.models[0].h\n",
    "        if test_size is None:\n",
    "            test_size = h + step_size * (n_windows - 1)\n",
    "        elif n_windows is None:\n",
    "            if (test_size - h) % step_size:\n",
    "                raise Exception('`test_size - h` should be module `step_size`')\n",
    "            n_windows = int((test_size - h) / step_size) + 1\n",
    "        elif (n_windows is None) and (test_size is None):\n",
    "            raise Exception('you must define `n_windows` or `test_size`')\n",
    "        else:\n",
    "            raise Exception('you must define `n_windows` or `test_size` but not both')\n",
    "\n",
    "        fcsts_df = _cv_dates(last_dates=self.last_dates, freq=self.freq, \n",
    "                             h=h, test_size=test_size, step_size=step_size)\n",
    "        idx = pd.Index(np.repeat(self.uids, h * n_windows), name='unique_id')\n",
    "        fcsts_df.index = idx\n",
    "\n",
    "        col_idx = 0\n",
    "        fcsts = np.full((self.dataset.n_groups * h * n_windows, len(cols)),\n",
    "                         np.nan, dtype=np.float32)\n",
    "        for model in self.models:\n",
    "            model.fit(dataset=self.dataset,\n",
    "                      val_size=val_size, \n",
    "                      test_size=test_size)            \n",
    "            model_fcsts = model.predict(self.dataset, step_size=step_size, **data_kwargs)\n",
    "\n",
    "            # Append predictions in memory placeholder\n",
    "            output_length = len(model.loss.output_names)\n",
    "            fcsts[:,col_idx:(col_idx + output_length)] = model_fcsts\n",
    "            col_idx += output_length                \n",
    "\n",
    "        # Add predictions to forecasts DataFrame\n",
    "        fcsts = pd.DataFrame.from_records(fcsts, columns=cols, \n",
    "                                          index=fcsts_df.index)\n",
    "        fcsts_df = pd.concat([fcsts_df, fcsts], axis=1)\n",
    "\n",
    "        # Add original input df's y to forecasts DataFrame\n",
    "        fcsts_df = fcsts_df.merge(df, how='left', on=['unique_id', 'ds'])\n",
    "        return fcsts_df\n",
    "        \n",
    "    # Save list of models with pytorch lightning save_checkpoint function\n",
    "    def save(self, path: str, model_index: Optional[List]=None, save_dataset: bool=True, overwrite: bool=False):\n",
    "        \"\"\" Save NeuralForecast core class.\n",
    "\n",
    "        `core.NeuralForecast`'s method to save current status of models, dataset, and configuration.\n",
    "        Note that by default the `models` are not saving training checkpoints to save disk memory,\n",
    "        to get them change the individual model `**trainer_kwargs` to include `enable_checkpointing=True`.\n",
    "\n",
    "        *Parameters:*<br>\n",
    "        `path`: str, directory to save current status.<br>\n",
    "        `model_index`: Optional[List] = None, optional list to specify which models from list of self.models to save.<br>\n",
    "        `save_dataset`: bool = True, whether to save dataset or not.<br>\n",
    "        `overwrite`: bool = False, whether to overwrite files or not.<br>\n",
    "        \"\"\"\n",
    "        # Standarize path without '/'\n",
    "        if path[-1] == '/':\n",
    "            path = path[:-1]\n",
    "\n",
    "        # Model index list\n",
    "        if model_index is None:\n",
    "            model_index = list(range(len(self.models)))\n",
    "\n",
    "        # Create directory if not exists\n",
    "        os.makedirs(path, exist_ok = True)\n",
    "\n",
    "        # Check if directory is empty to protect overwriting files\n",
    "        dir = os.listdir(path)\n",
    "        \n",
    "        # Checking if the list is empty or not\n",
    "        if (len(dir) > 0) and (not overwrite):\n",
    "            raise Exception('Directory is not empty. Set `overwrite=True` to overwrite files.')\n",
    "\n",
    "        # Save models\n",
    "        count_names = {'model': 0}\n",
    "        for i, model in enumerate(self.models):\n",
    "            # Skip model if not in list\n",
    "            if i not in model_index:\n",
    "                continue\n",
    "\n",
    "            model_name = type(model).__name__.lower().replace('_', '')\n",
    "            count_names[model_name] = count_names.get(model_name, -1) + 1\n",
    "            model.save(f\"{path}/{model_name}_{count_names[model_name]}.ckpt\")\n",
    "\n",
    "        # Save dataset\n",
    "        if (save_dataset) and (hasattr(self, 'dataset')):\n",
    "            with open(f\"{path}/dataset.pkl\", \"wb\") as f:\n",
    "                pickle.dump(self.dataset, f)\n",
    "        elif save_dataset:\n",
    "            raise Exception('You need to have a stored dataset to save it, \\\n",
    "                             set `save_dataset=False` to skip saving dataset.')\n",
    "\n",
    "        # Save configuration and parameters\n",
    "        config_dict = {'h': self.h,\n",
    "                       'freq': self.freq,\n",
    "                       'uids': self.uids,\n",
    "                       'last_dates': self.last_dates,\n",
    "                       'ds': self.ds,\n",
    "                       'sort_df': self.sort_df,\n",
    "                       '_fitted': self._fitted}\n",
    "\n",
    "        with open(f\"{path}/configuration.pkl\", \"wb\") as f:\n",
    "                pickle.dump(config_dict, f)\n",
    "\n",
    "    @staticmethod\n",
    "    def load(path, verbose=False):\n",
    "        \"\"\" Load NeuralForecast\n",
    "\n",
    "        `core.NeuralForecast`'s method to load checkpoint from path.\n",
    "\n",
    "        *Parameters:*<br>\n",
    "        `path`: str, directory to save current status.<br>\n",
    "        \"\"\"\n",
    "        files = [f for f in os.listdir(path) if isfile(join(path, f))]\n",
    "\n",
    "        # Load models\n",
    "        models_ckpt = [f for f in files if f.endswith('.ckpt')]\n",
    "        if len(models_ckpt) == 0:\n",
    "            raise Exception('No model found in directory.') \n",
    "        \n",
    "        if verbose: print(10 * '-' + ' Loading models ' + 10 * '-')\n",
    "        models = []\n",
    "        for model in models_ckpt:\n",
    "            model_name = model.split('_')[0]\n",
    "            models.append(MODEL_FILENAME_DICT[model_name].load_from_checkpoint(f\"{path}/{model}\"))\n",
    "            if verbose: print(f\"Model {model_name} loaded.\")\n",
    "\n",
    "        if verbose: print(10*'-' + ' Loading dataset ' + 10*'-')\n",
    "        # Load dataset\n",
    "        if 'dataset.pkl' in files:\n",
    "            with open(f\"{path}/dataset.pkl\", \"rb\") as f:\n",
    "                dataset = pickle.load(f)\n",
    "            if verbose: print('Dataset loaded.')\n",
    "        else:\n",
    "            dataset = None\n",
    "            if verbose: print('No dataset found in directory.')\n",
    "        \n",
    "        if verbose: print(10*'-' + ' Loading configuration ' + 10*'-')\n",
    "        # Load configuration\n",
    "        if 'configuration.pkl' in files:\n",
    "            with open(f\"{path}/configuration.pkl\", \"rb\") as f:\n",
    "                config_dict = pickle.load(f)\n",
    "            if verbose: print('Configuration loaded.')\n",
    "        else:\n",
    "            raise Exception('No configuration found in directory.')\n",
    "\n",
    "        # Create NeuralForecast object\n",
    "        neuralforecast = NeuralForecast(models=models, freq=config_dict['freq'])\n",
    "\n",
    "        # Dataset\n",
    "        if dataset is not None:\n",
    "            neuralforecast.dataset = dataset\n",
    "            neuralforecast.uids = config_dict['uids']\n",
    "            neuralforecast.last_dates = config_dict['last_dates']\n",
    "            neuralforecast.ds = config_dict['ds']\n",
    "            neuralforecast.sort_df = config_dict['sort_df']\n",
    "\n",
    "        # Fitted flag\n",
    "        neuralforecast._fitted = config_dict['_fitted']\n",
    "\n",
    "        return neuralforecast"
   ]
  },
  {
   "cell_type": "code",
   "execution_count": null,
   "id": "8898e349-8000-4668-a1c5-52c03c69e85a",
   "metadata": {},
   "outputs": [],
   "source": [
    "#| hide\n",
    "import logging\n",
    "import warnings\n",
    "logging.getLogger(\"pytorch_lightning\").setLevel(logging.ERROR)\n",
    "warnings.filterwarnings(\"ignore\")"
   ]
  },
  {
   "cell_type": "code",
   "execution_count": null,
   "id": "4bede563-78c0-40ee-ba76-f06f329cd772",
   "metadata": {},
   "outputs": [
    {
     "data": {
      "text/markdown": [
       "---\n",
       "\n",
       "[source](https://github.com/Nixtla/neuralforecast/blob/main/neuralforecast/core.py#L89){target=\"_blank\" style=\"float:right; font-size:smaller\"}\n",
       "\n",
       "### NeuralForecast.fit\n",
       "\n",
       ">      NeuralForecast.fit (df:Optional[pandas.core.frame.DataFrame]=None,\n",
       ">                          static_df:Optional[pandas.core.frame.DataFrame]=None,\n",
       ">                          val_size:Optional[int]=0, sort_df:bool=True,\n",
       ">                          verbose:bool=False)\n",
       "\n",
       "Fit the core.NeuralForecast.\n",
       "\n",
       "Fit `models` to a large set of time series from DataFrame `df`.\n",
       "and store fitted models for later inspection.\n",
       "\n",
       "**Parameters:**<br>\n",
       "`df`: pandas.DataFrame, with columns [`unique_id`, `ds`, `y`] and exogenous.<br>\n",
       "`static_df`: pandas.DataFrame, with columns [`unique_id`, `ds`] and static exogenous.<br>\n",
       "`val_size`: int, size of validation set.<br>\n",
       "`sort_df`: bool, sort df before fitting.\n",
       "\n",
       "**Returns:**<br>\n",
       "`self`: Returns with stored `NeuralForecast` fitted `models`."
      ],
      "text/plain": [
       "---\n",
       "\n",
       "[source](https://github.com/Nixtla/neuralforecast/blob/main/neuralforecast/core.py#L89){target=\"_blank\" style=\"float:right; font-size:smaller\"}\n",
       "\n",
       "### NeuralForecast.fit\n",
       "\n",
       ">      NeuralForecast.fit (df:Optional[pandas.core.frame.DataFrame]=None,\n",
       ">                          static_df:Optional[pandas.core.frame.DataFrame]=None,\n",
       ">                          val_size:Optional[int]=0, sort_df:bool=True,\n",
       ">                          verbose:bool=False)\n",
       "\n",
       "Fit the core.NeuralForecast.\n",
       "\n",
       "Fit `models` to a large set of time series from DataFrame `df`.\n",
       "and store fitted models for later inspection.\n",
       "\n",
       "**Parameters:**<br>\n",
       "`df`: pandas.DataFrame, with columns [`unique_id`, `ds`, `y`] and exogenous.<br>\n",
       "`static_df`: pandas.DataFrame, with columns [`unique_id`, `ds`] and static exogenous.<br>\n",
       "`val_size`: int, size of validation set.<br>\n",
       "`sort_df`: bool, sort df before fitting.\n",
       "\n",
       "**Returns:**<br>\n",
       "`self`: Returns with stored `NeuralForecast` fitted `models`."
      ]
     },
     "execution_count": null,
     "metadata": {},
     "output_type": "execute_result"
    }
   ],
   "source": [
    "show_doc(NeuralForecast.fit, title_level=3)"
   ]
  },
  {
   "cell_type": "code",
   "execution_count": null,
   "id": "f90209f6-16da-40a6-8302-1c5c2f66c619",
   "metadata": {},
   "outputs": [
    {
     "data": {
      "text/markdown": [
       "---\n",
       "\n",
       "[source](https://github.com/Nixtla/neuralforecast/blob/main/neuralforecast/core.py#L139){target=\"_blank\" style=\"float:right; font-size:smaller\"}\n",
       "\n",
       "### NeuralForecast.predict\n",
       "\n",
       ">      NeuralForecast.predict (df:Optional[pandas.core.frame.DataFrame]=None,\n",
       ">                              static_df:Optional[pandas.core.frame.DataFrame]=N\n",
       ">                              one, futr_df:Optional[pandas.core.frame.DataFrame\n",
       ">                              ]=None, sort_df:bool=True, verbose:bool=False,\n",
       ">                              **data_kwargs)\n",
       "\n",
       "Predict with core.NeuralForecast.\n",
       "\n",
       "Use stored fitted `models` to predict large set of time series from DataFrame `df`.        \n",
       "\n",
       "**Parameters:**<br>\n",
       "`df`: pandas.DataFrame, with columns [`unique_id`, `ds`, `y`] and exogenous.<br>\n",
       "`static_df`: pandas.DataFrame, with columns [`unique_id`, `ds`] and static exogenous.<br>\n",
       "`futr_df`: pandas.DataFrame, with [`unique_id`, `ds`] columns and `df`'s future exogenous.<br>\n",
       "\n",
       "**Returns:**<br>\n",
       "`fcsts_df`: pandas.DataFrame, with `models` columns for point predictions.<br>"
      ],
      "text/plain": [
       "---\n",
       "\n",
       "[source](https://github.com/Nixtla/neuralforecast/blob/main/neuralforecast/core.py#L139){target=\"_blank\" style=\"float:right; font-size:smaller\"}\n",
       "\n",
       "### NeuralForecast.predict\n",
       "\n",
       ">      NeuralForecast.predict (df:Optional[pandas.core.frame.DataFrame]=None,\n",
       ">                              static_df:Optional[pandas.core.frame.DataFrame]=N\n",
       ">                              one, futr_df:Optional[pandas.core.frame.DataFrame\n",
       ">                              ]=None, sort_df:bool=True, verbose:bool=False,\n",
       ">                              **data_kwargs)\n",
       "\n",
       "Predict with core.NeuralForecast.\n",
       "\n",
       "Use stored fitted `models` to predict large set of time series from DataFrame `df`.        \n",
       "\n",
       "**Parameters:**<br>\n",
       "`df`: pandas.DataFrame, with columns [`unique_id`, `ds`, `y`] and exogenous.<br>\n",
       "`static_df`: pandas.DataFrame, with columns [`unique_id`, `ds`] and static exogenous.<br>\n",
       "`futr_df`: pandas.DataFrame, with [`unique_id`, `ds`] columns and `df`'s future exogenous.<br>\n",
       "\n",
       "**Returns:**<br>\n",
       "`fcsts_df`: pandas.DataFrame, with `models` columns for point predictions.<br>"
      ]
     },
     "execution_count": null,
     "metadata": {},
     "output_type": "execute_result"
    }
   ],
   "source": [
    "show_doc(NeuralForecast.predict, title_level=3)"
   ]
  },
  {
   "cell_type": "code",
   "execution_count": null,
   "id": "19a8923a-f4f3-4e60-b9b9-a7088fc9bff5",
   "metadata": {},
   "outputs": [
    {
     "data": {
      "text/markdown": [
       "---\n",
       "\n",
       "[source](https://github.com/Nixtla/neuralforecast/blob/main/neuralforecast/core.py#L202){target=\"_blank\" style=\"float:right; font-size:smaller\"}\n",
       "\n",
       "### NeuralForecast.cross_validation\n",
       "\n",
       ">      NeuralForecast.cross_validation (df:pandas.core.frame.DataFrame=None,\n",
       ">                                       static_df:Optional[pandas.core.frame.Dat\n",
       ">                                       aFrame]=None, n_windows:int=1,\n",
       ">                                       step_size:int=1,\n",
       ">                                       val_size:Optional[int]=0,\n",
       ">                                       test_size:Optional[int]=None,\n",
       ">                                       sort_df:bool=True, verbose:bool=False,\n",
       ">                                       **data_kwargs)\n",
       "\n",
       "Temporal Cross-Validation with core.NeuralForecast.\n",
       "\n",
       "`core.NeuralForecast`'s cross-validation efficiently fits a list of NeuralForecast \n",
       "models through multiple windows, in either chained or rolled manner.\n",
       "\n",
       "*Parameters:*<br>\n",
       "`df`: pandas.DataFrame, with columns [`unique_id`, `ds`, `y`] and exogenous.<br>\n",
       "`static_df`: pandas.DataFrame, with columns [`unique_id`, `ds`] and static exogenous.<br>\n",
       "`n_windows`: int, number of windows used for cross validation.<br>\n",
       "`step_size`: int = 1, step size between each window.<br>\n",
       "`val_size`: Optional[int] = None, length of validation size. If passed, set `n_windows=None`.<br>\n",
       "`test_size`: Optional[int] = None, length of test size. If passed, set `n_windows=None`.<br>\n",
       "\n",
       "*Returns:*<br>\n",
       "`fcsts_df`: pandas.DataFrame, with insample `models` columns for point predictions and probabilistic\n",
       "predictions for all fitted `models`.<br>"
      ],
      "text/plain": [
       "---\n",
       "\n",
       "[source](https://github.com/Nixtla/neuralforecast/blob/main/neuralforecast/core.py#L202){target=\"_blank\" style=\"float:right; font-size:smaller\"}\n",
       "\n",
       "### NeuralForecast.cross_validation\n",
       "\n",
       ">      NeuralForecast.cross_validation (df:pandas.core.frame.DataFrame=None,\n",
       ">                                       static_df:Optional[pandas.core.frame.Dat\n",
       ">                                       aFrame]=None, n_windows:int=1,\n",
       ">                                       step_size:int=1,\n",
       ">                                       val_size:Optional[int]=0,\n",
       ">                                       test_size:Optional[int]=None,\n",
       ">                                       sort_df:bool=True, verbose:bool=False,\n",
       ">                                       **data_kwargs)\n",
       "\n",
       "Temporal Cross-Validation with core.NeuralForecast.\n",
       "\n",
       "`core.NeuralForecast`'s cross-validation efficiently fits a list of NeuralForecast \n",
       "models through multiple windows, in either chained or rolled manner.\n",
       "\n",
       "*Parameters:*<br>\n",
       "`df`: pandas.DataFrame, with columns [`unique_id`, `ds`, `y`] and exogenous.<br>\n",
       "`static_df`: pandas.DataFrame, with columns [`unique_id`, `ds`] and static exogenous.<br>\n",
       "`n_windows`: int, number of windows used for cross validation.<br>\n",
       "`step_size`: int = 1, step size between each window.<br>\n",
       "`val_size`: Optional[int] = None, length of validation size. If passed, set `n_windows=None`.<br>\n",
       "`test_size`: Optional[int] = None, length of test size. If passed, set `n_windows=None`.<br>\n",
       "\n",
       "*Returns:*<br>\n",
       "`fcsts_df`: pandas.DataFrame, with insample `models` columns for point predictions and probabilistic\n",
       "predictions for all fitted `models`.<br>"
      ]
     },
     "execution_count": null,
     "metadata": {},
     "output_type": "execute_result"
    }
   ],
   "source": [
    "show_doc(NeuralForecast.cross_validation, title_level=3)"
   ]
  },
  {
   "cell_type": "code",
   "execution_count": null,
   "id": "b534d29d-eecc-43ba-8468-c23305fa24a2",
   "metadata": {},
   "outputs": [],
   "source": [
    "#| hide\n",
    "import matplotlib.pyplot as plt\n",
    "import pytorch_lightning as pl\n",
    "\n",
    "from ray import tune\n",
    "\n",
    "from neuralforecast.auto import (\n",
    "    AutoMLP, AutoNBEATS, \n",
    "    AutoRNN, AutoTCN, AutoDilatedRNN,\n",
    ")\n",
    "\n",
    "from neuralforecast.models.rnn import RNN\n",
    "from neuralforecast.models.tcn import TCN\n",
    "from neuralforecast.models.dilated_rnn import DilatedRNN\n",
    "\n",
    "from neuralforecast.models.mlp import MLP\n",
    "from neuralforecast.models.nhits import NHITS\n",
    "from neuralforecast.models.nbeats import NBEATS\n",
    "from neuralforecast.models.nbeatsx import NBEATSx\n",
    "\n",
    "from neuralforecast.models.tft import TFT\n",
    "\n",
    "from neuralforecast.losses.pytorch import MQLoss\n",
    "from neuralforecast.utils import AirPassengersDF, AirPassengersPanel, AirPassengersStatic"
   ]
  },
  {
   "cell_type": "code",
   "execution_count": null,
   "id": "6fd1507c",
   "metadata": {},
   "outputs": [],
   "source": [
    "#| hide\n",
    "\n",
    "AirPassengersPanel_train = AirPassengersPanel[AirPassengersPanel['ds'] < AirPassengersPanel['ds'].values[-12]].reset_index(drop=True)\n",
    "AirPassengersPanel_test = AirPassengersPanel[AirPassengersPanel['ds'] >= AirPassengersPanel['ds'].values[-12]].reset_index(drop=True)\n",
    "AirPassengersPanel_test['y'] = np.nan\n",
    "AirPassengersPanel_test['y_[lag12]'] = np.nan"
   ]
  },
  {
   "cell_type": "code",
   "execution_count": null,
   "id": "0d3779a6-2d03-4ac3-9f01-8bd5cb306845",
   "metadata": {},
   "outputs": [
    {
     "data": {
      "text/html": [],
      "text/plain": [
       "<IPython.core.display.HTML object>"
      ]
     },
     "metadata": {},
     "output_type": "display_data"
    },
    {
     "name": "stdout",
     "output_type": "stream",
     "text": [
      "Sanity Checking DataLoader 0:   0%|          | 0/1 [00:00<?, ?it/s]\n",
      "Sanity Checking DataLoader 0:   0%|          | 0/1 [00:00<?, ?it/s]\n",
      "Epoch 0:   0%|          | 0/2 [00:00<?, ?it/s]                             \n",
      "Epoch 0:   0%|          | 0/2 [00:00<?, ?it/s]                             \n",
      "Epoch 0:  50%|█████     | 1/2 [00:00<00:00, 19.57it/s, loss=427, v_num=0, train_loss_step=427.0]\n",
      "Validation: 0it [00:00, ?it/s]\u001b[A0m \n",
      "Validation:   0%|          | 0/1 [00:00<?, ?it/s]\u001b[A\n",
      "Validation DataLoader 0:   0%|          | 0/1 [00:00<?, ?it/s]\u001b[A\n",
      "Epoch 0: 100%|██████████| 2/2 [00:00<00:00, 35.28it/s, loss=427, v_num=0, train_loss_step=427.0, val_loss=540.0]\n",
      "Epoch 0: 100%|██████████| 2/2 [00:00<00:00, 31.40it/s, loss=427, v_num=0, train_loss_step=427.0, val_loss=540.0, train_loss_epoch=427.0]\n",
      "Epoch 0:  50%|█████     | 1/2 [00:00<00:00, 19.41it/s, loss=427, v_num=0, train_loss_step=427.0]\n",
      "Validation: 0it [00:00, ?it/s]\u001b[A0m \n",
      "Validation:   0%|          | 0/1 [00:00<?, ?it/s]\u001b[A\n",
      "Validation DataLoader 0:   0%|          | 0/1 [00:00<?, ?it/s]\u001b[A\n",
      "Epoch 0: 100%|██████████| 2/2 [00:00<00:00, 33.79it/s, loss=427, v_num=0, train_loss_step=427.0, val_loss=540.0]\n",
      "Epoch 0: 100%|██████████| 2/2 [00:00<00:00, 29.59it/s, loss=427, v_num=0, train_loss_step=427.0, val_loss=540.0, train_loss_epoch=427.0]\n"
     ]
    },
    {
     "name": "stderr",
     "output_type": "stream",
     "text": [
      "\u001b[2m\u001b[36m(train_tune pid=14154)\u001b[0m /opt/anaconda3/envs/neuralforecast/lib/python3.10/multiprocessing/resource_tracker.py:224: UserWarning: resource_tracker: There appear to be 1 leaked semaphore objects to clean up at shutdown\n",
      "\u001b[2m\u001b[36m(train_tune pid=14154)\u001b[0m   warnings.warn('resource_tracker: There appear to be %d '\n",
      "\u001b[2m\u001b[36m(train_tune pid=14155)\u001b[0m /opt/anaconda3/envs/neuralforecast/lib/python3.10/multiprocessing/resource_tracker.py:224: UserWarning: resource_tracker: There appear to be 1 leaked semaphore objects to clean up at shutdown\n",
      "\u001b[2m\u001b[36m(train_tune pid=14155)\u001b[0m   warnings.warn('resource_tracker: There appear to be %d '\n"
     ]
    },
    {
     "data": {
      "application/vnd.jupyter.widget-view+json": {
       "model_id": "",
       "version_major": 2,
       "version_minor": 0
      },
      "text/plain": [
       "Sanity Checking: 0it [00:00, ?it/s]"
      ]
     },
     "metadata": {},
     "output_type": "display_data"
    },
    {
     "data": {
      "application/vnd.jupyter.widget-view+json": {
       "model_id": "56e2a1c12db840a887096b7389ce3158",
       "version_major": 2,
       "version_minor": 0
      },
      "text/plain": [
       "Training: 0it [00:00, ?it/s]"
      ]
     },
     "metadata": {},
     "output_type": "display_data"
    },
    {
     "data": {
      "application/vnd.jupyter.widget-view+json": {
       "model_id": "",
       "version_major": 2,
       "version_minor": 0
      },
      "text/plain": [
       "Validation: 0it [00:00, ?it/s]"
      ]
     },
     "metadata": {},
     "output_type": "display_data"
    },
    {
     "data": {
      "application/vnd.jupyter.widget-view+json": {
       "model_id": "",
       "version_major": 2,
       "version_minor": 0
      },
      "text/plain": [
       "Sanity Checking: 0it [00:00, ?it/s]"
      ]
     },
     "metadata": {},
     "output_type": "display_data"
    },
    {
     "data": {
      "application/vnd.jupyter.widget-view+json": {
       "model_id": "26d59aa28dea4d2ab41e18f396acea7a",
       "version_major": 2,
       "version_minor": 0
      },
      "text/plain": [
       "Training: 0it [00:00, ?it/s]"
      ]
     },
     "metadata": {},
     "output_type": "display_data"
    },
    {
     "data": {
      "application/vnd.jupyter.widget-view+json": {
       "model_id": "",
       "version_major": 2,
       "version_minor": 0
      },
      "text/plain": [
       "Validation: 0it [00:00, ?it/s]"
      ]
     },
     "metadata": {},
     "output_type": "display_data"
    },
    {
     "data": {
      "application/vnd.jupyter.widget-view+json": {
       "model_id": "",
       "version_major": 2,
       "version_minor": 0
      },
      "text/plain": [
       "Sanity Checking: 0it [00:00, ?it/s]"
      ]
     },
     "metadata": {},
     "output_type": "display_data"
    },
    {
     "data": {
      "application/vnd.jupyter.widget-view+json": {
       "model_id": "7fb8938d7af14b8caf21f2df25be8437",
       "version_major": 2,
       "version_minor": 0
      },
      "text/plain": [
       "Training: 0it [00:00, ?it/s]"
      ]
     },
     "metadata": {},
     "output_type": "display_data"
    },
    {
     "data": {
      "application/vnd.jupyter.widget-view+json": {
       "model_id": "",
       "version_major": 2,
       "version_minor": 0
      },
      "text/plain": [
       "Validation: 0it [00:00, ?it/s]"
      ]
     },
     "metadata": {},
     "output_type": "display_data"
    },
    {
     "data": {
      "application/vnd.jupyter.widget-view+json": {
       "model_id": "",
       "version_major": 2,
       "version_minor": 0
      },
      "text/plain": [
       "Sanity Checking: 0it [00:00, ?it/s]"
      ]
     },
     "metadata": {},
     "output_type": "display_data"
    },
    {
     "data": {
      "application/vnd.jupyter.widget-view+json": {
       "model_id": "770abe8c1dce42df801e5348d9c92298",
       "version_major": 2,
       "version_minor": 0
      },
      "text/plain": [
       "Training: 0it [00:00, ?it/s]"
      ]
     },
     "metadata": {},
     "output_type": "display_data"
    },
    {
     "data": {
      "application/vnd.jupyter.widget-view+json": {
       "model_id": "",
       "version_major": 2,
       "version_minor": 0
      },
      "text/plain": [
       "Validation: 0it [00:00, ?it/s]"
      ]
     },
     "metadata": {},
     "output_type": "display_data"
    },
    {
     "data": {
      "application/vnd.jupyter.widget-view+json": {
       "model_id": "",
       "version_major": 2,
       "version_minor": 0
      },
      "text/plain": [
       "Sanity Checking: 0it [00:00, ?it/s]"
      ]
     },
     "metadata": {},
     "output_type": "display_data"
    },
    {
     "data": {
      "application/vnd.jupyter.widget-view+json": {
       "model_id": "3eb15321f2a24976863b23072c10def0",
       "version_major": 2,
       "version_minor": 0
      },
      "text/plain": [
       "Training: 0it [00:00, ?it/s]"
      ]
     },
     "metadata": {},
     "output_type": "display_data"
    },
    {
     "data": {
      "application/vnd.jupyter.widget-view+json": {
       "model_id": "",
       "version_major": 2,
       "version_minor": 0
      },
      "text/plain": [
       "Validation: 0it [00:00, ?it/s]"
      ]
     },
     "metadata": {},
     "output_type": "display_data"
    },
    {
     "data": {
      "application/vnd.jupyter.widget-view+json": {
       "model_id": "",
       "version_major": 2,
       "version_minor": 0
      },
      "text/plain": [
       "Sanity Checking: 0it [00:00, ?it/s]"
      ]
     },
     "metadata": {},
     "output_type": "display_data"
    },
    {
     "data": {
      "application/vnd.jupyter.widget-view+json": {
       "model_id": "575525d1ab5a499c9b3caf1db6eb92df",
       "version_major": 2,
       "version_minor": 0
      },
      "text/plain": [
       "Training: 0it [00:00, ?it/s]"
      ]
     },
     "metadata": {},
     "output_type": "display_data"
    },
    {
     "data": {
      "application/vnd.jupyter.widget-view+json": {
       "model_id": "",
       "version_major": 2,
       "version_minor": 0
      },
      "text/plain": [
       "Validation: 0it [00:00, ?it/s]"
      ]
     },
     "metadata": {},
     "output_type": "display_data"
    },
    {
     "data": {
      "application/vnd.jupyter.widget-view+json": {
       "model_id": "4984e23f249845d58b8bc8054b32d498",
       "version_major": 2,
       "version_minor": 0
      },
      "text/plain": [
       "Predicting: 0it [00:00, ?it/s]"
      ]
     },
     "metadata": {},
     "output_type": "display_data"
    },
    {
     "data": {
      "application/vnd.jupyter.widget-view+json": {
       "model_id": "379dd5a5e9e64464bba036275c8e5c75",
       "version_major": 2,
       "version_minor": 0
      },
      "text/plain": [
       "Predicting: 0it [00:00, ?it/s]"
      ]
     },
     "metadata": {},
     "output_type": "display_data"
    },
    {
     "data": {
      "application/vnd.jupyter.widget-view+json": {
       "model_id": "fff4f01ec29140509c2f913702c7d994",
       "version_major": 2,
       "version_minor": 0
      },
      "text/plain": [
       "Predicting: 0it [00:00, ?it/s]"
      ]
     },
     "metadata": {},
     "output_type": "display_data"
    },
    {
     "data": {
      "application/vnd.jupyter.widget-view+json": {
       "model_id": "b2c9550c2da14f3d9aeee12af6784df3",
       "version_major": 2,
       "version_minor": 0
      },
      "text/plain": [
       "Predicting: 0it [00:00, ?it/s]"
      ]
     },
     "metadata": {},
     "output_type": "display_data"
    },
    {
     "data": {
      "application/vnd.jupyter.widget-view+json": {
       "model_id": "40662ba917164b389a1ab44baaa4793b",
       "version_major": 2,
       "version_minor": 0
      },
      "text/plain": [
       "Predicting: 0it [00:00, ?it/s]"
      ]
     },
     "metadata": {},
     "output_type": "display_data"
    },
    {
     "data": {
      "application/vnd.jupyter.widget-view+json": {
       "model_id": "f30a82cdcc3c4308b068a5a816e8bed8",
       "version_major": 2,
       "version_minor": 0
      },
      "text/plain": [
       "Predicting: 0it [00:00, ?it/s]"
      ]
     },
     "metadata": {},
     "output_type": "display_data"
    },
    {
     "data": {
      "application/vnd.jupyter.widget-view+json": {
       "model_id": "e4764043962345cc9269cf18e2f96066",
       "version_major": 2,
       "version_minor": 0
      },
      "text/plain": [
       "Predicting: 0it [00:00, ?it/s]"
      ]
     },
     "metadata": {},
     "output_type": "display_data"
    },
    {
     "data": {
      "application/vnd.jupyter.widget-view+json": {
       "model_id": "ec54a2358db9499798f2e5c4d7e35db2",
       "version_major": 2,
       "version_minor": 0
      },
      "text/plain": [
       "Predicting: 0it [00:00, ?it/s]"
      ]
     },
     "metadata": {},
     "output_type": "display_data"
    },
    {
     "data": {
      "application/vnd.jupyter.widget-view+json": {
       "model_id": "41830cf8095c49edbf60f180b4ff24d5",
       "version_major": 2,
       "version_minor": 0
      },
      "text/plain": [
       "Predicting: 0it [00:00, ?it/s]"
      ]
     },
     "metadata": {},
     "output_type": "display_data"
    },
    {
     "data": {
      "application/vnd.jupyter.widget-view+json": {
       "model_id": "66c6d274964546b7a1062b2b344ef903",
       "version_major": 2,
       "version_minor": 0
      },
      "text/plain": [
       "Predicting: 0it [00:00, ?it/s]"
      ]
     },
     "metadata": {},
     "output_type": "display_data"
    },
    {
     "data": {
      "text/html": [
       "<div>\n",
       "<style scoped>\n",
       "    .dataframe tbody tr th:only-of-type {\n",
       "        vertical-align: middle;\n",
       "    }\n",
       "\n",
       "    .dataframe tbody tr th {\n",
       "        vertical-align: top;\n",
       "    }\n",
       "\n",
       "    .dataframe thead th {\n",
       "        text-align: right;\n",
       "    }\n",
       "</style>\n",
       "<table border=\"1\" class=\"dataframe\">\n",
       "  <thead>\n",
       "    <tr style=\"text-align: right;\">\n",
       "      <th></th>\n",
       "      <th>ds</th>\n",
       "      <th>AutoDilatedRNN</th>\n",
       "      <th>DilatedRNN</th>\n",
       "      <th>RNN</th>\n",
       "      <th>TCN</th>\n",
       "      <th>AutoMLP</th>\n",
       "      <th>NBEATSx</th>\n",
       "      <th>NHITS-median</th>\n",
       "      <th>NHITS-lo-80.0</th>\n",
       "      <th>NHITS-hi-80.0</th>\n",
       "      <th>NHITS1</th>\n",
       "      <th>MLP</th>\n",
       "      <th>TFT</th>\n",
       "    </tr>\n",
       "    <tr>\n",
       "      <th>unique_id</th>\n",
       "      <th></th>\n",
       "      <th></th>\n",
       "      <th></th>\n",
       "      <th></th>\n",
       "      <th></th>\n",
       "      <th></th>\n",
       "      <th></th>\n",
       "      <th></th>\n",
       "      <th></th>\n",
       "      <th></th>\n",
       "      <th></th>\n",
       "      <th></th>\n",
       "      <th></th>\n",
       "    </tr>\n",
       "  </thead>\n",
       "  <tbody>\n",
       "    <tr>\n",
       "      <th>Airline1</th>\n",
       "      <td>1960-01-31</td>\n",
       "      <td>234.385971</td>\n",
       "      <td>236.590118</td>\n",
       "      <td>247.255615</td>\n",
       "      <td>234.752319</td>\n",
       "      <td>-45.241364</td>\n",
       "      <td>678.684875</td>\n",
       "      <td>425.486115</td>\n",
       "      <td>283.035767</td>\n",
       "      <td>562.339355</td>\n",
       "      <td>517.352051</td>\n",
       "      <td>209.637726</td>\n",
       "      <td>430.739044</td>\n",
       "    </tr>\n",
       "    <tr>\n",
       "      <th>Airline1</th>\n",
       "      <td>1960-02-29</td>\n",
       "      <td>233.061646</td>\n",
       "      <td>225.979706</td>\n",
       "      <td>250.908035</td>\n",
       "      <td>236.760727</td>\n",
       "      <td>31.320892</td>\n",
       "      <td>555.953674</td>\n",
       "      <td>438.245483</td>\n",
       "      <td>319.486267</td>\n",
       "      <td>579.793396</td>\n",
       "      <td>515.761536</td>\n",
       "      <td>252.845825</td>\n",
       "      <td>431.699280</td>\n",
       "    </tr>\n",
       "    <tr>\n",
       "      <th>Airline1</th>\n",
       "      <td>1960-03-31</td>\n",
       "      <td>232.771790</td>\n",
       "      <td>232.620911</td>\n",
       "      <td>265.564423</td>\n",
       "      <td>244.499420</td>\n",
       "      <td>17.796314</td>\n",
       "      <td>639.996216</td>\n",
       "      <td>461.540588</td>\n",
       "      <td>328.395081</td>\n",
       "      <td>575.569946</td>\n",
       "      <td>512.884705</td>\n",
       "      <td>155.705566</td>\n",
       "      <td>432.085449</td>\n",
       "    </tr>\n",
       "    <tr>\n",
       "      <th>Airline1</th>\n",
       "      <td>1960-04-30</td>\n",
       "      <td>233.581558</td>\n",
       "      <td>212.427322</td>\n",
       "      <td>273.607178</td>\n",
       "      <td>253.176727</td>\n",
       "      <td>77.660263</td>\n",
       "      <td>592.609070</td>\n",
       "      <td>458.035248</td>\n",
       "      <td>311.375916</td>\n",
       "      <td>529.530640</td>\n",
       "      <td>504.531311</td>\n",
       "      <td>134.091705</td>\n",
       "      <td>432.229675</td>\n",
       "    </tr>\n",
       "    <tr>\n",
       "      <th>Airline1</th>\n",
       "      <td>1960-05-31</td>\n",
       "      <td>232.001038</td>\n",
       "      <td>188.424973</td>\n",
       "      <td>266.553864</td>\n",
       "      <td>249.287018</td>\n",
       "      <td>92.796295</td>\n",
       "      <td>612.237976</td>\n",
       "      <td>422.007538</td>\n",
       "      <td>322.100464</td>\n",
       "      <td>545.143799</td>\n",
       "      <td>516.843262</td>\n",
       "      <td>213.386230</td>\n",
       "      <td>432.270752</td>\n",
       "    </tr>\n",
       "    <tr>\n",
       "      <th>Airline1</th>\n",
       "      <td>1960-06-30</td>\n",
       "      <td>237.172897</td>\n",
       "      <td>251.805847</td>\n",
       "      <td>256.558350</td>\n",
       "      <td>253.373810</td>\n",
       "      <td>74.431808</td>\n",
       "      <td>515.123779</td>\n",
       "      <td>420.655609</td>\n",
       "      <td>325.172363</td>\n",
       "      <td>542.607971</td>\n",
       "      <td>507.885223</td>\n",
       "      <td>212.013367</td>\n",
       "      <td>432.269348</td>\n",
       "    </tr>\n",
       "    <tr>\n",
       "      <th>Airline1</th>\n",
       "      <td>1960-07-31</td>\n",
       "      <td>233.442795</td>\n",
       "      <td>267.222839</td>\n",
       "      <td>247.701080</td>\n",
       "      <td>250.292908</td>\n",
       "      <td>49.677010</td>\n",
       "      <td>491.158447</td>\n",
       "      <td>437.759125</td>\n",
       "      <td>296.253448</td>\n",
       "      <td>560.019043</td>\n",
       "      <td>498.849121</td>\n",
       "      <td>125.930222</td>\n",
       "      <td>432.252106</td>\n",
       "    </tr>\n",
       "    <tr>\n",
       "      <th>Airline1</th>\n",
       "      <td>1960-08-31</td>\n",
       "      <td>232.146225</td>\n",
       "      <td>232.761383</td>\n",
       "      <td>238.930740</td>\n",
       "      <td>262.290863</td>\n",
       "      <td>15.551681</td>\n",
       "      <td>694.117798</td>\n",
       "      <td>449.629547</td>\n",
       "      <td>319.134155</td>\n",
       "      <td>545.521912</td>\n",
       "      <td>531.398438</td>\n",
       "      <td>173.269318</td>\n",
       "      <td>432.230530</td>\n",
       "    </tr>\n",
       "    <tr>\n",
       "      <th>Airline1</th>\n",
       "      <td>1960-09-30</td>\n",
       "      <td>236.744507</td>\n",
       "      <td>229.762344</td>\n",
       "      <td>261.544312</td>\n",
       "      <td>230.805878</td>\n",
       "      <td>26.789337</td>\n",
       "      <td>640.620728</td>\n",
       "      <td>423.380585</td>\n",
       "      <td>369.588867</td>\n",
       "      <td>564.988586</td>\n",
       "      <td>573.050964</td>\n",
       "      <td>109.188293</td>\n",
       "      <td>432.209290</td>\n",
       "    </tr>\n",
       "    <tr>\n",
       "      <th>Airline1</th>\n",
       "      <td>1960-10-31</td>\n",
       "      <td>236.894806</td>\n",
       "      <td>278.736420</td>\n",
       "      <td>284.907471</td>\n",
       "      <td>268.649872</td>\n",
       "      <td>-10.821588</td>\n",
       "      <td>656.061951</td>\n",
       "      <td>408.739990</td>\n",
       "      <td>310.974640</td>\n",
       "      <td>581.098389</td>\n",
       "      <td>593.231812</td>\n",
       "      <td>165.955353</td>\n",
       "      <td>432.190186</td>\n",
       "    </tr>\n",
       "    <tr>\n",
       "      <th>Airline1</th>\n",
       "      <td>1960-11-30</td>\n",
       "      <td>231.321747</td>\n",
       "      <td>232.477600</td>\n",
       "      <td>257.287811</td>\n",
       "      <td>228.392258</td>\n",
       "      <td>25.112381</td>\n",
       "      <td>774.091919</td>\n",
       "      <td>439.671692</td>\n",
       "      <td>388.695435</td>\n",
       "      <td>570.007263</td>\n",
       "      <td>588.958557</td>\n",
       "      <td>160.337799</td>\n",
       "      <td>432.173523</td>\n",
       "    </tr>\n",
       "    <tr>\n",
       "      <th>Airline1</th>\n",
       "      <td>1960-12-31</td>\n",
       "      <td>230.887939</td>\n",
       "      <td>247.280701</td>\n",
       "      <td>268.732666</td>\n",
       "      <td>240.414948</td>\n",
       "      <td>12.873820</td>\n",
       "      <td>769.216675</td>\n",
       "      <td>455.054749</td>\n",
       "      <td>356.473480</td>\n",
       "      <td>607.309753</td>\n",
       "      <td>586.114380</td>\n",
       "      <td>132.737427</td>\n",
       "      <td>432.159302</td>\n",
       "    </tr>\n",
       "    <tr>\n",
       "      <th>Airline2</th>\n",
       "      <td>1960-01-31</td>\n",
       "      <td>534.385986</td>\n",
       "      <td>536.576782</td>\n",
       "      <td>546.554260</td>\n",
       "      <td>534.769470</td>\n",
       "      <td>-73.031921</td>\n",
       "      <td>1191.850952</td>\n",
       "      <td>742.719421</td>\n",
       "      <td>493.345093</td>\n",
       "      <td>975.853333</td>\n",
       "      <td>900.990295</td>\n",
       "      <td>369.783600</td>\n",
       "      <td>730.739075</td>\n",
       "    </tr>\n",
       "    <tr>\n",
       "      <th>Airline2</th>\n",
       "      <td>1960-02-29</td>\n",
       "      <td>533.061646</td>\n",
       "      <td>525.942627</td>\n",
       "      <td>551.038879</td>\n",
       "      <td>536.815186</td>\n",
       "      <td>46.771767</td>\n",
       "      <td>980.895203</td>\n",
       "      <td>760.804993</td>\n",
       "      <td>555.059570</td>\n",
       "      <td>1006.204041</td>\n",
       "      <td>897.421997</td>\n",
       "      <td>447.405609</td>\n",
       "      <td>731.699280</td>\n",
       "    </tr>\n",
       "    <tr>\n",
       "      <th>Airline2</th>\n",
       "      <td>1960-03-31</td>\n",
       "      <td>532.771790</td>\n",
       "      <td>532.650269</td>\n",
       "      <td>566.033203</td>\n",
       "      <td>544.539001</td>\n",
       "      <td>23.618881</td>\n",
       "      <td>1126.294189</td>\n",
       "      <td>801.623657</td>\n",
       "      <td>569.765625</td>\n",
       "      <td>999.732910</td>\n",
       "      <td>894.598145</td>\n",
       "      <td>273.555054</td>\n",
       "      <td>732.085449</td>\n",
       "    </tr>\n",
       "    <tr>\n",
       "      <th>Airline2</th>\n",
       "      <td>1960-04-30</td>\n",
       "      <td>533.581543</td>\n",
       "      <td>512.193909</td>\n",
       "      <td>574.384155</td>\n",
       "      <td>553.177246</td>\n",
       "      <td>127.941605</td>\n",
       "      <td>1038.639648</td>\n",
       "      <td>795.649963</td>\n",
       "      <td>541.594971</td>\n",
       "      <td>916.814819</td>\n",
       "      <td>878.500488</td>\n",
       "      <td>240.764343</td>\n",
       "      <td>732.229675</td>\n",
       "    </tr>\n",
       "    <tr>\n",
       "      <th>Airline2</th>\n",
       "      <td>1960-05-31</td>\n",
       "      <td>532.001038</td>\n",
       "      <td>488.089661</td>\n",
       "      <td>566.199097</td>\n",
       "      <td>549.231812</td>\n",
       "      <td>161.394455</td>\n",
       "      <td>1072.499756</td>\n",
       "      <td>732.643433</td>\n",
       "      <td>564.641235</td>\n",
       "      <td>944.741821</td>\n",
       "      <td>901.089478</td>\n",
       "      <td>372.421722</td>\n",
       "      <td>732.270752</td>\n",
       "    </tr>\n",
       "    <tr>\n",
       "      <th>Airline2</th>\n",
       "      <td>1960-06-30</td>\n",
       "      <td>537.172913</td>\n",
       "      <td>551.518799</td>\n",
       "      <td>556.618774</td>\n",
       "      <td>553.390869</td>\n",
       "      <td>128.485794</td>\n",
       "      <td>898.692444</td>\n",
       "      <td>732.318665</td>\n",
       "      <td>568.608215</td>\n",
       "      <td>940.946777</td>\n",
       "      <td>883.772644</td>\n",
       "      <td>374.655518</td>\n",
       "      <td>732.269348</td>\n",
       "    </tr>\n",
       "    <tr>\n",
       "      <th>Airline2</th>\n",
       "      <td>1960-07-31</td>\n",
       "      <td>533.442810</td>\n",
       "      <td>567.220154</td>\n",
       "      <td>547.751770</td>\n",
       "      <td>550.231567</td>\n",
       "      <td>92.615433</td>\n",
       "      <td>852.292175</td>\n",
       "      <td>758.792603</td>\n",
       "      <td>515.334106</td>\n",
       "      <td>970.897644</td>\n",
       "      <td>866.861145</td>\n",
       "      <td>225.162231</td>\n",
       "      <td>732.252136</td>\n",
       "    </tr>\n",
       "    <tr>\n",
       "      <th>Airline2</th>\n",
       "      <td>1960-08-31</td>\n",
       "      <td>532.146240</td>\n",
       "      <td>532.673035</td>\n",
       "      <td>538.862915</td>\n",
       "      <td>562.323181</td>\n",
       "      <td>20.351896</td>\n",
       "      <td>1224.974854</td>\n",
       "      <td>781.589417</td>\n",
       "      <td>555.530273</td>\n",
       "      <td>947.242615</td>\n",
       "      <td>924.924316</td>\n",
       "      <td>303.099731</td>\n",
       "      <td>732.230530</td>\n",
       "    </tr>\n",
       "    <tr>\n",
       "      <th>Airline2</th>\n",
       "      <td>1960-09-30</td>\n",
       "      <td>536.744507</td>\n",
       "      <td>530.084290</td>\n",
       "      <td>562.306580</td>\n",
       "      <td>530.836548</td>\n",
       "      <td>36.089355</td>\n",
       "      <td>1124.327271</td>\n",
       "      <td>736.062012</td>\n",
       "      <td>642.316162</td>\n",
       "      <td>981.086060</td>\n",
       "      <td>998.020081</td>\n",
       "      <td>190.360733</td>\n",
       "      <td>732.209290</td>\n",
       "    </tr>\n",
       "    <tr>\n",
       "      <th>Airline2</th>\n",
       "      <td>1960-10-31</td>\n",
       "      <td>536.894836</td>\n",
       "      <td>578.984375</td>\n",
       "      <td>584.087891</td>\n",
       "      <td>568.658386</td>\n",
       "      <td>-12.445509</td>\n",
       "      <td>1156.788208</td>\n",
       "      <td>708.252136</td>\n",
       "      <td>540.893250</td>\n",
       "      <td>1004.898376</td>\n",
       "      <td>1031.848877</td>\n",
       "      <td>291.857971</td>\n",
       "      <td>732.190186</td>\n",
       "    </tr>\n",
       "    <tr>\n",
       "      <th>Airline2</th>\n",
       "      <td>1960-11-30</td>\n",
       "      <td>531.321777</td>\n",
       "      <td>531.930603</td>\n",
       "      <td>556.868408</td>\n",
       "      <td>528.324524</td>\n",
       "      <td>49.698593</td>\n",
       "      <td>1366.397949</td>\n",
       "      <td>762.097046</td>\n",
       "      <td>676.497314</td>\n",
       "      <td>988.829895</td>\n",
       "      <td>1025.802124</td>\n",
       "      <td>283.985962</td>\n",
       "      <td>732.173523</td>\n",
       "    </tr>\n",
       "    <tr>\n",
       "      <th>Airline2</th>\n",
       "      <td>1960-12-31</td>\n",
       "      <td>530.887939</td>\n",
       "      <td>547.559265</td>\n",
       "      <td>568.491272</td>\n",
       "      <td>540.258118</td>\n",
       "      <td>18.456013</td>\n",
       "      <td>1357.523926</td>\n",
       "      <td>789.658386</td>\n",
       "      <td>621.552124</td>\n",
       "      <td>1055.402954</td>\n",
       "      <td>1018.182556</td>\n",
       "      <td>231.127533</td>\n",
       "      <td>732.159302</td>\n",
       "    </tr>\n",
       "  </tbody>\n",
       "</table>\n",
       "</div>"
      ],
      "text/plain": [
       "                  ds  AutoDilatedRNN  DilatedRNN         RNN         TCN  \\\n",
       "unique_id                                                                  \n",
       "Airline1  1960-01-31      234.385971  236.590118  247.255615  234.752319   \n",
       "Airline1  1960-02-29      233.061646  225.979706  250.908035  236.760727   \n",
       "Airline1  1960-03-31      232.771790  232.620911  265.564423  244.499420   \n",
       "Airline1  1960-04-30      233.581558  212.427322  273.607178  253.176727   \n",
       "Airline1  1960-05-31      232.001038  188.424973  266.553864  249.287018   \n",
       "Airline1  1960-06-30      237.172897  251.805847  256.558350  253.373810   \n",
       "Airline1  1960-07-31      233.442795  267.222839  247.701080  250.292908   \n",
       "Airline1  1960-08-31      232.146225  232.761383  238.930740  262.290863   \n",
       "Airline1  1960-09-30      236.744507  229.762344  261.544312  230.805878   \n",
       "Airline1  1960-10-31      236.894806  278.736420  284.907471  268.649872   \n",
       "Airline1  1960-11-30      231.321747  232.477600  257.287811  228.392258   \n",
       "Airline1  1960-12-31      230.887939  247.280701  268.732666  240.414948   \n",
       "Airline2  1960-01-31      534.385986  536.576782  546.554260  534.769470   \n",
       "Airline2  1960-02-29      533.061646  525.942627  551.038879  536.815186   \n",
       "Airline2  1960-03-31      532.771790  532.650269  566.033203  544.539001   \n",
       "Airline2  1960-04-30      533.581543  512.193909  574.384155  553.177246   \n",
       "Airline2  1960-05-31      532.001038  488.089661  566.199097  549.231812   \n",
       "Airline2  1960-06-30      537.172913  551.518799  556.618774  553.390869   \n",
       "Airline2  1960-07-31      533.442810  567.220154  547.751770  550.231567   \n",
       "Airline2  1960-08-31      532.146240  532.673035  538.862915  562.323181   \n",
       "Airline2  1960-09-30      536.744507  530.084290  562.306580  530.836548   \n",
       "Airline2  1960-10-31      536.894836  578.984375  584.087891  568.658386   \n",
       "Airline2  1960-11-30      531.321777  531.930603  556.868408  528.324524   \n",
       "Airline2  1960-12-31      530.887939  547.559265  568.491272  540.258118   \n",
       "\n",
       "              AutoMLP      NBEATSx  NHITS-median  NHITS-lo-80.0  \\\n",
       "unique_id                                                         \n",
       "Airline1   -45.241364   678.684875    425.486115     283.035767   \n",
       "Airline1    31.320892   555.953674    438.245483     319.486267   \n",
       "Airline1    17.796314   639.996216    461.540588     328.395081   \n",
       "Airline1    77.660263   592.609070    458.035248     311.375916   \n",
       "Airline1    92.796295   612.237976    422.007538     322.100464   \n",
       "Airline1    74.431808   515.123779    420.655609     325.172363   \n",
       "Airline1    49.677010   491.158447    437.759125     296.253448   \n",
       "Airline1    15.551681   694.117798    449.629547     319.134155   \n",
       "Airline1    26.789337   640.620728    423.380585     369.588867   \n",
       "Airline1   -10.821588   656.061951    408.739990     310.974640   \n",
       "Airline1    25.112381   774.091919    439.671692     388.695435   \n",
       "Airline1    12.873820   769.216675    455.054749     356.473480   \n",
       "Airline2   -73.031921  1191.850952    742.719421     493.345093   \n",
       "Airline2    46.771767   980.895203    760.804993     555.059570   \n",
       "Airline2    23.618881  1126.294189    801.623657     569.765625   \n",
       "Airline2   127.941605  1038.639648    795.649963     541.594971   \n",
       "Airline2   161.394455  1072.499756    732.643433     564.641235   \n",
       "Airline2   128.485794   898.692444    732.318665     568.608215   \n",
       "Airline2    92.615433   852.292175    758.792603     515.334106   \n",
       "Airline2    20.351896  1224.974854    781.589417     555.530273   \n",
       "Airline2    36.089355  1124.327271    736.062012     642.316162   \n",
       "Airline2   -12.445509  1156.788208    708.252136     540.893250   \n",
       "Airline2    49.698593  1366.397949    762.097046     676.497314   \n",
       "Airline2    18.456013  1357.523926    789.658386     621.552124   \n",
       "\n",
       "           NHITS-hi-80.0       NHITS1         MLP         TFT  \n",
       "unique_id                                                      \n",
       "Airline1      562.339355   517.352051  209.637726  430.739044  \n",
       "Airline1      579.793396   515.761536  252.845825  431.699280  \n",
       "Airline1      575.569946   512.884705  155.705566  432.085449  \n",
       "Airline1      529.530640   504.531311  134.091705  432.229675  \n",
       "Airline1      545.143799   516.843262  213.386230  432.270752  \n",
       "Airline1      542.607971   507.885223  212.013367  432.269348  \n",
       "Airline1      560.019043   498.849121  125.930222  432.252106  \n",
       "Airline1      545.521912   531.398438  173.269318  432.230530  \n",
       "Airline1      564.988586   573.050964  109.188293  432.209290  \n",
       "Airline1      581.098389   593.231812  165.955353  432.190186  \n",
       "Airline1      570.007263   588.958557  160.337799  432.173523  \n",
       "Airline1      607.309753   586.114380  132.737427  432.159302  \n",
       "Airline2      975.853333   900.990295  369.783600  730.739075  \n",
       "Airline2     1006.204041   897.421997  447.405609  731.699280  \n",
       "Airline2      999.732910   894.598145  273.555054  732.085449  \n",
       "Airline2      916.814819   878.500488  240.764343  732.229675  \n",
       "Airline2      944.741821   901.089478  372.421722  732.270752  \n",
       "Airline2      940.946777   883.772644  374.655518  732.269348  \n",
       "Airline2      970.897644   866.861145  225.162231  732.252136  \n",
       "Airline2      947.242615   924.924316  303.099731  732.230530  \n",
       "Airline2      981.086060   998.020081  190.360733  732.209290  \n",
       "Airline2     1004.898376  1031.848877  291.857971  732.190186  \n",
       "Airline2      988.829895  1025.802124  283.985962  732.173523  \n",
       "Airline2     1055.402954  1018.182556  231.127533  732.159302  "
      ]
     },
     "execution_count": null,
     "metadata": {},
     "output_type": "execute_result"
    }
   ],
   "source": [
    "#| hide\n",
    "config = {'input_size': tune.choice([12, 24]), \n",
    "          'hidden_size': 256,\n",
    "          'max_epochs': 1,\n",
    "          'step_size': 12}\n",
    "\n",
    "config_drnn = {'input_size': tune.choice([-1]), \n",
    "               'encoder_hidden_size': tune.choice([5, 10]),\n",
    "               'max_epochs': 1,\n",
    "               'step_size': 1}\n",
    "\n",
    "fcst = NeuralForecast(\n",
    "    models=[\n",
    "        AutoDilatedRNN(h=12, config=config_drnn, cpus=1, num_samples=2),\n",
    "        DilatedRNN(h=12, input_size=-1, encoder_hidden_size=10, max_epochs=1,\n",
    "                   stat_exog_list=['airline1'],\n",
    "                   futr_exog_list=['trend'], hist_exog_list=['y_[lag12]']),\n",
    "        RNN(h=12, input_size=-1, encoder_hidden_size=10, max_epochs=1,\n",
    "            stat_exog_list=['airline1'],\n",
    "            futr_exog_list=['trend'], hist_exog_list=['y_[lag12]']),\n",
    "        TCN(h=12, input_size=-1, encoder_hidden_size=10, max_epochs=1,\n",
    "            stat_exog_list=['airline1'],\n",
    "            futr_exog_list=['trend'], hist_exog_list=['y_[lag12]']),\n",
    "        AutoMLP(h=12, config=config, cpus=1, num_samples=2),\n",
    "        NBEATSx(h=12, input_size=12, max_epochs=1,\n",
    "                stat_exog_list=['airline1'],\n",
    "                futr_exog_list=['trend'], hist_exog_list=['y_[lag12]']),\n",
    "        NHITS(h=12, input_size=24, loss=MQLoss(level=[80]), max_epochs=1),\n",
    "        NHITS(h=12, input_size=12, max_epochs=1,\n",
    "              stat_exog_list=['airline1'],\n",
    "              futr_exog_list=['trend'], hist_exog_list=['y_[lag12]']),\n",
    "        MLP(h=12, input_size=12, max_epochs=1,\n",
    "            stat_exog_list=['airline1'],\n",
    "            futr_exog_list=['trend'], hist_exog_list=['y_[lag12]']),\n",
    "        TFT(h=12, input_size=24, max_epochs=1),\n",
    "    ],\n",
    "    freq='M'\n",
    ")\n",
    "fcst.fit(df=AirPassengersPanel_train, static_df=AirPassengersStatic)\n",
    "forecasts = fcst.predict(futr_df=AirPassengersPanel_test)\n",
    "forecasts"
   ]
  },
  {
   "cell_type": "code",
   "execution_count": null,
   "id": "40038532-fd68-4375-b7da-ba5bc2491c5e",
   "metadata": {},
   "outputs": [
    {
     "data": {
      "image/png": "[encoded data removed]",
      "text/plain": [
       "<Figure size 2000x700 with 1 Axes>"
      ]
     },
     "metadata": {},
     "output_type": "display_data"
    }
   ],
   "source": [
    "#| hide\n",
    "fig, ax = plt.subplots(1, 1, figsize = (20, 7))\n",
    "plot_df = pd.concat([AirPassengersPanel_train, forecasts.reset_index()]).set_index('ds')\n",
    "\n",
    "plot_df[plot_df['unique_id']=='Airline1'].drop(['unique_id','trend','y_[lag12]'], axis=1).plot(ax=ax, linewidth=2)\n",
    "\n",
    "ax.set_title('AirPassengers Forecast', fontsize=22)\n",
    "ax.set_ylabel('Monthly Passengers', fontsize=20)\n",
    "ax.set_xlabel('Timestamp [t]', fontsize=20)\n",
    "ax.legend(prop={'size': 15})\n",
    "ax.grid()"
   ]
  },
  {
   "cell_type": "code",
   "execution_count": null,
   "id": "7d61909b",
   "metadata": {},
   "outputs": [
    {
     "data": {
      "image/png": "[encoded data removed]",
      "text/plain": [
       "<Figure size 2000x700 with 1 Axes>"
      ]
     },
     "metadata": {},
     "output_type": "display_data"
    }
   ],
   "source": [
    "#| hide\n",
    "fig, ax = plt.subplots(1, 1, figsize = (20, 7))\n",
    "plot_df = pd.concat([AirPassengersPanel_train, forecasts.reset_index()]).set_index('ds')\n",
    "\n",
    "plot_df[plot_df['unique_id']=='Airline2'].drop(['unique_id','trend','y_[lag12]'], axis=1).plot(ax=ax, linewidth=2)\n",
    "\n",
    "ax.set_title('AirPassengers Forecast', fontsize=22)\n",
    "ax.set_ylabel('Monthly Passengers', fontsize=20)\n",
    "ax.set_xlabel('Timestamp [t]', fontsize=20)\n",
    "ax.legend(prop={'size': 15})\n",
    "ax.grid()"
   ]
  },
  {
   "cell_type": "code",
   "execution_count": null,
   "id": "c4a8162a-3d9d-48df-a314-3a2ce0377e36",
   "metadata": {},
   "outputs": [
    {
     "data": {
      "text/html": [],
      "text/plain": [
       "<IPython.core.display.HTML object>"
      ]
     },
     "metadata": {},
     "output_type": "display_data"
    },
    {
     "name": "stderr",
     "output_type": "stream",
     "text": [
      "2022-11-24 17:40:29,584\tWARNING util.py:244 -- The `start_trial` operation took 0.503 s, which may be a performance bottleneck.\n"
     ]
    },
    {
     "name": "stdout",
     "output_type": "stream",
     "text": [
      "Sanity Checking DataLoader 0:   0%|          | 0/1 [00:00<?, ?it/s]\n",
      "Sanity Checking DataLoader 0: 100%|██████████| 1/1 [00:00<00:00,  4.60it/s]\n",
      "                                                                           \n",
      "Epoch 0:   0%|          | 0/2 [00:00<?, ?it/s] \n",
      "Epoch 0:  50%|█████     | 1/2 [00:00<00:00, 19.91it/s, loss=417, v_num=0, train_loss_step=417.0]\n",
      "Validation: 0it [00:00, ?it/s]\u001b[A0m \n",
      "Validation:   0%|          | 0/1 [00:00<?, ?it/s]\u001b[A\n",
      "Validation DataLoader 0:   0%|          | 0/1 [00:00<?, ?it/s]\u001b[A\n",
      "Epoch 0: 100%|██████████| 2/2 [00:00<00:00, 35.57it/s, loss=417, v_num=0, train_loss_step=417.0, val_loss=533.0]\n",
      "Epoch 0: 100%|██████████| 2/2 [00:00<00:00, 31.66it/s, loss=417, v_num=0, train_loss_step=417.0, val_loss=533.0, train_loss_epoch=417.0]\n"
     ]
    },
    {
     "name": "stderr",
     "output_type": "stream",
     "text": [
      "\u001b[2m\u001b[36m(train_tune pid=14180)\u001b[0m /opt/anaconda3/envs/neuralforecast/lib/python3.10/multiprocessing/resource_tracker.py:224: UserWarning: resource_tracker: There appear to be 1 leaked semaphore objects to clean up at shutdown\n",
      "\u001b[2m\u001b[36m(train_tune pid=14180)\u001b[0m   warnings.warn('resource_tracker: There appear to be %d '\n"
     ]
    },
    {
     "data": {
      "application/vnd.jupyter.widget-view+json": {
       "model_id": "",
       "version_major": 2,
       "version_minor": 0
      },
      "text/plain": [
       "Sanity Checking: 0it [00:00, ?it/s]"
      ]
     },
     "metadata": {},
     "output_type": "display_data"
    },
    {
     "data": {
      "application/vnd.jupyter.widget-view+json": {
       "model_id": "09c375ac87a74b26b8cf79ddd8b08f90",
       "version_major": 2,
       "version_minor": 0
      },
      "text/plain": [
       "Training: 0it [00:00, ?it/s]"
      ]
     },
     "metadata": {},
     "output_type": "display_data"
    },
    {
     "data": {
      "application/vnd.jupyter.widget-view+json": {
       "model_id": "",
       "version_major": 2,
       "version_minor": 0
      },
      "text/plain": [
       "Validation: 0it [00:00, ?it/s]"
      ]
     },
     "metadata": {},
     "output_type": "display_data"
    },
    {
     "data": {
      "application/vnd.jupyter.widget-view+json": {
       "model_id": "b64302ab612a497c9c44c851a542ef24",
       "version_major": 2,
       "version_minor": 0
      },
      "text/plain": [
       "Predicting: 0it [00:00, ?it/s]"
      ]
     },
     "metadata": {},
     "output_type": "display_data"
    },
    {
     "data": {
      "application/vnd.jupyter.widget-view+json": {
       "model_id": "",
       "version_major": 2,
       "version_minor": 0
      },
      "text/plain": [
       "Sanity Checking: 0it [00:00, ?it/s]"
      ]
     },
     "metadata": {},
     "output_type": "display_data"
    },
    {
     "data": {
      "application/vnd.jupyter.widget-view+json": {
       "model_id": "14f383dd535b470ea9ae228308ff055f",
       "version_major": 2,
       "version_minor": 0
      },
      "text/plain": [
       "Training: 0it [00:00, ?it/s]"
      ]
     },
     "metadata": {},
     "output_type": "display_data"
    },
    {
     "data": {
      "application/vnd.jupyter.widget-view+json": {
       "model_id": "",
       "version_major": 2,
       "version_minor": 0
      },
      "text/plain": [
       "Validation: 0it [00:00, ?it/s]"
      ]
     },
     "metadata": {},
     "output_type": "display_data"
    },
    {
     "data": {
      "application/vnd.jupyter.widget-view+json": {
       "model_id": "a7b483660468404c96a840ece6fe291f",
       "version_major": 2,
       "version_minor": 0
      },
      "text/plain": [
       "Predicting: 0it [00:00, ?it/s]"
      ]
     },
     "metadata": {},
     "output_type": "display_data"
    }
   ],
   "source": [
    "#| hide\n",
    "fcst = NeuralForecast(\n",
    "    models=[\n",
    "        DilatedRNN(h=12, input_size=-1, encoder_hidden_size=10, max_epochs=1),\n",
    "        AutoMLP(h=12, config=config, cpus=1, num_samples=1),\n",
    "        NHITS(h=12, input_size=12, max_epochs=1)\n",
    "    ],\n",
    "    freq='M'\n",
    ")\n",
    "cv_df = fcst.cross_validation(df=AirPassengersPanel, static_df=AirPassengersStatic, n_windows=3, step_size=1)"
   ]
  },
  {
   "cell_type": "code",
   "execution_count": null,
   "id": "17c5ea12-ed87-4e46-ad04-3088e7167dfd",
   "metadata": {},
   "outputs": [],
   "source": [
    "#| hide\n",
    "#test cross validation no leakage\n",
    "def test_cross_validation(df, static_df, h, test_size):\n",
    "    if (test_size - h) % 1:\n",
    "        raise Exception(\"`test_size - h` should be module `step_size`\")\n",
    "    \n",
    "    n_windows = int((test_size - h) / 1) + 1\n",
    "    Y_test_df = df.groupby('unique_id').tail(test_size)\n",
    "    Y_train_df = df.drop(Y_test_df.index)\n",
    "    config = {'input_size': tune.choice([12, 24]),\n",
    "              'step_size': 12, 'hidden_size': 256, 'max_epochs': 1}\n",
    "    config_drnn = {'input_size': tune.choice([-1]), 'encoder_hidden_size': tune.choice([5, 10]),\n",
    "                   'max_epochs': 1}\n",
    "    fcst = NeuralForecast(\n",
    "        models=[\n",
    "            AutoDilatedRNN(h=12, config=config_drnn, cpus=1, num_samples=1),\n",
    "            DilatedRNN(h=12, input_size=-1, encoder_hidden_size=5, max_epochs=1),\n",
    "            RNN(h=12, input_size=-1, encoder_hidden_size=5, max_epochs=1,\n",
    "                stat_exog_list=['airline1'], futr_exog_list=['trend'], hist_exog_list=['y_[lag12]']),\n",
    "            TCN(h=12, input_size=-1, encoder_hidden_size=5, max_epochs=1,\n",
    "                stat_exog_list=['airline1'], futr_exog_list=['trend'], hist_exog_list=['y_[lag12]']),\n",
    "            AutoMLP(h=12, config=config, cpus=1, num_samples=1),\n",
    "            MLP(h=12, input_size=12, max_epochs=1, scaler_type='robust'),\n",
    "            NBEATSx(h=12, input_size=12, max_epochs=1,\n",
    "                    stat_exog_list=['airline1'], futr_exog_list=['trend'], hist_exog_list=['y_[lag12]']),\n",
    "            NHITS(h=12, input_size=12, max_epochs=1, scaler_type='robust'),\n",
    "            NHITS(h=12, input_size=12, loss=MQLoss(level=[80]), max_epochs=1),\n",
    "            TFT(h=12, input_size=24, max_epochs=1, scaler_type='robust')\n",
    "        ],\n",
    "        freq='M'\n",
    "    )\n",
    "    fcst.fit(df=Y_train_df, static_df=static_df)\n",
    "    Y_hat_df = fcst.predict(futr_df=Y_test_df)\n",
    "    Y_hat_df = Y_hat_df.merge(Y_test_df, how='left', on=['unique_id', 'ds'])\n",
    "    last_dates = Y_train_df.groupby('unique_id').tail(1)\n",
    "    last_dates = last_dates[['unique_id', 'ds']].rename(columns={'ds': 'cutoff'})\n",
    "    Y_hat_df = Y_hat_df.merge(last_dates, how='left', on='unique_id')\n",
    "    \n",
    "    #cross validation\n",
    "    fcst = NeuralForecast(\n",
    "        models=[\n",
    "            AutoDilatedRNN(h=12, config=config_drnn, cpus=1, num_samples=1),\n",
    "            DilatedRNN(h=12, input_size=-1, encoder_hidden_size=5, max_epochs=1),\n",
    "            RNN(h=12, input_size=-1, encoder_hidden_size=5, max_epochs=1,\n",
    "                stat_exog_list=['airline1'], futr_exog_list=['trend'], hist_exog_list=['y_[lag12]']),\n",
    "            TCN(h=12, input_size=-1, encoder_hidden_size=5, max_epochs=1,\n",
    "                stat_exog_list=['airline1'], futr_exog_list=['trend'], hist_exog_list=['y_[lag12]']),\n",
    "            AutoMLP(h=12, config=config, cpus=1, num_samples=1),\n",
    "            MLP(h=12, input_size=12, max_epochs=1, scaler_type='robust'),\n",
    "            NBEATSx(h=12, input_size=12, max_epochs=1,\n",
    "                    stat_exog_list=['airline1'], futr_exog_list=['trend'], hist_exog_list=['y_[lag12]']),\n",
    "            NHITS(h=12, input_size=12, max_epochs=1, scaler_type='robust'),\n",
    "            NHITS(h=12, input_size=12, loss=MQLoss(level=[80]), max_epochs=1),\n",
    "            TFT(h=12, input_size=24, max_epochs=1, scaler_type='robust')\n",
    "        ],\n",
    "        freq='M'\n",
    "    )\n",
    "    Y_hat_df_cv = fcst.cross_validation(df, static_df=static_df, test_size=test_size, \n",
    "                                        n_windows=None)\n",
    "    pd.testing.assert_frame_equal(\n",
    "        Y_hat_df[Y_hat_df_cv.columns],\n",
    "        Y_hat_df_cv,\n",
    "        check_dtype=False\n",
    "    )"
   ]
  },
  {
   "cell_type": "code",
   "execution_count": null,
   "id": "b0467904-748e-42ec-99cc-bac514626304",
   "metadata": {},
   "outputs": [
    {
     "data": {
      "text/html": [],
      "text/plain": [
       "<IPython.core.display.HTML object>"
      ]
     },
     "metadata": {},
     "output_type": "display_data"
    },
    {
     "name": "stdout",
     "output_type": "stream",
     "text": [
      "Sanity Checking: 0it [00:00, ?it/s] \n",
      "Sanity Checking DataLoader 0:   0%|          | 0/1 [00:00<?, ?it/s]\n",
      "Epoch 0:   0%|          | 0/2 [00:00<?, ?it/s]                             \n",
      "Epoch 0:  50%|█████     | 1/2 [00:00<00:00, 23.70it/s, loss=427, v_num=0, train_loss_step=427.0]\n",
      "Validation: 0it [00:00, ?it/s]\u001b[A0m \n",
      "Validation:   0%|          | 0/1 [00:00<?, ?it/s]\u001b[A\n",
      "Validation DataLoader 0:   0%|          | 0/1 [00:00<?, ?it/s]\u001b[A\n",
      "Epoch 0: 100%|██████████| 2/2 [00:00<00:00, 42.76it/s, loss=427, v_num=0, train_loss_step=427.0, val_loss=540.0]\n",
      "Epoch 0: 100%|██████████| 2/2 [00:00<00:00, 33.18it/s, loss=427, v_num=0, train_loss_step=427.0, val_loss=540.0, train_loss_epoch=427.0]\n"
     ]
    },
    {
     "name": "stderr",
     "output_type": "stream",
     "text": [
      "\u001b[2m\u001b[36m(train_tune pid=14239)\u001b[0m /opt/anaconda3/envs/neuralforecast/lib/python3.10/multiprocessing/resource_tracker.py:224: UserWarning: resource_tracker: There appear to be 1 leaked semaphore objects to clean up at shutdown\n",
      "\u001b[2m\u001b[36m(train_tune pid=14239)\u001b[0m   warnings.warn('resource_tracker: There appear to be %d '\n"
     ]
    },
    {
     "data": {
      "application/vnd.jupyter.widget-view+json": {
       "model_id": "",
       "version_major": 2,
       "version_minor": 0
      },
      "text/plain": [
       "Sanity Checking: 0it [00:00, ?it/s]"
      ]
     },
     "metadata": {},
     "output_type": "display_data"
    },
    {
     "data": {
      "application/vnd.jupyter.widget-view+json": {
       "model_id": "c0df54eab72447f08749c65ea7669250",
       "version_major": 2,
       "version_minor": 0
      },
      "text/plain": [
       "Training: 0it [00:00, ?it/s]"
      ]
     },
     "metadata": {},
     "output_type": "display_data"
    },
    {
     "data": {
      "application/vnd.jupyter.widget-view+json": {
       "model_id": "",
       "version_major": 2,
       "version_minor": 0
      },
      "text/plain": [
       "Validation: 0it [00:00, ?it/s]"
      ]
     },
     "metadata": {},
     "output_type": "display_data"
    },
    {
     "data": {
      "application/vnd.jupyter.widget-view+json": {
       "model_id": "02b41023c41f412f94ed404d0d6bc829",
       "version_major": 2,
       "version_minor": 0
      },
      "text/plain": [
       "Predicting: 0it [00:00, ?it/s]"
      ]
     },
     "metadata": {},
     "output_type": "display_data"
    },
    {
     "data": {
      "application/vnd.jupyter.widget-view+json": {
       "model_id": "",
       "version_major": 2,
       "version_minor": 0
      },
      "text/plain": [
       "Sanity Checking: 0it [00:00, ?it/s]"
      ]
     },
     "metadata": {},
     "output_type": "display_data"
    },
    {
     "data": {
      "application/vnd.jupyter.widget-view+json": {
       "model_id": "a5dde2a7d0e84c4b9daaa61e55b45de7",
       "version_major": 2,
       "version_minor": 0
      },
      "text/plain": [
       "Training: 0it [00:00, ?it/s]"
      ]
     },
     "metadata": {},
     "output_type": "display_data"
    },
    {
     "data": {
      "application/vnd.jupyter.widget-view+json": {
       "model_id": "",
       "version_major": 2,
       "version_minor": 0
      },
      "text/plain": [
       "Validation: 0it [00:00, ?it/s]"
      ]
     },
     "metadata": {},
     "output_type": "display_data"
    },
    {
     "data": {
      "application/vnd.jupyter.widget-view+json": {
       "model_id": "33c4698138d44770bd3e4d81227715db",
       "version_major": 2,
       "version_minor": 0
      },
      "text/plain": [
       "Predicting: 0it [00:00, ?it/s]"
      ]
     },
     "metadata": {},
     "output_type": "display_data"
    },
    {
     "data": {
      "application/vnd.jupyter.widget-view+json": {
       "model_id": "",
       "version_major": 2,
       "version_minor": 0
      },
      "text/plain": [
       "Sanity Checking: 0it [00:00, ?it/s]"
      ]
     },
     "metadata": {},
     "output_type": "display_data"
    },
    {
     "data": {
      "application/vnd.jupyter.widget-view+json": {
       "model_id": "e77b0083ff47459b9a70b9473f215a96",
       "version_major": 2,
       "version_minor": 0
      },
      "text/plain": [
       "Training: 0it [00:00, ?it/s]"
      ]
     },
     "metadata": {},
     "output_type": "display_data"
    },
    {
     "data": {
      "application/vnd.jupyter.widget-view+json": {
       "model_id": "",
       "version_major": 2,
       "version_minor": 0
      },
      "text/plain": [
       "Validation: 0it [00:00, ?it/s]"
      ]
     },
     "metadata": {},
     "output_type": "display_data"
    },
    {
     "data": {
      "application/vnd.jupyter.widget-view+json": {
       "model_id": "5b52b1b681ff4288aa03f98acb5d1ddd",
       "version_major": 2,
       "version_minor": 0
      },
      "text/plain": [
       "Predicting: 0it [00:00, ?it/s]"
      ]
     },
     "metadata": {},
     "output_type": "display_data"
    },
    {
     "data": {
      "application/vnd.jupyter.widget-view+json": {
       "model_id": "",
       "version_major": 2,
       "version_minor": 0
      },
      "text/plain": [
       "Sanity Checking: 0it [00:00, ?it/s]"
      ]
     },
     "metadata": {},
     "output_type": "display_data"
    },
    {
     "data": {
      "application/vnd.jupyter.widget-view+json": {
       "model_id": "950a15c7d51e44f2af7d5ee3ebccdb7c",
       "version_major": 2,
       "version_minor": 0
      },
      "text/plain": [
       "Training: 0it [00:00, ?it/s]"
      ]
     },
     "metadata": {},
     "output_type": "display_data"
    },
    {
     "data": {
      "application/vnd.jupyter.widget-view+json": {
       "model_id": "",
       "version_major": 2,
       "version_minor": 0
      },
      "text/plain": [
       "Validation: 0it [00:00, ?it/s]"
      ]
     },
     "metadata": {},
     "output_type": "display_data"
    },
    {
     "data": {
      "application/vnd.jupyter.widget-view+json": {
       "model_id": "2f74ec06791441c59ea705c18cc9b6e6",
       "version_major": 2,
       "version_minor": 0
      },
      "text/plain": [
       "Predicting: 0it [00:00, ?it/s]"
      ]
     },
     "metadata": {},
     "output_type": "display_data"
    },
    {
     "data": {
      "application/vnd.jupyter.widget-view+json": {
       "model_id": "",
       "version_major": 2,
       "version_minor": 0
      },
      "text/plain": [
       "Sanity Checking: 0it [00:00, ?it/s]"
      ]
     },
     "metadata": {},
     "output_type": "display_data"
    },
    {
     "data": {
      "application/vnd.jupyter.widget-view+json": {
       "model_id": "44767f1573504e7c83f6a52cf158d57c",
       "version_major": 2,
       "version_minor": 0
      },
      "text/plain": [
       "Training: 0it [00:00, ?it/s]"
      ]
     },
     "metadata": {},
     "output_type": "display_data"
    },
    {
     "data": {
      "application/vnd.jupyter.widget-view+json": {
       "model_id": "",
       "version_major": 2,
       "version_minor": 0
      },
      "text/plain": [
       "Validation: 0it [00:00, ?it/s]"
      ]
     },
     "metadata": {},
     "output_type": "display_data"
    },
    {
     "data": {
      "application/vnd.jupyter.widget-view+json": {
       "model_id": "a46033aa20af4dcabc1a60604693c0fc",
       "version_major": 2,
       "version_minor": 0
      },
      "text/plain": [
       "Predicting: 0it [00:00, ?it/s]"
      ]
     },
     "metadata": {},
     "output_type": "display_data"
    },
    {
     "data": {
      "application/vnd.jupyter.widget-view+json": {
       "model_id": "",
       "version_major": 2,
       "version_minor": 0
      },
      "text/plain": [
       "Sanity Checking: 0it [00:00, ?it/s]"
      ]
     },
     "metadata": {},
     "output_type": "display_data"
    },
    {
     "data": {
      "application/vnd.jupyter.widget-view+json": {
       "model_id": "96e3c40a7c804384be15922ccfd6b34d",
       "version_major": 2,
       "version_minor": 0
      },
      "text/plain": [
       "Training: 0it [00:00, ?it/s]"
      ]
     },
     "metadata": {},
     "output_type": "display_data"
    },
    {
     "data": {
      "application/vnd.jupyter.widget-view+json": {
       "model_id": "",
       "version_major": 2,
       "version_minor": 0
      },
      "text/plain": [
       "Validation: 0it [00:00, ?it/s]"
      ]
     },
     "metadata": {},
     "output_type": "display_data"
    },
    {
     "data": {
      "application/vnd.jupyter.widget-view+json": {
       "model_id": "0a207751d500493d9ed46192ea7660b0",
       "version_major": 2,
       "version_minor": 0
      },
      "text/plain": [
       "Predicting: 0it [00:00, ?it/s]"
      ]
     },
     "metadata": {},
     "output_type": "display_data"
    }
   ],
   "source": [
    "#| hide\n",
    "test_cross_validation(AirPassengersPanel, AirPassengersStatic, h=12, test_size=12)"
   ]
  },
  {
   "cell_type": "code",
   "execution_count": null,
   "id": "dcf52c54",
   "metadata": {},
   "outputs": [
    {
     "data": {
      "text/html": [],
      "text/plain": [
       "<IPython.core.display.HTML object>"
      ]
     },
     "metadata": {},
     "output_type": "display_data"
    },
    {
     "name": "stdout",
     "output_type": "stream",
     "text": [
      "Sanity Checking DataLoader 0:   0%|          | 0/1 [00:00<?, ?it/s]\n",
      "Sanity Checking DataLoader 0:   0%|          | 0/1 [00:00<?, ?it/s]\n",
      "Epoch 0:  50%|█████     | 1/2 [00:00<00:00, 13.91it/s, loss=427, v_num=0, train_loss_step=427.0]\n",
      "Validation: 0it [00:00, ?it/s]\u001b[A0m \n",
      "Validation:   0%|          | 0/1 [00:00<?, ?it/s]\u001b[A\n",
      "Validation DataLoader 0:   0%|          | 0/1 [00:00<?, ?it/s]\u001b[A\n",
      "Epoch 0: 100%|██████████| 2/2 [00:00<00:00, 24.36it/s, loss=427, v_num=0, train_loss_step=427.0, val_loss=540.0]\n",
      "                                                                       \u001b[A\n",
      "Epoch 0:  50%|█████     | 1/2 [00:00<00:00, 23.25it/s, loss=427, v_num=0, train_loss_step=427.0]\n",
      "Validation: 0it [00:00, ?it/s]\u001b[A0m \n",
      "Validation:   0%|          | 0/1 [00:00<?, ?it/s]\u001b[A\n",
      "Validation DataLoader 0:   0%|          | 0/1 [00:00<?, ?it/s]\u001b[A\n",
      "Epoch 0: 100%|██████████| 2/2 [00:00<00:00, 22.79it/s, loss=427, v_num=0, train_loss_step=427.0, val_loss=540.0]\n",
      "                                                                       \u001b[A\n",
      "Epoch 0: 100%|██████████| 2/2 [00:00<00:00, 20.27it/s, loss=427, v_num=0, train_loss_step=427.0, val_loss=540.0, train_loss_epoch=427.0]\n",
      "Epoch 0: 100%|██████████| 2/2 [00:00<00:00, 17.13it/s, loss=427, v_num=0, train_loss_step=427.0, val_loss=540.0, train_loss_epoch=427.0]\n"
     ]
    },
    {
     "name": "stderr",
     "output_type": "stream",
     "text": [
      "\u001b[2m\u001b[36m(train_tune pid=14267)\u001b[0m /opt/anaconda3/envs/neuralforecast/lib/python3.10/multiprocessing/resource_tracker.py:224: UserWarning: resource_tracker: There appear to be 1 leaked semaphore objects to clean up at shutdown\n",
      "\u001b[2m\u001b[36m(train_tune pid=14267)\u001b[0m   warnings.warn('resource_tracker: There appear to be %d '\n",
      "\u001b[2m\u001b[36m(train_tune pid=14266)\u001b[0m /opt/anaconda3/envs/neuralforecast/lib/python3.10/multiprocessing/resource_tracker.py:224: UserWarning: resource_tracker: There appear to be 1 leaked semaphore objects to clean up at shutdown\n",
      "\u001b[2m\u001b[36m(train_tune pid=14266)\u001b[0m   warnings.warn('resource_tracker: There appear to be %d '\n"
     ]
    },
    {
     "data": {
      "application/vnd.jupyter.widget-view+json": {
       "model_id": "",
       "version_major": 2,
       "version_minor": 0
      },
      "text/plain": [
       "Sanity Checking: 0it [00:00, ?it/s]"
      ]
     },
     "metadata": {},
     "output_type": "display_data"
    },
    {
     "data": {
      "application/vnd.jupyter.widget-view+json": {
       "model_id": "8ec90d82dcfe4e839450494af04f905c",
       "version_major": 2,
       "version_minor": 0
      },
      "text/plain": [
       "Training: 0it [00:00, ?it/s]"
      ]
     },
     "metadata": {},
     "output_type": "display_data"
    },
    {
     "data": {
      "application/vnd.jupyter.widget-view+json": {
       "model_id": "",
       "version_major": 2,
       "version_minor": 0
      },
      "text/plain": [
       "Validation: 0it [00:00, ?it/s]"
      ]
     },
     "metadata": {},
     "output_type": "display_data"
    },
    {
     "data": {
      "application/vnd.jupyter.widget-view+json": {
       "model_id": "",
       "version_major": 2,
       "version_minor": 0
      },
      "text/plain": [
       "Sanity Checking: 0it [00:00, ?it/s]"
      ]
     },
     "metadata": {},
     "output_type": "display_data"
    },
    {
     "data": {
      "application/vnd.jupyter.widget-view+json": {
       "model_id": "ca6cb465b1374ca0ac5ceddceba4509d",
       "version_major": 2,
       "version_minor": 0
      },
      "text/plain": [
       "Training: 0it [00:00, ?it/s]"
      ]
     },
     "metadata": {},
     "output_type": "display_data"
    },
    {
     "data": {
      "application/vnd.jupyter.widget-view+json": {
       "model_id": "",
       "version_major": 2,
       "version_minor": 0
      },
      "text/plain": [
       "Validation: 0it [00:00, ?it/s]"
      ]
     },
     "metadata": {},
     "output_type": "display_data"
    },
    {
     "data": {
      "application/vnd.jupyter.widget-view+json": {
       "model_id": "53456f4874ee4500ba40c9c40e0c70e8",
       "version_major": 2,
       "version_minor": 0
      },
      "text/plain": [
       "Predicting: 0it [00:00, ?it/s]"
      ]
     },
     "metadata": {},
     "output_type": "display_data"
    },
    {
     "data": {
      "application/vnd.jupyter.widget-view+json": {
       "model_id": "b6dee2da0ae0445c9d35849a6604e370",
       "version_major": 2,
       "version_minor": 0
      },
      "text/plain": [
       "Predicting: 0it [00:00, ?it/s]"
      ]
     },
     "metadata": {},
     "output_type": "display_data"
    },
    {
     "data": {
      "application/vnd.jupyter.widget-view+json": {
       "model_id": "5ef3727f87404b5885eba0310044d850",
       "version_major": 2,
       "version_minor": 0
      },
      "text/plain": [
       "Predicting: 0it [00:00, ?it/s]"
      ]
     },
     "metadata": {},
     "output_type": "display_data"
    },
    {
     "data": {
      "application/vnd.jupyter.widget-view+json": {
       "model_id": "b743637004c34add9f2d4bffa06e300f",
       "version_major": 2,
       "version_minor": 0
      },
      "text/plain": [
       "Predicting: 0it [00:00, ?it/s]"
      ]
     },
     "metadata": {},
     "output_type": "display_data"
    }
   ],
   "source": [
    "#| hide\n",
    "# test save and load\n",
    "config = {'input_size': tune.choice([12, 24]), \n",
    "          'hidden_size': 256,\n",
    "          'max_epochs': 1,\n",
    "          'step_size': 12}\n",
    "\n",
    "config_drnn = {'input_size': tune.choice([-1]),\n",
    "               'encoder_hidden_size': tune.choice([5, 10]),\n",
    "               'max_epochs': 1}\n",
    "\n",
    "fcst = NeuralForecast(\n",
    "    models=[\n",
    "        AutoRNN(h=12, config=config_drnn, cpus=1, num_samples=2, refit_with_val=True),\n",
    "        DilatedRNN(h=12, input_size=-1, encoder_hidden_size=5, max_epochs=1),\n",
    "        AutoMLP(h=12, config=config, cpus=1, num_samples=2),\n",
    "        NHITS(h=12, input_size=12, max_epochs=1,\n",
    "              futr_exog_list=['trend'], hist_exog_list=['y_[lag12]'])\n",
    "    ],\n",
    "    freq='M'\n",
    ")\n",
    "fcst.fit(AirPassengersPanel_train)\n",
    "forecasts1 = fcst.predict(futr_df=AirPassengersPanel_test)\n",
    "fcst.save(path='./examples/debug_run/', model_index=None, overwrite=True, save_dataset=True)"
   ]
  },
  {
   "cell_type": "code",
   "execution_count": null,
   "id": "c22ad495",
   "metadata": {},
   "outputs": [
    {
     "data": {
      "application/vnd.jupyter.widget-view+json": {
       "model_id": "",
       "version_major": 2,
       "version_minor": 0
      },
      "text/plain": [
       "Sanity Checking: 0it [00:00, ?it/s]"
      ]
     },
     "metadata": {},
     "output_type": "display_data"
    },
    {
     "data": {
      "application/vnd.jupyter.widget-view+json": {
       "model_id": "8244ce853de44cd395818547ecb0ff89",
       "version_major": 2,
       "version_minor": 0
      },
      "text/plain": [
       "Training: 0it [00:00, ?it/s]"
      ]
     },
     "metadata": {},
     "output_type": "display_data"
    },
    {
     "data": {
      "application/vnd.jupyter.widget-view+json": {
       "model_id": "",
       "version_major": 2,
       "version_minor": 0
      },
      "text/plain": [
       "Validation: 0it [00:00, ?it/s]"
      ]
     },
     "metadata": {},
     "output_type": "display_data"
    },
    {
     "data": {
      "application/vnd.jupyter.widget-view+json": {
       "model_id": "",
       "version_major": 2,
       "version_minor": 0
      },
      "text/plain": [
       "Sanity Checking: 0it [00:00, ?it/s]"
      ]
     },
     "metadata": {},
     "output_type": "display_data"
    },
    {
     "data": {
      "application/vnd.jupyter.widget-view+json": {
       "model_id": "9e4529cbd6db4bf59d2b2a92ad961168",
       "version_major": 2,
       "version_minor": 0
      },
      "text/plain": [
       "Training: 0it [00:00, ?it/s]"
      ]
     },
     "metadata": {},
     "output_type": "display_data"
    },
    {
     "data": {
      "application/vnd.jupyter.widget-view+json": {
       "model_id": "",
       "version_major": 2,
       "version_minor": 0
      },
      "text/plain": [
       "Validation: 0it [00:00, ?it/s]"
      ]
     },
     "metadata": {},
     "output_type": "display_data"
    }
   ],
   "source": [
    "#| hide\n",
    "# test `enable_checkpointing=True` should generate chkpt\n",
    "shutil.rmtree('lightning_logs')\n",
    "fcst = NeuralForecast(\n",
    "    models=[\n",
    "        MLP(h=12, input_size=12, max_epochs=1, enable_checkpointing=True),\n",
    "        RNN(h=12, input_size=-1, max_epochs=1, enable_checkpointing=True)\n",
    "    ],\n",
    "    freq='M'\n",
    ")\n",
    "fcst.fit(AirPassengersPanel_train)\n",
    "last_log = f\"lightning_logs/{os.listdir('lightning_logs')[-1]}\"\n",
    "no_chkpt_found = ~np.any([file.endswith('checkpoints') for file in os.listdir(last_log)])\n",
    "test_eq(no_chkpt_found, False)"
   ]
  },
  {
   "cell_type": "code",
   "execution_count": null,
   "id": "5ac7a0b1",
   "metadata": {},
   "outputs": [
    {
     "data": {
      "application/vnd.jupyter.widget-view+json": {
       "model_id": "",
       "version_major": 2,
       "version_minor": 0
      },
      "text/plain": [
       "Sanity Checking: 0it [00:00, ?it/s]"
      ]
     },
     "metadata": {},
     "output_type": "display_data"
    },
    {
     "data": {
      "application/vnd.jupyter.widget-view+json": {
       "model_id": "5caf49ba6f7b457b9c2133e4ef46d11a",
       "version_major": 2,
       "version_minor": 0
      },
      "text/plain": [
       "Training: 0it [00:00, ?it/s]"
      ]
     },
     "metadata": {},
     "output_type": "display_data"
    },
    {
     "data": {
      "application/vnd.jupyter.widget-view+json": {
       "model_id": "",
       "version_major": 2,
       "version_minor": 0
      },
      "text/plain": [
       "Validation: 0it [00:00, ?it/s]"
      ]
     },
     "metadata": {},
     "output_type": "display_data"
    },
    {
     "data": {
      "application/vnd.jupyter.widget-view+json": {
       "model_id": "",
       "version_major": 2,
       "version_minor": 0
      },
      "text/plain": [
       "Sanity Checking: 0it [00:00, ?it/s]"
      ]
     },
     "metadata": {},
     "output_type": "display_data"
    },
    {
     "data": {
      "application/vnd.jupyter.widget-view+json": {
       "model_id": "61df981daf314eb9abfcc3482beae41d",
       "version_major": 2,
       "version_minor": 0
      },
      "text/plain": [
       "Training: 0it [00:00, ?it/s]"
      ]
     },
     "metadata": {},
     "output_type": "display_data"
    },
    {
     "data": {
      "application/vnd.jupyter.widget-view+json": {
       "model_id": "",
       "version_major": 2,
       "version_minor": 0
      },
      "text/plain": [
       "Validation: 0it [00:00, ?it/s]"
      ]
     },
     "metadata": {},
     "output_type": "display_data"
    }
   ],
   "source": [
    "#| hide\n",
    "# test `enable_checkpointing=False` should not generate chkpt\n",
    "shutil.rmtree('lightning_logs')\n",
    "fcst = NeuralForecast(\n",
    "    models=[\n",
    "        MLP(h=12, input_size=12, max_epochs=1),\n",
    "        RNN(h=12, input_size=-1, max_epochs=1)\n",
    "    ],\n",
    "    freq='M'\n",
    ")\n",
    "fcst.fit(AirPassengersPanel_train)\n",
    "last_log = f\"lightning_logs/{os.listdir('lightning_logs')[-1]}\"\n",
    "no_chkpt_found = ~np.any([file.endswith('checkpoints') for file in os.listdir(last_log)])\n",
    "test_eq(no_chkpt_found, True)"
   ]
  },
  {
   "cell_type": "code",
   "execution_count": null,
   "id": "b8a20e2b",
   "metadata": {},
   "outputs": [
    {
     "data": {
      "application/vnd.jupyter.widget-view+json": {
       "model_id": "df8c2c7454134d898948b457a682cb52",
       "version_major": 2,
       "version_minor": 0
      },
      "text/plain": [
       "Predicting: 0it [00:00, ?it/s]"
      ]
     },
     "metadata": {},
     "output_type": "display_data"
    },
    {
     "data": {
      "application/vnd.jupyter.widget-view+json": {
       "model_id": "405b94e95e6047898030328f831c1c3f",
       "version_major": 2,
       "version_minor": 0
      },
      "text/plain": [
       "Predicting: 0it [00:00, ?it/s]"
      ]
     },
     "metadata": {},
     "output_type": "display_data"
    },
    {
     "data": {
      "application/vnd.jupyter.widget-view+json": {
       "model_id": "49d8073693714bb4af1114c477ffca64",
       "version_major": 2,
       "version_minor": 0
      },
      "text/plain": [
       "Predicting: 0it [00:00, ?it/s]"
      ]
     },
     "metadata": {},
     "output_type": "display_data"
    },
    {
     "data": {
      "application/vnd.jupyter.widget-view+json": {
       "model_id": "981f954b4bbe4ec392b0ab7fd1c77c70",
       "version_major": 2,
       "version_minor": 0
      },
      "text/plain": [
       "Predicting: 0it [00:00, ?it/s]"
      ]
     },
     "metadata": {},
     "output_type": "display_data"
    }
   ],
   "source": [
    "#| hide\n",
    "fcst2 = NeuralForecast.load(path='./examples/debug_run/')\n",
    "forecasts2 = fcst2.predict(futr_df=AirPassengersPanel_test)"
   ]
  },
  {
   "cell_type": "code",
   "execution_count": null,
   "id": "9b380063",
   "metadata": {},
   "outputs": [],
   "source": [
    "#| hide\n",
    "pairwise_tuples = [('AutoRNN', 'RNN'), ('DilatedRNN','DilatedRNN'), ('AutoMLP','MLP'), ('NHITS','NHITS')]\n",
    "for model1, model2 in pairwise_tuples:\n",
    "    np.allclose(forecasts1[model1], forecasts2[model2])"
   ]
  }
 ],
 "metadata": {
  "kernelspec": {
   "display_name": "neuralforecast",
   "language": "python",
   "name": "neuralforecast"
  }
 },
 "nbformat": 4,
 "nbformat_minor": 5
}
