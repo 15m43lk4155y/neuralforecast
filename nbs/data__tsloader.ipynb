{
 "cells": [
  {
   "cell_type": "code",
   "execution_count": null,
   "metadata": {},
   "outputs": [],
   "source": [
    "# default_exp data.tsloader"
   ]
  },
  {
   "cell_type": "markdown",
   "metadata": {},
   "source": [
    "# TimeSeriesLoader\n",
    "> Data Loader for Time Series data"
   ]
  },
  {
   "cell_type": "code",
   "execution_count": null,
   "metadata": {},
   "outputs": [],
   "source": [
    "#hide\n",
    "from nbdev import *\n",
    "%load_ext autoreload\n",
    "%autoreload 2"
   ]
  },
  {
   "cell_type": "code",
   "execution_count": null,
   "metadata": {},
   "outputs": [],
   "source": [
    "#export\n",
    "from typing import Dict\n",
    "\n",
    "import torch as t\n",
    "from torch.utils.data import DataLoader\n",
    "from fastcore.foundation import patch"
   ]
  },
  {
   "cell_type": "code",
   "execution_count": null,
   "metadata": {},
   "outputs": [],
   "source": [
    "#export\n",
    "class TimeSeriesLoader(DataLoader):\n",
    "\n",
    "    def __init__(self, dataset, **kwargs) -> 'TimeSeriesLoader':\n",
    "        \"\"\"Wraps the pytorch `DataLoader` with a special collate function \n",
    "        for the `TimeSeriesDataset` ouputs.\n",
    "        \"\"\"\n",
    "        if 'collate_fn' in kwargs.keys():\n",
    "            raise Exeption(\n",
    "                'This class wraps the pytorch `DataLoader` with a '\n",
    "                'special collate function. If you want to use yours '\n",
    "                'simply use `DataLoader`'\n",
    "            )\n",
    "        kwargs_ = {**kwargs, **dict(collate_fn=self.collate_fn)}\n",
    "        DataLoader.__init__(self, dataset=dataset, **kwargs_)"
   ]
  },
  {
   "cell_type": "code",
   "execution_count": null,
   "metadata": {},
   "outputs": [],
   "source": [
    "#export\n",
    "@patch\n",
    "def collate_fn(self: TimeSeriesLoader, batch: Dict[str, t.Tensor]):\n",
    "    \"\"\"Special collate fn for the `TimeSeriesDataset`.\n",
    "    \n",
    "    Notes\n",
    "    -----\n",
    "    [1] Adapted from https://github.com/pytorch/pytorch/blob/master/torch/utils/data/_utils/collate.py.\n",
    "    \"\"\"\n",
    "\n",
    "    elem = batch[0]\n",
    "    elem_type = type(elem)\n",
    "    if isinstance(elem, t.Tensor):\n",
    "        out = None\n",
    "        if t.utils.data.get_worker_info() is not None:\n",
    "            # If we're in a background process, concatenate directly into a\n",
    "            # shared memory tensor to avoid an extra copy\n",
    "            numel = sum([x.numel() for x in batch])\n",
    "            storage = elem.storage()._new_shared(numel)\n",
    "            out = elem.new(storage)\n",
    "        return t.cat(batch, out=out)\n",
    "    elif isinstance(elem, collections.abc.Mapping):\n",
    "        return {key: self.collate_fn([d[key] for d in batch]) for key in elem}\n",
    "\n",
    "    raise TypeError(f'Unknown {elem_type}')"
   ]
  },
  {
   "cell_type": "code",
   "execution_count": null,
   "metadata": {},
   "outputs": [],
   "source": [
    "from nixtla.data.tsdataset import TimeSeriesDataset\n",
    "from nixtla.data.utils import create_synthetic_tsdata\n",
    "\n",
    "Y_df, S_df, X_df = create_synthetic_tsdata(sort=True)\n",
    "dataset = TimeSeriesDataset(Y_df=Y_df, skip_nonsamplable=True)\n",
    "dataloader = TimeSeriesLoader(dataset=dataset)"
   ]
  },
  {
   "cell_type": "code",
   "execution_count": null,
   "metadata": {},
   "outputs": [],
   "source": [
    "for batch in dataloader:\n",
    "    batch"
   ]
  },
  {
   "cell_type": "code",
   "execution_count": null,
   "metadata": {},
   "outputs": [],
   "source": []
  }
 ],
 "metadata": {
  "kernelspec": {
   "display_name": "nixtla",
   "language": "python",
   "name": "nixtla"
  }
 },
 "nbformat": 4,
 "nbformat_minor": 4
}
