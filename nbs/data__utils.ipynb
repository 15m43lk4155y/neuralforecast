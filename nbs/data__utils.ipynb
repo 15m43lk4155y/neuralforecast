{
 "cells": [
  {
   "cell_type": "code",
   "execution_count": null,
   "metadata": {},
   "outputs": [],
   "source": [
    "# default_exp data.utils"
   ]
  },
  {
   "cell_type": "code",
   "execution_count": null,
   "metadata": {},
   "outputs": [],
   "source": [
    "#hide\n",
    "%load_ext autoreload\n",
    "%autoreload 2"
   ]
  },
  {
   "cell_type": "markdown",
   "metadata": {},
   "source": [
    "## Data Utils\n",
    "> Collection of utilities to work with Time Series data and tests."
   ]
  },
  {
   "cell_type": "code",
   "execution_count": null,
   "metadata": {},
   "outputs": [],
   "source": [
    "#export\n",
    "from typing import Tuple\n",
    "\n",
    "import numpy as np\n",
    "import pandas as pd"
   ]
  },
  {
   "cell_type": "code",
   "execution_count": null,
   "metadata": {},
   "outputs": [],
   "source": [
    "#export\n",
    "def create_synthetic_tsdata(n_ts: int = 64) -> Tuple[pd.DataFrame,\n",
    "                                                     pd.DataFrame,\n",
    "                                                     pd.DataFrame]:\n",
    "    \"\"\"Creates synthetic time serie data.\"\"\"\n",
    "    uids = np.array([f'uid_{i}' for i in range(n_ts)])\n",
    "    dss = pd.date_range(end='2020-12-31', periods=n_ts)\n",
    "    \n",
    "    df = []\n",
    "    for idx in range(n_ts):\n",
    "        ts = pd.DataFrame({'unique_id': np.repeat(uids[idx], idx + 1),\n",
    "                           'ds': dss[-(idx + 1):],\n",
    "                           'y': 1 + np.arange(idx + 1)})\n",
    "        df.append(ts)\n",
    "    \n",
    "    df = pd.concat(df)\n",
    "    df['day_of_week'] = df['ds'].dt.day_of_week\n",
    "    df['future_1'] = df['y'] + 1\n",
    "    df['id_ts'] = df['unique_id'].astype('category').cat.codes\n",
    "    \n",
    "    Y_df = df.filter(items=['unique_id', 'ds', 'y'])\n",
    "    X_df = df.filter(items=['unique_id', 'ds', 'day_of_week', 'future_1'])\n",
    "    S_df = df.filter(items=['unique_id', 'id_ts']).drop_duplicates()\n",
    "    \n",
    "    return Y_df, X_df, S_df"
   ]
  },
  {
   "cell_type": "code",
   "execution_count": null,
   "metadata": {},
   "outputs": [
    {
     "name": "stdout",
     "output_type": "stream",
     "text": [
      "  unique_id         ds  y\n",
      "0     uid_0 2020-12-31  1\n",
      "0     uid_1 2020-12-30  1\n",
      "1     uid_1 2020-12-31  2\n",
      "0     uid_2 2020-12-29  1\n",
      "1     uid_2 2020-12-30  2\n",
      "  unique_id         ds  day_of_week  future_1\n",
      "0     uid_0 2020-12-31            3         2\n",
      "0     uid_1 2020-12-30            2         2\n",
      "1     uid_1 2020-12-31            3         3\n",
      "0     uid_2 2020-12-29            1         2\n",
      "1     uid_2 2020-12-30            2         3\n",
      "  unique_id  id_ts\n",
      "0     uid_0      0\n",
      "0     uid_1      1\n",
      "0     uid_2     12\n",
      "0     uid_3     23\n",
      "0     uid_4     34\n"
     ]
    }
   ],
   "source": [
    "for df in create_synthetic_tsdata():\n",
    "    print(df.head())"
   ]
  },
  {
   "cell_type": "code",
   "execution_count": null,
   "metadata": {},
   "outputs": [],
   "source": []
  }
 ],
 "metadata": {
  "kernelspec": {
   "display_name": "nixtla",
   "language": "python",
   "name": "nixtla"
  }
 },
 "nbformat": 4,
 "nbformat_minor": 4
}
