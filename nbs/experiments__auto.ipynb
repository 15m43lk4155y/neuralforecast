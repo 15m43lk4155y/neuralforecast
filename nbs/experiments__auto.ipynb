{
 "cells": [
  {
   "cell_type": "code",
   "execution_count": null,
   "metadata": {},
   "outputs": [],
   "source": [
    "# default_exp experiments.auto"
   ]
  },
  {
   "cell_type": "code",
   "execution_count": null,
   "metadata": {},
   "outputs": [],
   "source": [
    "#export\n",
    "import numpy as np\n",
    "import pandas as pd\n",
    "import neuralforecast as nf\n",
    "from hyperopt import hp"
   ]
  },
  {
   "cell_type": "code",
   "execution_count": null,
   "metadata": {},
   "outputs": [],
   "source": [
    "#export\n",
    "def auto(config_dict: dict, \n",
    "         Y_df: pd.DataFrame, X_df: pd.DataFrame, S_df: pd.DataFrame,\n",
    "         loss_function_val: callable, loss_functions_test: dict, \n",
    "         forecast_horizon: int, ts_in_val: int, ts_in_test: int,\n",
    "         return_forecasts: bool = False, return_model: bool = True, \n",
    "         test_auto: bool = False, verbose: bool = False):\n",
    "    \"\"\"\n",
    "    Auto hyperparameter tuning function.\n",
    "\n",
    "    Parameters\n",
    "    ----------\n",
    "    config_dict: Dict\n",
    "        Dictionary with configuration. Keys should be name of models.\n",
    "        For each model specify the hyperparameter space \n",
    "        (None will use default suggested space), hyperopt steps and timeout.\n",
    "    Y_df: pd.DataFrame\n",
    "        Target time series with columns ['unique_id', 'ds', 'y'].\n",
    "    X_df: pd.DataFrame\n",
    "        Exogenous time series with columns ['unique_id', 'ds', 'y'].\n",
    "    S_df: pd.DataFrame\n",
    "        Static exogenous variables with columns ['unique_id', 'ds']. \n",
    "        and static variables. \n",
    "    loss_function_val: function\n",
    "        Loss function used for validation.\n",
    "    loss_functions_test: Dictionary\n",
    "        Loss functions used for test evaluation. \n",
    "        (function name: string, function: fun)\n",
    "    forecast_horizon: int\n",
    "        Forecast horizon\n",
    "    ts_in_val: int\n",
    "        Number of timestamps in validation.\n",
    "    ts_in_test: int\n",
    "        Number of timestamps in test.\n",
    "    return_forecasts: bool\n",
    "        If true return forecast on test.\n",
    "    return_model: bool\n",
    "        If true return model.\n",
    "    test_auto: bool\n",
    "        If true, will only run one training step and hyperopt iteration for each model. \n",
    "        For testing purposes, to ensure your pipeline will finish running, without waiting.\n",
    "    verbose:\n",
    "        If true, will print summary of dataset, model and training.\n",
    "    \"\"\"\n",
    "\n",
    "    if test_auto:\n",
    "        print('WARNING: test_auto=True, MODELS WILL NOT BE TRAINED PROPERLY!')\n",
    "\n",
    "    # Data characteristics\n",
    "    n_series = Y_df['unique_id'].nunique()\n",
    "    n_x = len(X_df.columns)-2 if X_df is not None else 0\n",
    "    n_s = len(S_df.columns)-1 if S_df is not None else 0\n",
    "    frequency = pd.infer_freq(Y_df['ds'])\n",
    "\n",
    "    # Hyperopt\n",
    "    models = config_dict.keys()\n",
    "    output_dict = {}\n",
    "    best_model = None\n",
    "    best_loss = np.inf\n",
    "    for model in models:\n",
    "        model_config = config_dict[model]\n",
    "\n",
    "        hyperopt_steps = model_config['hyperopt_steps'] if (test_auto==False) else 1\n",
    "\n",
    "        if model_config['space'] is None:\n",
    "            # If hyperparameter space is None, use predefined space for the model\n",
    "            # Available spaces, [N-BEATS, N-HiTS, RNN]\n",
    "            space = instantiate_space(model=model, n_time_out=forecast_horizon, \n",
    "                                      n_series=n_series, n_x=n_x, n_s=n_s, \n",
    "                                      frequency=frequency, test=test_auto)\n",
    "        else:\n",
    "            space = model_config['space']\n",
    "        \n",
    "        # Run automated hyperparameter optimization\n",
    "        trials = nf.experiments.utils.hyperopt_tunning(space=space,\n",
    "                                                       hyperopt_max_evals=hyperopt_steps,\n",
    "                                                       loss_function_val=loss_function_val,\n",
    "                                                       loss_functions_test=loss_functions_test,\n",
    "                                                       S_df=S_df, Y_df=Y_df, X_df=X_df, \n",
    "                                                       f_cols=[], ds_in_val=ts_in_val, \n",
    "                                                       ds_in_test=ts_in_test,\n",
    "                                                       return_forecasts=return_forecasts,\n",
    "                                                       return_model=return_model,\n",
    "                                                       save_progress=False,\n",
    "                                                       results_file=None,\n",
    "                                                       step_save_progress=0,\n",
    "                                                       verbose=verbose)\n",
    "\n",
    "        model_output = {'best_mc': trials.best_trial['result']['mc'],\n",
    "                        'run_time': trials.best_trial['result']['run_time'],\n",
    "                        'best_val_loss': trials.best_trial['result']['loss']}\n",
    "\n",
    "        # Return model\n",
    "        if return_model:\n",
    "            model_output['model'] = trials.best_trial['result']['model']\n",
    "\n",
    "        # Return test losses\n",
    "        if ts_in_test > 0:\n",
    "            model_output['best_test_loss'] = trials.best_trial['result']['test_losses']\n",
    "\n",
    "        # Return test forecasts\n",
    "        if (return_forecasts) and (ts_in_test > 0):\n",
    "            model_output['y_hat'] = trials.best_trial['result']['forecasts_test']['test_y_hat']\n",
    "            model_output['y_true'] = trials.best_trial['result']['forecasts_test']['test_y_true']\n",
    "\n",
    "        # Improvement\n",
    "        optimization_times = [trials.trials[0]['result']['loss']]\n",
    "        optimization_losses = [trials.trials[0]['result']['run_time']]\n",
    "        for i in range(1, len(trials)):\n",
    "            loss = trials.trials[i]['result']['loss']\n",
    "            time = trials.trials[i]['result']['run_time']\n",
    "\n",
    "            if loss > np.min(optimization_losses):\n",
    "                loss = np.min(optimization_losses)\n",
    "            optimization_losses.append(loss)\n",
    "            optimization_times.append(np.sum(optimization_times)+time)\n",
    "\n",
    "        model_output['optimization_losses'] = optimization_losses\n",
    "        model_output['optimization_times'] = optimization_times\n",
    "    \n",
    "        # Append to dict\n",
    "        output_dict[model] = model_output\n",
    "\n",
    "        if trials.best_trial['result']['loss'] < best_loss:\n",
    "            best_model = trials.best_trial['result']['model']\n",
    "            best_loss = trials.best_trial['result']['loss']\n",
    "\n",
    "    return best_model, output_dict"
   ]
  },
  {
   "cell_type": "code",
   "execution_count": null,
   "metadata": {},
   "outputs": [],
   "source": [
    "#export\n",
    "def instantiate_space(model, n_time_out, n_series, n_x, n_s, frequency, test):\n",
    "    assert model in ['nbeats', 'nhits', 'rnn'], f'Invalid model {model}'\n",
    "    \n",
    "    if model == 'nbeats':\n",
    "        space = nf.models.nbeats.nbeats.suggested_space(n_time_out=n_time_out, n_series=n_series, \n",
    "                                                        n_x=n_x, n_s=n_s, frequency=frequency)\n",
    "    elif model == 'nhits':\n",
    "        space = nf.models.nhits.nhits.suggested_space(n_time_out=n_time_out, n_series=n_series, \n",
    "                                                      n_x=n_x, n_s=n_s, frequency=frequency)\n",
    "    elif model == 'rnn':\n",
    "        space = nf.models.rnn.rnn.suggested_space(n_time_out=n_time_out, n_series=n_series,\n",
    "                                                  n_x=n_x, n_s=n_s, frequency=frequency)\n",
    "\n",
    "    if test:\n",
    "        space['max_steps'] = hp.choice('max_steps', [1])\n",
    "        space['max_epochs'] = hp.choice('max_epochs', [None])\n",
    "    \n",
    "    return space"
   ]
  },
  {
   "cell_type": "markdown",
   "metadata": {},
   "source": [
    "## AutoNF example\n",
    "\n",
    "The forecasting task we selected is to predict the number of patients with influenza-like illnesses from the [US CDC dataset](https://gis.cdc.gov/grasp/fluview/fluportaldashboard.html), the dataset contains 7 target variables, and has 966 weeks of history.\n",
    "\n",
    "We will be creating point forecasts with N-BEATS, N-HiTS and RNN models. The predictive features will be the autoregressive features. More information on the dataset can be found in the [N-HiTS paper](https://arxiv.org/abs/2201.12886).\n",
    "\n",
    "Table of Contents\n",
    "1.   [Installing NeuralForecast Library](#cell-1)\n",
    "2.   [Data Loading and Processing](#cell-2)\n",
    "3.   [Define Hyperparameter Space](#cell-3)\n",
    "4.   [Hyperparameter Tuning](#cell-4)\n",
    "5.   [Evaluate Results](#cell-5)"
   ]
  },
  {
   "cell_type": "markdown",
   "metadata": {},
   "source": [
    "<a name=\"cell-1\"></a>\n",
    "### 1. Installing Neuralforecast library\n",
    "\n",
    "You can install the released version of NeuralForecast from the Python package index with:"
   ]
  },
  {
   "cell_type": "code",
   "execution_count": null,
   "metadata": {},
   "outputs": [],
   "source": [
    "#%%capture\n",
    "#!pip install neuralforecast\n",
    "#!pip install matplotlib"
   ]
  },
  {
   "cell_type": "code",
   "execution_count": null,
   "metadata": {},
   "outputs": [],
   "source": [
    "import matplotlib.pyplot as plt\n",
    "\n",
    "from neuralforecast.data.datasets.long_horizon import LongHorizon"
   ]
  },
  {
   "cell_type": "markdown",
   "metadata": {},
   "source": [
    "<a name=\"cell-2\"></a>\n",
    "### 2. Data Loading and Processing\n",
    "\n",
    "For this example we keep 10% of the observations as validation and use the latest 20% of the observations as the test set. To do so we use the sample_mask and declare the windows that will be used to train, and validate the model."
   ]
  },
  {
   "cell_type": "code",
   "execution_count": null,
   "metadata": {},
   "outputs": [
    {
     "data": {
      "text/html": [
       "<div>\n",
       "<style scoped>\n",
       "    .dataframe tbody tr th:only-of-type {\n",
       "        vertical-align: middle;\n",
       "    }\n",
       "\n",
       "    .dataframe tbody tr th {\n",
       "        vertical-align: top;\n",
       "    }\n",
       "\n",
       "    .dataframe thead th {\n",
       "        text-align: right;\n",
       "    }\n",
       "</style>\n",
       "<table border=\"1\" class=\"dataframe\">\n",
       "  <thead>\n",
       "    <tr style=\"text-align: right;\">\n",
       "      <th></th>\n",
       "      <th>unique_id</th>\n",
       "      <th>ds</th>\n",
       "      <th>y</th>\n",
       "    </tr>\n",
       "  </thead>\n",
       "  <tbody>\n",
       "    <tr>\n",
       "      <th>0</th>\n",
       "      <td>% WEIGHTED ILI</td>\n",
       "      <td>2002-01-01</td>\n",
       "      <td>-0.421499</td>\n",
       "    </tr>\n",
       "    <tr>\n",
       "      <th>1</th>\n",
       "      <td>% WEIGHTED ILI</td>\n",
       "      <td>2002-01-08</td>\n",
       "      <td>-0.331239</td>\n",
       "    </tr>\n",
       "    <tr>\n",
       "      <th>2</th>\n",
       "      <td>% WEIGHTED ILI</td>\n",
       "      <td>2002-01-15</td>\n",
       "      <td>-0.342763</td>\n",
       "    </tr>\n",
       "    <tr>\n",
       "      <th>3</th>\n",
       "      <td>% WEIGHTED ILI</td>\n",
       "      <td>2002-01-22</td>\n",
       "      <td>-0.199782</td>\n",
       "    </tr>\n",
       "    <tr>\n",
       "      <th>4</th>\n",
       "      <td>% WEIGHTED ILI</td>\n",
       "      <td>2002-01-29</td>\n",
       "      <td>-0.218426</td>\n",
       "    </tr>\n",
       "  </tbody>\n",
       "</table>\n",
       "</div>"
      ],
      "text/plain": [
       "        unique_id          ds         y\n",
       "0  % WEIGHTED ILI  2002-01-01 -0.421499\n",
       "1  % WEIGHTED ILI  2002-01-08 -0.331239\n",
       "2  % WEIGHTED ILI  2002-01-15 -0.342763\n",
       "3  % WEIGHTED ILI  2002-01-22 -0.199782\n",
       "4  % WEIGHTED ILI  2002-01-29 -0.218426"
      ]
     },
     "execution_count": null,
     "metadata": {},
     "output_type": "execute_result"
    }
   ],
   "source": [
    "Y_df, _, _ = LongHorizon.load(directory='./', group='ILI')\n",
    "Y_df.head()"
   ]
  },
  {
   "cell_type": "code",
   "execution_count": null,
   "metadata": {},
   "outputs": [
    {
     "name": "stdout",
     "output_type": "stream",
     "text": [
      "n_time 966\n",
      "n_series 7\n",
      "ts_in_test 193\n",
      "ts_in_val 97\n"
     ]
    }
   ],
   "source": [
    "n_series = len(Y_df.unique_id.unique())\n",
    "n_time = len(Y_df.ds.unique()) # dataset is balanced\n",
    "\n",
    "ts_in_test = 193\n",
    "ts_in_val = 97\n",
    "\n",
    "print('n_time', n_time)\n",
    "print('n_series', n_series)\n",
    "print('ts_in_test', ts_in_test)\n",
    "print('ts_in_val', ts_in_val)"
   ]
  },
  {
   "cell_type": "code",
   "execution_count": null,
   "metadata": {},
   "outputs": [
    {
     "data": {
      "image/png": "[encoded data removed]",
      "text/plain": [
       "<Figure size 432x288 with 1 Axes>"
      ]
     },
     "metadata": {
      "needs_background": "light"
     },
     "output_type": "display_data"
    }
   ],
   "source": [
    "# unique_id \\in ['% WEIGHTED ILI', '%UNWEIGHTED ILI', 'AGE 0-4', \n",
    "#                'AGE 5-24', 'ILITOTAL', 'NUM. OF PROVIDERS', 'OT']\n",
    "y_plot = Y_df[Y_df.unique_id=='% WEIGHTED ILI'].y.values\n",
    "x_plot = pd.to_datetime(Y_df[Y_df.unique_id=='% WEIGHTED ILI'].ds).values\n",
    "\n",
    "plt.plot(x_plot, y_plot)\n",
    "plt.axvline(x_plot[n_time-ts_in_val-ts_in_test], color='black', linestyle='-.')\n",
    "plt.axvline(x_plot[n_time-ts_in_test], color='black', linestyle='-.')\n",
    "plt.ylabel('Weighted ILI [ratio]')\n",
    "plt.xlabel('Date')\n",
    "plt.grid()\n",
    "plt.show()\n",
    "plt.close()"
   ]
  },
  {
   "cell_type": "markdown",
   "metadata": {},
   "source": [
    "<a name=\"cell-3\"></a>\n",
    "### 3. Define Hyperparameter Space\n",
    "\n",
    "A temporal train-evaluation split procedure allows us to estimate the model’s generalization performance on future data unseen by the model. We use the train set to optimize the model parameters, and the validation  and test sets to evaluate the accuracy of the model’s predictions.\n",
    "\n",
    "In this case we set the space to `None`, that implicitly uses the predefined model space, but the space can be specified as a dictionary following the conventions of the [Hyperopt package](https://github.com/hyperopt/hyperopt)."
   ]
  },
  {
   "cell_type": "code",
   "execution_count": null,
   "metadata": {},
   "outputs": [],
   "source": [
    "config_dict = {'nbeats':\n",
    "                       {'space': None, # Use default\n",
    "                        'hyperopt_steps': 5,\n",
    "                        'timeout': 60*1\n",
    "                       },\n",
    "               'nhits':\n",
    "                       {'space': None,  # Use default\n",
    "                        'hyperopt_steps': 5,\n",
    "                        'timeout': 60*1\n",
    "                       },\n",
    "                'rnn':\n",
    "                       {'space': None,  # Use default\n",
    "                        'hyperopt_steps': 5,\n",
    "                        'timeout': 60*1\n",
    "                       }\n",
    "              }"
   ]
  },
  {
   "cell_type": "markdown",
   "metadata": {},
   "source": [
    "<a name=\"cell-4\"></a>\n",
    "### 4. Hyperparameter Tuning\n",
    "\n",
    "A temporal train-validation-test (676,97,193) split procedure allows us to estimate the model’s generalization performance on future data unseen by the model. We use the train set to optimize the model parameters, and the validation  and test sets to evaluate the accuracy of the model’s predictions."
   ]
  },
  {
   "cell_type": "code",
   "execution_count": null,
   "metadata": {},
   "outputs": [
    {
     "name": "stderr",
     "output_type": "stream",
     "text": [
      "INFO:hyperopt.tpe:build_posterior_wrapper took 0.011241 seconds\n",
      "INFO:hyperopt.tpe:TPE using 0 trials\n"
     ]
    },
    {
     "name": "stdout",
     "output_type": "stream",
     "text": [
      "WARNING: test_auto=True, MODELS WILL NOT BE TRAINED PROPERLY!\n"
     ]
    },
    {
     "name": "stderr",
     "output_type": "stream",
     "text": [
      "/Users/kingtzolivares/Desktop/neuralforecast/neuralforecast/data/tsdataset.py:207: FutureWarning: In a future version of pandas all arguments of DataFrame.drop except for the argument 'labels' will be keyword-only\n",
      "  X.drop(['unique_id', 'ds'], 1, inplace=True)\n",
      "INFO:pytorch_lightning.utilities.distributed:GPU available: False, used: False\n",
      "INFO:pytorch_lightning.utilities.distributed:TPU available: False, using: 0 TPU cores\n",
      "INFO:pytorch_lightning.utilities.distributed:IPU available: False, using: 0 IPUs\n",
      "/opt/anaconda3/envs/neuralforecast/lib/python3.7/site-packages/pytorch_lightning/trainer/data_loading.py:133: UserWarning: The dataloader, val_dataloader 0, does not have many workers which may be a bottleneck. Consider increasing the value of the `num_workers` argument` (try 4 which is the number of cpus on this machine) in the `DataLoader` init to improve performance.\n",
      "  f\"The dataloader, {name}, does not have many workers which may be a bottleneck.\"\n",
      "/opt/anaconda3/envs/neuralforecast/lib/python3.7/site-packages/pytorch_lightning/trainer/data_loading.py:133: UserWarning: The dataloader, train_dataloader, does not have many workers which may be a bottleneck. Consider increasing the value of the `num_workers` argument` (try 4 which is the number of cpus on this machine) in the `DataLoader` init to improve performance.\n",
      "  f\"The dataloader, {name}, does not have many workers which may be a bottleneck.\"\n",
      "/Users/kingtzolivares/Desktop/neuralforecast/neuralforecast/data/tsloader.py:47: UserWarning: This class wraps the pytorch `DataLoader` with a special collate function. If you want to use yours simply use `DataLoader`. Removing collate_fn\n",
      "  'This class wraps the pytorch `DataLoader` with a '\n",
      "/opt/anaconda3/envs/neuralforecast/lib/python3.7/site-packages/pytorch_lightning/trainer/data_loading.py:133: UserWarning: The dataloader, predict_dataloader 0, does not have many workers which may be a bottleneck. Consider increasing the value of the `num_workers` argument` (try 4 which is the number of cpus on this machine) in the `DataLoader` init to improve performance.\n",
      "  f\"The dataloader, {name}, does not have many workers which may be a bottleneck.\"\n",
      "INFO:hyperopt.tpe:build_posterior_wrapper took 0.011674 seconds\n",
      "INFO:hyperopt.tpe:TPE using 0 trials\n",
      "INFO:pytorch_lightning.utilities.distributed:GPU available: False, used: False\n",
      "INFO:pytorch_lightning.utilities.distributed:TPU available: False, using: 0 TPU cores\n",
      "INFO:pytorch_lightning.utilities.distributed:IPU available: False, using: 0 IPUs\n",
      "/opt/anaconda3/envs/neuralforecast/lib/python3.7/site-packages/torch/nn/functional.py:3613: UserWarning: Default upsampling behavior when mode=linear is changed to align_corners=False since 0.4.0. Please specify align_corners=True if the old behavior is desired. See the documentation of nn.Upsample for details.\n",
      "  \"See the documentation of nn.Upsample for details.\".format(mode)\n",
      "INFO:hyperopt.tpe:build_posterior_wrapper took 0.011520 seconds\n",
      "INFO:hyperopt.tpe:TPE using 0 trials\n",
      "INFO:pytorch_lightning.utilities.distributed:GPU available: False, used: False\n",
      "INFO:pytorch_lightning.utilities.distributed:TPU available: False, using: 0 TPU cores\n",
      "INFO:pytorch_lightning.utilities.distributed:IPU available: False, using: 0 IPUs\n"
     ]
    }
   ],
   "source": [
    "forecast_horizon = 24\n",
    "best_model, results = auto(config_dict=config_dict,\n",
    "                           Y_df=Y_df, X_df=None, S_df=None,\n",
    "                           loss_function_val=nf.losses.numpy.mae, \n",
    "                           loss_functions_test={'mae':nf.losses.numpy.mae,\n",
    "                                                'mse':nf.losses.numpy.mse},\n",
    "                           forecast_horizon=forecast_horizon, ts_in_val=ts_in_val, ts_in_test=ts_in_test,\n",
    "                           return_forecasts=True, return_model=True,\n",
    "                           test_auto=True,\n",
    "                           verbose=False)"
   ]
  },
  {
   "cell_type": "code",
   "execution_count": null,
   "metadata": {},
   "outputs": [
    {
     "data": {
      "text/plain": [
       "Text(0, 0.5, 'val loss')"
      ]
     },
     "execution_count": null,
     "metadata": {},
     "output_type": "execute_result"
    },
    {
     "data": {
      "image/png": "[encoded data removed]",
      "text/plain": [
       "<Figure size 432x288 with 1 Axes>"
      ]
     },
     "metadata": {
      "needs_background": "light"
     },
     "output_type": "display_data"
    }
   ],
   "source": [
    "time   = results['nbeats']['optimization_times']\n",
    "losses = results['nbeats']['optimization_losses']\n",
    "plt.plot(time, losses)\n",
    "plt.xlabel('segs')\n",
    "plt.ylabel('val loss')"
   ]
  },
  {
   "cell_type": "markdown",
   "metadata": {},
   "source": [
    "<a name=\"cell-5\"></a>\n",
    "### 5. Evaluate Results"
   ]
  },
  {
   "cell_type": "markdown",
   "metadata": {},
   "source": [
    "Here we wrangle the numpy predictions to evaluate and plot the predictions."
   ]
  },
  {
   "cell_type": "code",
   "execution_count": null,
   "metadata": {},
   "outputs": [
    {
     "name": "stdout",
     "output_type": "stream",
     "text": [
      "\n",
      " Original Shapes\n",
      "1. y_hat_nhits.shape (518, 24)\n",
      "1. y_hat_nbeats.shape (518, 24)\n",
      "1. y_hat_rnn.shape (7, 4, 24)\n",
      "1. y_true.shape (518, 24)\n",
      "\n",
      " Wrangled Shapes\n",
      "2. y_hat_nhits.shape (74, 7, 24)\n",
      "2. y_hat_nbeats.shape (74, 7, 24)\n",
      "2. y_hat_rnn.shape (7, 4, 24)\n",
      "2. y_true.shape (74, 7, 24)\n"
     ]
    }
   ],
   "source": [
    "y_hat_nhits  = results['nhits']['y_hat']#.reshape(n_series, forecast_horizon, ts_in_test)\n",
    "y_hat_nbeats = results['nbeats']['y_hat']#.reshape(n_series, forecast_horizon, ts_in_test)\n",
    "y_hat_rnn    = results['rnn']['y_hat']#.reshape(n_series, forecast_horizon, ts_in_test)\n",
    "y_true       = results['nbeats']['y_true']#.reshape(forecast_horizon,n_series, -1)\n",
    "\n",
    "print('\\n Original Shapes')\n",
    "print('1. y_hat_nhits.shape', y_hat_nhits.shape)\n",
    "print('1. y_hat_nbeats.shape', y_hat_nbeats.shape)\n",
    "print('1. y_hat_rnn.shape', y_hat_rnn.shape)\n",
    "print('1. y_true.shape', y_true.shape)\n",
    "\n",
    "y_hat_nbeats = results['nbeats']['y_hat'].reshape((74,#n_time//n_series,\n",
    "                                                   n_series,forecast_horizon))\n",
    "y_hat_nhits = results['nhits']['y_hat'].reshape((74,#n_time//n_series,\n",
    "                                                  n_series,forecast_horizon))\n",
    "y_true = results['nbeats']['y_true'].reshape((74,#n_time//n_series,\n",
    "                                              n_series,forecast_horizon))\n",
    "\n",
    "print('\\n Wrangled Shapes')\n",
    "print('2. y_hat_nhits.shape', y_hat_nhits.shape)\n",
    "print('2. y_hat_nbeats.shape', y_hat_nbeats.shape)\n",
    "print('2. y_hat_rnn.shape', y_hat_rnn.shape)\n",
    "print('2. y_true.shape', y_true.shape)"
   ]
  },
  {
   "cell_type": "code",
   "execution_count": null,
   "metadata": {},
   "outputs": [
    {
     "data": {
      "image/png": "[encoded data removed]",
      "text/plain": [
       "<Figure size 432x288 with 1 Axes>"
      ]
     },
     "metadata": {
      "needs_background": "light"
     },
     "output_type": "display_data"
    }
   ],
   "source": [
    "w_idx = 0\n",
    "u_idx = 0\n",
    "\n",
    "plt.plot(y_true[w_idx,u_idx,:], label='True Signal')\n",
    "plt.plot(y_hat_nbeats[w_idx,u_idx,:], label='N-BEATS')\n",
    "plt.plot(y_hat_nhits[w_idx,u_idx,:], label='N-HiTS')\n",
    "#plt.plot(y_true[:,0,2], label='True')\n",
    "#plt.plot(best_nbeats[::24,:].flatten(), label='N-BEATS')\n",
    "#plt.plot(best_rnn[::24,:].flatten(), label='RNN')\n",
    "plt.legend()\n",
    "plt.show()"
   ]
  },
  {
   "cell_type": "code",
   "execution_count": null,
   "metadata": {},
   "outputs": [
    {
     "name": "stdout",
     "output_type": "stream",
     "text": [
      "Y_df.unique_id.unique() ['% WEIGHTED ILI' '%UNWEIGHTED ILI' 'AGE 0-4' 'AGE 5-24' 'ILITOTAL'\n",
      " 'NUM. OF PROVIDERS' 'OT']\n"
     ]
    },
    {
     "data": {
      "image/png": "[encoded data removed]",
      "text/plain": [
       "<Figure size 432x288 with 1 Axes>"
      ]
     },
     "metadata": {
      "needs_background": "light"
     },
     "output_type": "display_data"
    }
   ],
   "source": [
    "print('Y_df.unique_id.unique()', Y_df.unique_id.unique())\n",
    "ver = Y_df[Y_df.unique_id=='% WEIGHTED ILI']\n",
    "\n",
    "plt.plot(ver.y[n_time-193:n_time-193+24])\n",
    "plt.ylabel('% WEIGHTED ILI')\n",
    "plt.show()"
   ]
  },
  {
   "cell_type": "markdown",
   "metadata": {},
   "source": [
    "<a name=\"cell-5\"></a>\n",
    "### 5. Evaluate Results"
   ]
  },
  {
   "cell_type": "code",
   "execution_count": null,
   "metadata": {},
   "outputs": [
    {
     "data": {
      "text/plain": [
       "NHITS(\n",
       "  (model): _NHITS(\n",
       "    (blocks): ModuleList(\n",
       "      (0): _NHITSBlock(\n",
       "        (pooling_layer): MaxPool1d(kernel_size=16, stride=16, padding=0, dilation=1, ceil_mode=True)\n",
       "        (layers): Sequential(\n",
       "          (0): Linear(in_features=8, out_features=1024, bias=True)\n",
       "          (1): ReLU()\n",
       "          (2): Linear(in_features=1024, out_features=1024, bias=True)\n",
       "          (3): ReLU()\n",
       "          (4): Linear(in_features=1024, out_features=1024, bias=True)\n",
       "          (5): ReLU()\n",
       "          (6): Linear(in_features=1024, out_features=121, bias=True)\n",
       "        )\n",
       "        (basis): _IdentityBasis()\n",
       "      )\n",
       "      (1): _NHITSBlock(\n",
       "        (pooling_layer): MaxPool1d(kernel_size=8, stride=8, padding=0, dilation=1, ceil_mode=True)\n",
       "        (layers): Sequential(\n",
       "          (0): Linear(in_features=15, out_features=1024, bias=True)\n",
       "          (1): ReLU()\n",
       "          (2): Linear(in_features=1024, out_features=1024, bias=True)\n",
       "          (3): ReLU()\n",
       "          (4): Linear(in_features=1024, out_features=1024, bias=True)\n",
       "          (5): ReLU()\n",
       "          (6): Linear(in_features=1024, out_features=121, bias=True)\n",
       "        )\n",
       "        (basis): _IdentityBasis()\n",
       "      )\n",
       "      (2): _NHITSBlock(\n",
       "        (pooling_layer): MaxPool1d(kernel_size=1, stride=1, padding=0, dilation=1, ceil_mode=True)\n",
       "        (layers): Sequential(\n",
       "          (0): Linear(in_features=120, out_features=1024, bias=True)\n",
       "          (1): ReLU()\n",
       "          (2): Linear(in_features=1024, out_features=1024, bias=True)\n",
       "          (3): ReLU()\n",
       "          (4): Linear(in_features=1024, out_features=1024, bias=True)\n",
       "          (5): ReLU()\n",
       "          (6): Linear(in_features=1024, out_features=144, bias=True)\n",
       "        )\n",
       "        (basis): _IdentityBasis()\n",
       "      )\n",
       "    )\n",
       "  )\n",
       ")"
      ]
     },
     "execution_count": null,
     "metadata": {},
     "output_type": "execute_result"
    }
   ],
   "source": [
    "best_model"
   ]
  },
  {
   "cell_type": "code",
   "execution_count": null,
   "metadata": {},
   "outputs": [],
   "source": [
    "# Y_forecast_df = Y_df[Y_df['ds']<'2016-12-27']\n",
    "# X_forecast_df = X_df[X_df['ds']<'2016-12-28']"
   ]
  },
  {
   "cell_type": "code",
   "execution_count": null,
   "metadata": {},
   "outputs": [],
   "source": [
    "# best_model.return_decomposition = False\n",
    "# forecast_df = best_model.forecast(Y_df=Y_forecast_df, X_df=X_forecast_df, S_df=None, batch_size=2)\n",
    "# forecast_df"
   ]
  },
  {
   "cell_type": "code",
   "execution_count": null,
   "metadata": {},
   "outputs": [],
   "source": []
  }
 ],
 "metadata": {
  "kernelspec": {
   "display_name": "Python 3",
   "language": "python",
   "name": "python3"
  }
 },
 "nbformat": 4,
 "nbformat_minor": 2
}
