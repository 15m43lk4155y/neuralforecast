{
 "cells": [
  {
   "cell_type": "code",
   "execution_count": null,
   "id": "30ebf8f9",
   "metadata": {},
   "outputs": [],
   "source": [
    "#| hide\n",
    "%load_ext autoreload\n",
    "%autoreload 2"
   ]
  },
  {
   "cell_type": "markdown",
   "id": "43832dcf-0452-4503-aace-8f38e5e23723",
   "metadata": {},
   "source": [
    "# 🧠 Neural Forecast\n",
    "\n",
    "> **NeuralForecast** offers a large collection of neural forecasting models focused on their usability, and robustness. The models range from classic networks like `MLP`, `RNN`s to novel proven contributions like `NBEATS`, `NHITS`, `TFT` and other architectures."
   ]
  },
  {
   "cell_type": "markdown",
   "id": "9bdd2aa5",
   "metadata": {},
   "source": [
    "## 🎊 Features"
   ]
  },
  {
   "cell_type": "markdown",
   "id": "5cebf377",
   "metadata": {},
   "source": [
    "## 📖 Why?"
   ]
  },
  {
   "cell_type": "markdown",
   "id": "50d28044",
   "metadata": {},
   "source": [
    "## 💻 Installation\n",
    "\n",
    "\n",
    "### PyPI\n",
    "\n",
    "You can install `NeuralForecast`'s *released version* from the Python package index [pip](https://pypi.org/project/neuralforecast/) with:\n",
    "\n",
    "```python\n",
    "pip install neuralforecast\n",
    "```\n",
    "\n",
    "(Installing inside a python virtualenvironment or a conda environment is recommended.)\n",
    "\n",
    "\n",
    "### Conda\n",
    "\n",
    "Also you can install `NeuralForecast`'s *released version* from [conda](https://anaconda.org/conda-forge/neuralforecast) with:\n",
    "\n",
    "```python\n",
    "conda install -c conda-forge neuralforecast\n",
    "```\n",
    "\n",
    "(Installing inside a python virtualenvironment or a conda environment is recommended.)\n",
    "\n",
    "### Dev Mode\n",
    "If you want to make some modifications to the code and see the effects in real time (without reinstalling), follow the steps below:\n",
    "\n",
    "```bash\n",
    "git clone https://github.com/Nixtla/neuralforecast.git\n",
    "cd neuralforecast\n",
    "pip install -e .\n",
    "```"
   ]
  },
  {
   "cell_type": "markdown",
   "id": "d3aeb537",
   "metadata": {},
   "source": [
    "## 🧬 How to use"
   ]
  },
  {
   "cell_type": "markdown",
   "id": "7cb3919a",
   "metadata": {},
   "source": [
    "## How to cite"
   ]
  },
  {
   "cell_type": "code",
   "execution_count": null,
   "id": "c9ae5390",
   "metadata": {},
   "outputs": [],
   "source": []
  }
 ],
 "metadata": {
  "kernelspec": {
   "display_name": "Python 3 (ipykernel)",
   "language": "python",
   "name": "python3"
  }
 },
 "nbformat": 4,
 "nbformat_minor": 5
}
