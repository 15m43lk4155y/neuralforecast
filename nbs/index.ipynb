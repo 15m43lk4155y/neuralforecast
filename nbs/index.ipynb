{
 "cells": [
  {
   "cell_type": "markdown",
   "metadata": {},
   "source": [
    "<img src=\"https://github.com/Nixtla/nixtlats/blob/master/nbs/indx_imgs/nixtla_logo.png\">"
   ]
  },
  {
   "cell_type": "markdown",
   "metadata": {},
   "source": [
    "# Deep Learning for Time Series Forecasting\n",
    "> [nikstla] (noun, nahuatl) Period of time.\n",
    "\n",
    "[![Python 3.7](https://img.shields.io/badge/python-3.7-blue.svg)](https://www.python.org/downloads/release/python-370/)\n",
    "[![License: MIT](https://img.shields.io/badge/License-MIT-green.svg)](https://github.com/Nixtla/nixtlats/blob/master/LICENSE)"
   ]
  },
  {
   "cell_type": "markdown",
   "metadata": {},
   "source": [
    "State-of-the-art time series forecasting for pytorch.\n",
    "\n",
    "Nixtla is a python library for time series forecasting with deep learning. \n",
    "It provides dataset loading utilities, evaluation functions and pytorch implementations of state of the art deep learning forecasting models.\n"
   ]
  },
  {
   "cell_type": "markdown",
   "metadata": {},
   "source": [
    "## Documentation\n",
    "XXX Here is a link to the [documentation](https://pypi.org)."
   ]
  },
  {
   "cell_type": "markdown",
   "metadata": {},
   "source": [
    "\n",
    "## Installation\n",
    "\n",
    "### Stable version\n",
    "\n",
    "This code is a work in progress, any contributions or issues are welcome on\n",
    "GitHub at: https://github.com/Nixtla/nixtla.\n",
    "\n",
    "You can install the *released version* of `Nixtla` from the [Python package index](https://pypi.org) with:\n",
    "\n",
    "```python\n",
    "pip install nixtla\n",
    "```\n",
    "\n",
    "(installing inside a python virtualenvironment or a conda environment is recommended).\n",
    "\n",
    "### Development version in development mode\n",
    "\n",
    "If you want to make some modifications to the code and see the effects in real time (without reinstalling), follow the steps below:\n",
    "\n",
    "```bash\n",
    "git clone https://github.com/Nixtla/nixtla.git\n",
    "cd nixtla\n",
    "pip install -e .\n",
    "```\n"
   ]
  },
  {
   "cell_type": "markdown",
   "metadata": {},
   "source": [
    "## Current available models\n",
    "\n",
    "* [Exponential Smoothing Recurrent Neural Network (ES-RNN)](https://www.sciencedirect.com/science/article/pii/S0169207019301153): A hybrid model that combines the expressivity of non linear models to capture the trends while it normalizes using a Holt-Winters inspired model for the levels and seasonals.  This model is the winner of the M4 forecasting competition.\n",
    "\n",
    "* [Neural Basis Expansion Analysis (N-BEATS)](https://arxiv.org/abs/1905.10437): A model from Element-AI (Yoshua Bengio’s lab) that has proven to achieve state of the art performance on benchmark large scale forecasting datasets like Tourism, M3, and M4. The model is fast to train an has an interpretable configuration.\n",
    "\n",
    "* [Neural Basis Expansion Analysis with Exogenous Variables (N-BEATSx)](https://arxiv.org/abs/2104.05522): The neural basis expansion with exogenous variables is an extension to the original N-BEATS that allows it to include time dependent covariates.\n"
   ]
  },
  {
   "cell_type": "markdown",
   "metadata": {},
   "source": [
    "## Authors\n",
    "This repository began with joint efforts from AutonLab researchers at Carnegie Mellon University and Abraxas data scientists."
   ]
  },
  {
   "cell_type": "markdown",
   "metadata": {},
   "source": [
    "## License\n",
    "This project is licensed under the MIT License - see the [LICENSE](https://github.com/Nixtla/nixtlats/blob/master/LICENSE) file for details."
   ]
  },
  {
   "cell_type": "markdown",
   "metadata": {},
   "source": [
    "## How to cite\n",
    "\n",
    "If you use `Nixtla` in a scientific publication, we encourage you to add\n",
    "the following references to the related papers:\n",
    "\n",
    "\n",
    "```bibtex\n",
    "@article{nixtla_arxiv,\n",
    "  author  = {XXXX},\n",
    "  title   = {{Nixtla: Deep Learning for Time Series Forecasting}},\n",
    "  journal = {arXiv preprint arXiv:XXX.XXX},\n",
    "  year    = {2021}\n",
    "}\n",
    "```\n"
   ]
  },
  {
   "cell_type": "markdown",
   "metadata": {},
   "source": [
    "<!---\n",
    "\n",
    "## Citing\n",
    "\n",
    "```bibtex\n",
    "@article{,\n",
    "    author = {},\n",
    "    title = {{}},\n",
    "    journal = {},\n",
    "    year = {}\n",
    "}\n",
    "```\n",
    "-->"
   ]
  }
 ],
 "metadata": {
  "kernelspec": {
   "display_name": "Python 3",
   "language": "python",
   "name": "python3"
  }
 },
 "nbformat": 4,
 "nbformat_minor": 4
}
