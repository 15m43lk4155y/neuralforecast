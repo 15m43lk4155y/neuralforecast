{
 "cells": [
  {
   "cell_type": "markdown",
   "metadata": {},
   "source": [
    "# <center>Nixtla &nbsp; [![Tweet](https://img.shields.io/twitter/url/http/shields.io.svg?style=social)](https://twitter.com/intent/tweet?text=SOTA%20Neural%20Forecasting%20Algorithms%20by%20Nixtla%204&url=https://github.com/Nixtla/neuralforecast&via=Nixtla&hashtags=DeepLearning,TimeSeries,Forecasting) &nbsp;[![Slack](https://img.shields.io/badge/Slack-4A154B?&logo=slack&logoColor=white)](https://join.slack.com/t/nixtlaworkspace/shared_invite/zt-135dssye9-fWTzMpv2WBthq8NK0Yvu6A)</center>\n"
   ]
  },
  {
   "cell_type": "markdown",
   "metadata": {},
   "source": [
    "<p align=\"center\" width=\"100%\">\n",
    "<img src=\"https://raw.githubusercontent.com/Nixtla/neuralforecast/main/nbs/indx_imgs/branding/logo_mid.png\">\n",
    "</p>  \n",
    " \n",
    "<h1 align=\"center\">Neural 🧠 Forecast</h1>\n",
    "<h3 align=\"center\">Deep Learninng for time series</h3>"
   ]
  },
  {
   "cell_type": "markdown",
   "metadata": {},
   "source": [
    "[![CI Linux](https://github.com/Nixtla/neuralforecast/actions/workflows/ci-linux.yml/badge.svg?)](https://github.com/Nixtla/nixtlats/actions/workflows/ci-linux.yml)\n",
    "[![CI Mac](https://github.com/Nixtla/neuralforecast/actions/workflows/ci-mac.yml/badge.svg?)](https://github.com/Nixtla/nixtlats/actions/workflows/ci-mac.yml)\n",
    "[![codecov](https://codecov.io/gh/Nixtla/neuralforecast/branch/main/graph/badge.svg?token=C2P2BJI6S1)](https://codecov.io/gh/Nixtla/neuralforecast)\n",
    "[![Python](https://img.shields.io/pypi/pyversions/neuralforecast)](https://pypi.org/project/neuralforecast/)\n",
    "[![PyPi](https://img.shields.io/pypi/v/neuralforecast?color=blue)](https://pypi.org/project/neuralforecast/)\n",
    "[![conda-nixtla](https://img.shields.io/conda/vn/nixtla/neuralforecast?color=seagreen&label=conda)](https://anaconda.org/nixtla/neuralforecast)\n",
    "[![License: GPLv3](https://img.shields.io/badge/License-GPLv3-blue.svg)](https://github.com/Nixtla/neuralforecast/blob/main/LICENSE)\n",
    "[![docs](https://img.shields.io/website-up-down-green-red/http/nixtla.github.io/neuralforecast.svg?label=docs)](https://nixtla.github.io/neuralforecast/)"
   ]
  },
  {
   "cell_type": "markdown",
   "metadata": {},
   "source": [
    "State-of-the-art time series forecasting for PyTorch.\n",
    "\n",
    "`NeuralForecast` is a python library for time series forecasting with deep learning. \n",
    "It provides dataset loading utilities, evaluation functions and pytorch implementations of state of the art deep learning forecasting models."
   ]
  },
  {
   "cell_type": "markdown",
   "metadata": {},
   "source": [
    "## 📖 Documentation\n",
    "Here is a link to the [documentation](https://nixtla.github.io/neuralforecast/)."
   ]
  },
  {
   "cell_type": "markdown",
   "metadata": {},
   "source": [
    "\n",
    "## Installation\n",
    "\n",
    "### Stable version\n",
    "\n",
    "This code is a work in progress, any contributions or issues are welcome on\n",
    "GitHub at: https://github.com/Nixtla/neuralforecast.\n",
    "\n",
    "#### PyPI\n",
    "\n",
    "You can install the *released version* of `NeuralForecast` from the [Python package index](https://pypi.org) with:\n",
    "\n",
    "```python\n",
    "pip install neuralforecast\n",
    "```\n",
    "\n",
    "(Installing inside a python virtualenvironment or a conda environment is recommended.)\n",
    "\n",
    "#### Conda\n",
    "\n",
    "Also you can install the *released version* of `NeuralForecast` from [conda](https://anaconda.org) with:\n",
    "\n",
    "```python\n",
    "conda install -c nixtla neuralforecast\n",
    "```\n",
    "\n",
    "(Installing inside a python virtualenvironment or a conda environment is recommended.)\n",
    "\n",
    "### Development version in development mode\n",
    "\n",
    "If you want to make some modifications to the code and see the effects in real time (without reinstalling), follow the steps below:\n",
    "\n",
    "```bash\n",
    "git clone https://github.com/Nixtla/neuralforecast.git\n",
    "cd neuralforecast\n",
    "pip install -e .\n",
    "```\n"
   ]
  },
  {
   "cell_type": "markdown",
   "metadata": {},
   "source": [
    "## Current available models\n",
    "\n",
    "* [Neural Hierarchical Interpolation for Time Series Forecasting (N-HiTS](https://arxiv.org/abs/2201.12886): A new model for long-horizon forecasting which incorporates novel hierarchical interpolation and multi-rate data sampling techniques to specialize blocks of its architecture to different frequency band of the time-series signal. It achieves SoTA performance on several benchmark datasets, outperforming current Transformer-based models by more than 25%. \n",
    "\n",
    "<img src=\"https://raw.githubusercontent.com/Nixtla/neuralforecast/main/nbs/indx_imgs/NHits.jpeg\" width=\"300\" title=\"N-HiTS\" align=\"rigth\">\n",
    "\n",
    "\n",
    "* [Exponential Smoothing Recurrent Neural Network (ES-RNN)](https://www.sciencedirect.com/science/article/pii/S0169207019301153): A hybrid model that combines the expressivity of non linear models to capture the trends while it normalizes using a Holt-Winters inspired model for the levels and seasonals.  This model is the winner of the M4 forecasting competition.\n",
    "\n",
    "<img src=\"https://raw.githubusercontent.com/Nixtla/neuralforecast/main/nbs/indx_imgs/ESRNN.png\" width=\"300\" title=\"ES-RNN\" align=\"rigth\">\n",
    "\n",
    "\n",
    "* [Neural Basis Expansion Analysis (N-BEATS)](https://arxiv.org/abs/1905.10437): A model from Element-AI (Yoshua Bengio’s lab) that has proven to achieve state of the art performance on benchmark large scale forecasting datasets like Tourism, M3, and M4. The model is fast to train an has an interpretable configuration.\n",
    "\n",
    "<img src=\"https://raw.githubusercontent.com/Nixtla/neuralforecast/main/nbs/indx_imgs/NBeats.png\" width=\"300\" title=\"N-BEATS\" align=\"rigth\">\n",
    "\n",
    "\n",
    "* [Neural Basis Expansion Analysis with Exogenous Variables (N-BEATSx)](https://arxiv.org/abs/2104.05522): The neural basis expansion with exogenous variables is an extension to the original N-BEATS that allows it to include time dependent covariates.\n",
    "\n",
    "<img src=\"https://raw.githubusercontent.com/Nixtla/neuralforecast/main/nbs/indx_imgs/NBEATSX.png\" width=\"300\" title=\"N-BEATSx\" align=\"rigth\">\n"
   ]
  },
  {
   "cell_type": "markdown",
   "metadata": {},
   "source": [
    "## License\n",
    "This project is licensed under the GPLv3 License - see the [LICENSE](https://github.com/Nixtla/neuralforecast/blob/main/LICENSE) file for details."
   ]
  },
  {
   "cell_type": "markdown",
   "metadata": {},
   "source": [
    "## How to contribute\n",
    "\n",
    "See [CONTRIBUTING.md](https://github.com/Nixtla/neuralforecast/blob/main/CONTRIBUTING.md)."
   ]
  },
  {
   "cell_type": "markdown",
   "metadata": {},
   "source": [
    "## How to cite\n",
    "\n",
    "If you use `NeuralForecast` in a scientific publication, we encourage you to add\n",
    "the following references to the related papers:\n",
    "\n",
    "\n",
    "```bibtex\n",
    "@article{neuralforecast_arxiv,\n",
    "  author  = {XXXX},\n",
    "  title   = {{NeuralForecast: Deep Learning for Time Series Forecasting}},\n",
    "  journal = {arXiv preprint arXiv:XXX.XXX},\n",
    "  year    = {2022}\n",
    "}\n",
    "```\n"
   ]
  },
  {
   "cell_type": "markdown",
   "metadata": {},
   "source": [
    "## Contributors ✨\n",
    "\n",
    "Thanks goes to these wonderful people ([emoji key](https://allcontributors.org/docs/en/emoji-key)):\n",
    "\n",
    "<!-- ALL-CONTRIBUTORS-LIST:START - Do not remove or modify this section -->\n",
    "<!-- prettier-ignore-start -->\n",
    "<!-- markdownlint-disable -->\n",
    "<table>\n",
    "  <tr>\n",
    "    <td align=\"center\"><a href=\"https://github.com/FedericoGarza\"><img src=\"https://avatars.githubusercontent.com/u/10517170?v=4?s=100\" width=\"100px;\" alt=\"\"/><br /><sub><b>fede</b></sub></a><br /><a href=\"https://github.com/Nixtla/neuralforecast/commits?author=FedericoGarza\" title=\"Code\">💻</a> <a href=\"https://github.com/Nixtla/neuralforecast/issues?q=author%3AFedericoGarza\" title=\"Bug reports\">🐛</a> <a href=\"https://github.com/Nixtla/neuralforecast/commits?author=FedericoGarza\" title=\"Documentation\">📖</a></td>\n",
    "    <td align=\"center\"><a href=\"https://github.com/gdevos010\"><img src=\"https://avatars.githubusercontent.com/u/15316026?v=4?s=100\" width=\"100px;\" alt=\"\"/><br /><sub><b>Greg DeVos</b></sub></a><br /><a href=\"#ideas-gdevos010\" title=\"Ideas, Planning, & Feedback\">🤔</a></td>\n",
    "    <td align=\"center\"><a href=\"https://github.com/cchallu\"><img src=\"https://avatars.githubusercontent.com/u/31133398?v=4?s=100\" width=\"100px;\" alt=\"\"/><br /><sub><b>Cristian Challu</b></sub></a><br /><a href=\"https://github.com/Nixtla/neuralforecast/commits?author=cchallu\" title=\"Code\">💻</a> <a href=\"#data-cchallu\" title=\"Data\">🔣</a></td>\n",
    "    <td align=\"center\"><a href=\"https://github.com/mergenthaler\"><img src=\"https://avatars.githubusercontent.com/u/4086186?v=4?s=100\" width=\"100px;\" alt=\"\"/><br /><sub><b>mergenthaler</b></sub></a><br /><a href=\"https://github.com/Nixtla/neuralforecast/commits?author=mergenthaler\" title=\"Documentation\">📖</a></td>\n",
    "    <td align=\"center\"><a href=\"https://github.com/kdgutier\"><img src=\"https://avatars.githubusercontent.com/u/19935241?v=4?s=100\" width=\"100px;\" alt=\"\"/><br /><sub><b>Kin</b></sub></a><br /><a href=\"https://github.com/Nixtla/neuralforecast/commits?author=kdgutier\" title=\"Code\">💻</a> <a href=\"https://github.com/Nixtla/neuralforecast/issues?q=author%3Akdgutier\" title=\"Bug reports\">🐛</a> <a href=\"#data-kdgutier\" title=\"Data\">🔣</a></td>\n",
    "    <td align=\"center\"><a href=\"https://github.com/jmoralez\"><img src=\"https://avatars.githubusercontent.com/u/8473587?v=4?s=100\" width=\"100px;\" alt=\"\"/><br /><sub><b>José Morales</b></sub></a><br /><a href=\"https://github.com/Nixtla/neuralforecast/commits?author=jmoralez\" title=\"Code\">💻</a></td>\n",
    "    <td align=\"center\"><a href=\"https://github.com/alejandroxag\"><img src=\"https://avatars.githubusercontent.com/u/64334543?v=4?s=100\" width=\"100px;\" alt=\"\"/><br /><sub><b>Alejandro</b></sub></a><br /><a href=\"https://github.com/Nixtla/neuralforecast/commits?author=alejandroxag\" title=\"Code\">💻</a></td>  \n",
    "    <td align=\"center\"><a href=\"http://lavattiata.com\"><img src=\"https://avatars.githubusercontent.com/u/48966177?v=4?s=100\" width=\"100px;\" alt=\"\"/><br /><sub><b>stefanialvs</b></sub></a><br /><a href=\"#design-stefanialvs\" title=\"Design\">🎨</a></td>\n",
    "  </tr>\n",
    "</table>\n",
    "\n",
    "<!-- markdownlint-restore -->\n",
    "<!-- prettier-ignore-end -->\n",
    "\n",
    "<!-- ALL-CONTRIBUTORS-LIST:END -->\n",
    "\n",
    "This project follows the [all-contributors](https://github.com/all-contributors/all-contributors) specification. Contributions of any kind welcome!"
   ]
  },
  {
   "cell_type": "markdown",
   "metadata": {},
   "source": [
    "<!---\n",
    "\n",
    "## Citing\n",
    "\n",
    "```bibtex\n",
    "@article{,\n",
    "    author = {},\n",
    "    title = {{}},\n",
    "    journal = {},\n",
    "    year = {}\n",
    "}\n",
    "```\n",
    "-->"
   ]
  }
 ],
 "metadata": {
  "kernelspec": {
   "display_name": "Python 3 (ipykernel)",
   "language": "python",
   "name": "python3"
  }
 },
 "nbformat": 4,
 "nbformat_minor": 4
}
