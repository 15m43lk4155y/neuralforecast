{
 "cells": [
  {
   "cell_type": "markdown",
   "metadata": {},
   "source": [
    "# DOCUMENTATION"
   ]
  },
  {
   "cell_type": "markdown",
   "metadata": {},
   "source": [
    "## <left> Why NeuralForecast </left>"
   ]
  },
  {
   "cell_type": "markdown",
   "metadata": {},
   "source": [
    "`NeuralForecast` is a time-series forecasting library with deep learning models.\n",
    "<br>\n",
    "##### Why Deep Learning\n",
    "- Highly Accurate Predictions: \n",
    "    - High capacity shared models across panel data time series.\n",
    "- Fast and Efficient Models: \n",
    "    - Automatic featurization provided by the networks information processes.\n",
    "    - Fast GPU computations.\n",
    "\n",
    "##### NeuralForecast Features\n",
    "- Easy-to-use state-of-the-art models: \n",
    "\t- Dataset, dataloader and evaluation utility.\n",
    "\t- Code organization follows Lightning. Pure PyTorch without boilerplate.\n",
    "\t- Implementations of high performing forecasting models with minimal entry barriers.\n",
    "- High Efficiency and low computation costs:\n",
    "\t- Fast dataloaders and model optimization.\n",
    "\t- Scalable to any hardware without changing the models.\n",
    "<br>"
   ]
  },
  {
   "cell_type": "markdown",
   "metadata": {},
   "source": [
    "<br>\n",
    "<br>"
   ]
  },
  {
   "cell_type": "markdown",
   "metadata": {},
   "source": [
    "## <left> Tutorial 1: Installation and Introduction <left>"
   ]
  },
  {
   "cell_type": "markdown",
   "metadata": {},
   "source": [
    "## <left> Tutorial 2: Time Series DataSets and DataLoaders <left>"
   ]
  },
  {
   "cell_type": "markdown",
   "metadata": {},
   "source": [
    "## <left> Tutorial 3: Model Training and Evaluation <left>"
   ]
  },
  {
   "cell_type": "markdown",
   "metadata": {},
   "source": [
    "## <left> Tutorial 4: Production Deployment <left>"
   ]
  },
  {
   "cell_type": "markdown",
   "metadata": {},
   "source": [
    "## <left> Community <left>"
   ]
  },
  {
   "cell_type": "markdown",
   "metadata": {},
   "source": [
    "Slack, twitter, something else"
   ]
  },
  {
   "cell_type": "markdown",
   "metadata": {},
   "source": []
  },
  {
   "cell_type": "code",
   "execution_count": null,
   "metadata": {},
   "outputs": [],
   "source": []
  }
 ],
 "metadata": {
  "kernelspec": {
   "display_name": "Python 3",
   "language": "python",
   "name": "python3"
  }
 },
 "nbformat": 4,
 "nbformat_minor": 4
}
