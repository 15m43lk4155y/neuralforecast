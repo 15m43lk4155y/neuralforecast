{
 "cells": [
  {
   "cell_type": "code",
   "execution_count": 1,
   "metadata": {},
   "outputs": [],
   "source": [
    "# default_exp losses.numpy"
   ]
  },
  {
   "cell_type": "code",
   "execution_count": 2,
   "metadata": {},
   "outputs": [],
   "source": [
    "#hide\n",
    "%load_ext autoreload\n",
    "%autoreload 2"
   ]
  },
  {
   "cell_type": "markdown",
   "metadata": {},
   "source": [
    "# NumPy Evaluation Metrics\n",
    "\n",
    "> API details."
   ]
  },
  {
   "cell_type": "code",
   "execution_count": 3,
   "metadata": {},
   "outputs": [],
   "source": [
    "#export\n",
    "from math import sqrt\n",
    "from typing import Optional, Union\n",
    "\n",
    "import numpy as np"
   ]
  },
  {
   "cell_type": "code",
   "execution_count": 4,
   "metadata": {},
   "outputs": [],
   "source": [
    "#export\n",
    "def divide_no_nan(a, b):\n",
    "    \"\"\"\n",
    "    Auxiliary funtion to handle divide by 0\n",
    "    \"\"\"\n",
    "    div = a / b\n",
    "    div[div != div] = 0.0\n",
    "    div[div == float('inf')] = 0.0\n",
    "    return div"
   ]
  },
  {
   "cell_type": "code",
   "execution_count": 5,
   "metadata": {},
   "outputs": [],
   "source": [
    "# export\n",
    "def metric_protections(y: np.ndarray, y_hat: np.ndarray, weights: np.ndarray):\n",
    "    assert (weights is None) or (np.sum(weights) > 0), 'Sum of weights cannot be 0'\n",
    "    assert (weights is None) or (weights.shape == y_hat.shape), 'y_hat and weights dimension should be equal'"
   ]
  },
  {
   "cell_type": "code",
   "execution_count": 6,
   "metadata": {},
   "outputs": [],
   "source": [
    "#export\n",
    "def mape(y: np.ndarray, y_hat: np.ndarray, \n",
    "         weights: Optional[np.ndarray] = None,\n",
    "         axis: Optional[int] = None) -> Union[float, np.ndarray]:\n",
    "    \"\"\"Calculates Mean Absolute Percentage Error.\n",
    "    \n",
    "    MAPE measures the relative prediction accuracy of a\n",
    "    forecasting method by calculating the percentual deviation\n",
    "    of the prediction and the true value at a given time and\n",
    "    averages these devations over the length of the series.\n",
    "    \n",
    "    Parameters\n",
    "    ----------\n",
    "    y: numpy array\n",
    "        Actual test values.\n",
    "    y_hat: numpy array\n",
    "        Predicted values.\n",
    "    weights: numpy array, optional\n",
    "        Weights for weighted average.\n",
    "    axis: None or int, optional\n",
    "        Axis or axes along which to average a. \n",
    "        The default, axis=None, will average over all of the \n",
    "        elements of the input array. \n",
    "        If axis is negative it counts \n",
    "        from the last to the first axis.\n",
    " \n",
    "    Returns\n",
    "    -------\n",
    "    mape: numpy array or double\n",
    "        Return the mape along the specified axis.\n",
    "    \"\"\"\n",
    "    metric_protections(y, y_hat, weights)\n",
    "        \n",
    "    delta_y = np.abs(y - y_hat)\n",
    "    scale = np.abs(y)\n",
    "    mape = divide_no_nan(delta_y, scale)\n",
    "    mape = np.average(mape, weights=weights, axis=axis)\n",
    "    mape = 100 * mape\n",
    "    \n",
    "    return mape"
   ]
  },
  {
   "cell_type": "code",
   "execution_count": 7,
   "metadata": {},
   "outputs": [],
   "source": [
    "#export\n",
    "def mse(y: np.ndarray, y_hat: np.ndarray, \n",
    "        weights: Optional[np.ndarray] = None,\n",
    "        axis: Optional[int] = None) -> Union[float, np.ndarray]:\n",
    "    \"\"\"Calculates Mean Squared Error.\n",
    "    \n",
    "    MSE measures the prediction accuracy of a\n",
    "    forecasting method by calculating the squared deviation\n",
    "    of the prediction and the true value at a given time and\n",
    "    averages these devations over the length of the series.\n",
    "    \n",
    "    Parameters\n",
    "    ----------\n",
    "    y: numpy array\n",
    "        Actual test values.\n",
    "    y_hat: numpy array\n",
    "        Predicted values.\n",
    "    weights: numpy array\n",
    "        Weights for weighted average.\n",
    "    axis: None or int, optional\n",
    "        Axis or axes along which to average a. \n",
    "        The default, axis=None, will average over all of the \n",
    "        elements of the input array. \n",
    "        If axis is negative it counts \n",
    "        from the last to the first axis.\n",
    "        \n",
    "    Returns\n",
    "    -------\n",
    "    mse: numpy array or double\n",
    "        Return the mse along the specified axis.\n",
    "    \"\"\"\n",
    "    metric_protections(y, y_hat, weights)\n",
    "\n",
    "    delta_y = np.square(y - y_hat)\n",
    "    if weights is not None:\n",
    "        mse = np.average(delta_y[~np.isnan(delta_y)], \n",
    "                         weights=weights[~np.isnan(delta_y)], \n",
    "                         axis=axis)\n",
    "    else:\n",
    "        mse = np.nanmean(delta_y, axis=axis)\n",
    "        \n",
    "    return mse"
   ]
  },
  {
   "cell_type": "code",
   "execution_count": 8,
   "metadata": {},
   "outputs": [],
   "source": [
    "#export\n",
    "def rmse(y: np.ndarray, y_hat: np.ndarray,\n",
    "         weights: Optional[np.ndarray] = None,\n",
    "         axis: Optional[int] = None) -> Union[float, np.ndarray]:\n",
    "    \"\"\"Calculates Root Mean Squared Error.\n",
    "    \n",
    "    RMSE measures the prediction accuracy of a\n",
    "    forecasting method by calculating the squared deviation\n",
    "    of the prediction and the true value at a given time and\n",
    "    averages these devations over the length of the series.\n",
    "    Finally the RMSE will be in the same scale\n",
    "    as the original time series so its comparison with other\n",
    "    series is possible only if they share a common scale.\n",
    "    \n",
    "    Parameters\n",
    "    ----------\n",
    "    y: numpy array\n",
    "        Actual test values.\n",
    "    y_hat: numpy array\n",
    "        Predicted values.    \n",
    "    weights: numpy array\n",
    "        Weights for weighted average.\n",
    "    axis: None or int, optional\n",
    "        Axis or axes along which to average a. \n",
    "        The default, axis=None, will average over all of the \n",
    "        elements of the input array. \n",
    "        If axis is negative it counts \n",
    "        from the last to the first axis.\n",
    "      \n",
    "    Returns\n",
    "    -------\n",
    "    rmse: numpy array or double\n",
    "        Return the rmse along the specified axis.\n",
    "    \"\"\"\n",
    "\n",
    "    return np.sqrt(mse(y, y_hat, weights, axis))"
   ]
  },
  {
   "cell_type": "code",
   "execution_count": 9,
   "metadata": {},
   "outputs": [],
   "source": [
    "#export\n",
    "def smape(y: np.ndarray, y_hat: np.ndarray,\n",
    "          weights: Optional[np.ndarray] = None,\n",
    "          axis: Optional[int] = None) -> Union[float, np.ndarray]:\n",
    "    \"\"\"Calculates Symmetric Mean Absolute Percentage Error.\n",
    "    \n",
    "    SMAPE measures the relative prediction accuracy of a\n",
    "    forecasting method by calculating the relative deviation\n",
    "    of the prediction and the true value scaled by the sum of the\n",
    "    absolute values for the prediction and true value at a\n",
    "    given time, then averages these devations over the length\n",
    "    of the series. This allows the SMAPE to have bounds between\n",
    "    0% and 200% which is desireble compared to normal MAPE that\n",
    "    may be undetermined.\n",
    "    \n",
    "    Parameters\n",
    "    ----------\n",
    "    y: numpy array\n",
    "        Actual test values.\n",
    "    y_hat: numpy array\n",
    "        Predicted values.\n",
    "    weights: numpy array\n",
    "        Weights for weighted average.\n",
    "    axis: None or int, optional\n",
    "        Axis or axes along which to average a. \n",
    "        The default, axis=None, will average over all of the \n",
    "        elements of the input array. \n",
    "        If axis is negative it counts \n",
    "        from the last to the first axis.\n",
    "    \n",
    "    Returns\n",
    "    -------\n",
    "    smape: numpy array or double\n",
    "        Return the smape along the specified axis.\n",
    "    \"\"\"\n",
    "    metric_protections(y, y_hat, weights)\n",
    "        \n",
    "    delta_y = np.abs(y - y_hat)\n",
    "    scale = np.abs(y) + np.abs(y_hat)\n",
    "    smape = divide_no_nan(delta_y, scale)\n",
    "    smape = 200 * np.average(smape, weights=weights, axis=axis)\n",
    "\n",
    "    assert all(smape <= 200), 'SMAPE should be lower than 200'\n",
    "    \n",
    "    return smape"
   ]
  },
  {
   "cell_type": "code",
   "execution_count": 10,
   "metadata": {},
   "outputs": [],
   "source": [
    "#export\n",
    "def mase(y: np.ndarray, y_hat: np.ndarray, \n",
    "         y_train: np.ndarray,\n",
    "         seasonality: int,\n",
    "         weights: Optional[np.ndarray] = None,\n",
    "         axis: Optional[int] = None) -> Union[float, np.ndarray]:\n",
    "    \"\"\"Calculates the Mean Absolute Scaled Error.\n",
    "\n",
    "    MASE measures the relative prediction accuracy of a\n",
    "    forecasting method by comparinng the mean absolute errors\n",
    "    of the prediction and the true value against the mean\n",
    "    absolute errors of the seasonal naive model.\n",
    "\n",
    "    Parameters\n",
    "    ----------\n",
    "    y: numpy array\n",
    "        Actual test values.\n",
    "    y_hat: numpy array\n",
    "        Predicted values.\n",
    "    y_train: numpy array\n",
    "        Actual insample values for Seasonal Naive predictions.\n",
    "    seasonality: int\n",
    "        Main frequency of the time series\n",
    "        Hourly 24,  Daily 7, Weekly 52,\n",
    "        Monthly 12, Quarterly 4, Yearly 1.\n",
    "    weights: numpy array\n",
    "        Weights for weighted average.\n",
    "    axis: None or int, optional\n",
    "        Axis or axes along which to average a. \n",
    "        The default, axis=None, will average over all of the \n",
    "        elements of the input array. \n",
    "        If axis is negative it counts \n",
    "        from the last to the first axis.\n",
    "\n",
    "    Returns\n",
    "    -------\n",
    "    mase: numpy array or double\n",
    "        Return the mase along the specified axis.\n",
    "\n",
    "    References\n",
    "    ----------\n",
    "    [1] https://robjhyndman.com/papers/mase.pdf\n",
    "    \"\"\"    \n",
    "    print(\"Not implemented yet\")"
   ]
  },
  {
   "cell_type": "code",
   "execution_count": 11,
   "metadata": {},
   "outputs": [],
   "source": [
    "#export\n",
    "def mae(y: np.ndarray, y_hat: np.ndarray,\n",
    "        weights: Optional[np.ndarray] = None,\n",
    "        axis: Optional[int] = None) -> Union[float, np.ndarray]:\n",
    "    \"\"\"Calculates Mean Absolute Error.\n",
    "\n",
    "    The mean absolute error \n",
    "\n",
    "    Parameters\n",
    "    ----------\n",
    "    y: numpy array\n",
    "        Actual test values.\n",
    "    y_hat: numpy array\n",
    "        Predicted values.\n",
    "    weights: numpy array\n",
    "        Weights for weighted average.\n",
    "    axis: None or int, optional\n",
    "        Axis or axes along which to average a. \n",
    "        The default, axis=None, will average over all of the \n",
    "        elements of the input array. \n",
    "        If axis is negative it counts \n",
    "        from the last to the first axis.\n",
    "\n",
    "    Returns\n",
    "    -------\n",
    "    mae: numpy array or double\n",
    "        Return the mae along the specified axis.\n",
    "    \"\"\"\n",
    "    metric_protections(y, y_hat, weights)\n",
    "    \n",
    "    delta_y = np.abs(y - y_hat)\n",
    "    if weights is not None:\n",
    "        mae = np.average(delta_y[~np.isnan(delta_y)], \n",
    "                         weights=weights[~np.isnan(delta_y)],\n",
    "                         axis=axis)\n",
    "    else:\n",
    "        mae = np.nanmean(delta_y, axis=axis)\n",
    "        \n",
    "    return mae"
   ]
  },
  {
   "cell_type": "code",
   "execution_count": 12,
   "metadata": {},
   "outputs": [],
   "source": [
    "#export\n",
    "def pinball_loss(y: np.ndarray, y_hat: np.ndarray, tau: float = 0.5, \n",
    "                 weights: Optional[np.ndarray] = None,\n",
    "                 axis: Optional[int] = None) -> Union[float, np.ndarray]:\n",
    "    \"\"\"Calculates the Pinball Loss.\n",
    "\n",
    "    The Pinball loss measures the deviation of a quantile forecast.\n",
    "    By weighting the absolute deviation in a non symmetric way, the\n",
    "    loss pays more attention to under or over estimation.\n",
    "    A common value for tau is 0.5 for the deviation from the median.\n",
    "\n",
    "    Parameters\n",
    "    ----------\n",
    "    y: numpy array\n",
    "        Actual test values.\n",
    "    y_hat: numpy array\n",
    "        Predicted values.   \n",
    "    weights: numpy array\n",
    "        Weights for weighted average.      \n",
    "    tau: float\n",
    "        Fixes the quantile against which the predictions are compared.\n",
    "    axis: None or int, optional\n",
    "        Axis or axes along which to average a. \n",
    "        The default, axis=None, will average over all of the \n",
    "        elements of the input array. \n",
    "        If axis is negative it counts \n",
    "        from the last to the first axis.\n",
    "    \n",
    "    Returns\n",
    "    -------\n",
    "    pinball loss: numpy array or double\n",
    "        Return the pinball loss along the specified axis.\n",
    "    \"\"\"\n",
    "    metric_protections(y, y_hat, weights)\n",
    "\n",
    "    delta_y = y - y_hat\n",
    "    pinball = np.maximum(tau * delta_y, (tau - 1) * delta_y)\n",
    "\n",
    "    if weights is not None:\n",
    "        pinball = np.average(pinball[~np.isnan(pinball)], \n",
    "                             weights=weights[~np.isnan(pinball)],\n",
    "                             axis=axis)\n",
    "    else:\n",
    "        pinball = np.nanmean(pinball, axis=axis)\n",
    "        \n",
    "    return pinball"
   ]
  },
  {
   "cell_type": "code",
   "execution_count": 13,
   "metadata": {},
   "outputs": [],
   "source": [
    "# export\n",
    "def rmae(y: np.ndarray, \n",
    "         y_hat1: np.ndarray, y_hat2: np.ndarray, \n",
    "         weights: Optional[np.ndarray] = None,\n",
    "         axis: Optional[int] = None) -> Union[float, np.ndarray]:\n",
    "    \"\"\"Calculates Relative Mean Absolute Error.\n",
    "\n",
    "    The relative mean absolute error of two forecasts.\n",
    "    A number smaller than one implies that the forecast in the \n",
    "    numerator is better than the forecast in the denominator.\n",
    "\n",
    "    Parameters\n",
    "    ----------\n",
    "    y: numpy array\n",
    "        Actual test values.\n",
    "    y_hat1: numpy array\n",
    "        Predicted values of first model.\n",
    "    y_hat2: numpy array\n",
    "        Predicted values of second model.\n",
    "    weights: numpy array\n",
    "        Weights for weighted average.\n",
    "    axis: None or int, optional\n",
    "        Axis or axes along which to average a. \n",
    "        The default, axis=None, will average over all of the \n",
    "        elements of the input array. \n",
    "        If axis is negative it counts \n",
    "        from the last to the first axis.\n",
    "\n",
    "    Returns\n",
    "    -------\n",
    "    rmae: numpy array or double\n",
    "        Return the rmae along the specified axis.\n",
    "    \"\"\"\n",
    "    numerator = mae(y=y, y_hat=y_hat1, weights=weights, axis=axis)\n",
    "    denominator = mae(y=y, y_hat=y_hat2, weights=weights, axis=axis)\n",
    "    rmae = numerator / denominator\n",
    "    \n",
    "    return rmae"
   ]
  },
  {
   "cell_type": "markdown",
   "metadata": {},
   "source": [
    "## Multi-quantile NumPy loss\n",
    "\n",
    "MQLoss definition and testing."
   ]
  },
  {
   "cell_type": "code",
   "execution_count": 14,
   "metadata": {},
   "outputs": [],
   "source": [
    "#export\n",
    "def mqloss(y: np.ndarray, y_hat: np.ndarray, \n",
    "           quantiles: np.ndarray, \n",
    "           weights: Optional[np.ndarray] = None,\n",
    "           axis: Optional[int] = None) -> Union[float, np.ndarray]:\n",
    "    \"\"\"Calculates the MultiQuantile loss.\n",
    "\n",
    "    Calculates Average Multi-quantile Loss function, for\n",
    "    a given set of quantiles, based on the absolute \n",
    "    difference between predicted and true values.\n",
    "\n",
    "    Parameters\n",
    "    ----------\n",
    "    y: numpy array\n",
    "        Actual test values.\n",
    "    y_hat: numpy array (-1, n_quantiles) \n",
    "        Predicted values.\n",
    "    quantiles: numpy array (n_quantiles) \n",
    "        Quantiles to estimate from the distribution of y.\n",
    "    weights: numpy array\n",
    "        Weights for weighted average.      \n",
    "    axis: None or int, optional\n",
    "        Axis or axes along which to average a. \n",
    "        The default, axis=None, will average over all of the \n",
    "        elements of the input array. \n",
    "        If axis is negative it counts \n",
    "        from the last to the first axis.\n",
    "\n",
    "    Returns\n",
    "    -------\n",
    "    mqloss: numpy array or double\n",
    "        Return the mqloss along the specified axis.\n",
    "    \"\"\" \n",
    "    metric_protections(y, y_hat, weights)\n",
    "    n_q = len(quantiles)\n",
    "    \n",
    "    y_rep = np.expand_dims(y, axis=-1)\n",
    "    error = y_hat - y_rep\n",
    "    sq = np.maximum(-error, np.zeros_like(error))\n",
    "    s1_q = np.maximum(error, np.zeros_like(error)) \n",
    "    loss = (quantiles * sq + (1 - quantiles) * s1_q)\n",
    "    loss = np.average(loss, weights=weights, axis=axis)\n",
    "    \n",
    "    return loss"
   ]
  },
  {
   "cell_type": "code",
   "execution_count": 15,
   "metadata": {},
   "outputs": [
    {
     "data": {
      "text/plain": [
       "array([0.11319055, 0.1662066 , 0.1687218 , 0.11196051, 0.16984399,\n",
       "       0.16613338, 0.1082479 , 0.23261391, 0.12315621, 0.20587235,\n",
       "       0.15831958, 0.17930378, 0.23766872, 0.1736504 , 0.28448128,\n",
       "       0.14595557, 0.26973386, 0.15280176, 0.12963283, 0.16185545,\n",
       "       0.15069212, 0.15570959, 0.13827984, 0.15545569, 0.14437847,\n",
       "       0.17533213, 0.18347565, 0.22509667, 0.1378082 , 0.12803971,\n",
       "       0.15327662, 0.19277337, 0.14189845, 0.16168525, 0.16889583,\n",
       "       0.21832227, 0.19470641, 0.14254703, 0.13036127, 0.08885832,\n",
       "       0.17817867, 0.23140961, 0.19082368, 0.17584046, 0.17888971,\n",
       "       0.16433528, 0.18602548, 0.13247286, 0.12597067, 0.1352258 ,\n",
       "       0.12189852, 0.16753081, 0.18609006, 0.12330168, 0.19087797,\n",
       "       0.21187817, 0.15979956, 0.12609217, 0.16341577, 0.13662247,\n",
       "       0.11494803, 0.13000434, 0.17797116, 0.21615046, 0.11969575,\n",
       "       0.18286802, 0.16240748, 0.2069795 , 0.17785966, 0.15366625,\n",
       "       0.14446143, 0.14480037, 0.18918627, 0.17614856, 0.20385407,\n",
       "       0.16961211, 0.20308481, 0.17135687, 0.17516023, 0.18796534,\n",
       "       0.19073306, 0.20546836, 0.18679402, 0.14741993, 0.18933241,\n",
       "       0.23767028, 0.13207587, 0.16941664, 0.17448913, 0.17351626,\n",
       "       0.19568916, 0.15040529, 0.12555625, 0.18946686, 0.16013861,\n",
       "       0.14579522, 0.17814657, 0.19844967, 0.14244278, 0.12911971])"
      ]
     },
     "execution_count": 15,
     "metadata": {},
     "output_type": "execute_result"
    }
   ],
   "source": [
    "y = np.random.random(size=(100, 7))\n",
    "y_q = np.random.random(size=(100, 7, 4))\n",
    "weights = np.ones_like(y_q)\n",
    "quantiles = np.array([0.1, 0.2, 0.3, 0.4])\n",
    "\n",
    "mqloss(y, y_q, quantiles, weights=weights, axis=(1, 2))"
   ]
  },
  {
   "cell_type": "code",
   "execution_count": 16,
   "metadata": {},
   "outputs": [
    {
     "data": {
      "text/plain": [
       "0.16763929502728164"
      ]
     },
     "execution_count": 16,
     "metadata": {},
     "output_type": "execute_result"
    }
   ],
   "source": [
    "mqloss(y, y_q, quantiles)"
   ]
  },
  {
   "cell_type": "markdown",
   "metadata": {},
   "source": [
    "# Checks for NumPy Evaluation Metrics"
   ]
  },
  {
   "cell_type": "code",
   "execution_count": 17,
   "metadata": {},
   "outputs": [
    {
     "name": "stdout",
     "output_type": "stream",
     "text": [
      "5.3\n",
      "4.777777777777778\n"
     ]
    }
   ],
   "source": [
    "y = np.array([1,1,1,0,0,0,0,0,1, np.nan])\n",
    "y_mask = np.array([1,1,1,1,1,1,1,1,2,0])\n",
    "y_hat = np.array([1,2,3,-4,-5,-6,-7,-8,-9,-10])\n",
    "\n",
    "print(mae(y=y, y_hat=y_hat, weights=y_mask))\n",
    "print(mae(y=y, y_hat=y_hat))"
   ]
  },
  {
   "cell_type": "code",
   "execution_count": 18,
   "metadata": {},
   "outputs": [
    {
     "name": "stdout",
     "output_type": "stream",
     "text": [
      "5.3\n",
      "4.777777777777778\n"
     ]
    }
   ],
   "source": [
    "print(mae(y=y, y_hat=y_hat, weights=y_mask))\n",
    "print(mae(y=y, y_hat=y_hat))"
   ]
  },
  {
   "cell_type": "code",
   "execution_count": 19,
   "metadata": {},
   "outputs": [
    {
     "data": {
      "text/plain": [
       "10"
      ]
     },
     "execution_count": 19,
     "metadata": {},
     "output_type": "execute_result"
    }
   ],
   "source": [
    "len(y)"
   ]
  }
 ],
 "metadata": {
  "kernelspec": {
   "display_name": "Python 3",
   "language": "python",
   "name": "python3"
  },
  "language_info": {
   "codemirror_mode": {
    "name": "ipython",
    "version": 3
   },
   "file_extension": ".py",
   "mimetype": "text/x-python",
   "name": "python",
   "nbconvert_exporter": "python",
   "pygments_lexer": "ipython3",
   "version": "3.7.10"
  }
 },
 "nbformat": 4,
 "nbformat_minor": 4
}
