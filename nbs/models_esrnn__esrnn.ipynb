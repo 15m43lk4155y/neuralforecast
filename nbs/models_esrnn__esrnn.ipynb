{
 "cells": [
  {
   "cell_type": "code",
   "execution_count": null,
   "metadata": {},
   "outputs": [],
   "source": [
    "# default_exp models.esrnn.esrnn"
   ]
  },
  {
   "cell_type": "code",
   "execution_count": null,
   "metadata": {},
   "outputs": [],
   "source": [
    "#hide\n",
    "%load_ext autoreload\n",
    "%autoreload 2"
   ]
  },
  {
   "cell_type": "markdown",
   "metadata": {},
   "source": [
    "# ES-RNN: Exponential Smoothing Recurrent Neural Network\n",
    "\n",
    "> API details.\n",
    "\n",
    "The winning submission of the M4 competition was the <em>Exponential Smoothing Recurrent Neural Network</em> (ESRNN). This hybrid model combined and simultaneously optimized the standard exponential smoothing method as a preprocessing component for the inputs of recurrent neural networks. The [original model](https://github.com/Mcompetitions/M4-methods/tree/master/118%20-%20slaweks17) is implemented in dynet.\n",
    "\n",
    "[Slawek Smyl. A hybrid method of exponential smoothing and recurrent neural networks for time series forecasting. International Journal of Forecasting, 07 2019.](https://www.sciencedirect.com/science/article/pii/S0169207019301153)"
   ]
  },
  {
   "cell_type": "code",
   "execution_count": null,
   "metadata": {},
   "outputs": [],
   "source": [
    "#export\n",
    "from typing import Union, List\n",
    "\n",
    "import numpy as np\n",
    "import pytorch_lightning as pl\n",
    "import torch as t\n",
    "import torch.nn as nn\n",
    "from torch.nn.utils import clip_grad_norm_\n",
    "from torch.optim import Adam\n",
    "from torch.optim.lr_scheduler import StepLR\n",
    "\n",
    "from nixtla.models.esrnn.esrnn_model import (\n",
    "    _ES, _ESI, _MedianResidual, \n",
    "    _ESM, _RNN, _ESRNN\n",
    ")\n",
    "from nixtla.losses.utils import LossFunction"
   ]
  },
  {
   "cell_type": "code",
   "execution_count": null,
   "metadata": {},
   "outputs": [],
   "source": [
    "#export\n",
    "class ESRNN(pl.LightningModule):\n",
    "    def __init__(self, n_series: int,\n",
    "                 n_x: int, n_s: int, \n",
    "                 input_size: int, output_size: int,\n",
    "                 idx_to_sample_freq: int,\n",
    "                 es_component: str = 'multiplicative', \n",
    "                 cell_type: str = 'LSTM', state_hsize: int = 50, \n",
    "                 dilations: List[List[int]] = [[1, 2], [4, 8]], \n",
    "                 add_nl_layer: bool = False, seasonality: List[int] = [],\n",
    "                 learning_rate: float = 1e-3, lr_scheduler_step_size: int = 9,\n",
    "                 lr_decay: float = 0.9, per_series_lr_multip: float = 1.,\n",
    "                 gradient_eps: float = 1e-8, \n",
    "                 gradient_clipping_threshold: float = 20.,\n",
    "                 rnn_weight_decay: float = 0., noise_std: float = 1e-3,\n",
    "                 level_variability_penalty: float = 20.,\n",
    "                 testing_percentile: Union[int, List] = 50, \n",
    "                 training_percentile: Union[int, List] = 50,\n",
    "                 loss: str = 'SMYL', val_loss: str = 'MAE'):\n",
    "        super(ESRNN, self).__init__()\n",
    "        \"\"\" Exponential Smoothing Recurrent Neural Network\n",
    "\n",
    "        Pytorch Implementation of the M4 time series forecasting competition winner.\n",
    "        Proposed by Smyl. The model uses a hybrid approach of Machine Learning and\n",
    "        statistical methods by combining recurrent neural networks to model a common\n",
    "        trend with shared parameters across series, and multiplicative Holt-Winter\n",
    "        exponential smoothing.\n",
    "\n",
    "        Parameters\n",
    "        ----------\n",
    "        n_series: int\n",
    "            Number of time series.\n",
    "        n_x: int\n",
    "            Number of temporal exogenous variables.\n",
    "        n_s: int\n",
    "            Number of static variables.\n",
    "        input_size: int\n",
    "            input size of the recurrent neural network, usually a\n",
    "            multiple of seasonality\n",
    "        output_size: int\n",
    "            output_size or forecast horizon of the recurrent neural\n",
    "            network, usually multiple of seasonality\n",
    "        idx_to_sample_freq: int\n",
    "            Step size between windows.\n",
    "        es_component: str\n",
    "            Exponential Smoothing component.\n",
    "            Default multiplicative.\n",
    "        cell_type: str\n",
    "            Type of RNN cell, available GRU, LSTM, RNN, ResidualLSTM.\n",
    "        state_hsize: int\n",
    "            dimension of hidden state of the recurrent neural network\n",
    "        dilations: int list\n",
    "            each list represents one chunk of Dilated LSTMS, connected in\n",
    "            standard ResNet fashion\n",
    "        add_nl_layer: bool\n",
    "            whether to insert a tanh() layer between the RNN stack and the\n",
    "            linear adaptor (output) layers\n",
    "        seasonality: int list\n",
    "            list of seasonalities of the time series\n",
    "            Hourly [24, 168], Daily [7], Weekly [52], Monthly [12],\n",
    "            Quarterly [4], Yearly [].\n",
    "        learning_rate: float\n",
    "            size of the stochastic gradient descent steps\n",
    "        lr_scheduler_step_size: int\n",
    "            this step_size is the period for each learning rate decay\n",
    "        lr_decay: float\n",
    "            Learning rate decay.\n",
    "        per_series_lr_multip: float\n",
    "            multiplier for per-series parameters smoothing and initial\n",
    "            seasonalities learning rate (default 1.0)\n",
    "        gradient_eps: float\n",
    "            term added to the Adam optimizer denominator to improve\n",
    "            numerical stability (default: 1e-8)\n",
    "        gradient_clipping_threshold: float\n",
    "            max norm of gradient vector, with all parameters treated\n",
    "            as a single vector\n",
    "        rnn_weight_decay: float\n",
    "            parameter to control classic L2/Tikhonov regularization\n",
    "            of the rnn parameters\n",
    "        noise_std: float\n",
    "            standard deviation of white noise added to input during\n",
    "            fit to avoid the model from memorizing the train data\n",
    "        level_variability_penalty: float\n",
    "            this parameter controls the strength of the penalization\n",
    "            to the wigglines of the level vector, induces smoothness\n",
    "            in the output\n",
    "        testing_percentile: int\n",
    "            This value is only for diagnostic evaluation.\n",
    "            In case of percentile predictions this parameter controls\n",
    "            for the value predicted, when forecasting point value,\n",
    "            the forecast is the median, so percentile=50.\n",
    "        training_percentile: float\n",
    "            To reduce the model's tendency to over estimate, the\n",
    "            training_percentile can be set to fit a smaller value\n",
    "            through the Pinball Loss.\n",
    "        loss: str\n",
    "            Loss used to train.\n",
    "        val_loss: str\n",
    "            Loss used to validate.\n",
    "        \n",
    "        Notes\n",
    "        -----\n",
    "        **References:**\n",
    "        `M4 Competition Conclusions\n",
    "        <https://rpubs.com/fotpetr/m4competition>`__\n",
    "        `Original Dynet Implementation of ESRNN\n",
    "        <https://github.com/M4Competition/M4-methods/tree/master/118%20-%20slaweks17>`__\n",
    "        \"\"\"\n",
    "\n",
    "        #------------------------ Model Attributes ------------------------#\n",
    "        # Architecture parameters\n",
    "        self.n_series = n_series\n",
    "        self.n_x = n_x\n",
    "        self.n_s = n_s \n",
    "        self.idx_to_sample_freq = idx_to_sample_freq\n",
    "        self.input_size = input_size\n",
    "        self.output_size = output_size\n",
    "        self.es_component = es_component\n",
    "        self.cell_type = cell_type\n",
    "        self.state_hsize = state_hsize\n",
    "        self.dilations = dilations\n",
    "        self.add_nl_layer = add_nl_layer\n",
    "        self.seasonality = seasonality\n",
    "\n",
    "        # Regularization and optimization parameters\n",
    "        self.learning_rate = learning_rate\n",
    "        self.lr_scheduler_step_size = lr_scheduler_step_size\n",
    "        self.lr_decay = lr_decay\n",
    "        self.per_series_lr_multip = per_series_lr_multip\n",
    "        self.gradient_eps = gradient_eps\n",
    "        self.gradient_clipping_threshold = gradient_clipping_threshold\n",
    "        self.rnn_weight_decay = rnn_weight_decay\n",
    "        self.noise_std = noise_std\n",
    "        self.level_variability_penalty = level_variability_penalty\n",
    "        self.testing_percentile = testing_percentile\n",
    "        self.training_percentile = training_percentile\n",
    "        self.loss = loss\n",
    "        self.val_loss = val_loss\n",
    "        self.loss_fn = LossFunction(loss, \n",
    "                                    percentile=self.training_percentile,\n",
    "                                    level_variability_penalty=self.level_variability_penalty)\n",
    "        self.val_loss_fn = LossFunction(val_loss,\n",
    "                                        percentile=self.testing_percentile,\n",
    "                                        level_variability_penalty=self.level_variability_penalty)\n",
    "\n",
    "        # MQESRNN\n",
    "        self.mq = isinstance(self.training_percentile, list)\n",
    "        self.output_size_m = len(self.training_percentile) if self.mq else 1\n",
    "\n",
    "        #Defining model\n",
    "        self.esrnn = _ESRNN(n_series=self.n_series, \n",
    "                            input_size=self.input_size,\n",
    "                            output_size=self.output_size, \n",
    "                            output_size_m=self.output_size_m,\n",
    "                            n_t=self.n_x, n_s=self.n_s,\n",
    "                            es_component=self.es_component, \n",
    "                            seasonality=self.seasonality,\n",
    "                            noise_std=self.noise_std, \n",
    "                            cell_type=self.cell_type,\n",
    "                            dilations=self.dilations, \n",
    "                            state_hsize=self.state_hsize,\n",
    "                            add_nl_layer=self.add_nl_layer)\n",
    "        \n",
    "        self.automatic_optimization = False\n",
    "            \n",
    "    def training_step(self, batch, batch_idx):\n",
    "        es_opt, rnn_opt = self.optimizers()\n",
    "        \n",
    "        #Parsing batch\n",
    "        S = batch['S']\n",
    "        Y = batch['Y']\n",
    "        X = batch['X']\n",
    "        idxs = batch['idxs']\n",
    "    \n",
    "        target, forecast, levels = self.esrnn(S=S, Y=Y, X=X, idxs=idxs, \n",
    "                                              step_size=self.idx_to_sample_freq)\n",
    "        loss = self.loss_fn(y=target,\n",
    "                            y_hat=forecast,\n",
    "                            y_insample=Y, \n",
    "                            levels=levels) \n",
    "        \n",
    "        es_opt.zero_grad()\n",
    "        rnn_opt.zero_grad()\n",
    "        self.manual_backward(loss)\n",
    "        clip_grad_norm_(parameters=self.esrnn.rnn.parameters(),\n",
    "                        max_norm=self.gradient_clipping_threshold)\n",
    "        clip_grad_norm_(parameters=self.esrnn.es.parameters(),\n",
    "                        max_norm=self.gradient_clipping_threshold)\n",
    "        es_opt.step()\n",
    "        rnn_opt.step()\n",
    "\n",
    "        self.log('train_loss', loss, prog_bar=True, on_epoch=True)\n",
    "        \n",
    "        return loss\n",
    "    \n",
    "    def on_train_epoch_end(self):\n",
    "        for lr_scheduler in self.lr_schedulers():\n",
    "            lr_scheduler.step()\n",
    "    \n",
    "    def validation_step(self, batch, idx):\n",
    "        S = batch['S']\n",
    "        Y = batch['Y']\n",
    "        X = batch['X']\n",
    "        idxs = batch['idxs']\n",
    "        \n",
    "        target, forecast = self.esrnn.predict(S=S, Y=Y, X=X, idxs=idxs,\n",
    "                                              step_size=self.idx_to_sample_freq)\n",
    "        loss = self.val_loss_fn(y=target,\n",
    "                                y_hat=forecast,\n",
    "                                y_insample=Y)\n",
    "        self.log('val_loss', loss,  prog_bar=True)\n",
    "        \n",
    "        return loss\n",
    "    \n",
    "    def forward(self, batch):\n",
    "        S = batch['S']\n",
    "        Y = batch['Y']\n",
    "        X = batch['X']\n",
    "        idxs = batch['idxs']\n",
    "        \n",
    "        target, forecast = self.esrnn.predict(S=S, Y=Y, X=X, idxs=idxs,\n",
    "                                              step_size=self.idx_to_sample_freq)\n",
    "        \n",
    "        return target, forecast\n",
    "    \n",
    "    def configure_optimizers(self):\n",
    "        es_optimizer = Adam(params=self.esrnn.es.parameters(),\n",
    "                            lr=self.learning_rate * self.per_series_lr_multip,\n",
    "                            eps=self.gradient_eps)\n",
    "        rnn_optimizer = Adam(params=self.esrnn.rnn.parameters(),\n",
    "                             lr=self.learning_rate,\n",
    "                             eps=self.gradient_eps,\n",
    "                             weight_decay=self.rnn_weight_decay)\n",
    "        \n",
    "        lr_es = StepLR(optimizer=es_optimizer,\n",
    "                       step_size=self.lr_scheduler_step_size,\n",
    "                       gamma=self.lr_decay)\n",
    "        lr_rnn = StepLR(optimizer=rnn_optimizer,\n",
    "                        step_size=self.lr_scheduler_step_size,\n",
    "                        gamma=self.lr_decay)\n",
    "        \n",
    "        return [es_optimizer, rnn_optimizer], [lr_es, lr_rnn]"
   ]
  },
  {
   "cell_type": "markdown",
   "metadata": {},
   "source": [
    "## ES-RNN Univariate Example"
   ]
  },
  {
   "cell_type": "code",
   "execution_count": null,
   "metadata": {},
   "outputs": [],
   "source": [
    "import matplotlib.pyplot as plt\n",
    "\n",
    "from nixtla.data.datasets.epf import EPF, EPFInfo\n",
    "from nixtla.data.tsdataset import TimeSeriesDataset\n",
    "from nixtla.data.tsloader import TimeSeriesLoader"
   ]
  },
  {
   "cell_type": "code",
   "execution_count": null,
   "metadata": {},
   "outputs": [],
   "source": [
    "Y_df, X_df, _ = EPF.load(directory='./data', group=EPFInfo.groups[0])\n",
    "\n",
    "X_df = X_df[['unique_id', 'ds', 'week_day']]\n",
    "\n",
    "# Leveling Y_df (multiplicative model)\n",
    "Y_min = Y_df.y.min()\n",
    "Y_df.y = Y_df.y - Y_min + 20\n",
    "\n",
    "train_ts_dataset = TimeSeriesDataset(Y_df=Y_df, S_df=None, X_df=X_df,\n",
    "                                     ds_in_test=728*24,\n",
    "                                     mode='full',\n",
    "                                     window_sampling_limit= 500_000, # To limit backprop time\n",
    "                                     input_size=7*24,\n",
    "                                     output_size=24,\n",
    "                                     idx_to_sample_freq=24,\n",
    "                                     len_sample_chunks=3*7*24,\n",
    "                                     complete_inputs=True)\n",
    "\n",
    "outsample_ts_dataset = TimeSeriesDataset(Y_df=Y_df, S_df=None, X_df=X_df,\n",
    "                                         ds_in_test=728*24, \n",
    "                                         is_test=True,\n",
    "                                         mode='full',\n",
    "                                         window_sampling_limit= 500_000, \n",
    "                                         input_size=7*24,\n",
    "                                         output_size=24,\n",
    "                                         idx_to_sample_freq=24,\n",
    "                                         len_sample_chunks=4*7*24,\n",
    "                                         complete_inputs=False,\n",
    "                                         complete_outputs=False)\n",
    "\n",
    "train_ts_loader = TimeSeriesLoader(dataset=train_ts_dataset,\n",
    "                                   batch_size=32, \n",
    "                                   shuffle=True)\n",
    "\n",
    "val_ts_loader = TimeSeriesLoader(dataset=outsample_ts_dataset,\n",
    "                                 batch_size=1,\n",
    "                                 shuffle=False)"
   ]
  },
  {
   "cell_type": "code",
   "execution_count": null,
   "metadata": {},
   "outputs": [],
   "source": [
    "model = ESRNN(# Architecture parameters\n",
    "              n_series=train_ts_dataset.n_series,\n",
    "              n_s=train_ts_dataset.n_s,\n",
    "              n_x=train_ts_dataset.n_x,\n",
    "              input_size=train_ts_dataset.input_size,\n",
    "              output_size=train_ts_dataset.output_size,\n",
    "              idx_to_sample_freq=train_ts_dataset.idx_to_sample_freq,\n",
    "              es_component='multiplicative',\n",
    "              cell_type='LSTM',\n",
    "              state_hsize=50,\n",
    "              dilations=[[1, 2], [7, 14]],\n",
    "              add_nl_layer=False,\n",
    "              # Regularization and optimization parameters\n",
    "              learning_rate=5e-3,\n",
    "              lr_scheduler_step_size=100,\n",
    "              lr_decay=0.9,\n",
    "              per_series_lr_multip=1.5,\n",
    "              gradient_eps=1e-8,\n",
    "              gradient_clipping_threshold=10,\n",
    "              rnn_weight_decay=0,\n",
    "              noise_std=0.001,\n",
    "              level_variability_penalty=10,\n",
    "              testing_percentile=50,\n",
    "              training_percentile=51,\n",
    "              loss='SMYL',\n",
    "              val_loss='MAE',\n",
    "              seasonality=[24]) "
   ]
  },
  {
   "cell_type": "code",
   "execution_count": null,
   "metadata": {},
   "outputs": [],
   "source": [
    "from pytorch_lightning.callbacks import EarlyStopping\n",
    "early_stopping = EarlyStopping(monitor=\"val_loss\", \n",
    "                               min_delta=1e-4, \n",
    "                               patience=1, verbose=True, \n",
    "                               mode=\"min\")"
   ]
  },
  {
   "cell_type": "code",
   "execution_count": null,
   "metadata": {},
   "outputs": [
    {
     "name": "stderr",
     "output_type": "stream",
     "text": [
      "GPU available: False, used: False\n",
      "TPU available: False, using: 0 TPU cores\n",
      "\n",
      "  | Name  | Type   | Params\n",
      "---------------------------------\n",
      "0 | esrnn | _ESRNN | 144 K \n",
      "---------------------------------\n",
      "144 K     Trainable params\n",
      "0         Non-trainable params\n",
      "144 K     Total params\n",
      "0.579     Total estimated model params size (MB)\n"
     ]
    },
    {
     "data": {
      "application/vnd.jupyter.widget-view+json": {
       "model_id": "",
       "version_major": 2,
       "version_minor": 0
      },
      "text/plain": [
       "Validation sanity check: 0it [00:00, ?it/s]"
      ]
     },
     "metadata": {},
     "output_type": "display_data"
    },
    {
     "name": "stderr",
     "output_type": "stream",
     "text": [
      "/home/federicogarza2/anaconda3/envs/nixtla/lib/python3.7/site-packages/pytorch_lightning/utilities/distributed.py:69: UserWarning: The dataloader, val dataloader 0, does not have many workers which may be a bottleneck. Consider increasing the value of the `num_workers` argument` (try 8 which is the number of cpus on this machine) in the `DataLoader` init to improve performance.\n",
      "  warnings.warn(*args, **kwargs)\n",
      "/home/federicogarza2/anaconda3/envs/nixtla/lib/python3.7/site-packages/pytorch_lightning/utilities/distributed.py:69: UserWarning: The dataloader, train dataloader, does not have many workers which may be a bottleneck. Consider increasing the value of the `num_workers` argument` (try 8 which is the number of cpus on this machine) in the `DataLoader` init to improve performance.\n",
      "  warnings.warn(*args, **kwargs)\n"
     ]
    },
    {
     "data": {
      "application/vnd.jupyter.widget-view+json": {
       "model_id": "ee3781e6b3ce494aaa9292279ef44858",
       "version_major": 2,
       "version_minor": 0
      },
      "text/plain": [
       "Training: 0it [00:00, ?it/s]"
      ]
     },
     "metadata": {},
     "output_type": "display_data"
    },
    {
     "data": {
      "application/vnd.jupyter.widget-view+json": {
       "model_id": "",
       "version_major": 2,
       "version_minor": 0
      },
      "text/plain": [
       "Validating: 0it [00:00, ?it/s]"
      ]
     },
     "metadata": {},
     "output_type": "display_data"
    },
    {
     "name": "stderr",
     "output_type": "stream",
     "text": [
      "Metric val_loss improved. New best score: 5.345\n"
     ]
    },
    {
     "data": {
      "application/vnd.jupyter.widget-view+json": {
       "model_id": "",
       "version_major": 2,
       "version_minor": 0
      },
      "text/plain": [
       "Validating: 0it [00:00, ?it/s]"
      ]
     },
     "metadata": {},
     "output_type": "display_data"
    },
    {
     "name": "stderr",
     "output_type": "stream",
     "text": [
      "Metric val_loss improved by 1.436 >= min_delta = 0.0001. New best score: 3.909\n"
     ]
    },
    {
     "data": {
      "application/vnd.jupyter.widget-view+json": {
       "model_id": "",
       "version_major": 2,
       "version_minor": 0
      },
      "text/plain": [
       "Validating: 0it [00:00, ?it/s]"
      ]
     },
     "metadata": {},
     "output_type": "display_data"
    },
    {
     "name": "stderr",
     "output_type": "stream",
     "text": [
      "Metric val_loss improved by 0.137 >= min_delta = 0.0001. New best score: 3.772\n"
     ]
    },
    {
     "data": {
      "application/vnd.jupyter.widget-view+json": {
       "model_id": "",
       "version_major": 2,
       "version_minor": 0
      },
      "text/plain": [
       "Validating: 0it [00:00, ?it/s]"
      ]
     },
     "metadata": {},
     "output_type": "display_data"
    },
    {
     "name": "stderr",
     "output_type": "stream",
     "text": [
      "Metric val_loss improved by 0.395 >= min_delta = 0.0001. New best score: 3.376\n"
     ]
    },
    {
     "data": {
      "application/vnd.jupyter.widget-view+json": {
       "model_id": "",
       "version_major": 2,
       "version_minor": 0
      },
      "text/plain": [
       "Validating: 0it [00:00, ?it/s]"
      ]
     },
     "metadata": {},
     "output_type": "display_data"
    },
    {
     "name": "stderr",
     "output_type": "stream",
     "text": [
      "Metric val_loss improved by 0.032 >= min_delta = 0.0001. New best score: 3.344\n"
     ]
    }
   ],
   "source": [
    "trainer = pl.Trainer(max_epochs=5, progress_bar_refresh_rate=1, \n",
    "                     log_every_n_steps=1, check_val_every_n_epoch=1,\n",
    "                     callbacks=[early_stopping])\n",
    "trainer.fit(model, train_ts_loader, val_ts_loader)"
   ]
  },
  {
   "cell_type": "code",
   "execution_count": null,
   "metadata": {},
   "outputs": [
    {
     "name": "stderr",
     "output_type": "stream",
     "text": [
      "/home/federicogarza2/anaconda3/envs/nixtla/lib/python3.7/site-packages/pytorch_lightning/utilities/distributed.py:69: UserWarning: The dataloader, predict dataloader 0, does not have many workers which may be a bottleneck. Consider increasing the value of the `num_workers` argument` (try 8 which is the number of cpus on this machine) in the `DataLoader` init to improve performance.\n",
      "  warnings.warn(*args, **kwargs)\n"
     ]
    },
    {
     "data": {
      "application/vnd.jupyter.widget-view+json": {
       "model_id": "0151343fa6334752a691c26a73533547",
       "version_major": 2,
       "version_minor": 0
      },
      "text/plain": [
       "Predicting: 1it [00:00, ?it/s]"
      ]
     },
     "metadata": {},
     "output_type": "display_data"
    }
   ],
   "source": [
    "outputs = trainer.predict(model, val_ts_loader)\n",
    "\n",
    "y, y_hat = zip(*outputs)\n",
    "y = t.cat(y)\n",
    "y_hat = t.cat(y_hat)"
   ]
  },
  {
   "cell_type": "code",
   "execution_count": null,
   "metadata": {},
   "outputs": [],
   "source": [
    "# Returning level to Y_df and Y_hat_df\n",
    "y = y + Y_min - 20\n",
    "y_hat = y_hat + Y_min - 20"
   ]
  },
  {
   "cell_type": "code",
   "execution_count": null,
   "metadata": {},
   "outputs": [
    {
     "name": "stdout",
     "output_type": "stream",
     "text": [
      "Original\n",
      "y_true.shape torch.Size([728, 24])\n",
      "y_hat.shape torch.Size([728, 24])\n",
      "\n",
      "Flatten\n",
      "y_true.shape torch.Size([17472])\n",
      "y_hat.shape torch.Size([17472])\n",
      "y_naive.shape (17472,)\n",
      "NP\n",
      "mae       3.864177\n",
      "rmae      0.204272\n",
      "smape    10.963218\n",
      "rmse      5.664259\n",
      "dtype: float64\n",
      "\n",
      "\n",
      "DescribeResult(nobs=17472, minmax=(-39.855324, 147.75629), mean=0.061428867, variance=32.081898, skewness=1.904548168182373, kurtosis=36.01135362433459)\n",
      "model.training_percentile 51\n"
     ]
    }
   ],
   "source": [
    "from scipy import stats\n",
    "\n",
    "import pandas as pd\n",
    "\n",
    "from nixtla.losses.numpy import mae, rmae, smape, rmse\n",
    "from nixtla.data.datasets.epf import epf_naive_forecast\n",
    "\n",
    "Y_naive_df = epf_naive_forecast(Y_df)\n",
    "\n",
    "y_true = y[-728*24:, -1]\n",
    "y_hat = y_hat[-728*24:, -1]\n",
    "y_naive = Y_naive_df.y_hat.values[-728*24:]\n",
    "\n",
    "print(\"Original\")\n",
    "print(\"y_true.shape\", y_true.shape)\n",
    "print(\"y_hat.shape\", y_hat.shape)\n",
    "y_true = y_true.flatten()\n",
    "y_hat = y_hat.flatten()\n",
    "print(\"\\nFlatten\")\n",
    "print(\"y_true.shape\", y_true.shape)\n",
    "print(\"y_hat.shape\", y_hat.shape)\n",
    "print(\"y_naive.shape\", y_naive.shape)\n",
    "\n",
    "metrics = pd.Series({'mae' : mae(y=y_true, y_hat=y_hat),\n",
    "                     'rmae': rmae(y=y_true, y_hat1=y_hat, y_hat2=y_naive),\n",
    "                     'smape': smape(y=y_true, y_hat=y_hat),\n",
    "                     'rmse': rmse(y=y_true, y_hat=y_hat)})\n",
    "\n",
    "print(Y_df.unique_id[0])\n",
    "print(metrics)\n",
    "print('\\n')\n",
    "print(stats.describe(y_true-y_hat))\n",
    "print(f'model.training_percentile {model.training_percentile}')"
   ]
  },
  {
   "cell_type": "code",
   "execution_count": null,
   "metadata": {},
   "outputs": [
    {
     "data": {
      "image/png": "[encoded data removed]",
      "text/plain": [
       "<Figure size 1080x432 with 1 Axes>"
      ]
     },
     "metadata": {
      "needs_background": "light"
     },
     "output_type": "display_data"
    }
   ],
   "source": [
    "start = 0\n",
    "end = 728 * 24\n",
    "\n",
    "# start = 365\n",
    "# end = 365 + (4*7*24)\n",
    "\n",
    "fig = plt.figure(figsize=(15, 6))\n",
    "plt.plot(y_true[start:end], color='#628793', linewidth=0.4, label='true')\n",
    "plt.plot(y_hat[start:end], color='peru', linewidth=0.4, label='forecast')\n",
    "plt.ylabel('Price [EUR/MWh]', fontsize=15)\n",
    "plt.xlabel('Date', fontsize=15)\n",
    "plt.legend()\n",
    "plt.grid()\n",
    "# plt.savefig('./results/NP.png', bbox_inches = 'tight')\n",
    "plt.show()"
   ]
  },
  {
   "cell_type": "markdown",
   "metadata": {},
   "source": [
    "## ES-RNN Multivariate Example"
   ]
  },
  {
   "cell_type": "code",
   "execution_count": null,
   "metadata": {},
   "outputs": [
    {
     "name": "stdout",
     "output_type": "stream",
     "text": [
      "Yearly\n"
     ]
    }
   ],
   "source": [
    "from nixtla.data.datasets.tourism import Tourism, TourismInfo\n",
    "print(TourismInfo.groups[0])\n",
    "Y_df, *_ = Tourism.load(directory='./data', group=TourismInfo.groups[0])"
   ]
  },
  {
   "cell_type": "code",
   "execution_count": null,
   "metadata": {},
   "outputs": [],
   "source": [
    "train_ts_dataset = TimeSeriesDataset(Y_df=Y_df,\n",
    "                                     ds_in_test=6,\n",
    "                                     mode='full',\n",
    "                                     window_sampling_limit=500_000, # To limit backprop time\n",
    "                                     input_size=4,\n",
    "                                     output_size=4,\n",
    "                                     idx_to_sample_freq=1,\n",
    "                                     len_sample_chunks=11,\n",
    "                                     complete_inputs=True, \n",
    "                                     complete_outputs=False,\n",
    "                                     skip_nonsamplable=True)\n",
    "\n",
    "outsample_ts_dataset = TimeSeriesDataset(Y_df=Y_df, \n",
    "                                         ds_in_test=0,\n",
    "                                         mode='full',\n",
    "                                         window_sampling_limit=500_000, # To limit backprop time\n",
    "                                         input_size=4,\n",
    "                                         output_size=4,\n",
    "                                         idx_to_sample_freq=1,\n",
    "                                         len_sample_chunks=11,\n",
    "                                         complete_inputs=True, \n",
    "                                         complete_outputs=True,\n",
    "                                         skip_nonsamplable=False)"
   ]
  },
  {
   "cell_type": "code",
   "execution_count": null,
   "metadata": {},
   "outputs": [],
   "source": [
    "train_ts_loader = TimeSeriesLoader(dataset=train_ts_dataset,\n",
    "                                   batch_size=32,\n",
    "                                   eq_batch_size=True,\n",
    "                                   shuffle=True)\n",
    "\n",
    "val_ts_loader = TimeSeriesLoader(dataset=outsample_ts_dataset,\n",
    "                                 batch_size=1,\n",
    "                                 shuffle=False)"
   ]
  },
  {
   "cell_type": "code",
   "execution_count": null,
   "metadata": {},
   "outputs": [
    {
     "name": "stdout",
     "output_type": "stream",
     "text": [
      "S.shape torch.Size([32, 0])\n",
      "Y.shape torch.Size([32, 11])\n",
      "X.shape torch.Size([32, 0, 11])\n",
      "idxs.shape torch.Size([32])\n"
     ]
    }
   ],
   "source": [
    "dataloader = iter(train_ts_loader)\n",
    "batch = next(dataloader)\n",
    "S, Y, X = batch['S'], batch['Y'], batch['X']\n",
    "available_mask = batch['available_mask']\n",
    "idxs = batch['idxs']\n",
    "\n",
    "print(\"S.shape\", S.shape)\n",
    "print(\"Y.shape\", Y.shape)\n",
    "print(\"X.shape\", X.shape)\n",
    "print(\"idxs.shape\", idxs.shape)"
   ]
  },
  {
   "cell_type": "code",
   "execution_count": null,
   "metadata": {},
   "outputs": [],
   "source": [
    "model = ESRNN(n_series=train_ts_dataset.n_series,\n",
    "              n_s=train_ts_dataset.n_s,\n",
    "              n_x=train_ts_dataset.n_x,\n",
    "              input_size=train_ts_dataset.input_size,\n",
    "              output_size=train_ts_dataset.output_size,\n",
    "              idx_to_sample_freq=train_ts_dataset.idx_to_sample_freq,\n",
    "              learning_rate=5e-3,\n",
    "              lr_scheduler_step_size=100,\n",
    "              lr_decay=0.9,\n",
    "              per_series_lr_multip=1.5,\n",
    "              gradient_eps=1e-8,\n",
    "              gradient_clipping_threshold=10,\n",
    "              rnn_weight_decay=0,\n",
    "              noise_std=0.001,\n",
    "              level_variability_penalty=10,\n",
    "              testing_percentile=50,\n",
    "              training_percentile=51,\n",
    "              es_component='multiplicative',\n",
    "              cell_type='GRU',\n",
    "              state_hsize=50,\n",
    "              dilations=[[24, 48], [168]],\n",
    "              add_nl_layer=False,\n",
    "              loss='SMYL',\n",
    "              val_loss='MAE',\n",
    "              seasonality=[1]) "
   ]
  },
  {
   "cell_type": "code",
   "execution_count": null,
   "metadata": {},
   "outputs": [],
   "source": [
    "early_stopping = EarlyStopping(monitor=\"val_loss\", \n",
    "                               min_delta=1e-4, \n",
    "                               patience=1, verbose=True, \n",
    "                               mode=\"min\")"
   ]
  },
  {
   "cell_type": "code",
   "execution_count": null,
   "metadata": {},
   "outputs": [
    {
     "name": "stderr",
     "output_type": "stream",
     "text": [
      "GPU available: False, used: False\n",
      "TPU available: False, using: 0 TPU cores\n",
      "\n",
      "  | Name  | Type   | Params\n",
      "---------------------------------\n",
      "0 | esrnn | _ESRNN | 40.8 K\n",
      "---------------------------------\n",
      "40.8 K    Trainable params\n",
      "0         Non-trainable params\n",
      "40.8 K    Total params\n",
      "0.163     Total estimated model params size (MB)\n"
     ]
    },
    {
     "data": {
      "application/vnd.jupyter.widget-view+json": {
       "model_id": "",
       "version_major": 2,
       "version_minor": 0
      },
      "text/plain": [
       "Validation sanity check: 0it [00:00, ?it/s]"
      ]
     },
     "metadata": {},
     "output_type": "display_data"
    },
    {
     "name": "stderr",
     "output_type": "stream",
     "text": [
      "/home/federicogarza2/anaconda3/envs/nixtla/lib/python3.7/site-packages/pytorch_lightning/utilities/distributed.py:69: UserWarning: The dataloader, val dataloader 0, does not have many workers which may be a bottleneck. Consider increasing the value of the `num_workers` argument` (try 8 which is the number of cpus on this machine) in the `DataLoader` init to improve performance.\n",
      "  warnings.warn(*args, **kwargs)\n",
      "/home/federicogarza2/anaconda3/envs/nixtla/lib/python3.7/site-packages/pytorch_lightning/utilities/distributed.py:69: UserWarning: The dataloader, train dataloader, does not have many workers which may be a bottleneck. Consider increasing the value of the `num_workers` argument` (try 8 which is the number of cpus on this machine) in the `DataLoader` init to improve performance.\n",
      "  warnings.warn(*args, **kwargs)\n"
     ]
    },
    {
     "data": {
      "application/vnd.jupyter.widget-view+json": {
       "model_id": "6146a984c92f4b7795c44172ed941f66",
       "version_major": 2,
       "version_minor": 0
      },
      "text/plain": [
       "Training: 0it [00:00, ?it/s]"
      ]
     },
     "metadata": {},
     "output_type": "display_data"
    },
    {
     "data": {
      "application/vnd.jupyter.widget-view+json": {
       "model_id": "",
       "version_major": 2,
       "version_minor": 0
      },
      "text/plain": [
       "Validating: 0it [00:00, ?it/s]"
      ]
     },
     "metadata": {},
     "output_type": "display_data"
    },
    {
     "name": "stderr",
     "output_type": "stream",
     "text": [
      "Metric val_loss improved. New best score: 27000.643\n"
     ]
    },
    {
     "data": {
      "application/vnd.jupyter.widget-view+json": {
       "model_id": "",
       "version_major": 2,
       "version_minor": 0
      },
      "text/plain": [
       "Validating: 0it [00:00, ?it/s]"
      ]
     },
     "metadata": {},
     "output_type": "display_data"
    },
    {
     "name": "stderr",
     "output_type": "stream",
     "text": [
      "Metric val_loss improved by 80.891 >= min_delta = 0.0001. New best score: 26919.752\n"
     ]
    }
   ],
   "source": [
    "trainer = pl.Trainer(max_epochs=2, progress_bar_refresh_rate=1, \n",
    "                     log_every_n_steps=1, check_val_every_n_epoch=1,\n",
    "                     callbacks=[early_stopping])\n",
    "trainer.fit(model, train_ts_loader, val_ts_loader)"
   ]
  },
  {
   "cell_type": "code",
   "execution_count": null,
   "metadata": {},
   "outputs": [
    {
     "name": "stderr",
     "output_type": "stream",
     "text": [
      "/home/federicogarza2/anaconda3/envs/nixtla/lib/python3.7/site-packages/pytorch_lightning/utilities/distributed.py:69: UserWarning: The dataloader, predict dataloader 0, does not have many workers which may be a bottleneck. Consider increasing the value of the `num_workers` argument` (try 8 which is the number of cpus on this machine) in the `DataLoader` init to improve performance.\n",
      "  warnings.warn(*args, **kwargs)\n"
     ]
    },
    {
     "data": {
      "application/vnd.jupyter.widget-view+json": {
       "model_id": "d6e571c1e1a9464687fd70751d600086",
       "version_major": 2,
       "version_minor": 0
      },
      "text/plain": [
       "Predicting: 17it [00:00, ?it/s]"
      ]
     },
     "metadata": {},
     "output_type": "display_data"
    },
    {
     "name": "stdout",
     "output_type": "stream",
     "text": [
      "y_true.shape torch.Size([7498, 4, 4])\n",
      "y_hat.shape torch.Size([7498, 4, 4])\n"
     ]
    }
   ],
   "source": [
    "outputs = trainer.predict(model, val_ts_loader)\n",
    "y, y_hat = zip(*outputs)\n",
    "y = t.cat(y)\n",
    "y_hat = t.cat(y_hat)\n",
    "print(\"y_true.shape\", y.shape)\n",
    "print(\"y_hat.shape\", y_hat.shape)"
   ]
  }
 ],
 "metadata": {
  "kernelspec": {
   "display_name": "nixtla",
   "language": "python",
   "name": "nixtla"
  }
 },
 "nbformat": 4,
 "nbformat_minor": 4
}
