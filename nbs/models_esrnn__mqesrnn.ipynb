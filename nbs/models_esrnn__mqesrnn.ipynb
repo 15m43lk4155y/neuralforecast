{
 "cells": [
  {
   "cell_type": "code",
   "execution_count": null,
   "metadata": {},
   "outputs": [],
   "source": [
    "# default_exp models.esrnn.mqesrnn"
   ]
  },
  {
   "cell_type": "code",
   "execution_count": null,
   "metadata": {},
   "outputs": [],
   "source": [
    "#hide\n",
    "%load_ext autoreload\n",
    "%autoreload 2"
   ]
  },
  {
   "cell_type": "markdown",
   "metadata": {},
   "source": [
    "# MQESRNN model\n",
    "\n",
    "> API details."
   ]
  },
  {
   "cell_type": "code",
   "execution_count": null,
   "metadata": {},
   "outputs": [],
   "source": [
    "# export\n",
    "from neuralforecast.models.esrnn.esrnn import ESRNN"
   ]
  },
  {
   "cell_type": "code",
   "execution_count": null,
   "metadata": {},
   "outputs": [],
   "source": [
    "# export\n",
    "class MQESRNN(ESRNN):\n",
    "    def __init__(self,\n",
    "                 n_series,\n",
    "                 n_x,\n",
    "                 n_s,\n",
    "                 sample_freq,\n",
    "                 input_size,\n",
    "                 output_size,\n",
    "                 es_component,\n",
    "                 cell_type,\n",
    "                 state_hsize,\n",
    "                 dilations,\n",
    "                 add_nl_layer,\n",
    "                 learning_rate,\n",
    "                 lr_scheduler_step_size,\n",
    "                 lr_decay,\n",
    "                 gradient_eps,\n",
    "                 gradient_clipping_threshold,\n",
    "                 rnn_weight_decay,\n",
    "                 noise_std,\n",
    "                 testing_percentiles,\n",
    "                 training_percentiles,\n",
    "                 loss,\n",
    "                 val_loss):\n",
    "        \n",
    "        allowed_losses = ['MQ', 'wMQ']\n",
    "        if loss not in allowed_losses:\n",
    "            raise Exception(f'Loss {loss} not allowed')\n",
    "            \n",
    "        if val_loss is not None and val_loss not in allowed_losses:\n",
    "            raise Exception(f'Val loss {val_loss} not allowed')\n",
    "        \n",
    "        allowed_es_component = ['median_residual', 'identity']\n",
    "        \n",
    "        if es_component not in allowed_es_component:\n",
    "            raise Exception(f'es component {es_component} not allowed')\n",
    "        \n",
    "        level_variability_penalty = 0\n",
    "        seasonality = []\n",
    "        per_series_lr_multip = 1\n",
    "        super(MQESRNN, self).__init__(n_series=n_series,\n",
    "                                      n_s=n_s,\n",
    "                                      n_x=n_x,\n",
    "                                      sample_freq=sample_freq,\n",
    "                                      input_size=input_size,\n",
    "                                      output_size=output_size,\n",
    "                                      es_component=es_component,\n",
    "                                      cell_type=cell_type,\n",
    "                                      state_hsize=state_hsize,\n",
    "                                      dilations=dilations,\n",
    "                                      add_nl_layer=add_nl_layer,\n",
    "                                      seasonality=seasonality,\n",
    "                                      learning_rate=learning_rate,\n",
    "                                      lr_scheduler_step_size=lr_scheduler_step_size,\n",
    "                                      lr_decay=lr_decay,\n",
    "                                      per_series_lr_multip=per_series_lr_multip,\n",
    "                                      gradient_eps=gradient_eps,\n",
    "                                      gradient_clipping_threshold=gradient_clipping_threshold,\n",
    "                                      rnn_weight_decay=rnn_weight_decay,\n",
    "                                      noise_std=noise_std,\n",
    "                                      level_variability_penalty=level_variability_penalty,\n",
    "                                      testing_percentile=testing_percentiles,\n",
    "                                      training_percentile=training_percentiles,\n",
    "                                      loss=loss,\n",
    "                                      val_loss=val_loss)"
   ]
  },
  {
   "cell_type": "markdown",
   "metadata": {},
   "source": [
    "# Tests MQESRNN "
   ]
  },
  {
   "cell_type": "code",
   "execution_count": null,
   "metadata": {},
   "outputs": [],
   "source": [
    "import numpy as np\n",
    "import pandas as pd\n",
    "import pytorch_lightning as pl\n",
    "import matplotlib.pyplot as plt\n",
    "import torch as t\n",
    "\n",
    "from neuralforecast.data.tsdataset import TimeSeriesDataset\n",
    "from neuralforecast.data.tsloader import TimeSeriesLoader"
   ]
  },
  {
   "cell_type": "code",
   "execution_count": null,
   "metadata": {},
   "outputs": [],
   "source": [
    "n_ds = 100 \n",
    "n_ts = 1_000\n",
    "\n",
    "output_size = 10\n",
    "\n",
    "uids = [f'uid_{i + 1}' for i in range(n_ts)]\n",
    "dss = pd.date_range(end='2020-01-01', periods=n_ds)\n",
    "\n",
    "Y_df = pd.DataFrame({'unique_id': np.repeat(uids, n_ds), 'ds': np.tile(dss, n_ts)})"
   ]
  },
  {
   "cell_type": "code",
   "execution_count": null,
   "metadata": {},
   "outputs": [],
   "source": [
    "np.random.seed(10)\n",
    "Y_df['y'] = Y_df.groupby('unique_id').transform(lambda x: np.random.uniform(1, 100, size=len(x)))"
   ]
  },
  {
   "cell_type": "code",
   "execution_count": null,
   "metadata": {},
   "outputs": [],
   "source": [
    "Y_df = Y_df.sort_values(['unique_id', 'ds'])"
   ]
  },
  {
   "cell_type": "code",
   "execution_count": null,
   "metadata": {},
   "outputs": [
    {
     "name": "stderr",
     "output_type": "stream",
     "text": [
      "INFO:root:Train Validation splits\n",
      "\n",
      "INFO:root:                    ds           \n",
      "                   min        max\n",
      "sample_mask                      \n",
      "0           2019-12-03 2020-01-01\n",
      "1           2019-09-24 2019-12-02\n",
      "INFO:root:\n",
      "Total data \t\t\t100000 time stamps \n",
      "Available percentage=100.0, \t100000 time stamps \n",
      "Insample  percentage=70.0, \t70000 time stamps \n",
      "Outsample percentage=30.0, \t30000 time stamps \n",
      "\n",
      "/Users/fedex/projects/neuralforecast/neuralforecast/data/tsdataset.py:208: FutureWarning: In a future version of pandas all arguments of DataFrame.drop except for the argument 'labels' will be keyword-only\n",
      "  X.drop(['unique_id', 'ds'], 1, inplace=True)\n"
     ]
    }
   ],
   "source": [
    "train_dataset = TimeSeriesDataset(Y_df=Y_df,\n",
    "                                  ds_in_test=3*output_size,\n",
    "                                  is_test=False,\n",
    "                                  input_size=7*output_size,\n",
    "                                  output_size=output_size,\n",
    "                                  verbose=True)\n",
    "\n",
    "valid_dataset = TimeSeriesDataset(Y_df=Y_df,\n",
    "                                  input_size=7*output_size,\n",
    "                                  output_size=output_size,\n",
    "                                  verbose=False)"
   ]
  },
  {
   "cell_type": "code",
   "execution_count": null,
   "metadata": {},
   "outputs": [],
   "source": [
    "train_loader = TimeSeriesLoader(dataset=train_dataset,\n",
    "                                batch_size=32,\n",
    "                                eq_batch_size=True,\n",
    "                                shuffle=True)\n",
    "\n",
    "valid_loader = TimeSeriesLoader(dataset=valid_dataset,\n",
    "                                batch_size=32,\n",
    "                                shuffle=False)"
   ]
  },
  {
   "cell_type": "code",
   "execution_count": null,
   "metadata": {},
   "outputs": [],
   "source": [
    "model = MQESRNN(n_series=train_dataset.n_series,\n",
    "                n_s=train_dataset.n_s,\n",
    "                n_x=train_dataset.n_x,\n",
    "                #sample_freq=dataset.sample_freq,\n",
    "                sample_freq=1,\n",
    "                input_size=7*2,\n",
    "                output_size=output_size,\n",
    "                learning_rate=1e-2,\n",
    "                lr_scheduler_step_size=30,\n",
    "                lr_decay=0.1,\n",
    "                gradient_eps=1e-8,\n",
    "                gradient_clipping_threshold=10,\n",
    "                rnn_weight_decay=0,\n",
    "                noise_std=0.001,\n",
    "                testing_percentiles=[30, 50, 70, 90],\n",
    "                training_percentiles=[30, 50, 70, 90],\n",
    "                es_component='median_residual',\n",
    "                cell_type='LSTM',\n",
    "                state_hsize=100,\n",
    "                dilations=[[1, 2], [4, 8]],\n",
    "                add_nl_layer=False,\n",
    "                loss='MQ',\n",
    "                val_loss='MQ')"
   ]
  },
  {
   "cell_type": "code",
   "execution_count": null,
   "metadata": {},
   "outputs": [
    {
     "name": "stderr",
     "output_type": "stream",
     "text": [
      "/Users/fedex/opt/miniconda3/envs/neuralforecast/lib/python3.7/site-packages/pytorch_lightning/trainer/connectors/callback_connector.py:91: LightningDeprecationWarning: Setting `Trainer(progress_bar_refresh_rate=5)` is deprecated in v1.5 and will be removed in v1.7. Please pass `pytorch_lightning.callbacks.progress.TQDMProgressBar` with `refresh_rate` directly to the Trainer's `callbacks` argument instead. Or, to disable the progress bar pass `enable_progress_bar = False` to the Trainer.\n",
      "  f\"Setting `Trainer(progress_bar_refresh_rate={progress_bar_refresh_rate})` is deprecated in v1.5 and\"\n",
      "INFO:pytorch_lightning.utilities.distributed:GPU available: False, used: False\n",
      "INFO:pytorch_lightning.utilities.distributed:TPU available: False, using: 0 TPU cores\n",
      "INFO:pytorch_lightning.utilities.distributed:IPU available: False, using: 0 IPUs\n",
      "INFO:pytorch_lightning.callbacks.model_summary:\n",
      "  | Name  | Type   | Params\n",
      "---------------------------------\n",
      "0 | model | _ESRNN | 292 K \n",
      "---------------------------------\n",
      "292 K     Trainable params\n",
      "1         Non-trainable params\n",
      "292 K     Total params\n",
      "1.171     Total estimated model params size (MB)\n"
     ]
    },
    {
     "data": {
      "application/vnd.jupyter.widget-view+json": {
       "model_id": "",
       "version_major": 2,
       "version_minor": 0
      },
      "text/plain": [
       "Validation sanity check: 0it [00:00, ?it/s]"
      ]
     },
     "metadata": {},
     "output_type": "display_data"
    },
    {
     "name": "stderr",
     "output_type": "stream",
     "text": [
      "/Users/fedex/opt/miniconda3/envs/neuralforecast/lib/python3.7/site-packages/pytorch_lightning/trainer/data_loading.py:133: UserWarning: The dataloader, val_dataloader 0, does not have many workers which may be a bottleneck. Consider increasing the value of the `num_workers` argument` (try 8 which is the number of cpus on this machine) in the `DataLoader` init to improve performance.\n",
      "  f\"The dataloader, {name}, does not have many workers which may be a bottleneck.\"\n",
      "/Users/fedex/opt/miniconda3/envs/neuralforecast/lib/python3.7/site-packages/pytorch_lightning/trainer/data_loading.py:133: UserWarning: The dataloader, train_dataloader, does not have many workers which may be a bottleneck. Consider increasing the value of the `num_workers` argument` (try 8 which is the number of cpus on this machine) in the `DataLoader` init to improve performance.\n",
      "  f\"The dataloader, {name}, does not have many workers which may be a bottleneck.\"\n",
      "/Users/fedex/opt/miniconda3/envs/neuralforecast/lib/python3.7/site-packages/pytorch_lightning/trainer/data_loading.py:433: UserWarning: The number of training samples (32) is smaller than the logging interval Trainer(log_every_n_steps=50). Set a lower value for log_every_n_steps if you want to see logs for the training epoch.\n",
      "  f\"The number of training samples ({self.num_training_batches}) is smaller than the logging interval\"\n"
     ]
    },
    {
     "data": {
      "application/vnd.jupyter.widget-view+json": {
       "model_id": "68839e2615bd413eb586989d63fd1a60",
       "version_major": 2,
       "version_minor": 0
      },
      "text/plain": [
       "Training: 0it [00:00, ?it/s]"
      ]
     },
     "metadata": {},
     "output_type": "display_data"
    },
    {
     "data": {
      "application/vnd.jupyter.widget-view+json": {
       "model_id": "",
       "version_major": 2,
       "version_minor": 0
      },
      "text/plain": [
       "Validating: 0it [00:00, ?it/s]"
      ]
     },
     "metadata": {},
     "output_type": "display_data"
    }
   ],
   "source": [
    "trainer = pl.Trainer(max_epochs=1, progress_bar_refresh_rate=5, deterministic=True)\n",
    "trainer.fit(model, train_loader, valid_loader)"
   ]
  },
  {
   "cell_type": "code",
   "execution_count": null,
   "metadata": {},
   "outputs": [
    {
     "name": "stderr",
     "output_type": "stream",
     "text": [
      "/Users/fedex/projects/neuralforecast/neuralforecast/data/tsloader.py:47: UserWarning: This class wraps the pytorch `DataLoader` with a special collate function. If you want to use yours simply use `DataLoader`. Removing collate_fn\n",
      "  'This class wraps the pytorch `DataLoader` with a '\n",
      "/Users/fedex/opt/miniconda3/envs/neuralforecast/lib/python3.7/site-packages/pytorch_lightning/trainer/data_loading.py:133: UserWarning: The dataloader, predict_dataloader 0, does not have many workers which may be a bottleneck. Consider increasing the value of the `num_workers` argument` (try 8 which is the number of cpus on this machine) in the `DataLoader` init to improve performance.\n",
      "  f\"The dataloader, {name}, does not have many workers which may be a bottleneck.\"\n"
     ]
    },
    {
     "data": {
      "application/vnd.jupyter.widget-view+json": {
       "model_id": "fff443a67de34c7f8cb693e253774041",
       "version_major": 2,
       "version_minor": 0
      },
      "text/plain": [
       "Predicting: 32it [00:00, ?it/s]"
      ]
     },
     "metadata": {},
     "output_type": "display_data"
    }
   ],
   "source": [
    "outputs = trainer.predict(model, valid_loader)"
   ]
  },
  {
   "cell_type": "code",
   "execution_count": null,
   "metadata": {},
   "outputs": [],
   "source": [
    "y_true, y_hat, mask = zip(*outputs)\n",
    "y_true = t.cat(y_true).numpy()\n",
    "y_hat = t.cat(y_hat).numpy()\n",
    "mask = t.cat(mask).numpy()"
   ]
  },
  {
   "cell_type": "code",
   "execution_count": null,
   "metadata": {},
   "outputs": [],
   "source": [
    "y_true = y_true[-1000:, -1]\n",
    "y_hat = y_hat[-1000:, -1]"
   ]
  },
  {
   "cell_type": "code",
   "execution_count": null,
   "metadata": {},
   "outputs": [
    {
     "name": "stdout",
     "output_type": "stream",
     "text": [
      "calibration p30:  0.3182\n",
      "calibration p50:  0.5101\n",
      "calibration p70:  0.6897\n",
      "calibration p90:  0.9515\n"
     ]
    },
    {
     "data": {
      "text/plain": [
       "<matplotlib.legend.Legend at 0x7fcf142b4250>"
      ]
     },
     "execution_count": null,
     "metadata": {},
     "output_type": "execute_result"
    },
    {
     "data": {
      "image/png": "[encoded data removed]",
      "text/plain": [
       "<Figure size 432x288 with 1 Axes>"
      ]
     },
     "metadata": {
      "needs_background": "light"
     },
     "output_type": "display_data"
    }
   ],
   "source": [
    "plt.plot(y_true.flatten(), alpha=0.5, label='y')\n",
    "for idx, p in enumerate([30, 50, 70, 90]):\n",
    "    y_p = y_hat[:, :, idx]\n",
    "    plt.plot(y_p.flatten(), alpha=0.5, label=f'p{p}')\n",
    "    print(f'calibration p{p}: ', (y_true.flatten() <= y_p.flatten()).mean())\n",
    "plt.legend()"
   ]
  },
  {
   "cell_type": "code",
   "execution_count": null,
   "metadata": {},
   "outputs": [
    {
     "name": "stderr",
     "output_type": "stream",
     "text": [
      "INFO:root:Train Validation splits\n",
      "\n",
      "INFO:root:                    ds           \n",
      "                   min        max\n",
      "sample_mask                      \n",
      "0           2019-09-24 2020-01-01\n",
      "1           2020-01-02 2020-01-11\n",
      "INFO:root:\n",
      "Total data \t\t\t110000 time stamps \n",
      "Available percentage=100.0, \t110000 time stamps \n",
      "Insample  percentage=9.09, \t10000 time stamps \n",
      "Outsample percentage=90.91, \t100000 time stamps \n",
      "\n",
      "/Users/fedex/projects/neuralforecast/neuralforecast/data/tsdataset.py:208: FutureWarning: In a future version of pandas all arguments of DataFrame.drop except for the argument 'labels' will be keyword-only\n",
      "  X.drop(['unique_id', 'ds'], 1, inplace=True)\n",
      "INFO:pytorch_lightning.utilities.distributed:GPU available: False, used: False\n",
      "INFO:pytorch_lightning.utilities.distributed:TPU available: False, using: 0 TPU cores\n",
      "INFO:pytorch_lightning.utilities.distributed:IPU available: False, using: 0 IPUs\n",
      "/Users/fedex/projects/neuralforecast/neuralforecast/data/tsloader.py:47: UserWarning: This class wraps the pytorch `DataLoader` with a special collate function. If you want to use yours simply use `DataLoader`. Removing collate_fn\n",
      "  'This class wraps the pytorch `DataLoader` with a '\n",
      "/Users/fedex/opt/miniconda3/envs/neuralforecast/lib/python3.7/site-packages/pytorch_lightning/trainer/data_loading.py:133: UserWarning: The dataloader, predict_dataloader 0, does not have many workers which may be a bottleneck. Consider increasing the value of the `num_workers` argument` (try 8 which is the number of cpus on this machine) in the `DataLoader` init to improve performance.\n",
      "  f\"The dataloader, {name}, does not have many workers which may be a bottleneck.\"\n"
     ]
    },
    {
     "data": {
      "application/vnd.jupyter.widget-view+json": {
       "model_id": "e95ec2167d6b4424ae4f360e579592cf",
       "version_major": 2,
       "version_minor": 0
      },
      "text/plain": [
       "Predicting: 0it [00:00, ?it/s]"
      ]
     },
     "metadata": {},
     "output_type": "display_data"
    }
   ],
   "source": [
    "forecast = model.forecast(Y_df, batch_size=128)"
   ]
  },
  {
   "cell_type": "code",
   "execution_count": null,
   "metadata": {},
   "outputs": [
    {
     "data": {
      "text/plain": [
       "<AxesSubplot:xlabel='ds'>"
      ]
     },
     "execution_count": null,
     "metadata": {},
     "output_type": "execute_result"
    },
    {
     "data": {
      "image/png": "[encoded data removed]",
      "text/plain": [
       "<Figure size 432x288 with 1 Axes>"
      ]
     },
     "metadata": {
      "needs_background": "light"
     },
     "output_type": "display_data"
    }
   ],
   "source": [
    "forecast.query('unique_id == \"uid_1\"').set_index('ds').plot()"
   ]
  }
 ],
 "metadata": {
  "kernelspec": {
   "display_name": "Python 3 (ipykernel)",
   "language": "python",
   "name": "python3"
  }
 },
 "nbformat": 4,
 "nbformat_minor": 4
}
