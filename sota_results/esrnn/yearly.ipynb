{
 "cells": [
  {
   "cell_type": "code",
   "execution_count": 1,
   "metadata": {},
   "outputs": [],
   "source": [
    "import numpy as np\n",
    "import pytorch_lightning as pl\n",
    "import torch as t\n",
    "from pytorch_lightning import loggers as pl_loggers\n",
    "from pytorch_lightning import seed_everything\n",
    "\n",
    "from nixtla.data.datasets.m4 import M4, M4Info\n",
    "from nixtla.data.tsdataset import TimeSeriesDataset\n",
    "from nixtla.data.tsloader import TimeSeriesLoader\n",
    "from nixtla.models.esrnn.esrnn import ESRNN"
   ]
  },
  {
   "cell_type": "markdown",
   "metadata": {},
   "source": [
    "## Import Yearly data"
   ]
  },
  {
   "cell_type": "code",
   "execution_count": 2,
   "metadata": {},
   "outputs": [],
   "source": [
    "group = M4Info['Yearly']\n",
    "Y_df, *_ = M4.load(directory='data', group=group.name)"
   ]
  },
  {
   "cell_type": "code",
   "execution_count": 3,
   "metadata": {},
   "outputs": [],
   "source": [
    "train_ts_dataset = TimeSeriesDataset(Y_df=Y_df, ds_in_test=group.horizon,\n",
    "                                     mode='full',\n",
    "                                     window_sampling_limit=25, # To limit backprop time\n",
    "                                     input_size=4,\n",
    "                                     output_size=group.horizon,\n",
    "                                     idx_to_sample_freq=1,\n",
    "                                     len_sample_chunks=group.horizon * 3,\n",
    "                                     complete_inputs=True, \n",
    "                                     skip_nonsamplable=True)"
   ]
  },
  {
   "cell_type": "code",
   "execution_count": 5,
   "metadata": {},
   "outputs": [],
   "source": [
    "test_ts_dataset = TimeSeriesDataset(Y_df=Y_df, ds_in_test=0,\n",
    "                                    mode='full',\n",
    "                                    window_sampling_limit=500_000, # To limit backprop time\n",
    "                                    input_size=4,\n",
    "                                    output_size=group.horizon,\n",
    "                                    idx_to_sample_freq=1,\n",
    "                                    complete_inputs=True,\n",
    "                                    complete_outputs=True,\n",
    "                                    len_sample_chunks=group.horizon * 3,\n",
    "                                    skip_nonsamplable=False,\n",
    "                                    last_samplable_window=True)"
   ]
  },
  {
   "cell_type": "code",
   "execution_count": 94,
   "metadata": {},
   "outputs": [],
   "source": [
    "train_ts_loader = TimeSeriesLoader(dataset=train_ts_dataset,\n",
    "                                   batch_size=32,\n",
    "                                   eq_batch_size=True,\n",
    "                                   num_workers=8,\n",
    "                                   shuffle=True)"
   ]
  },
  {
   "cell_type": "code",
   "execution_count": 95,
   "metadata": {},
   "outputs": [],
   "source": [
    "test_ts_loader = TimeSeriesLoader(dataset=test_ts_dataset,\n",
    "                                  batch_size=1_024,\n",
    "                                  eq_batch_size=False,\n",
    "                                  num_workers=8,\n",
    "                                  shuffle=False)"
   ]
  },
  {
   "cell_type": "code",
   "execution_count": 96,
   "metadata": {},
   "outputs": [],
   "source": [
    "model = ESRNN(n_series=group.n_ts,\n",
    "              n_x=0, n_s=0,\n",
    "              idx_to_sample_freq=1,\n",
    "              input_size=4,\n",
    "              output_size=group.horizon,\n",
    "              learning_rate=1e-4,\n",
    "              lr_scheduler_step_size=10,\n",
    "              lr_decay=0.1,\n",
    "              per_series_lr_multip=0.8,\n",
    "              gradient_eps=1e-8,\n",
    "              gradient_clipping_threshold=50,\n",
    "              rnn_weight_decay=0,\n",
    "              level_variability_penalty=100,\n",
    "              testing_percentile=50,\n",
    "              training_percentile=50,\n",
    "              cell_type='LSTM',\n",
    "              state_hsize=50,\n",
    "              dilations=[[1, 2], [2, 6]],\n",
    "              add_nl_layer=False,\n",
    "              loss='SMYL',\n",
    "              val_loss='SMAPE',\n",
    "              seasonality=[])"
   ]
  },
  {
   "cell_type": "code",
   "execution_count": 97,
   "metadata": {},
   "outputs": [
    {
     "name": "stderr",
     "output_type": "stream",
     "text": [
      "Global seed set to 117982\n"
     ]
    },
    {
     "data": {
      "text/plain": [
       "117982"
      ]
     },
     "execution_count": 97,
     "metadata": {},
     "output_type": "execute_result"
    }
   ],
   "source": [
    "seed_everything(117982, workers=True)"
   ]
  },
  {
   "cell_type": "code",
   "execution_count": 105,
   "metadata": {},
   "outputs": [
    {
     "name": "stderr",
     "output_type": "stream",
     "text": [
      "GPU available: False, used: False\n",
      "TPU available: False, using: 0 TPU cores\n",
      "\n",
      "  | Name  | Type   | Params\n",
      "---------------------------------\n",
      "0 | esrnn | _ESRNN | 95.7 K\n",
      "---------------------------------\n",
      "95.7 K    Trainable params\n",
      "0         Non-trainable params\n",
      "95.7 K    Total params\n",
      "0.383     Total estimated model params size (MB)\n"
     ]
    },
    {
     "data": {
      "application/vnd.jupyter.widget-view+json": {
       "model_id": "",
       "version_major": 2,
       "version_minor": 0
      },
      "text/plain": [
       "Validation sanity check: 0it [00:00, ?it/s]"
      ]
     },
     "metadata": {},
     "output_type": "display_data"
    },
    {
     "name": "stderr",
     "output_type": "stream",
     "text": [
      "Global seed set to 117982\n"
     ]
    },
    {
     "data": {
      "application/vnd.jupyter.widget-view+json": {
       "model_id": "a9f3d0cf6e8a4294959b6486387e44ac",
       "version_major": 2,
       "version_minor": 0
      },
      "text/plain": [
       "Training: 0it [00:00, ?it/s]"
      ]
     },
     "metadata": {},
     "output_type": "display_data"
    }
   ],
   "source": [
    "trainer = pl.Trainer(max_epochs=10, progress_bar_refresh_rate=50, deterministic=True)\n",
    "trainer.fit(model, train_ts_loader)"
   ]
  },
  {
   "cell_type": "code",
   "execution_count": 106,
   "metadata": {},
   "outputs": [
    {
     "data": {
      "application/vnd.jupyter.widget-view+json": {
       "model_id": "d2e79531ed704aed8dba3add7cadfc37",
       "version_major": 2,
       "version_minor": 0
      },
      "text/plain": [
       "Predicting: 719it [00:00, ?it/s]"
      ]
     },
     "metadata": {},
     "output_type": "display_data"
    }
   ],
   "source": [
    "outputs = trainer.predict(model, test_ts_loader)"
   ]
  },
  {
   "cell_type": "code",
   "execution_count": 107,
   "metadata": {},
   "outputs": [],
   "source": [
    "_, y_hat = zip(*outputs)"
   ]
  },
  {
   "cell_type": "code",
   "execution_count": 108,
   "metadata": {},
   "outputs": [],
   "source": [
    "y_hat = t.cat(y_hat)[:, -1].numpy()"
   ]
  },
  {
   "cell_type": "code",
   "execution_count": 109,
   "metadata": {},
   "outputs": [],
   "source": [
    "y = Y_df.groupby('unique_id').tail(group.horizon)['y'].values.reshape(-1, group.horizon)"
   ]
  },
  {
   "cell_type": "code",
   "execution_count": 110,
   "metadata": {},
   "outputs": [],
   "source": [
    "from nixtla.losses.numpy import smape"
   ]
  },
  {
   "cell_type": "code",
   "execution_count": 112,
   "metadata": {},
   "outputs": [
    {
     "data": {
      "text/plain": [
       "13.414962723225404"
      ]
     },
     "execution_count": 112,
     "metadata": {},
     "output_type": "execute_result"
    }
   ],
   "source": [
    "smape(y, y_hat)"
   ]
  }
 ],
 "metadata": {
  "kernelspec": {
   "display_name": "nixtla",
   "language": "python",
   "name": "nixtla"
  },
  "language_info": {
   "codemirror_mode": {
    "name": "ipython",
    "version": 3
   },
   "file_extension": ".py",
   "mimetype": "text/x-python",
   "name": "python",
   "nbconvert_exporter": "python",
   "pygments_lexer": "ipython3",
   "version": "3.7.10"
  }
 },
 "nbformat": 4,
 "nbformat_minor": 4
}
